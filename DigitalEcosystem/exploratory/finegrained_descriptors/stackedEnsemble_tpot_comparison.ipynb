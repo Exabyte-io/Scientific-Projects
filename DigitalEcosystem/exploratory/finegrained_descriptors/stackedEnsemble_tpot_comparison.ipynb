{
 "cells": [
  {
   "cell_type": "code",
   "execution_count": 1,
   "id": "75c3d0e2-60af-4e12-b290-d0da76594594",
   "metadata": {},
   "outputs": [],
   "source": [
    "import pandas as pd\n",
    "import sklearn.model_selection\n",
    "import matplotlib.pyplot as plt\n",
    "\n",
    "import tpot"
   ]
  },
  {
   "cell_type": "code",
   "execution_count": 2,
   "id": "1e983856-5a28-4125-8087-8097a6bb61f8",
   "metadata": {},
   "outputs": [],
   "source": [
    "RANDOM_SEED=1234"
   ]
  },
  {
   "cell_type": "code",
   "execution_count": 3,
   "id": "9480d977-9884-461f-b5cd-0dfe687de110",
   "metadata": {},
   "outputs": [],
   "source": [
    "datapath = \"../all_data_features.pkl\"\n",
    "all_data = pd.read_pickle(datapath)"
   ]
  },
  {
   "cell_type": "code",
   "execution_count": 4,
   "id": "257f74db-fa48-4272-aff4-39fd5f3dade9",
   "metadata": {},
   "outputs": [],
   "source": [
    "all_data.drop(columns=[\"atoms_object (unitless)\", \"pymatgen_structure (unitless)\"])\n",
    "all_data = all_data[all_data[\"bandgap (eV)\"] > 0.1]"
   ]
  },
  {
   "cell_type": "code",
   "execution_count": 6,
   "id": "c6f7b84d-954e-4d46-bc00-a3efefc79bfa",
   "metadata": {},
   "outputs": [
    {
     "data": {
      "text/html": [
       "<div>\n",
       "<style scoped>\n",
       "    .dataframe tbody tr th:only-of-type {\n",
       "        vertical-align: middle;\n",
       "    }\n",
       "\n",
       "    .dataframe tbody tr th {\n",
       "        vertical-align: top;\n",
       "    }\n",
       "\n",
       "    .dataframe thead th {\n",
       "        text-align: right;\n",
       "    }\n",
       "</style>\n",
       "<table border=\"1\" class=\"dataframe\">\n",
       "  <thead>\n",
       "    <tr style=\"text-align: right;\">\n",
       "      <th></th>\n",
       "      <th>Ac (atoms)</th>\n",
       "      <th>Ac-Se (bonds)</th>\n",
       "      <th>Ac-Se-Ac (angles)</th>\n",
       "      <th>Ag (atoms)</th>\n",
       "      <th>Ag-Ag (bonds)</th>\n",
       "      <th>Ag-Ag-Ag (angles)</th>\n",
       "      <th>Ag-Ag-Bi (angles)</th>\n",
       "      <th>Ag-Ag-Br (angles)</th>\n",
       "      <th>Ag-Ag-C (angles)</th>\n",
       "      <th>Ag-Ag-Cl (angles)</th>\n",
       "      <th>...</th>\n",
       "      <th>Zr-Zr-Sb (angles)</th>\n",
       "      <th>Zr-Zr-Se (angles)</th>\n",
       "      <th>Zr-Zr-Si (angles)</th>\n",
       "      <th>Zr-Zr-Sn (angles)</th>\n",
       "      <th>Zr-Zr-Te (angles)</th>\n",
       "      <th>Zr-Zr-Zn (angles)</th>\n",
       "      <th>Zr-Zr-Zr (angles)</th>\n",
       "      <th>atoms_object (unitless)</th>\n",
       "      <th>bandgap (eV)</th>\n",
       "      <th>pymatgen_structure (unitless)</th>\n",
       "    </tr>\n",
       "  </thead>\n",
       "  <tbody>\n",
       "    <tr>\n",
       "      <th>2</th>\n",
       "      <td>0.0</td>\n",
       "      <td>0.0</td>\n",
       "      <td>0.0</td>\n",
       "      <td>0.0</td>\n",
       "      <td>0.0</td>\n",
       "      <td>0.0</td>\n",
       "      <td>0.0</td>\n",
       "      <td>0.0</td>\n",
       "      <td>0.0</td>\n",
       "      <td>0.0</td>\n",
       "      <td>...</td>\n",
       "      <td>0.0</td>\n",
       "      <td>0.0</td>\n",
       "      <td>0.0</td>\n",
       "      <td>0.0</td>\n",
       "      <td>0.0</td>\n",
       "      <td>0.0</td>\n",
       "      <td>0.0</td>\n",
       "      <td>(Atom('Tl', [2.63896615613751, 10.292177253854...</td>\n",
       "      <td>0.9814</td>\n",
       "      <td>[[ 2.63896616 10.29217725 11.08346956] Tl, [3....</td>\n",
       "    </tr>\n",
       "    <tr>\n",
       "      <th>5</th>\n",
       "      <td>0.0</td>\n",
       "      <td>0.0</td>\n",
       "      <td>0.0</td>\n",
       "      <td>0.0</td>\n",
       "      <td>0.0</td>\n",
       "      <td>0.0</td>\n",
       "      <td>0.0</td>\n",
       "      <td>0.0</td>\n",
       "      <td>0.0</td>\n",
       "      <td>0.0</td>\n",
       "      <td>...</td>\n",
       "      <td>0.0</td>\n",
       "      <td>0.0</td>\n",
       "      <td>0.0</td>\n",
       "      <td>0.0</td>\n",
       "      <td>0.0</td>\n",
       "      <td>0.0</td>\n",
       "      <td>0.0</td>\n",
       "      <td>(Atom('Ru', [0.0, 0.0, 0.0], index=0), Atom('I...</td>\n",
       "      <td>1.1619</td>\n",
       "      <td>[[0. 0. 0.] Ru, [ 1.99801033  1.15354918 21.37...</td>\n",
       "    </tr>\n",
       "    <tr>\n",
       "      <th>8</th>\n",
       "      <td>0.0</td>\n",
       "      <td>0.0</td>\n",
       "      <td>0.0</td>\n",
       "      <td>0.0</td>\n",
       "      <td>0.0</td>\n",
       "      <td>0.0</td>\n",
       "      <td>0.0</td>\n",
       "      <td>0.0</td>\n",
       "      <td>0.0</td>\n",
       "      <td>0.0</td>\n",
       "      <td>...</td>\n",
       "      <td>0.0</td>\n",
       "      <td>0.0</td>\n",
       "      <td>0.0</td>\n",
       "      <td>0.0</td>\n",
       "      <td>0.0</td>\n",
       "      <td>0.0</td>\n",
       "      <td>0.0</td>\n",
       "      <td>(Atom('Au', [0.0, 0.0, 3.8492055254399995], in...</td>\n",
       "      <td>0.1499</td>\n",
       "      <td>[[0.         0.         3.84920553] Au, [2.239...</td>\n",
       "    </tr>\n",
       "    <tr>\n",
       "      <th>9</th>\n",
       "      <td>0.0</td>\n",
       "      <td>0.0</td>\n",
       "      <td>0.0</td>\n",
       "      <td>0.0</td>\n",
       "      <td>0.0</td>\n",
       "      <td>0.0</td>\n",
       "      <td>0.0</td>\n",
       "      <td>0.0</td>\n",
       "      <td>0.0</td>\n",
       "      <td>0.0</td>\n",
       "      <td>...</td>\n",
       "      <td>0.0</td>\n",
       "      <td>0.0</td>\n",
       "      <td>0.0</td>\n",
       "      <td>0.0</td>\n",
       "      <td>0.0</td>\n",
       "      <td>0.0</td>\n",
       "      <td>0.0</td>\n",
       "      <td>(Atom('Si', [0.0, 0.0, 0.0], index=0), Atom('B...</td>\n",
       "      <td>0.2086</td>\n",
       "      <td>[[0. 0. 0.] Si, [2.5703355 0.        0.       ...</td>\n",
       "    </tr>\n",
       "    <tr>\n",
       "      <th>10</th>\n",
       "      <td>0.0</td>\n",
       "      <td>0.0</td>\n",
       "      <td>0.0</td>\n",
       "      <td>0.0</td>\n",
       "      <td>0.0</td>\n",
       "      <td>0.0</td>\n",
       "      <td>0.0</td>\n",
       "      <td>0.0</td>\n",
       "      <td>0.0</td>\n",
       "      <td>0.0</td>\n",
       "      <td>...</td>\n",
       "      <td>0.0</td>\n",
       "      <td>0.0</td>\n",
       "      <td>0.0</td>\n",
       "      <td>0.0</td>\n",
       "      <td>0.0</td>\n",
       "      <td>0.0</td>\n",
       "      <td>0.0</td>\n",
       "      <td>(Atom('Sr', [1.7335085, 1.7335085, 0.0], index...</td>\n",
       "      <td>2.9398</td>\n",
       "      <td>[[1.7335085 1.7335085 0.       ] Sr, [ 0.     ...</td>\n",
       "    </tr>\n",
       "  </tbody>\n",
       "</table>\n",
       "<p>5 rows × 6993 columns</p>\n",
       "</div>"
      ],
      "text/plain": [
       "    Ac (atoms)  Ac-Se (bonds)  Ac-Se-Ac (angles)  Ag (atoms)  Ag-Ag (bonds)  \\\n",
       "2          0.0            0.0                0.0         0.0            0.0   \n",
       "5          0.0            0.0                0.0         0.0            0.0   \n",
       "8          0.0            0.0                0.0         0.0            0.0   \n",
       "9          0.0            0.0                0.0         0.0            0.0   \n",
       "10         0.0            0.0                0.0         0.0            0.0   \n",
       "\n",
       "    Ag-Ag-Ag (angles)  Ag-Ag-Bi (angles)  Ag-Ag-Br (angles)  Ag-Ag-C (angles)  \\\n",
       "2                 0.0                0.0                0.0               0.0   \n",
       "5                 0.0                0.0                0.0               0.0   \n",
       "8                 0.0                0.0                0.0               0.0   \n",
       "9                 0.0                0.0                0.0               0.0   \n",
       "10                0.0                0.0                0.0               0.0   \n",
       "\n",
       "    Ag-Ag-Cl (angles)  ...  Zr-Zr-Sb (angles)  Zr-Zr-Se (angles)  \\\n",
       "2                 0.0  ...                0.0                0.0   \n",
       "5                 0.0  ...                0.0                0.0   \n",
       "8                 0.0  ...                0.0                0.0   \n",
       "9                 0.0  ...                0.0                0.0   \n",
       "10                0.0  ...                0.0                0.0   \n",
       "\n",
       "    Zr-Zr-Si (angles)  Zr-Zr-Sn (angles)  Zr-Zr-Te (angles)  \\\n",
       "2                 0.0                0.0                0.0   \n",
       "5                 0.0                0.0                0.0   \n",
       "8                 0.0                0.0                0.0   \n",
       "9                 0.0                0.0                0.0   \n",
       "10                0.0                0.0                0.0   \n",
       "\n",
       "    Zr-Zr-Zn (angles)  Zr-Zr-Zr (angles)  \\\n",
       "2                 0.0                0.0   \n",
       "5                 0.0                0.0   \n",
       "8                 0.0                0.0   \n",
       "9                 0.0                0.0   \n",
       "10                0.0                0.0   \n",
       "\n",
       "                              atoms_object (unitless)  bandgap (eV)  \\\n",
       "2   (Atom('Tl', [2.63896615613751, 10.292177253854...        0.9814   \n",
       "5   (Atom('Ru', [0.0, 0.0, 0.0], index=0), Atom('I...        1.1619   \n",
       "8   (Atom('Au', [0.0, 0.0, 3.8492055254399995], in...        0.1499   \n",
       "9   (Atom('Si', [0.0, 0.0, 0.0], index=0), Atom('B...        0.2086   \n",
       "10  (Atom('Sr', [1.7335085, 1.7335085, 0.0], index...        2.9398   \n",
       "\n",
       "                        pymatgen_structure (unitless)  \n",
       "2   [[ 2.63896616 10.29217725 11.08346956] Tl, [3....  \n",
       "5   [[0. 0. 0.] Ru, [ 1.99801033  1.15354918 21.37...  \n",
       "8   [[0.         0.         3.84920553] Au, [2.239...  \n",
       "9   [[0. 0. 0.] Si, [2.5703355 0.        0.       ...  \n",
       "10  [[1.7335085 1.7335085 0.       ] Sr, [ 0.     ...  \n",
       "\n",
       "[5 rows x 6993 columns]"
      ]
     },
     "execution_count": 6,
     "metadata": {},
     "output_type": "execute_result"
    }
   ],
   "source": [
    "all_data.head()"
   ]
  },
  {
   "cell_type": "code",
   "execution_count": 5,
   "id": "b4d5a150-0643-4983-88a6-3aafedd89c78",
   "metadata": {},
   "outputs": [],
   "source": [
    "data_train, data_test = sklearn.model_selection.train_test_split(all_data.drop(columns=[\"atoms_object (unitless)\", \"pymatgen_structure (unitless)\"]),\n",
    "                                                                 random_state=RANDOM_SEED,\n",
    "                                                                 test_size=0.2)\n",
    "\n",
    "target = \"bandgap (eV)\"\n",
    "train_x = data_train.drop(columns=[target]).to_numpy()\n",
    "train_y = data_train[target].to_numpy()\n",
    "\n",
    "test_x = data_test.drop(columns=[target]).to_numpy()\n",
    "test_y = data_test[target].to_numpy()"
   ]
  },
  {
   "cell_type": "markdown",
   "id": "285f8e9a-1ccb-49c1-9753-36da21431e52",
   "metadata": {},
   "source": [
    "# Stacked Ensemble\n",
    "Same stacked ensemble developed in the thickness_coulomb notebook. Poor performance, but better than TPOT after 20 minutes."
   ]
  },
  {
   "cell_type": "code",
   "execution_count": 23,
   "id": "b6d0d382-18ba-4dcf-a983-c7f720324abe",
   "metadata": {},
   "outputs": [
    {
     "data": {
      "text/plain": [
       "Pipeline(steps=[('Imputation', KNNImputer()), ('Scaler', StandardScaler()),\n",
       "                ('PCA', PCA(n_components=128)),\n",
       "                ('StackedEnsemble',\n",
       "                 StackingRegressor(cv=2,\n",
       "                                   estimators=[('Lasso', LassoCV(tol=0.001)),\n",
       "                                               ('Ridge',\n",
       "                                                RidgeCV(alphas=array([ 0.1,  1. , 10. ]))),\n",
       "                                               ('SVR', SVR(C=1, gamma='auto')),\n",
       "                                               ('GB',\n",
       "                                                GradientBoostingRegressor(n_estimators=1000)),\n",
       "                                               ('RF', RandomForestRegressor()),\n",
       "                                               ('NN',\n",
       "                                                MLPRegressor(hidden_layer_sizes=[200,\n",
       "                                                                                 200],\n",
       "                                                             max_iter=1000))],\n",
       "                                   final_estimator=GradientBoostingRegressor(n_estimators=1000),\n",
       "                                   n_jobs=2))])"
      ]
     },
     "execution_count": 23,
     "metadata": {},
     "output_type": "execute_result"
    }
   ],
   "source": [
    "import sklearn.ensemble\n",
    "import sklearn.pipeline\n",
    "import sklearn.impute\n",
    "import sklearn.preprocessing\n",
    "import sklearn.decomposition\n",
    "import sklearn.linear_model\n",
    "import sklearn.svm\n",
    "import sklearn.neural_network\n",
    "import sklearn.kernel_ridge\n",
    "\n",
    "model = sklearn.pipeline.Pipeline(\n",
    "    [(\"Imputation\", sklearn.impute.KNNImputer()),\n",
    "     (\"Scaler\", sklearn.preprocessing.StandardScaler()),\n",
    "     (\"PCA\", sklearn.decomposition.PCA(n_components=128)),\n",
    "     (\"StackedEnsemble\", sklearn.ensemble.StackingRegressor(\n",
    "         estimators = [\n",
    "             ('Lasso', sklearn.linear_model.LassoCV(tol=0.001)),\n",
    "             ('Ridge', sklearn.linear_model.RidgeCV()),\n",
    "             ('SVR', sklearn.svm.SVR(kernel='rbf',\n",
    "                                     gamma='auto',\n",
    "                                     C=1,\n",
    "                                     epsilon=0.1)),\n",
    "             ('GB', sklearn.ensemble.GradientBoostingRegressor(n_estimators=1000)),\n",
    "             ('RF', sklearn.ensemble.RandomForestRegressor()),\n",
    "             ('NN', sklearn.neural_network.MLPRegressor([200,200],\n",
    "                                                         max_iter=1000)),\n",
    "         ],\n",
    "         final_estimator=sklearn.ensemble.GradientBoostingRegressor(n_estimators = 1000),\n",
    "         cv=2,\n",
    "         n_jobs=2)),\n",
    "     ]\n",
    ")\n",
    "model.fit(train_x, train_y)"
   ]
  },
  {
   "cell_type": "code",
   "execution_count": 24,
   "id": "52d60e4e-9c51-4fe0-a875-335675f03c95",
   "metadata": {
    "pycharm": {
     "name": "#%%\n"
    }
   },
   "outputs": [
    {
     "data": {
      "text/plain": [
       "<matplotlib.legend.Legend at 0x146a831c0>"
      ]
     },
     "execution_count": 24,
     "metadata": {},
     "output_type": "execute_result"
    },
    {
     "data": {
      "image/png": "[encoded data removed]",
      "text/plain": [
       "<Figure size 720x720 with 1 Axes>"
      ]
     },
     "metadata": {
      "needs_background": "light"
     },
     "output_type": "display_data"
    }
   ],
   "source": [
    "train_y_pred = model.predict(train_x)\n",
    "test_y_pred = model.predict(test_x)\n",
    "\n",
    "plt.rcParams['figure.figsize'] = [10,10]\n",
    "\n",
    "plt.scatter(x=train_y_pred, y=train_y, label=\"Train Set\")\n",
    "plt.scatter(x=test_y_pred, y=test_y, label=\"Test Set\")\n",
    "plt.plot([0,8], [0,8], label=\"Parity\")\n",
    "plt.ylabel(\"Bandgap (Actual)\")\n",
    "plt.xlabel(\"Bandgap (Predicted)\")\n",
    "plt.legend()"
   ]
  },
  {
   "cell_type": "markdown",
   "source": [
    "# TPOT\n",
    "Ran for 20 minutes. Poor results."
   ],
   "metadata": {
    "collapsed": false
   }
  },
  {
   "cell_type": "code",
   "execution_count": null,
   "outputs": [],
   "source": [
    "model = tpot.TPOTRegressor(\n",
    "    generations=None,\n",
    "    population_size=100,\n",
    "    max_eval_time_mins=10/60,\n",
    "    max_time_mins=20,\n",
    "    cv=5,\n",
    "    verbosity=2,\n",
    "    scoring=\"r2\",\n",
    "    config_dict=tpot.config.regressor_config_dict,\n",
    "    n_jobs=4,\n",
    "    random_state=RANDOM_SEED\n",
    ")\n",
    "model.fit(features=train_x, target=train_y)"
   ],
   "metadata": {
    "collapsed": false,
    "pycharm": {
     "name": "#%%\n"
    }
   }
  },
  {
   "cell_type": "code",
   "execution_count": null,
   "outputs": [],
   "source": [
    "train_y_pred = model.predict(train_x)\n",
    "test_y_pred = model.predict(test_x)\n",
    "plt.rcParams[\"figure.figsize\"] = plt.rcParamsDefault[\"figure.figsize\"]\n",
    "plt.rcParams[\"figure.figsize\"] = (10,10)\n",
    "\n",
    "plt.scatter(x=train_y_pred, y=train_y, label=\"Train Set\")\n",
    "plt.scatter(x=test_y_pred, y=test_y, label=\"Test Set\")\n",
    "plt.plot([0,8], [0,8], label=\"Parity\")\n",
    "plt.ylabel(\"Bandgap (Actual)\")\n",
    "plt.xlabel(\"Bandgap (Predicted)\")\n",
    "plt.legend()"
   ],
   "metadata": {
    "collapsed": false,
    "pycharm": {
     "name": "#%%\n"
    }
   }
  }
 ],
 "metadata": {
  "kernelspec": {
   "display_name": "Python 3 (ipykernel)",
   "language": "python",
   "name": "python3"
  },
  "language_info": {
   "codemirror_mode": {
    "name": "ipython",
    "version": 3
   },
   "file_extension": ".py",
   "mimetype": "text/x-python",
   "name": "python",
   "nbconvert_exporter": "python",
   "pygments_lexer": "ipython3",
   "version": "3.8.6"
  }
 },
 "nbformat": 4,
 "nbformat_minor": 5
}