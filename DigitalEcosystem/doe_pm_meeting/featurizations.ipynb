{
 "cells": [
  {
   "cell_type": "code",
   "execution_count": 1,
   "id": "6574ea12-52bb-44f2-bd65-1a7d97ea561b",
   "metadata": {},
   "outputs": [],
   "source": [
    "import pandas as pd"
   ]
  },
  {
   "cell_type": "code",
   "execution_count": 8,
   "id": "2c7e8077-1a00-4742-93e2-0af6593d79e4",
   "metadata": {},
   "outputs": [],
   "source": [
    "import functools\n",
    "import random\n",
    "\n",
    "import pandas as pd\n",
    "import numpy as np\n",
    "\n",
    "import sklearn.preprocessing\n",
    "import sklearn.feature_selection\n",
    "import sklearn.pipeline\n",
    "\n",
    "import ase\n",
    "import ase.neighborlist\n",
    "\n",
    "from dscribe.descriptors import SineMatrix"
   ]
  },
  {
   "cell_type": "code",
   "execution_count": 7,
   "id": "2ba0f3c6-da33-4055-ad67-14947eec80bf",
   "metadata": {},
   "outputs": [
    {
     "data": {
      "text/html": [
       "<div>\n",
       "<style scoped>\n",
       "    .dataframe tbody tr th:only-of-type {\n",
       "        vertical-align: middle;\n",
       "    }\n",
       "\n",
       "    .dataframe tbody tr th {\n",
       "        vertical-align: top;\n",
       "    }\n",
       "\n",
       "    .dataframe thead th {\n",
       "        text-align: right;\n",
       "    }\n",
       "</style>\n",
       "<table border=\"1\" class=\"dataframe\">\n",
       "  <thead>\n",
       "    <tr style=\"text-align: right;\">\n",
       "      <th></th>\n",
       "      <th>atoms_object (unitless)</th>\n",
       "      <th>bandgap (eV)</th>\n",
       "    </tr>\n",
       "  </thead>\n",
       "  <tbody>\n",
       "    <tr>\n",
       "      <th>0</th>\n",
       "      <td>(Atom('Ir', [0.0, 0.0, 0.0], index=0), Atom('F...</td>\n",
       "      <td>0.0000</td>\n",
       "    </tr>\n",
       "    <tr>\n",
       "      <th>1</th>\n",
       "      <td>(Atom('Ba', [2.476683476681, 1.429910903420999...</td>\n",
       "      <td>0.0000</td>\n",
       "    </tr>\n",
       "    <tr>\n",
       "      <th>2</th>\n",
       "      <td>(Atom('Tl', [2.63896615613751, 10.292177253854...</td>\n",
       "      <td>0.9814</td>\n",
       "    </tr>\n",
       "    <tr>\n",
       "      <th>3</th>\n",
       "      <td>(Atom('Mo', [1.5833675, 2.687975714894, 2.6388...</td>\n",
       "      <td>0.0000</td>\n",
       "    </tr>\n",
       "    <tr>\n",
       "      <th>4</th>\n",
       "      <td>(Atom('Ir', [0.0, 0.0, 0.0], index=0), Atom('O...</td>\n",
       "      <td>0.0000</td>\n",
       "    </tr>\n",
       "    <tr>\n",
       "      <th>...</th>\n",
       "      <td>...</td>\n",
       "      <td>...</td>\n",
       "    </tr>\n",
       "    <tr>\n",
       "      <th>6346</th>\n",
       "      <td>(Atom('Bi', [6.537243774895211, 2.363799214670...</td>\n",
       "      <td>0.1990</td>\n",
       "    </tr>\n",
       "    <tr>\n",
       "      <th>6347</th>\n",
       "      <td>(Atom('Pt', [1.7596322562971602, 1.01592211741...</td>\n",
       "      <td>0.0000</td>\n",
       "    </tr>\n",
       "    <tr>\n",
       "      <th>6348</th>\n",
       "      <td>(Atom('Pt', [1.84215348881831, 1.0635655531000...</td>\n",
       "      <td>0.0000</td>\n",
       "    </tr>\n",
       "    <tr>\n",
       "      <th>6349</th>\n",
       "      <td>(Atom('Pt', [1.8200943700922698, 1.05082975916...</td>\n",
       "      <td>0.0000</td>\n",
       "    </tr>\n",
       "    <tr>\n",
       "      <th>6350</th>\n",
       "      <td>(Atom('Pt', [1.89334041000488, 1.0931183002139...</td>\n",
       "      <td>0.0000</td>\n",
       "    </tr>\n",
       "  </tbody>\n",
       "</table>\n",
       "<p>6351 rows × 2 columns</p>\n",
       "</div>"
      ],
      "text/plain": [
       "                                atoms_object (unitless)  bandgap (eV)\n",
       "0     (Atom('Ir', [0.0, 0.0, 0.0], index=0), Atom('F...        0.0000\n",
       "1     (Atom('Ba', [2.476683476681, 1.429910903420999...        0.0000\n",
       "2     (Atom('Tl', [2.63896615613751, 10.292177253854...        0.9814\n",
       "3     (Atom('Mo', [1.5833675, 2.687975714894, 2.6388...        0.0000\n",
       "4     (Atom('Ir', [0.0, 0.0, 0.0], index=0), Atom('O...        0.0000\n",
       "...                                                 ...           ...\n",
       "6346  (Atom('Bi', [6.537243774895211, 2.363799214670...        0.1990\n",
       "6347  (Atom('Pt', [1.7596322562971602, 1.01592211741...        0.0000\n",
       "6348  (Atom('Pt', [1.84215348881831, 1.0635655531000...        0.0000\n",
       "6349  (Atom('Pt', [1.8200943700922698, 1.05082975916...        0.0000\n",
       "6350  (Atom('Pt', [1.89334041000488, 1.0931183002139...        0.0000\n",
       "\n",
       "[6351 rows x 2 columns]"
      ]
     },
     "execution_count": 7,
     "metadata": {},
     "output_type": "execute_result"
    }
   ],
   "source": [
    "# Read the data\n",
    "datafile = \"raw_data/2d_mat_dataset_raw.pkl\"\n",
    "data = pd.read_pickle(datafile)\n",
    "initial_size = len(data)\n",
    "data.head()\n",
    "featurized = data[[\"atoms_object (unitless)\", \"bandgap (eV)\"]]\n",
    "featurized"
   ]
  },
  {
   "cell_type": "code",
   "execution_count": 11,
   "id": "82e94e7b-bcc5-4a89-97b1-5c48d47104f8",
   "metadata": {},
   "outputs": [],
   "source": [
    "x = featurized[\"atoms_object (unitless)\"][0]"
   ]
  },
  {
   "cell_type": "code",
   "execution_count": 16,
   "id": "820c6fdc-727a-44e8-9577-f65779a88e08",
   "metadata": {},
   "outputs": [],
   "source": [
    "all_atoms = ase.Atoms()\n",
    "for atom in "
   ]
  },
  {
   "cell_type": "code",
   "execution_count": 18,
   "id": "665c242f-e4f0-4719-b64a-f97a98f14563",
   "metadata": {},
   "outputs": [],
   "source": [
    "atoms += x"
   ]
  },
  {
   "cell_type": "code",
   "execution_count": null,
   "id": "29a5460b-5398-4a6a-8410-015a71d82a3d",
   "metadata": {},
   "outputs": [],
   "source": []
  }
 ],
 "metadata": {
  "kernelspec": {
   "display_name": "Python 3 (ipykernel)",
   "language": "python",
   "name": "python3"
  },
  "language_info": {
   "codemirror_mode": {
    "name": "ipython",
    "version": 3
   },
   "file_extension": ".py",
   "mimetype": "text/x-python",
   "name": "python",
   "nbconvert_exporter": "python",
   "pygments_lexer": "ipython3",
   "version": "3.9.5"
  }
 },
 "nbformat": 4,
 "nbformat_minor": 5
}
