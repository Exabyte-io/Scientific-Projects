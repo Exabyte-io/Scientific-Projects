{
 "cells": [
  {
   "cell_type": "code",
   "execution_count": 1,
   "id": "6dfec466-8628-4958-a1d4-3ed9129d65cb",
   "metadata": {},
   "outputs": [],
   "source": [
    "import collections\n",
    "import random\n",
    "import warnings\n",
    "\n",
    "import matplotlib.pyplot as plt\n",
    "import numpy as np\n",
    "import tqdm\n",
    "import matminer\n",
    "import pymatgen.core.composition\n",
    "import pymatgen.io.ase\n",
    "from pymatgen.analysis.local_env import JmolNN\n",
    "\n",
    "from matminer.featurizers.base import MultipleFeaturizer\n",
    "from matminer.featurizers.structure.misc import EwaldEnergy\n",
    "from matminer.featurizers.structure.order import StructuralComplexity\n",
    "from matminer.featurizers.structure.symmetry import GlobalSymmetryFeatures\n",
    "from matminer.featurizers.structure.bonding import GlobalInstabilityIndex\n",
    "from matminer.featurizers.site.bonding import AverageBondLength\n",
    "\n",
    "import pandas as pd\n",
    "import swifter\n",
    "\n",
    "RANDOM_SEED = 1234\n",
    "\n",
    "pd.options.mode.chained_assignment = None\n",
    "tqdm.tqdm.pandas()\n",
    "random.seed(RANDOM_SEED)\n",
    "np.random.seed(RANDOM_SEED)"
   ]
  },
  {
   "cell_type": "markdown",
   "id": "bce4c852-c197-41c5-8d79-f75f85842c35",
   "metadata": {},
   "source": [
    "# Data Cleaning"
   ]
  },
  {
   "cell_type": "code",
   "execution_count": 2,
   "id": "0fb813b1-736a-4b7f-b061-3c153c8bcc87",
   "metadata": {},
   "outputs": [
    {
     "name": "stdout",
     "output_type": "stream",
     "text": [
      "Starting with 6351 entries. Includes top-down and bottom-up.\n",
      "Discarding 5606 entries predicted to decompose (Decomp energy != 0). Total is now 745.\n",
      "Discarding 135 entries in the f-block, or synthetics. Total is now 610.\n",
      "Discarding 124 entries that are metallic. Total is now 486.\n",
      "Discarding 25 entries that have U-corrections applied (metal oxides/fluorides). Total is now 461.\n",
      "Discarding 74 entries outside 0.0 < exfoliation energy <= 0.2. Total is now 387.\n"
     ]
    }
   ],
   "source": [
    "df = pd.read_pickle(\"../raw_data/2d_mat_dataset_raw.pkl\")\n",
    "total = len(df)\n",
    "print(f\"Starting with {total} entries. Includes top-down and bottom-up.\")\n",
    "      \n",
    "# Throw out systems that are predicted to decompose\n",
    "df = df[df[\"decomposition_energy (eV/atom)\"] == 0]\n",
    "print(f\"Discarding {total-len(df)} entries predicted to decompose (Decomp energy != 0). Total is now {len(df)}.\")\n",
    "total = len(df)\n",
    "\n",
    "# Remove systems containing f-block / synthetic elements\n",
    "fblock_and_synth = [\"La\", \"Ce\", \"Pr\", \"Nd\", \"Pm\", \"Sm\", \"Eu\", \"Gd\", \"Tb\", \"Dy\", \"Ho\", \"Er\", \"Tm\", \"Yb\", \"Lu\",\n",
    "                    \"Ac\", \"Th\", \"Pa\", \"U\", \"Np\", \"Pu\", \"Am\", \"Cm\", \"Bk\", \"Cf\", \"Es\", \"Fm\", \"Md\", \"No\", \"Lr\",\n",
    "                    \"Rf\", \"Db\", \"Sg\", \"Bh\", \"Hs\", \"Mt\", \"Ds\", \"Tg\", \"Cn\", \"Nh\", \"Fl\", \"Mc\", \"Mc\", \"Lv\", \"Ts\", \"Og\"]\n",
    "df = df[df[\"atoms_object (unitless)\"].apply(\n",
    "           lambda atoms: all(symbol not in fblock_and_synth for symbol in atoms.get_chemical_symbols()))\n",
    "       ]\n",
    "print(f\"Discarding {total - len(df)} entries in the f-block, or synthetics. Total is now {len(df)}.\")\n",
    "total = len(df)\n",
    "\n",
    "# Discard metallic systems\n",
    "df = df[df[\"bandgap (eV)\"] > 0]\n",
    "print(f\"Discarding {total - len(df)} entries that are metallic. Total is now {len(df)}.\")\n",
    "total = len(df)\n",
    "\n",
    "# To keep the methodology consistent, discard systems where a U-correction was applied\n",
    "df = df[df[\"is_hubbard (unitless)\"] == False]\n",
    "print(f\"Discarding {total - len(df)} entries that have U-corrections applied (metal oxides/fluorides). Total is now {len(df)}.\")\n",
    "total = len(df)\n",
    "\n",
    "# Throw out systems based on exfoliation energy\n",
    "min_exfol = 0.0\n",
    "max_exfol = 0.2\n",
    "df = df[df[\"exfoliation_energy_per_atom (eV/atom)\"].apply(lambda exfol: min_exfol < exfol <= max_exfol)]\n",
    "print(f\"Discarding {total - len(df)} entries outside {np.round(min_exfol,3)} < exfoliation energy <= {np.round(max_exfol,3)}. \"\n",
    "      f\"Total is now {len(df)}.\")"
   ]
  },
  {
   "cell_type": "markdown",
   "id": "fa50e28d-a675-4893-bf57-c281db0c4a31",
   "metadata": {},
   "source": [
    "# Featurization"
   ]
  },
  {
   "cell_type": "code",
   "execution_count": 3,
   "id": "b09c70bf-1d08-4d58-96d2-468438771008",
   "metadata": {},
   "outputs": [
    {
     "data": {
      "application/vnd.jupyter.widget-view+json": {
       "model_id": "b4541fc3ab894e5f82a0ad64b1fa8d07",
       "version_major": 2,
       "version_minor": 0
      },
      "text/plain": [
       "Pandas Apply:   0%|          | 0/387 [00:00<?, ?it/s]"
      ]
     },
     "metadata": {},
     "output_type": "display_data"
    },
    {
     "data": {
      "text/plain": [
       "16      None\n",
       "19      None\n",
       "65      None\n",
       "75      None\n",
       "84      None\n",
       "        ... \n",
       "5826    None\n",
       "5909    None\n",
       "5911    None\n",
       "5936    None\n",
       "5967    None\n",
       "Name: ox_struct, Length: 387, dtype: object"
      ]
     },
     "execution_count": 3,
     "metadata": {},
     "output_type": "execute_result"
    }
   ],
   "source": [
    "structures = df['atoms_object (unitless)'].apply(pymatgen.io.ase.AseAtomsAdaptor.get_structure)\n",
    "df['ox_struct'] = structures.apply(lambda i: i.copy())\n",
    "\n",
    "# struct.add_oxidation_state_by_guess() modifies the structure in-place\n",
    "df.ox_struct.swifter.apply(lambda struct: struct.add_oxidation_state_by_guess())"
   ]
  },
  {
   "cell_type": "code",
   "execution_count": 4,
   "id": "dc236419-d616-4758-ae8d-6c31c37242c7",
   "metadata": {},
   "outputs": [
    {
     "data": {
      "application/vnd.jupyter.widget-view+json": {
       "model_id": "fc2fc45746774a61ae311988cb39d7f7",
       "version_major": 2,
       "version_minor": 0
      },
      "text/plain": [
       "MultipleFeaturizer:   0%|          | 0/387 [00:00<?, ?it/s]"
      ]
     },
     "metadata": {},
     "output_type": "display_data"
    }
   ],
   "source": [
    "struct_features = MultipleFeaturizer([\n",
    "    EwaldEnergy(),\n",
    "    StructuralComplexity(),\n",
    "    GlobalSymmetryFeatures('n_symmetry_ops'),\n",
    "])\n",
    "df[struct_features.feature_labels()] = struct_features.featurize_many(df.ox_struct).copy()"
   ]
  },
  {
   "cell_type": "code",
   "execution_count": 5,
   "id": "7e762cc9-6766-461c-9b3e-59274b69ba15",
   "metadata": {},
   "outputs": [
    {
     "data": {
      "application/vnd.jupyter.widget-view+json": {
       "model_id": "01698eb33fa8413bbc8c1d2b16d9ce44",
       "version_major": 2,
       "version_minor": 0
      },
      "text/plain": [
       "Pandas Apply:   0%|          | 0/387 [00:00<?, ?it/s]"
      ]
     },
     "metadata": {},
     "output_type": "display_data"
    }
   ],
   "source": [
    "desc = GlobalInstabilityIndex()\n",
    "\n",
    "def maybe_global_instability(struct):\n",
    "    try:\n",
    "        return desc.featurize(struct)[0]\n",
    "    except:\n",
    "        return None\n",
    "\n",
    "with warnings.catch_warnings():\n",
    "    warnings.simplefilter('ignore')\n",
    "    df['global_instability'] = df.ox_struct.swifter.apply(maybe_global_instability).copy()"
   ]
  },
  {
   "cell_type": "code",
   "execution_count": 6,
   "id": "9a16a818-bc1f-4e8c-b656-507eb9fa45cc",
   "metadata": {},
   "outputs": [
    {
     "data": {
      "application/vnd.jupyter.widget-view+json": {
       "model_id": "8f70c35e2c52478e9a53bef1835d715b",
       "version_major": 2,
       "version_minor": 0
      },
      "text/plain": [
       "Pandas Apply:   0%|          | 0/387 [00:00<?, ?it/s]"
      ]
     },
     "metadata": {},
     "output_type": "display_data"
    }
   ],
   "source": [
    "neighbor_finder = JmolNN()\n",
    "\n",
    "def average_bond_length(structure, featurizer = AverageBondLength(neighbor_finder)):\n",
    "    n_atoms = len(structure)\n",
    "    try:\n",
    "        lengths = map(lambda i: featurizer.featurize(structure, i)[0], range(n_atoms))\n",
    "        return sum(lengths) / n_atoms\n",
    "    except IndexError:\n",
    "        return None\n",
    "\n",
    "df['bond_length_average'] = df.ox_struct.swifter.apply(average_bond_length).copy()"
   ]
  },
  {
   "cell_type": "code",
   "execution_count": 7,
   "id": "017758aa-b7e3-4963-9b1a-6dc7d3ad425c",
   "metadata": {},
   "outputs": [
    {
     "data": {
      "application/vnd.jupyter.widget-view+json": {
       "model_id": "2ef081fdc5ad40068e058d3203ddf232",
       "version_major": 2,
       "version_minor": 0
      },
      "text/plain": [
       "Pandas Apply:   0%|          | 0/387 [00:00<?, ?it/s]"
      ]
     },
     "metadata": {},
     "output_type": "display_data"
    },
    {
     "name": "stderr",
     "output_type": "stream",
     "text": [
      "/Users/mat3ra/sisso_collab/.env/lib/python3.9/site-packages/matminer/featurizers/site/bonding.py:250: RuntimeWarning: All-NaN slice encountered\n",
      "  minimum_bond_angles = np.nanmin(bond_angles, axis=1)\n"
     ]
    }
   ],
   "source": [
    "from matminer.featurizers.site.bonding import AverageBondAngle\n",
    "\n",
    "def average_bond_angle(structure, featurizer = AverageBondAngle(neighbor_finder)):\n",
    "    n_atoms = len(structure)\n",
    "    try:\n",
    "        angles = map(lambda i: featurizer.featurize(structure, i)[0], range(n_atoms))\n",
    "        return sum(angles) / n_atoms\n",
    "    except IndexError:\n",
    "        return None\n",
    "df['bond_angle_average'] = df.ox_struct.swifter.apply(average_bond_angle).copy()"
   ]
  },
  {
   "cell_type": "code",
   "execution_count": 8,
   "id": "1edc4f8c-4c2b-45ee-ba4e-1e70b7210664",
   "metadata": {},
   "outputs": [
    {
     "data": {
      "application/vnd.jupyter.widget-view+json": {
       "model_id": "dd11f9c1f7604b92a07221d8d26b3dfc",
       "version_major": 2,
       "version_minor": 0
      },
      "text/plain": [
       "Pandas Apply:   0%|          | 0/387 [00:00<?, ?it/s]"
      ]
     },
     "metadata": {},
     "output_type": "display_data"
    }
   ],
   "source": [
    "def average_cn(structure, neighbor_finder = neighbor_finder):\n",
    "    n_atoms = len(structure)\n",
    "    cns = map(lambda i: neighbor_finder.get_cn(structure, i), range(n_atoms))\n",
    "    return sum(cns) / n_atoms\n",
    "df['average_cn'] = df.ox_struct.swifter.apply(average_cn).copy()"
   ]
  },
  {
   "cell_type": "code",
   "execution_count": 9,
   "id": "c2b02384-cc88-4288-91eb-3e08e97a4e4e",
   "metadata": {},
   "outputs": [
    {
     "data": {
      "application/vnd.jupyter.widget-view+json": {
       "model_id": "6aec4d3bde044d3b8e0a408c8d4a0b56",
       "version_major": 2,
       "version_minor": 0
      },
      "text/plain": [
       "Pandas Apply:   0%|          | 0/387 [00:00<?, ?it/s]"
      ]
     },
     "metadata": {},
     "output_type": "display_data"
    }
   ],
   "source": [
    "def ab_perimeter_area_ratio(structure):\n",
    "    a, b, c = structure.lattice.matrix\n",
    "    perimeter = 2*np.linalg.norm(a) + 2*np.linalg.norm(b)\n",
    "    area = np.linalg.norm(np.cross(a,b))\n",
    "    return perimeter / area\n",
    "df['perimeter_area_ratio'] = df.ox_struct.swifter.apply(ab_perimeter_area_ratio).copy()"
   ]
  },
  {
   "cell_type": "code",
   "execution_count": 10,
   "id": "95bb1765-9ae4-4a1a-ae64-70f4a5e639fb",
   "metadata": {},
   "outputs": [
    {
     "data": {
      "application/vnd.jupyter.widget-view+json": {
       "model_id": "5ef904b2de0943d78a880c425afca79f",
       "version_major": 2,
       "version_minor": 0
      },
      "text/plain": [
       "Pandas Apply:   0%|          | 0/387 [00:00<?, ?it/s]"
      ]
     },
     "metadata": {},
     "output_type": "display_data"
    }
   ],
   "source": [
    "df[\"formula\"] = df[\"atoms_object (unitless)\"].swifter.apply(lambda atoms: atoms.get_chemical_formula(empirical=True))"
   ]
  },
  {
   "cell_type": "code",
   "execution_count": 11,
   "id": "98f2eefb-309e-45bf-943f-0f50ecefc628",
   "metadata": {},
   "outputs": [],
   "source": [
    "df.to_pickle(\"all_descriptors.pkl\")\n",
    "\n",
    "object_cols = [\"atoms_object (unitless)\",\n",
    "               \"ox_struct\"]\n",
    "\n",
    "regression_irrelevant = object_cols + [\n",
    "    'discovery_process (unitless)',\n",
    "    'potcars (unitless)',\n",
    "    'is_hubbard (unitless)',\n",
    "    'energy_per_atom (eV)',\n",
    "    'decomposition_energy (eV/atom)',\n",
    "    'is_bandgap_direct (unitless)',\n",
    "    'is_metal (unitless)',\n",
    "    'energy_vdw_per_atom (eV/atom)',\n",
    "    'total_magnetization (Bohr Magneton)']\n",
    "\n",
    "df.drop(columns=object_cols).to_csv(\"both_extra_descriptors.csv\")"
   ]
  },
  {
   "cell_type": "markdown",
   "id": "8018a491-329d-42a4-833b-06f0c11c5cd2",
   "metadata": {},
   "source": [
    "# Chemical Info"
   ]
  },
  {
   "cell_type": "code",
   "execution_count": 12,
   "id": "d512b7c6-46ec-422d-ada1-f21749ce2ecf",
   "metadata": {},
   "outputs": [
    {
     "data": {
      "application/vnd.jupyter.widget-view+json": {
       "model_id": "3fd947aae0b04cfa8c78f978a9d78262",
       "version_major": 2,
       "version_minor": 0
      },
      "text/plain": [
       "Pandas Apply:   0%|          | 0/387 [00:00<?, ?it/s]"
      ]
     },
     "metadata": {},
     "output_type": "display_data"
    },
    {
     "data": {
      "application/vnd.jupyter.widget-view+json": {
       "model_id": "c1f61cc298cb443db12dac617e250344",
       "version_major": 2,
       "version_minor": 0
      },
      "text/plain": [
       "Pandas Apply:   0%|          | 0/387 [00:00<?, ?it/s]"
      ]
     },
     "metadata": {},
     "output_type": "display_data"
    },
    {
     "data": {
      "application/vnd.jupyter.widget-view+json": {
       "model_id": "a287589c99884089a893b88fc67bb9b8",
       "version_major": 2,
       "version_minor": 0
      },
      "text/plain": [
       "Pandas Apply:   0%|          | 0/387 [00:00<?, ?it/s]"
      ]
     },
     "metadata": {},
     "output_type": "display_data"
    },
    {
     "data": {
      "application/vnd.jupyter.widget-view+json": {
       "model_id": "5df87c42b4744d3b8aff38397165d9a3",
       "version_major": 2,
       "version_minor": 0
      },
      "text/plain": [
       "Pandas Apply:   0%|          | 0/387 [00:00<?, ?it/s]"
      ]
     },
     "metadata": {},
     "output_type": "display_data"
    },
    {
     "data": {
      "application/vnd.jupyter.widget-view+json": {
       "model_id": "dd16fc9638ba4216b7b1a2b51b7498d0",
       "version_major": 2,
       "version_minor": 0
      },
      "text/plain": [
       "Pandas Apply:   0%|          | 0/387 [00:00<?, ?it/s]"
      ]
     },
     "metadata": {},
     "output_type": "display_data"
    },
    {
     "data": {
      "application/vnd.jupyter.widget-view+json": {
       "model_id": "cf3f4939f95e49d5b389ed669a52441e",
       "version_major": 2,
       "version_minor": 0
      },
      "text/plain": [
       "Pandas Apply:   0%|          | 0/387 [00:00<?, ?it/s]"
      ]
     },
     "metadata": {},
     "output_type": "display_data"
    },
    {
     "data": {
      "application/vnd.jupyter.widget-view+json": {
       "model_id": "5988e6a4d6d24cc293d8d7b8b7b90f1a",
       "version_major": 2,
       "version_minor": 0
      },
      "text/plain": [
       "Pandas Apply:   0%|          | 0/387 [00:00<?, ?it/s]"
      ]
     },
     "metadata": {},
     "output_type": "display_data"
    },
    {
     "data": {
      "application/vnd.jupyter.widget-view+json": {
       "model_id": "f70f944bc82a4330a04ae8ff928c81c5",
       "version_major": 2,
       "version_minor": 0
      },
      "text/plain": [
       "Pandas Apply:   0%|          | 0/387 [00:00<?, ?it/s]"
      ]
     },
     "metadata": {},
     "output_type": "display_data"
    }
   ],
   "source": [
    "for allowed_symbols, set_name in [\n",
    "    [[\"N\"], \"nitrides\"],\n",
    "    [[\"O\"], \"oxides\"],\n",
    "    [[\"S\"], \"sulfides\"],\n",
    "    [[\"C\"], \"carbides\"],\n",
    "    [[\"F\", \"Cl\", \"Br\", \"Cl\"], \"halides\"],\n",
    "    [[\"O\", \"S\", \"Se\", \"Te\"], \"chalcogens\"],\n",
    "    [[\"N\", \"O\", \"As\", \"Sb\"], \"pnictogens\"],\n",
    "    [[\"Al\", \"Ga\", \"Ge\", \"In\", \"Sn\", \"Sb\", \"Tl\", \"Pb\", \"Bi\", \"Po\"], \"pBlockMetals\"]\n",
    "]:\n",
    "    fun = lambda atoms: any(symbol in allowed_symbols for symbol in atoms.get_chemical_symbols())\n",
    "    filtered = df[df[\"atoms_object (unitless)\"].swifter.apply(fun)]\n",
    "    filtered.drop(columns=object_cols).to_csv(f\"both_{set_name}Only.csv\")"
   ]
  },
  {
   "cell_type": "code",
   "execution_count": 13,
   "id": "dea736c5-b2ea-43a8-ba19-c4f113c61f74",
   "metadata": {},
   "outputs": [
    {
     "data": {
      "application/vnd.jupyter.widget-view+json": {
       "model_id": "28c53928ba3f45c58ec1aecfacfcc245",
       "version_major": 2,
       "version_minor": 0
      },
      "text/plain": [
       "Pandas Apply:   0%|          | 0/387 [00:00<?, ?it/s]"
      ]
     },
     "metadata": {},
     "output_type": "display_data"
    },
    {
     "data": {
      "application/vnd.jupyter.widget-view+json": {
       "model_id": "d62dc9de096d45d89d64fb0deec4ba44",
       "version_major": 2,
       "version_minor": 0
      },
      "text/plain": [
       "Pandas Apply:   0%|          | 0/387 [00:00<?, ?it/s]"
      ]
     },
     "metadata": {},
     "output_type": "display_data"
    },
    {
     "data": {
      "application/vnd.jupyter.widget-view+json": {
       "model_id": "33fa19be38df472bbe4e99f4fbdeb733",
       "version_major": 2,
       "version_minor": 0
      },
      "text/plain": [
       "Pandas Apply:   0%|          | 0/387 [00:00<?, ?it/s]"
      ]
     },
     "metadata": {},
     "output_type": "display_data"
    }
   ],
   "source": [
    "# Based on https://en.wikipedia.org/wiki/Wide-bandgap_semiconductor and https://www.kymatech.com/about/faqs/429-what-is-an-ultra-wide-bandgap-semiconductor-material\n",
    "df[df[\"bandgap (eV)\"].swifter.apply(lambda bg: 0 < bg < 2)].drop(columns=object_cols).to_csv(\"both_conventionalSemiconductorsOnly.csv\")\n",
    "df[df[\"bandgap (eV)\"].swifter.apply(lambda bg: 2 <= bg <= 3.4)].drop(columns=object_cols).to_csv(\"both_WBGOnly.csv\")\n",
    "df[df[\"bandgap (eV)\"].swifter.apply(lambda bg: 3.4 < bg < 10)].drop(columns=object_cols).to_csv(\"both_UWBGOnly.csv\")"
   ]
  },
  {
   "cell_type": "code",
   "execution_count": null,
   "id": "2da94fc1-2f3b-4697-8589-8cc94f72d958",
   "metadata": {},
   "outputs": [],
   "source": []
  },
  {
   "cell_type": "code",
   "execution_count": null,
   "id": "d6613a42-b124-425d-9d78-2f4c9c849c05",
   "metadata": {},
   "outputs": [],
   "source": []
  },
  {
   "cell_type": "code",
   "execution_count": null,
   "id": "f2467099-fdf8-44c8-8af6-f0f8c4627639",
   "metadata": {},
   "outputs": [],
   "source": []
  },
  {
   "cell_type": "code",
   "execution_count": null,
   "id": "feaed6c4-0ddf-400f-adfc-50971f8bc325",
   "metadata": {},
   "outputs": [],
   "source": []
  },
  {
   "cell_type": "code",
   "execution_count": null,
   "id": "3a7dfc0c-641b-4401-bb46-6cde9a863172",
   "metadata": {},
   "outputs": [],
   "source": []
  },
  {
   "cell_type": "code",
   "execution_count": null,
   "id": "9bba2776-e2f6-4813-8db8-366daf75d79d",
   "metadata": {},
   "outputs": [],
   "source": []
  },
  {
   "cell_type": "code",
   "execution_count": 14,
   "id": "2509244b-529b-4b23-a6b3-5a46809477fe",
   "metadata": {},
   "outputs": [
    {
     "ename": "NameError",
     "evalue": "name 'stable' is not defined",
     "output_type": "error",
     "traceback": [
      "\u001b[0;31m---------------------------------------------------------------------------\u001b[0m",
      "\u001b[0;31mNameError\u001b[0m                                 Traceback (most recent call last)",
      "\u001b[0;32m<ipython-input-14-84082a573caa>\u001b[0m in \u001b[0;36m<module>\u001b[0;34m\u001b[0m\n\u001b[1;32m      2\u001b[0m \u001b[0;32mimport\u001b[0m \u001b[0mtpot\u001b[0m\u001b[0;34m\u001b[0m\u001b[0;34m\u001b[0m\u001b[0m\n\u001b[1;32m      3\u001b[0m \u001b[0;34m\u001b[0m\u001b[0m\n\u001b[0;32m----> 4\u001b[0;31m \u001b[0mdata_train\u001b[0m\u001b[0;34m,\u001b[0m \u001b[0mdata_test\u001b[0m \u001b[0;34m=\u001b[0m \u001b[0msklearn\u001b[0m\u001b[0;34m.\u001b[0m\u001b[0mmodel_selection\u001b[0m\u001b[0;34m.\u001b[0m\u001b[0mtrain_test_split\u001b[0m\u001b[0;34m(\u001b[0m\u001b[0mstable\u001b[0m\u001b[0;34m,\u001b[0m \u001b[0mtest_size\u001b[0m\u001b[0;34m=\u001b[0m\u001b[0;36m0.25\u001b[0m\u001b[0;34m,\u001b[0m \u001b[0mrandom_state\u001b[0m\u001b[0;34m=\u001b[0m\u001b[0mRANDOM_SEED\u001b[0m\u001b[0;34m)\u001b[0m\u001b[0;34m\u001b[0m\u001b[0;34m\u001b[0m\u001b[0m\n\u001b[0m\u001b[1;32m      5\u001b[0m \u001b[0mtrain_x\u001b[0m \u001b[0;34m=\u001b[0m \u001b[0mdata_train\u001b[0m\u001b[0;34m.\u001b[0m\u001b[0mdrop\u001b[0m\u001b[0;34m(\u001b[0m\u001b[0mcolumns\u001b[0m\u001b[0;34m=\u001b[0m\u001b[0;34m\"bandgap (eV)\"\u001b[0m\u001b[0;34m)\u001b[0m\u001b[0;34m.\u001b[0m\u001b[0mto_numpy\u001b[0m\u001b[0;34m(\u001b[0m\u001b[0;34m)\u001b[0m\u001b[0;34m\u001b[0m\u001b[0;34m\u001b[0m\u001b[0m\n\u001b[1;32m      6\u001b[0m \u001b[0mtrain_y\u001b[0m \u001b[0;34m=\u001b[0m \u001b[0mdata_train\u001b[0m\u001b[0;34m[\u001b[0m\u001b[0;34m\"bandgap (eV)\"\u001b[0m\u001b[0;34m]\u001b[0m\u001b[0;34m.\u001b[0m\u001b[0mto_numpy\u001b[0m\u001b[0;34m(\u001b[0m\u001b[0;34m)\u001b[0m\u001b[0;34m\u001b[0m\u001b[0;34m\u001b[0m\u001b[0m\n",
      "\u001b[0;31mNameError\u001b[0m: name 'stable' is not defined"
     ]
    }
   ],
   "source": [
    "import sklearn.model_selection\n",
    "import tpot\n",
    "\n",
    "data_train, data_test = sklearn.model_selection.train_test_split(stable, test_size=0.25, random_state=RANDOM_SEED)\n",
    "train_x = data_train.drop(columns=\"bandgap (eV)\").to_numpy()\n",
    "train_y = data_train[\"bandgap (eV)\"].to_numpy()\n",
    "\n",
    "test_x = data_test.drop(columns=\"bandgap (eV)\").to_numpy()\n",
    "test_y = data_test[\"bandgap (eV)\"].to_numpy()"
   ]
  },
  {
   "cell_type": "code",
   "execution_count": null,
   "id": "0111d3d7-063a-416d-89fe-78f6b06ae825",
   "metadata": {},
   "outputs": [],
   "source": [
    "model = tpot.TPOTRegressor(\n",
    "    generations=None,\n",
    "    population_size=100,\n",
    "    max_eval_time_mins=10/60,\n",
    "    max_time_mins=20,\n",
    "    cv=5,\n",
    "    verbosity=2,\n",
    "    scoring=\"neg_mean_squared_error\",\n",
    "    config_dict=tpot.config.regressor_config_dict,\n",
    "    n_jobs=4,\n",
    "    random_state=RANDOM_SEED\n",
    ")\n",
    "model.fit(features=train_x, target=train_y)"
   ]
  },
  {
   "cell_type": "code",
   "execution_count": null,
   "id": "11bcc636-a4e0-47a3-ad2b-eb0d63e2a646",
   "metadata": {},
   "outputs": [],
   "source": [
    "train_y_pred = model.predict(train_x)\n",
    "test_y_pred = model.predict(test_x)\n",
    "\n",
    "plt.scatter(x=train_y_pred, y=train_y, label=\"Train Set\")\n",
    "plt.scatter(x=test_y_pred, y=test_y, label=\"Test Set\")\n",
    "plt.plot([0,8], [0,8], label=\"Parity\")\n",
    "plt.ylabel(\"Bandgap (Actual)\")\n",
    "plt.xlabel(\"Bandgap (Predicted)\")\n",
    "plt.legend()"
   ]
  },
  {
   "cell_type": "code",
   "execution_count": null,
   "id": "ee8fbff2-3169-494b-9b44-4c6a3a5fbcd7",
   "metadata": {},
   "outputs": [],
   "source": [
    "colmask = [\":\" not in i for i in df.columns]\n",
    "masked_df = df[df.columns[colmask]]\n",
    "masked_df.drop(columns=to_drop + [\"2dm_id (unitless)\", \"formula\", \"exfoliation_energy_per_atom (eV/atom)\", \"kmeans_cluster\"])"
   ]
  },
  {
   "cell_type": "code",
   "execution_count": 15,
   "id": "ad66f873-f49c-4bfc-86c4-619196caad0d",
   "metadata": {},
   "outputs": [
    {
     "data": {
      "text/plain": [
       "16      0.068460\n",
       "19      0.084083\n",
       "65      0.076151\n",
       "75      0.072669\n",
       "84      0.090944\n",
       "          ...   \n",
       "5826    0.081285\n",
       "5909    0.097514\n",
       "5911    0.123656\n",
       "5936    0.139282\n",
       "5967    0.060445\n",
       "Name: exfoliation_energy_per_atom (eV/atom), Length: 387, dtype: float64"
      ]
     },
     "execution_count": 15,
     "metadata": {},
     "output_type": "execute_result"
    }
   ],
   "source": [
    "df[]"
   ]
  },
  {
   "cell_type": "code",
   "execution_count": null,
   "id": "5df18e67-1e35-4a11-a922-82f341722e34",
   "metadata": {},
   "outputs": [],
   "source": []
  }
 ],
 "metadata": {
  "kernelspec": {
   "display_name": "Python 3 (ipykernel)",
   "language": "python",
   "name": "python3"
  },
  "language_info": {
   "codemirror_mode": {
    "name": "ipython",
    "version": 3
   },
   "file_extension": ".py",
   "mimetype": "text/x-python",
   "name": "python",
   "nbconvert_exporter": "python",
   "pygments_lexer": "ipython3",
   "version": "3.9.5"
  }
 },
 "nbformat": 4,
 "nbformat_minor": 5
}
