{
 "cells": [
  {
   "cell_type": "code",
   "execution_count": 1,
   "id": "6dfec466-8628-4958-a1d4-3ed9129d65cb",
   "metadata": {},
   "outputs": [],
   "source": [
    "import collections\n",
    "import random\n",
    "import warnings\n",
    "\n",
    "import matplotlib.pyplot as plt\n",
    "import numpy as np\n",
    "import tqdm\n",
    "import matminer\n",
    "import pymatgen.core.composition\n",
    "import pymatgen.io.ase\n",
    "from pymatgen.analysis.local_env import JmolNN\n",
    "\n",
    "from matminer.featurizers.base import MultipleFeaturizer\n",
    "from matminer.featurizers.structure.misc import EwaldEnergy\n",
    "from matminer.featurizers.structure.order import StructuralComplexity\n",
    "from matminer.featurizers.structure.symmetry import GlobalSymmetryFeatures\n",
    "from matminer.featurizers.structure.bonding import GlobalInstabilityIndex\n",
    "from matminer.featurizers.site.bonding import AverageBondLength\n",
    "\n",
    "import pandas as pd\n",
    "import swifter\n",
    "\n",
    "RANDOM_SEED = 1234\n",
    "\n",
    "pd.options.mode.chained_assignment = None\n",
    "tqdm.tqdm.pandas()\n",
    "random.seed(RANDOM_SEED)\n",
    "np.random.seed(RANDOM_SEED)"
   ]
  },
  {
   "cell_type": "markdown",
   "id": "bce4c852-c197-41c5-8d79-f75f85842c35",
   "metadata": {},
   "source": [
    "# Data Cleaning"
   ]
  },
  {
   "cell_type": "code",
   "execution_count": 93,
   "id": "d3baae51-8b02-4d15-9f6b-1e437973528a",
   "metadata": {},
   "outputs": [
    {
     "name": "stdout",
     "output_type": "stream",
     "text": [
      "Starting with 6351 entries. Includes top-down and bottom-up.\n",
      "Discarding 5606 entries predicted to decompose (Decomp energy != 0). Total is now 745.\n",
      "Discarding 135 entries in the f-block, or synthetics. Total is now 610.\n",
      "Discarding 124 entries that are metallic. Total is now 486.\n",
      "Discarding 25 entries that have U-corrections applied (metal oxides/fluorides). Total is now 461.\n",
      "Discarding 74 entries outside 0.0 < exfoliation energy <= 0.2. Total is now 387.\n"
     ]
    },
    {
     "data": {
      "text/html": [
       "<div>\n",
       "<style scoped>\n",
       "    .dataframe tbody tr th:only-of-type {\n",
       "        vertical-align: middle;\n",
       "    }\n",
       "\n",
       "    .dataframe tbody tr th {\n",
       "        vertical-align: top;\n",
       "    }\n",
       "\n",
       "    .dataframe thead th {\n",
       "        text-align: right;\n",
       "    }\n",
       "</style>\n",
       "<table border=\"1\" class=\"dataframe\">\n",
       "  <thead>\n",
       "    <tr style=\"text-align: right;\">\n",
       "      <th></th>\n",
       "      <th>2dm_id (unitless)</th>\n",
       "      <th>formula</th>\n",
       "      <th>discovery_process (unitless)</th>\n",
       "      <th>atoms_object (unitless)</th>\n",
       "      <th>potcars (unitless)</th>\n",
       "      <th>is_hubbard (unitless)</th>\n",
       "      <th>energy_per_atom (eV)</th>\n",
       "      <th>decomposition_energy (eV/atom)</th>\n",
       "      <th>exfoliation_energy_per_atom (eV/atom)</th>\n",
       "      <th>energy_vdw_per_atom (eV/atom)</th>\n",
       "      <th>...</th>\n",
       "      <th>min:num_s_valence</th>\n",
       "      <th>min:period</th>\n",
       "      <th>min:specific_heat</th>\n",
       "      <th>min:thermal_conductivity</th>\n",
       "      <th>min:vdw_radius</th>\n",
       "      <th>min:vdw_radius_alvarez</th>\n",
       "      <th>min:vdw_radius_mm3</th>\n",
       "      <th>min:vdw_radius_uff</th>\n",
       "      <th>min:sound_velocity</th>\n",
       "      <th>min:Polarizability</th>\n",
       "    </tr>\n",
       "  </thead>\n",
       "  <tbody>\n",
       "    <tr>\n",
       "      <th>3961</th>\n",
       "      <td>2dm-3972</td>\n",
       "      <td>NbTlBr4O</td>\n",
       "      <td>top-down</td>\n",
       "      <td>(Atom('Nb', [1.8144819313816958, 3.87564094000...</td>\n",
       "      <td>[PAW_PBE Nb_pv 08Apr2002, PAW_PBE Tl_d 06Sep20...</td>\n",
       "      <td>False</td>\n",
       "      <td>-4.652918</td>\n",
       "      <td>0.0</td>\n",
       "      <td>0.083385</td>\n",
       "      <td>-3.842165</td>\n",
       "      <td>...</td>\n",
       "      <td>1.0</td>\n",
       "      <td>2.0</td>\n",
       "      <td>0.128</td>\n",
       "      <td>0.02658</td>\n",
       "      <td>152.0</td>\n",
       "      <td>150.0</td>\n",
       "      <td>182.0</td>\n",
       "      <td>316.5</td>\n",
       "      <td>317.5</td>\n",
       "      <td>0.802</td>\n",
       "    </tr>\n",
       "    <tr>\n",
       "      <th>4346</th>\n",
       "      <td>2dm-4357</td>\n",
       "      <td>SnTiO3</td>\n",
       "      <td>top-down</td>\n",
       "      <td>(Atom('Ti', [2.5559402440572, 1.47567266765919...</td>\n",
       "      <td>[PAW_PBE Ti_pv 07Sep2000, PAW_PBE Sn_d 06Sep20...</td>\n",
       "      <td>False</td>\n",
       "      <td>-7.695223</td>\n",
       "      <td>0.0</td>\n",
       "      <td>0.033226</td>\n",
       "      <td>-6.626305</td>\n",
       "      <td>...</td>\n",
       "      <td>2.0</td>\n",
       "      <td>2.0</td>\n",
       "      <td>0.222</td>\n",
       "      <td>0.02658</td>\n",
       "      <td>152.0</td>\n",
       "      <td>150.0</td>\n",
       "      <td>182.0</td>\n",
       "      <td>317.5</td>\n",
       "      <td>317.5</td>\n",
       "      <td>0.802</td>\n",
       "    </tr>\n",
       "    <tr>\n",
       "      <th>5334</th>\n",
       "      <td>2dm-5345</td>\n",
       "      <td>Ta2CS2</td>\n",
       "      <td>top-down</td>\n",
       "      <td>(Atom('Ta', [3.29160515246842, 1.9004092502041...</td>\n",
       "      <td>[PAW_PBE Ta_pv 07Sep2000, PAW_PBE C 08Apr2002,...</td>\n",
       "      <td>False</td>\n",
       "      <td>-9.171035</td>\n",
       "      <td>0.0</td>\n",
       "      <td>0.042738</td>\n",
       "      <td>-8.521825</td>\n",
       "      <td>...</td>\n",
       "      <td>2.0</td>\n",
       "      <td>2.0</td>\n",
       "      <td>0.140</td>\n",
       "      <td>0.20500</td>\n",
       "      <td>170.0</td>\n",
       "      <td>177.0</td>\n",
       "      <td>204.0</td>\n",
       "      <td>317.0</td>\n",
       "      <td>3400.0</td>\n",
       "      <td>1.670</td>\n",
       "    </tr>\n",
       "  </tbody>\n",
       "</table>\n",
       "<p>3 rows × 304 columns</p>\n",
       "</div>"
      ],
      "text/plain": [
       "     2dm_id (unitless)   formula discovery_process (unitless)  \\\n",
       "3961          2dm-3972  NbTlBr4O                     top-down   \n",
       "4346          2dm-4357    SnTiO3                     top-down   \n",
       "5334          2dm-5345    Ta2CS2                     top-down   \n",
       "\n",
       "                                atoms_object (unitless)  \\\n",
       "3961  (Atom('Nb', [1.8144819313816958, 3.87564094000...   \n",
       "4346  (Atom('Ti', [2.5559402440572, 1.47567266765919...   \n",
       "5334  (Atom('Ta', [3.29160515246842, 1.9004092502041...   \n",
       "\n",
       "                                     potcars (unitless)  \\\n",
       "3961  [PAW_PBE Nb_pv 08Apr2002, PAW_PBE Tl_d 06Sep20...   \n",
       "4346  [PAW_PBE Ti_pv 07Sep2000, PAW_PBE Sn_d 06Sep20...   \n",
       "5334  [PAW_PBE Ta_pv 07Sep2000, PAW_PBE C 08Apr2002,...   \n",
       "\n",
       "      is_hubbard (unitless)  energy_per_atom (eV)  \\\n",
       "3961                  False             -4.652918   \n",
       "4346                  False             -7.695223   \n",
       "5334                  False             -9.171035   \n",
       "\n",
       "      decomposition_energy (eV/atom)  exfoliation_energy_per_atom (eV/atom)  \\\n",
       "3961                             0.0                               0.083385   \n",
       "4346                             0.0                               0.033226   \n",
       "5334                             0.0                               0.042738   \n",
       "\n",
       "      energy_vdw_per_atom (eV/atom)  ...  min:num_s_valence  min:period  \\\n",
       "3961                      -3.842165  ...                1.0         2.0   \n",
       "4346                      -6.626305  ...                2.0         2.0   \n",
       "5334                      -8.521825  ...                2.0         2.0   \n",
       "\n",
       "      min:specific_heat min:thermal_conductivity  min:vdw_radius  \\\n",
       "3961              0.128                  0.02658           152.0   \n",
       "4346              0.222                  0.02658           152.0   \n",
       "5334              0.140                  0.20500           170.0   \n",
       "\n",
       "      min:vdw_radius_alvarez  min:vdw_radius_mm3  min:vdw_radius_uff  \\\n",
       "3961                   150.0               182.0               316.5   \n",
       "4346                   150.0               182.0               317.5   \n",
       "5334                   177.0               204.0               317.0   \n",
       "\n",
       "      min:sound_velocity  min:Polarizability  \n",
       "3961               317.5               0.802  \n",
       "4346               317.5               0.802  \n",
       "5334              3400.0               1.670  \n",
       "\n",
       "[3 rows x 304 columns]"
      ]
     },
     "execution_count": 93,
     "metadata": {},
     "output_type": "execute_result"
    }
   ],
   "source": [
    "df = pd.read_pickle(\"../raw_data/2d_mat_dataset_raw.pkl\")\n",
    "total = len(df)\n",
    "print(f\"Starting with {total} entries. Includes top-down and bottom-up.\")\n",
    "      \n",
    "# Throw out systems that are predicted to decompose\n",
    "df = df[df[\"decomposition_energy (eV/atom)\"] == 0]\n",
    "print(f\"Discarding {total-len(df)} entries predicted to decompose (Decomp energy != 0). Total is now {len(df)}.\")\n",
    "total = len(df)\n",
    "\n",
    "# Remove systems containing f-block / synthetic elements\n",
    "fblock_and_synth = [\"La\", \"Ce\", \"Pr\", \"Nd\", \"Pm\", \"Sm\", \"Eu\", \"Gd\", \"Tb\", \"Dy\", \"Ho\", \"Er\", \"Tm\", \"Yb\", \"Lu\",\n",
    "                    \"Ac\", \"Th\", \"Pa\", \"U\", \"Np\", \"Pu\", \"Am\", \"Cm\", \"Bk\", \"Cf\", \"Es\", \"Fm\", \"Md\", \"No\", \"Lr\",\n",
    "                    \"Rf\", \"Db\", \"Sg\", \"Bh\", \"Hs\", \"Mt\", \"Ds\", \"Tg\", \"Cn\", \"Nh\", \"Fl\", \"Mc\", \"Mc\", \"Lv\", \"Ts\", \"Og\"]\n",
    "df = df[df[\"atoms_object (unitless)\"].apply(\n",
    "           lambda atoms: all(symbol not in fblock_and_synth for symbol in atoms.get_chemical_symbols()))\n",
    "       ]\n",
    "print(f\"Discarding {total - len(df)} entries in the f-block, or synthetics. Total is now {len(df)}.\")\n",
    "total = len(df)\n",
    "\n",
    "# Discard metallic systems\n",
    "df = df[df[\"bandgap (eV)\"] > 0]\n",
    "print(f\"Discarding {total - len(df)} entries that are metallic. Total is now {len(df)}.\")\n",
    "total = len(df)\n",
    "\n",
    "# To keep the methodology consistent, discard systems where a U-correction was applied\n",
    "df = df[df[\"is_hubbard (unitless)\"] == False]\n",
    "print(f\"Discarding {total - len(df)} entries that have U-corrections applied (metal oxides/fluorides). Total is now {len(df)}.\")\n",
    "total = len(df)\n",
    "\n",
    "# Throw out systems based on exfoliation energy\n",
    "min_exfol = 0.0\n",
    "max_exfol = 0.2\n",
    "df = df[df[\"exfoliation_energy_per_atom (eV/atom)\"].apply(lambda exfol: min_exfol < exfol <= max_exfol)]\n",
    "print(f\"Discarding {total - len(df)} entries outside {np.round(min_exfol,3)} < exfoliation energy <= {np.round(max_exfol,3)}. \"\n",
    "      f\"Total is now {len(df)}.\")\n",
    "\n",
    "def is_MAX_structure(atoms):\n",
    "    formula = set(atoms.get_chemical_symbols())\n",
    "    \n",
    "    m_symbols = ['Sc', 'Ti', 'V', 'Cr',\n",
    "                 'Y', 'Zr', 'Nb', 'Mo',\n",
    "                 'Hf', 'Ta', 'W']\n",
    "    a_symbols = ['Al', 'Si', 'P,', 'S',\n",
    "                 'Zn', 'Ga', 'Ge', 'As', 'Se',\n",
    "                 'Cd', 'In', 'Sn', 'Sb', 'Te',\n",
    "                 'Hg', 'Tl', 'Pb', 'Bi', 'Po']\n",
    "    x_symbols = ['C', 'N', 'O']\n",
    "    \n",
    "    has_m = any(symbol in m_symbols for symbol in formula)\n",
    "    has_a = any(symbol in a_symbols for symbol in formula)\n",
    "    has_x = any(symbol in x_symbols for symbol in formula)\n",
    "    \n",
    "    return has_m and has_a and has_x\n",
    "\n",
    "df[df[\"atoms_object (unitless)\"].apply(lambda atoms: is_MAX_structure(atoms))]"
   ]
  },
  {
   "cell_type": "markdown",
   "id": "fa50e28d-a675-4893-bf57-c281db0c4a31",
   "metadata": {},
   "source": [
    "# Featurization"
   ]
  },
  {
   "cell_type": "code",
   "execution_count": 18,
   "id": "b09c70bf-1d08-4d58-96d2-468438771008",
   "metadata": {},
   "outputs": [
    {
     "data": {
      "application/vnd.jupyter.widget-view+json": {
       "model_id": "7bf1371fc64548fba3e61639673baaa7",
       "version_major": 2,
       "version_minor": 0
      },
      "text/plain": [
       "Pandas Apply:   0%|          | 0/92 [00:00<?, ?it/s]"
      ]
     },
     "metadata": {},
     "output_type": "display_data"
    },
    {
     "data": {
      "text/plain": [
       "2979    None\n",
       "2983    None\n",
       "3009    None\n",
       "3031    None\n",
       "3032    None\n",
       "        ... \n",
       "5971    None\n",
       "5972    None\n",
       "5973    None\n",
       "5974    None\n",
       "5975    None\n",
       "Name: ox_struct, Length: 92, dtype: object"
      ]
     },
     "execution_count": 18,
     "metadata": {},
     "output_type": "execute_result"
    }
   ],
   "source": [
    "structures = df['atoms_object (unitless)'].apply(pymatgen.io.ase.AseAtomsAdaptor.get_structure)\n",
    "df['ox_struct'] = structures.apply(lambda i: i.copy())\n",
    "\n",
    "# struct.add_oxidation_state_by_guess() modifies the structure in-place\n",
    "df.ox_struct.swifter.apply(lambda struct: struct.add_oxidation_state_by_guess())"
   ]
  },
  {
   "cell_type": "code",
   "execution_count": 19,
   "id": "dc236419-d616-4758-ae8d-6c31c37242c7",
   "metadata": {},
   "outputs": [
    {
     "data": {
      "application/vnd.jupyter.widget-view+json": {
       "model_id": "ce8180f2ec3e4b969fca1e87e6767d05",
       "version_major": 2,
       "version_minor": 0
      },
      "text/plain": [
       "MultipleFeaturizer:   0%|          | 0/92 [00:00<?, ?it/s]"
      ]
     },
     "metadata": {},
     "output_type": "display_data"
    }
   ],
   "source": [
    "struct_features = MultipleFeaturizer([\n",
    "    EwaldEnergy(),\n",
    "    StructuralComplexity(),\n",
    "    GlobalSymmetryFeatures('n_symmetry_ops'),\n",
    "])\n",
    "df[struct_features.feature_labels()] = struct_features.featurize_many(df.ox_struct).copy()"
   ]
  },
  {
   "cell_type": "code",
   "execution_count": 20,
   "id": "7e762cc9-6766-461c-9b3e-59274b69ba15",
   "metadata": {},
   "outputs": [
    {
     "data": {
      "application/vnd.jupyter.widget-view+json": {
       "model_id": "64052966a6714bf7900ef1d2339bd4ad",
       "version_major": 2,
       "version_minor": 0
      },
      "text/plain": [
       "Pandas Apply:   0%|          | 0/92 [00:00<?, ?it/s]"
      ]
     },
     "metadata": {},
     "output_type": "display_data"
    }
   ],
   "source": [
    "desc = GlobalInstabilityIndex()\n",
    "\n",
    "def maybe_global_instability(struct):\n",
    "    try:\n",
    "        return desc.featurize(struct)[0]\n",
    "    except:\n",
    "        return None\n",
    "\n",
    "with warnings.catch_warnings():\n",
    "    warnings.simplefilter('ignore')\n",
    "    df['global_instability'] = df.ox_struct.swifter.apply(maybe_global_instability).copy()"
   ]
  },
  {
   "cell_type": "code",
   "execution_count": 21,
   "id": "9a16a818-bc1f-4e8c-b656-507eb9fa45cc",
   "metadata": {},
   "outputs": [
    {
     "data": {
      "application/vnd.jupyter.widget-view+json": {
       "model_id": "4d7b88514ed446628b968577ef4c835f",
       "version_major": 2,
       "version_minor": 0
      },
      "text/plain": [
       "Pandas Apply:   0%|          | 0/92 [00:00<?, ?it/s]"
      ]
     },
     "metadata": {},
     "output_type": "display_data"
    }
   ],
   "source": [
    "neighbor_finder = JmolNN()\n",
    "\n",
    "def average_bond_length(structure, featurizer = AverageBondLength(neighbor_finder)):\n",
    "    n_atoms = len(structure)\n",
    "    try:\n",
    "        lengths = map(lambda i: featurizer.featurize(structure, i)[0], range(n_atoms))\n",
    "        return sum(lengths) / n_atoms\n",
    "    except IndexError:\n",
    "        return None\n",
    "\n",
    "df['bond_length_average'] = df.ox_struct.swifter.apply(average_bond_length).copy()"
   ]
  },
  {
   "cell_type": "code",
   "execution_count": 22,
   "id": "017758aa-b7e3-4963-9b1a-6dc7d3ad425c",
   "metadata": {},
   "outputs": [
    {
     "data": {
      "application/vnd.jupyter.widget-view+json": {
       "model_id": "143ff99c31b0427fb00db36034060944",
       "version_major": 2,
       "version_minor": 0
      },
      "text/plain": [
       "Pandas Apply:   0%|          | 0/92 [00:00<?, ?it/s]"
      ]
     },
     "metadata": {},
     "output_type": "display_data"
    },
    {
     "name": "stderr",
     "output_type": "stream",
     "text": [
      "/Users/mat3ra/sisso_collab/.env/lib/python3.9/site-packages/matminer/featurizers/site/bonding.py:250: RuntimeWarning: All-NaN slice encountered\n",
      "  minimum_bond_angles = np.nanmin(bond_angles, axis=1)\n"
     ]
    }
   ],
   "source": [
    "from matminer.featurizers.site.bonding import AverageBondAngle\n",
    "\n",
    "def average_bond_angle(structure, featurizer = AverageBondAngle(neighbor_finder)):\n",
    "    n_atoms = len(structure)\n",
    "    try:\n",
    "        angles = map(lambda i: featurizer.featurize(structure, i)[0], range(n_atoms))\n",
    "        return sum(angles) / n_atoms\n",
    "    except IndexError:\n",
    "        return None\n",
    "df['bond_angle_average'] = df.ox_struct.swifter.apply(average_bond_angle).copy()"
   ]
  },
  {
   "cell_type": "code",
   "execution_count": 23,
   "id": "1edc4f8c-4c2b-45ee-ba4e-1e70b7210664",
   "metadata": {},
   "outputs": [
    {
     "data": {
      "application/vnd.jupyter.widget-view+json": {
       "model_id": "336d86591baa4a06906ced91c4fafb02",
       "version_major": 2,
       "version_minor": 0
      },
      "text/plain": [
       "Pandas Apply:   0%|          | 0/92 [00:00<?, ?it/s]"
      ]
     },
     "metadata": {},
     "output_type": "display_data"
    }
   ],
   "source": [
    "def average_cn(structure, neighbor_finder = neighbor_finder):\n",
    "    n_atoms = len(structure)\n",
    "    cns = map(lambda i: neighbor_finder.get_cn(structure, i), range(n_atoms))\n",
    "    return sum(cns) / n_atoms\n",
    "df['average_cn'] = df.ox_struct.swifter.apply(average_cn).copy()"
   ]
  },
  {
   "cell_type": "code",
   "execution_count": 24,
   "id": "c2b02384-cc88-4288-91eb-3e08e97a4e4e",
   "metadata": {},
   "outputs": [
    {
     "data": {
      "application/vnd.jupyter.widget-view+json": {
       "model_id": "243e549bc1974a1badbe812124c620d3",
       "version_major": 2,
       "version_minor": 0
      },
      "text/plain": [
       "Pandas Apply:   0%|          | 0/92 [00:00<?, ?it/s]"
      ]
     },
     "metadata": {},
     "output_type": "display_data"
    }
   ],
   "source": [
    "def ab_perimeter_area_ratio(structure):\n",
    "    a, b, c = structure.lattice.matrix\n",
    "    perimeter = 2*np.linalg.norm(a) + 2*np.linalg.norm(b)\n",
    "    area = np.linalg.norm(np.cross(a,b))\n",
    "    return perimeter / area\n",
    "df['perimeter_area_ratio'] = df.ox_struct.swifter.apply(ab_perimeter_area_ratio).copy()"
   ]
  },
  {
   "cell_type": "code",
   "execution_count": 25,
   "id": "95bb1765-9ae4-4a1a-ae64-70f4a5e639fb",
   "metadata": {},
   "outputs": [
    {
     "data": {
      "application/vnd.jupyter.widget-view+json": {
       "model_id": "e30d90d061dc410488f664212e3c506b",
       "version_major": 2,
       "version_minor": 0
      },
      "text/plain": [
       "Pandas Apply:   0%|          | 0/92 [00:00<?, ?it/s]"
      ]
     },
     "metadata": {},
     "output_type": "display_data"
    }
   ],
   "source": [
    "df[\"formula\"] = df[\"atoms_object (unitless)\"].swifter.apply(lambda atoms: atoms.get_chemical_formula(empirical=True))"
   ]
  },
  {
   "cell_type": "code",
   "execution_count": 26,
   "id": "98f2eefb-309e-45bf-943f-0f50ecefc628",
   "metadata": {},
   "outputs": [],
   "source": [
    "#df.to_pickle(\"all_descriptors.pkl\")\n",
    "\n",
    "object_cols = [\"atoms_object (unitless)\",\n",
    "               \"ox_struct\"]\n",
    "\n",
    "regression_irrelevant = object_cols + [\n",
    "    'discovery_process (unitless)',\n",
    "    'potcars (unitless)',\n",
    "    'is_hubbard (unitless)',\n",
    "    'energy_per_atom (eV)',\n",
    "    'decomposition_energy (eV/atom)',\n",
    "    'is_bandgap_direct (unitless)',\n",
    "    'is_metal (unitless)',\n",
    "    'energy_vdw_per_atom (eV/atom)',\n",
    "    'total_magnetization (Bohr Magneton)']\n",
    "\n",
    "#df.drop(columns=object_cols).to_csv(\"both_extra_descriptors.csv\")"
   ]
  },
  {
   "cell_type": "markdown",
   "id": "8018a491-329d-42a4-833b-06f0c11c5cd2",
   "metadata": {},
   "source": [
    "# Chemical Info"
   ]
  },
  {
   "cell_type": "code",
   "execution_count": 12,
   "id": "d512b7c6-46ec-422d-ada1-f21749ce2ecf",
   "metadata": {},
   "outputs": [
    {
     "data": {
      "application/vnd.jupyter.widget-view+json": {
       "model_id": "3fd947aae0b04cfa8c78f978a9d78262",
       "version_major": 2,
       "version_minor": 0
      },
      "text/plain": [
       "Pandas Apply:   0%|          | 0/387 [00:00<?, ?it/s]"
      ]
     },
     "metadata": {},
     "output_type": "display_data"
    },
    {
     "data": {
      "application/vnd.jupyter.widget-view+json": {
       "model_id": "c1f61cc298cb443db12dac617e250344",
       "version_major": 2,
       "version_minor": 0
      },
      "text/plain": [
       "Pandas Apply:   0%|          | 0/387 [00:00<?, ?it/s]"
      ]
     },
     "metadata": {},
     "output_type": "display_data"
    },
    {
     "data": {
      "application/vnd.jupyter.widget-view+json": {
       "model_id": "a287589c99884089a893b88fc67bb9b8",
       "version_major": 2,
       "version_minor": 0
      },
      "text/plain": [
       "Pandas Apply:   0%|          | 0/387 [00:00<?, ?it/s]"
      ]
     },
     "metadata": {},
     "output_type": "display_data"
    },
    {
     "data": {
      "application/vnd.jupyter.widget-view+json": {
       "model_id": "5df87c42b4744d3b8aff38397165d9a3",
       "version_major": 2,
       "version_minor": 0
      },
      "text/plain": [
       "Pandas Apply:   0%|          | 0/387 [00:00<?, ?it/s]"
      ]
     },
     "metadata": {},
     "output_type": "display_data"
    },
    {
     "data": {
      "application/vnd.jupyter.widget-view+json": {
       "model_id": "dd16fc9638ba4216b7b1a2b51b7498d0",
       "version_major": 2,
       "version_minor": 0
      },
      "text/plain": [
       "Pandas Apply:   0%|          | 0/387 [00:00<?, ?it/s]"
      ]
     },
     "metadata": {},
     "output_type": "display_data"
    },
    {
     "data": {
      "application/vnd.jupyter.widget-view+json": {
       "model_id": "cf3f4939f95e49d5b389ed669a52441e",
       "version_major": 2,
       "version_minor": 0
      },
      "text/plain": [
       "Pandas Apply:   0%|          | 0/387 [00:00<?, ?it/s]"
      ]
     },
     "metadata": {},
     "output_type": "display_data"
    },
    {
     "data": {
      "application/vnd.jupyter.widget-view+json": {
       "model_id": "5988e6a4d6d24cc293d8d7b8b7b90f1a",
       "version_major": 2,
       "version_minor": 0
      },
      "text/plain": [
       "Pandas Apply:   0%|          | 0/387 [00:00<?, ?it/s]"
      ]
     },
     "metadata": {},
     "output_type": "display_data"
    },
    {
     "data": {
      "application/vnd.jupyter.widget-view+json": {
       "model_id": "f70f944bc82a4330a04ae8ff928c81c5",
       "version_major": 2,
       "version_minor": 0
      },
      "text/plain": [
       "Pandas Apply:   0%|          | 0/387 [00:00<?, ?it/s]"
      ]
     },
     "metadata": {},
     "output_type": "display_data"
    }
   ],
   "source": [
    "for allowed_symbols, set_name in [\n",
    "    [[\"N\"], \"nitrides\"],\n",
    "    [[\"O\"], \"oxides\"],\n",
    "    [[\"S\"], \"sulfides\"],\n",
    "    [[\"C\"], \"carbides\"],\n",
    "    [[\"F\", \"Cl\", \"Br\", \"Cl\"], \"halides\"],\n",
    "    [[\"O\", \"S\", \"Se\", \"Te\"], \"chalcogens\"],\n",
    "    [[\"N\", \"O\", \"As\", \"Sb\"], \"pnictogens\"],\n",
    "    [[\"Al\", \"Ga\", \"Ge\", \"In\", \"Sn\", \"Sb\", \"Tl\", \"Pb\", \"Bi\", \"Po\"], \"pBlockMetals\"]\n",
    "]:\n",
    "    fun = lambda atoms: any(symbol in allowed_symbols for symbol in atoms.get_chemical_symbols())\n",
    "    filtered = df[df[\"atoms_object (unitless)\"].swifter.apply(fun)]\n",
    "    filtered.drop(columns=object_cols).to_csv(f\"both_{set_name}Only.csv\")"
   ]
  },
  {
   "cell_type": "code",
   "execution_count": 13,
   "id": "dea736c5-b2ea-43a8-ba19-c4f113c61f74",
   "metadata": {},
   "outputs": [
    {
     "data": {
      "application/vnd.jupyter.widget-view+json": {
       "model_id": "28c53928ba3f45c58ec1aecfacfcc245",
       "version_major": 2,
       "version_minor": 0
      },
      "text/plain": [
       "Pandas Apply:   0%|          | 0/387 [00:00<?, ?it/s]"
      ]
     },
     "metadata": {},
     "output_type": "display_data"
    },
    {
     "data": {
      "application/vnd.jupyter.widget-view+json": {
       "model_id": "d62dc9de096d45d89d64fb0deec4ba44",
       "version_major": 2,
       "version_minor": 0
      },
      "text/plain": [
       "Pandas Apply:   0%|          | 0/387 [00:00<?, ?it/s]"
      ]
     },
     "metadata": {},
     "output_type": "display_data"
    },
    {
     "data": {
      "application/vnd.jupyter.widget-view+json": {
       "model_id": "33fa19be38df472bbe4e99f4fbdeb733",
       "version_major": 2,
       "version_minor": 0
      },
      "text/plain": [
       "Pandas Apply:   0%|          | 0/387 [00:00<?, ?it/s]"
      ]
     },
     "metadata": {},
     "output_type": "display_data"
    }
   ],
   "source": [
    "# Based on https://en.wikipedia.org/wiki/Wide-bandgap_semiconductor and https://www.kymatech.com/about/faqs/429-what-is-an-ultra-wide-bandgap-semiconductor-material\n",
    "df[df[\"bandgap (eV)\"].swifter.apply(lambda bg: 0 < bg < 2)].drop(columns=object_cols).to_csv(\"both_conventionalSemiconductorsOnly.csv\")\n",
    "df[df[\"bandgap (eV)\"].swifter.apply(lambda bg: 2 <= bg <= 3.4)].drop(columns=object_cols).to_csv(\"both_WBGOnly.csv\")\n",
    "df[df[\"bandgap (eV)\"].swifter.apply(lambda bg: 3.4 < bg < 10)].drop(columns=object_cols).to_csv(\"both_UWBGOnly.csv\")"
   ]
  },
  {
   "cell_type": "code",
   "execution_count": null,
   "id": "2da94fc1-2f3b-4697-8589-8cc94f72d958",
   "metadata": {},
   "outputs": [],
   "source": []
  },
  {
   "cell_type": "code",
   "execution_count": null,
   "id": "d6613a42-b124-425d-9d78-2f4c9c849c05",
   "metadata": {},
   "outputs": [],
   "source": []
  },
  {
   "cell_type": "code",
   "execution_count": null,
   "id": "f2467099-fdf8-44c8-8af6-f0f8c4627639",
   "metadata": {},
   "outputs": [],
   "source": []
  },
  {
   "cell_type": "code",
   "execution_count": null,
   "id": "feaed6c4-0ddf-400f-adfc-50971f8bc325",
   "metadata": {},
   "outputs": [],
   "source": []
  },
  {
   "cell_type": "code",
   "execution_count": null,
   "id": "3a7dfc0c-641b-4401-bb46-6cde9a863172",
   "metadata": {},
   "outputs": [],
   "source": []
  },
  {
   "cell_type": "code",
   "execution_count": null,
   "id": "9bba2776-e2f6-4813-8db8-366daf75d79d",
   "metadata": {},
   "outputs": [],
   "source": []
  },
  {
   "cell_type": "code",
   "execution_count": 80,
   "id": "2509244b-529b-4b23-a6b3-5a46809477fe",
   "metadata": {},
   "outputs": [],
   "source": [
    "import sklearn.model_selection\n",
    "import tpot\n",
    "\n",
    "data_train, data_test = sklearn.model_selection.train_test_split(df.drop(columns=regression_irrelevant + ['formula', '2dm_id (unitless)', 'exfoliation_energy_per_atom (eV/atom)']), test_size=0.25, random_state=RANDOM_SEED)\n",
    "train_x = data_train.drop(columns=\"bandgap (eV)\").to_numpy().astype(np.float64)\n",
    "train_y = data_train[\"bandgap (eV)\"].dropna().to_numpy()\n",
    "\n",
    "test_x = data_test.drop(columns=\"bandgap (eV)\").to_numpy().astype(np.float64)\n",
    "test_y = data_test[\"bandgap (eV)\"].to_numpy()"
   ]
  },
  {
   "cell_type": "code",
   "execution_count": 82,
   "id": "0111d3d7-063a-416d-89fe-78f6b06ae825",
   "metadata": {},
   "outputs": [
    {
     "name": "stdout",
     "output_type": "stream",
     "text": [
      "Imputing missing values in feature set\n"
     ]
    },
    {
     "data": {
      "application/vnd.jupyter.widget-view+json": {
       "model_id": "1f67b9d89b6d420b81c3d0ced97172f0",
       "version_major": 2,
       "version_minor": 0
      },
      "text/plain": [
       "Optimization Progress:   0%|          | 0/100 [00:00<?, ?pipeline/s]"
      ]
     },
     "metadata": {},
     "output_type": "display_data"
    },
    {
     "name": "stdout",
     "output_type": "stream",
     "text": [
      "\n",
      "Generation 1 - Current best internal CV score: -0.5448982894469013\n",
      "\n",
      "\n",
      "TPOT closed prematurely. Will use the current best pipeline.\n",
      "\n",
      "Best pipeline: DecisionTreeRegressor(input_matrix, max_depth=4, min_samples_leaf=15, min_samples_split=11)\n"
     ]
    },
    {
     "data": {
      "text/plain": [
       "TPOTRegressor(config_dict={'sklearn.cluster.FeatureAgglomeration': {'affinity': ['euclidean',\n",
       "                                                                                 'l1',\n",
       "                                                                                 'l2',\n",
       "                                                                                 'manhattan',\n",
       "                                                                                 'cosine'],\n",
       "                                                                    'linkage': ['ward',\n",
       "                                                                                'complete',\n",
       "                                                                                'average']},\n",
       "                           'sklearn.decomposition.FastICA': {'tol': array([0.  , 0.05, 0.1 , 0.15, 0.2 , 0.25, 0.3 , 0.35, 0.4 , 0.45, 0.5 ,\n",
       "       0.55, 0.6 , 0.65, 0.7 , 0.75, 0.8 , 0.85, 0.9 , 0.95, 1.  ])},\n",
       "                           'sklearn.decomposition.PCA': {'iterated_power'...\n",
       "                                                    'min_child_weight': range(1, 21),\n",
       "                                                    'n_estimators': [100],\n",
       "                                                    'n_jobs': [1],\n",
       "                                                    'objective': ['reg:squarederror'],\n",
       "                                                    'subsample': array([0.05, 0.1 , 0.15, 0.2 , 0.25, 0.3 , 0.35, 0.4 , 0.45, 0.5 , 0.55,\n",
       "       0.6 , 0.65, 0.7 , 0.75, 0.8 , 0.85, 0.9 , 0.95, 1.  ]),\n",
       "                                                    'verbosity': [0]}},\n",
       "              generations=1000000, max_eval_time_mins=0.16666666666666666,\n",
       "              max_time_mins=20, n_jobs=4, random_state=1234,\n",
       "              scoring='neg_mean_squared_error', verbosity=2)"
      ]
     },
     "execution_count": 82,
     "metadata": {},
     "output_type": "execute_result"
    }
   ],
   "source": [
    "model = tpot.TPOTRegressor(\n",
    "    generations=None,\n",
    "    population_size=100,\n",
    "    max_eval_time_mins=10/60,\n",
    "    max_time_mins=20,\n",
    "    cv=5,\n",
    "    verbosity=2,\n",
    "    scoring=\"neg_mean_squared_error\",\n",
    "    config_dict=tpot.config.regressor_config_dict,\n",
    "    n_jobs=4,\n",
    "    random_state=RANDOM_SEED\n",
    ")\n",
    "model.fit(features=train_x, target=train_y)"
   ]
  },
  {
   "cell_type": "code",
   "execution_count": 83,
   "id": "11bcc636-a4e0-47a3-ad2b-eb0d63e2a646",
   "metadata": {},
   "outputs": [
    {
     "name": "stdout",
     "output_type": "stream",
     "text": [
      "Imputing missing values in feature set\n",
      "Imputing missing values in feature set\n"
     ]
    },
    {
     "data": {
      "text/plain": [
       "<matplotlib.legend.Legend at 0x155e60b20>"
      ]
     },
     "execution_count": 83,
     "metadata": {},
     "output_type": "execute_result"
    },
    {
     "data": {
      "image/png": "[encoded data removed]",
      "text/plain": [
       "<Figure size 432x288 with 1 Axes>"
      ]
     },
     "metadata": {
      "needs_background": "light"
     },
     "output_type": "display_data"
    }
   ],
   "source": [
    "train_y_pred = model.predict(train_x)\n",
    "test_y_pred = model.predict(test_x)\n",
    "\n",
    "plt.scatter(x=train_y_pred, y=train_y, label=\"Train Set\")\n",
    "plt.scatter(x=test_y_pred, y=test_y, label=\"Test Set\")\n",
    "plt.plot([0,8], [0,8], label=\"Parity\")\n",
    "plt.ylabel(\"Bandgap (Actual)\")\n",
    "plt.xlabel(\"Bandgap (Predicted)\")\n",
    "plt.legend()"
   ]
  },
  {
   "cell_type": "code",
   "execution_count": null,
   "id": "ee8fbff2-3169-494b-9b44-4c6a3a5fbcd7",
   "metadata": {},
   "outputs": [],
   "source": [
    "colmask = [\":\" not in i for i in df.columns]\n",
    "masked_df = df[df.columns[colmask]]\n",
    "masked_df.drop(columns=to_drop + [\"2dm_id (unitless)\", \"formula\", \"exfoliation_energy_per_atom (eV/atom)\", \"kmeans_cluster\"])"
   ]
  },
  {
   "cell_type": "code",
   "execution_count": 70,
   "id": "ad66f873-f49c-4bfc-86c4-619196caad0d",
   "metadata": {},
   "outputs": [
    {
     "data": {
      "text/plain": [
       "array([], shape=(0, 299), dtype=float64)"
      ]
     },
     "execution_count": 70,
     "metadata": {},
     "output_type": "execute_result"
    }
   ],
   "source": [
    "train_x"
   ]
  },
  {
   "cell_type": "code",
   "execution_count": 76,
   "id": "9a46bb6c-df74-4e99-9087-2d82fb909e71",
   "metadata": {},
   "outputs": [
    {
     "data": {
      "text/plain": [
       "array([], shape=(0, 299), dtype=float64)"
      ]
     },
     "execution_count": 76,
     "metadata": {},
     "output_type": "execute_result"
    }
   ],
   "source": [
    "train_x"
   ]
  },
  {
   "cell_type": "code",
   "execution_count": null,
   "id": "55104584-4781-452f-9e64-4776bfd468cf",
   "metadata": {},
   "outputs": [],
   "source": []
  }
 ],
 "metadata": {
  "kernelspec": {
   "display_name": "Python 3 (ipykernel)",
   "language": "python",
   "name": "python3"
  },
  "language_info": {
   "codemirror_mode": {
    "name": "ipython",
    "version": 3
   },
   "file_extension": ".py",
   "mimetype": "text/x-python",
   "name": "python",
   "nbconvert_exporter": "python",
   "pygments_lexer": "ipython3",
   "version": "3.8.6"
  }
 },
 "nbformat": 4,
 "nbformat_minor": 5
}
