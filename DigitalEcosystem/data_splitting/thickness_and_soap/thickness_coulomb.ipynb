{
 "cells": [
  {
   "cell_type": "code",
   "execution_count": 1,
   "id": "6dfec466-8628-4958-a1d4-3ed9129d65cb",
   "metadata": {},
   "outputs": [],
   "source": [
    "import collections\n",
    "import random\n",
    "import warnings\n",
    "\n",
    "import matplotlib.pyplot as plt\n",
    "import numpy as np\n",
    "import tqdm\n",
    "\n",
    "import ase.data\n",
    "import dscribe\n",
    "import matminer\n",
    "import pymatgen.core.composition\n",
    "import pymatgen.io.ase\n",
    "from pymatgen.analysis.local_env import JmolNN\n",
    "\n",
    "from matminer.featurizers.base import MultipleFeaturizer\n",
    "from matminer.featurizers.structure.misc import EwaldEnergy\n",
    "from matminer.featurizers.structure.order import StructuralComplexity\n",
    "from matminer.featurizers.structure.symmetry import GlobalSymmetryFeatures\n",
    "from matminer.featurizers.structure.bonding import GlobalInstabilityIndex\n",
    "from matminer.featurizers.site.bonding import AverageBondLength\n",
    "\n",
    "import pandas as pd\n",
    "import swifter\n",
    "\n",
    "RANDOM_SEED = 1234\n",
    "\n",
    "pd.options.mode.chained_assignment = None\n",
    "tqdm.tqdm.pandas()\n",
    "random.seed(RANDOM_SEED)\n",
    "np.random.seed(RANDOM_SEED)"
   ]
  },
  {
   "cell_type": "markdown",
   "id": "bce4c852-c197-41c5-8d79-f75f85842c35",
   "metadata": {},
   "source": [
    "# Data Cleaning"
   ]
  },
  {
   "cell_type": "code",
   "execution_count": 2,
   "id": "d3baae51-8b02-4d15-9f6b-1e437973528a",
   "metadata": {},
   "outputs": [
    {
     "name": "stdout",
     "output_type": "stream",
     "text": [
      "Starting with 6351 entries. Includes top-down and bottom-up.\n",
      "Discarding 5606 entries predicted to decompose (Decomp energy != 0). Total is now 745.\n",
      "Discarding 135 entries in the f-block, or synthetics. Total is now 610.\n",
      "Discarding 155 entries that are metallic. Total is now 455.\n",
      "Discarding 25 entries that have U-corrections applied (metal oxides/fluorides). Total is now 430.\n",
      "Discarding 131 bottom-up materials. Total is now 299.\n",
      "Discarding 38 entries outside 0.0 < exfoliation energy <= 0.2. Total is now 261.\n"
     ]
    }
   ],
   "source": [
    "df = pd.read_pickle(\"../../raw_data/2d_mat_dataset_raw.pkl\")\n",
    "total = len(df)\n",
    "print(f\"Starting with {total} entries. Includes top-down and bottom-up.\")\n",
    "      \n",
    "# Throw out systems that are predicted to decompose\n",
    "df = df[df[\"decomposition_energy (eV/atom)\"] == 0]\n",
    "print(f\"Discarding {total-len(df)} entries predicted to decompose (Decomp energy != 0). Total is now {len(df)}.\")\n",
    "total = len(df)\n",
    "\n",
    "# Remove systems containing f-block / synthetic elements\n",
    "fblock_and_synth = [\"La\", \"Ce\", \"Pr\", \"Nd\", \"Pm\", \"Sm\", \"Eu\", \"Gd\", \"Tb\", \"Dy\", \"Ho\", \"Er\", \"Tm\", \"Yb\", \"Lu\",\n",
    "                    \"Ac\", \"Th\", \"Pa\", \"U\", \"Np\", \"Pu\", \"Am\", \"Cm\", \"Bk\", \"Cf\", \"Es\", \"Fm\", \"Md\", \"No\", \"Lr\",\n",
    "                    \"Rf\", \"Db\", \"Sg\", \"Bh\", \"Hs\", \"Mt\", \"Ds\", \"Tg\", \"Cn\", \"Nh\", \"Fl\", \"Mc\", \"Mc\", \"Lv\", \"Ts\", \"Og\"]\n",
    "df = df[df[\"atoms_object (unitless)\"].apply(\n",
    "           lambda atoms: all(symbol not in fblock_and_synth for symbol in atoms.get_chemical_symbols()))\n",
    "       ]\n",
    "print(f\"Discarding {total - len(df)} entries in the f-block, or synthetics. Total is now {len(df)}.\")\n",
    "total = len(df)\n",
    "\n",
    "# Discard metallic systems\n",
    "df = df[df[\"bandgap (eV)\"] > 0.1]\n",
    "print(f\"Discarding {total - len(df)} entries that are metallic. Total is now {len(df)}.\")\n",
    "total = len(df)\n",
    "\n",
    "# To keep the methodology consistent, discard systems where a U-correction was applied\n",
    "df = df[df[\"is_hubbard (unitless)\"] == False]\n",
    "print(f\"Discarding {total - len(df)} entries that have U-corrections applied (metal oxides/fluorides). Total is now {len(df)}.\")\n",
    "total = len(df)\n",
    "\n",
    "# Discard top-down materials\n",
    "df = df[df[\"discovery_process (unitless)\"] == 'top-down']\n",
    "print(f\"Discarding {total - len(df)} bottom-up materials. Total is now {len(df)}.\")\n",
    "total = len(df)\n",
    "\n",
    "# Throw out systems based on exfoliation energy\n",
    "min_exfol = 0.0\n",
    "max_exfol = 0.2\n",
    "df = df[df[\"exfoliation_energy_per_atom (eV/atom)\"].apply(lambda exfol: min_exfol < exfol <= max_exfol)]\n",
    "print(f\"Discarding {total - len(df)} entries outside {np.round(min_exfol,3)} < exfoliation energy <= {np.round(max_exfol,3)}. \"\n",
    "      f\"Total is now {len(df)}.\")"
   ]
  },
  {
   "cell_type": "markdown",
   "id": "fa50e28d-a675-4893-bf57-c281db0c4a31",
   "metadata": {},
   "source": [
    "# Featurization"
   ]
  },
  {
   "cell_type": "code",
   "execution_count": 3,
   "id": "b09c70bf-1d08-4d58-96d2-468438771008",
   "metadata": {},
   "outputs": [
    {
     "data": {
      "application/vnd.jupyter.widget-view+json": {
       "model_id": "0602c54f3c6541deb022523d337044f5",
       "version_major": 2,
       "version_minor": 0
      },
      "text/plain": [
       "Pandas Apply:   0%|          | 0/261 [00:00<?, ?it/s]"
      ]
     },
     "metadata": {},
     "output_type": "display_data"
    },
    {
     "data": {
      "text/plain": [
       "3006    None\n",
       "3014    None\n",
       "3019    None\n",
       "3043    None\n",
       "3052    None\n",
       "        ... \n",
       "5810    None\n",
       "5817    None\n",
       "5825    None\n",
       "5909    None\n",
       "5911    None\n",
       "Name: ox_struct, Length: 261, dtype: object"
      ]
     },
     "execution_count": 3,
     "metadata": {},
     "output_type": "execute_result"
    }
   ],
   "source": [
    "structures = df['atoms_object (unitless)'].apply(pymatgen.io.ase.AseAtomsAdaptor.get_structure)\n",
    "df['ox_struct'] = structures.apply(lambda i: i.copy())\n",
    "\n",
    "# struct.add_oxidation_state_by_guess() modifies the structure in-place\n",
    "df.ox_struct.swifter.apply(lambda struct: struct.add_oxidation_state_by_guess())"
   ]
  },
  {
   "cell_type": "code",
   "execution_count": 4,
   "id": "dc236419-d616-4758-ae8d-6c31c37242c7",
   "metadata": {},
   "outputs": [
    {
     "data": {
      "application/vnd.jupyter.widget-view+json": {
       "model_id": "56be55b69a3c4e5cbc03366a2d79c55f",
       "version_major": 2,
       "version_minor": 0
      },
      "text/plain": [
       "MultipleFeaturizer:   0%|          | 0/261 [00:00<?, ?it/s]"
      ]
     },
     "metadata": {},
     "output_type": "display_data"
    }
   ],
   "source": [
    "struct_features = MultipleFeaturizer([\n",
    "    EwaldEnergy(),\n",
    "    StructuralComplexity(),\n",
    "    GlobalSymmetryFeatures('n_symmetry_ops'),\n",
    "])\n",
    "df[struct_features.feature_labels()] = struct_features.featurize_many(df.ox_struct).copy()"
   ]
  },
  {
   "cell_type": "code",
   "execution_count": 5,
   "id": "7e762cc9-6766-461c-9b3e-59274b69ba15",
   "metadata": {},
   "outputs": [
    {
     "data": {
      "application/vnd.jupyter.widget-view+json": {
       "model_id": "780046a687a74c03b68300071af6fec0",
       "version_major": 2,
       "version_minor": 0
      },
      "text/plain": [
       "Pandas Apply:   0%|          | 0/261 [00:00<?, ?it/s]"
      ]
     },
     "metadata": {},
     "output_type": "display_data"
    }
   ],
   "source": [
    "desc = GlobalInstabilityIndex()\n",
    "\n",
    "def maybe_global_instability(struct):\n",
    "    try:\n",
    "        return desc.featurize(struct)[0]\n",
    "    except:\n",
    "        return None\n",
    "\n",
    "with warnings.catch_warnings():\n",
    "    warnings.simplefilter('ignore')\n",
    "    df['global_instability'] = df.ox_struct.swifter.apply(maybe_global_instability).copy()"
   ]
  },
  {
   "cell_type": "code",
   "execution_count": 6,
   "id": "9a16a818-bc1f-4e8c-b656-507eb9fa45cc",
   "metadata": {},
   "outputs": [
    {
     "data": {
      "application/vnd.jupyter.widget-view+json": {
       "model_id": "fcebec19a4524c1a8cfb90573802333a",
       "version_major": 2,
       "version_minor": 0
      },
      "text/plain": [
       "Pandas Apply:   0%|          | 0/261 [00:00<?, ?it/s]"
      ]
     },
     "metadata": {},
     "output_type": "display_data"
    }
   ],
   "source": [
    "neighbor_finder = JmolNN()\n",
    "\n",
    "def average_bond_length(structure, featurizer = AverageBondLength(neighbor_finder)):\n",
    "    n_atoms = len(structure)\n",
    "    try:\n",
    "        lengths = map(lambda i: featurizer.featurize(structure, i)[0], range(n_atoms))\n",
    "        return sum(lengths) / n_atoms\n",
    "    except IndexError:\n",
    "        return None\n",
    "\n",
    "df['bond_length_average'] = df.ox_struct.swifter.apply(average_bond_length).copy()"
   ]
  },
  {
   "cell_type": "code",
   "execution_count": 7,
   "id": "017758aa-b7e3-4963-9b1a-6dc7d3ad425c",
   "metadata": {},
   "outputs": [
    {
     "data": {
      "application/vnd.jupyter.widget-view+json": {
       "model_id": "0ed7e28903c94cf4a2df0e86e0e79e6d",
       "version_major": 2,
       "version_minor": 0
      },
      "text/plain": [
       "Pandas Apply:   0%|          | 0/261 [00:00<?, ?it/s]"
      ]
     },
     "metadata": {},
     "output_type": "display_data"
    },
    {
     "name": "stderr",
     "output_type": "stream",
     "text": [
      "/Users/mat3ra/sisso_collab/.env/lib/python3.9/site-packages/matminer/featurizers/site/bonding.py:250: RuntimeWarning: All-NaN slice encountered\n",
      "  minimum_bond_angles = np.nanmin(bond_angles, axis=1)\n"
     ]
    }
   ],
   "source": [
    "from matminer.featurizers.site.bonding import AverageBondAngle\n",
    "\n",
    "def average_bond_angle(structure, featurizer = AverageBondAngle(neighbor_finder)):\n",
    "    n_atoms = len(structure)\n",
    "    try:\n",
    "        angles = map(lambda i: featurizer.featurize(structure, i)[0], range(n_atoms))\n",
    "        return sum(angles) / n_atoms\n",
    "    except IndexError:\n",
    "        return None\n",
    "df['bond_angle_average'] = df.ox_struct.swifter.apply(average_bond_angle).copy()"
   ]
  },
  {
   "cell_type": "code",
   "execution_count": 8,
   "id": "1edc4f8c-4c2b-45ee-ba4e-1e70b7210664",
   "metadata": {},
   "outputs": [
    {
     "data": {
      "application/vnd.jupyter.widget-view+json": {
       "model_id": "db67fa7ee1e9435fb10f8719c90f1b9f",
       "version_major": 2,
       "version_minor": 0
      },
      "text/plain": [
       "Pandas Apply:   0%|          | 0/261 [00:00<?, ?it/s]"
      ]
     },
     "metadata": {},
     "output_type": "display_data"
    }
   ],
   "source": [
    "def average_cn(structure, neighbor_finder = neighbor_finder):\n",
    "    n_atoms = len(structure)\n",
    "    cns = map(lambda i: neighbor_finder.get_cn(structure, i), range(n_atoms))\n",
    "    return sum(cns) / n_atoms\n",
    "df['average_cn'] = df.ox_struct.swifter.apply(average_cn).copy()"
   ]
  },
  {
   "cell_type": "code",
   "execution_count": 9,
   "id": "c2b02384-cc88-4288-91eb-3e08e97a4e4e",
   "metadata": {},
   "outputs": [
    {
     "data": {
      "application/vnd.jupyter.widget-view+json": {
       "model_id": "f2cafc6767b6488088e77a9a6877a3c2",
       "version_major": 2,
       "version_minor": 0
      },
      "text/plain": [
       "Pandas Apply:   0%|          | 0/261 [00:00<?, ?it/s]"
      ]
     },
     "metadata": {},
     "output_type": "display_data"
    }
   ],
   "source": [
    "def ab_perimeter_area_ratio(structure):\n",
    "    a, b, c = structure.lattice.matrix\n",
    "    perimeter = 2*np.linalg.norm(a) + 2*np.linalg.norm(b)\n",
    "    area = np.linalg.norm(np.cross(a,b))\n",
    "    return perimeter / area\n",
    "df['perimeter_area_ratio'] = df.ox_struct.swifter.apply(ab_perimeter_area_ratio).copy()"
   ]
  },
  {
   "cell_type": "code",
   "execution_count": 10,
   "id": "65659ea3-4fe9-43f6-918e-105d51a2f7d8",
   "metadata": {},
   "outputs": [
    {
     "data": {
      "application/vnd.jupyter.widget-view+json": {
       "model_id": "f4debe75306541799c558c7aadf9c8d9",
       "version_major": 2,
       "version_minor": 0
      },
      "text/plain": [
       "Pandas Apply:   0%|          | 0/261 [00:00<?, ?it/s]"
      ]
     },
     "metadata": {},
     "output_type": "display_data"
    }
   ],
   "source": [
    "def slab_thickness(structure:ase.Atoms):\n",
    "    \"\"\"\n",
    "    For all atoms in the cell, will get the covalent raius of the atom and add (or subtract) this with the position.\n",
    "    The maximum (from adding) and minimum (from subtracting) the radius from the position is used to define the slab's borders.\n",
    "    The highest and lowest point of the slab are used to determine thickness.\n",
    "    \"\"\"\n",
    "    structure = structure.copy()\n",
    "    \n",
    "    positions = structure.get_scaled_positions()\n",
    "    \n",
    "    in_target_zone = all(map(lambda pos: 0.25 < pos < 0.75, positions[:,2]))\n",
    "    max_iter = 10000\n",
    "    count = 0\n",
    "    while not in_target_zone:\n",
    "        delta_c = 0.01\n",
    "        structure.translate([0,0,delta_c])\n",
    "        in_target_zone = all(map(lambda pos: 0.25 < pos < 0.75, structure.get_scaled_positions()[:,2]))\n",
    "        count += 1\n",
    "        assert count < max_iter\n",
    "    \n",
    "    c_pos = structure.get_scaled_positions()[:,2] * structure.cell.lengths()[2]\n",
    "    radii = ase.data.covalent_radii[structure.get_atomic_numbers()]\n",
    "        \n",
    "    thickness = max(c_pos + radii) - min(c_pos - radii)\n",
    "    \n",
    "    return thickness\n",
    "\n",
    "df[\"slab_thickness\"] = df[\"atoms_object (unitless)\"].swifter.apply(slab_thickness)"
   ]
  },
  {
   "cell_type": "code",
   "execution_count": 11,
   "id": "cf32c86b-c084-41ac-98ab-1911069d4f06",
   "metadata": {},
   "outputs": [
    {
     "data": {
      "application/vnd.jupyter.widget-view+json": {
       "model_id": "05a08ace9bdd48f7a547cdfa41bb6500",
       "version_major": 2,
       "version_minor": 0
      },
      "text/plain": [
       "Pandas Apply:   0%|          | 0/261 [00:00<?, ?it/s]"
      ]
     },
     "metadata": {},
     "output_type": "display_data"
    }
   ],
   "source": [
    "# Get max atoms, which controls the size of the N x N coulomb matrix\n",
    "max_atoms = max(df[\"atoms_object (unitless)\"].apply(lambda atoms: len(atoms)))\n",
    "\n",
    "matrix = dscribe.descriptors.CoulombMatrix(n_atoms_max = max_atoms,\n",
    "                                           permutation = 'eigenspectrum',\n",
    "                                           flatten = True)\n",
    "\n",
    "coulomb_cols = df['atoms_object (unitless)'].swifter.apply(matrix.create)\n",
    "new_cols = coulomb_cols[coulomb_cols.index[0]]\n",
    "for i in coulomb_cols[coulomb_cols.index[1:]]:\n",
    "    # Gets turned into a complex number, but all imaginary parts are 0 for these systems\n",
    "    new_cols = np.vstack([new_cols, i]).real\n",
    "\n",
    "for col in range(max_atoms):\n",
    "    colname = f\"coulomb_eigenspectrum_{col}\"\n",
    "    df[colname] = new_cols[:, col]"
   ]
  },
  {
   "cell_type": "code",
   "execution_count": 12,
   "id": "16291224-e10d-41aa-8ab8-3ce5ef5186cb",
   "metadata": {},
   "outputs": [
    {
     "data": {
      "application/vnd.jupyter.widget-view+json": {
       "model_id": "31a7cb57dd9c4675af2ca6264c9daabb",
       "version_major": 2,
       "version_minor": 0
      },
      "text/plain": [
       "Pandas Apply:   0%|          | 0/261 [00:00<?, ?it/s]"
      ]
     },
     "metadata": {},
     "output_type": "display_data"
    }
   ],
   "source": [
    "df[\"formula\"] = df[\"atoms_object (unitless)\"].swifter.apply(lambda atoms: atoms.get_chemical_formula(empirical=True))"
   ]
  },
  {
   "cell_type": "code",
   "execution_count": 13,
   "id": "a48dd9f4-09d0-4014-9e9e-103a6e3fb987",
   "metadata": {},
   "outputs": [],
   "source": [
    "df.to_pickle(\"all_descriptors.pkl\")\n",
    "\n",
    "object_cols = [\"atoms_object (unitless)\",\n",
    "               \"ox_struct\"]\n",
    "\n",
    "regression_irrelevant = object_cols + [\n",
    "    'discovery_process (unitless)',\n",
    "    'potcars (unitless)',\n",
    "    'is_hubbard (unitless)',\n",
    "    'energy_per_atom (eV)',\n",
    "    'decomposition_energy (eV/atom)',\n",
    "    'is_bandgap_direct (unitless)',\n",
    "    'is_metal (unitless)',\n",
    "    'energy_vdw_per_atom (eV/atom)',\n",
    "    'total_magnetization (Bohr Magneton)']\n",
    "\n",
    "df.drop(columns=object_cols).to_csv(\"both_extra_descriptors.csv\")"
   ]
  },
  {
   "cell_type": "markdown",
   "id": "8018a491-329d-42a4-833b-06f0c11c5cd2",
   "metadata": {},
   "source": [
    "# Chemical Info"
   ]
  },
  {
   "cell_type": "code",
   "execution_count": 14,
   "id": "d512b7c6-46ec-422d-ada1-f21749ce2ecf",
   "metadata": {},
   "outputs": [
    {
     "data": {
      "application/vnd.jupyter.widget-view+json": {
       "model_id": "63185625a8454389ab2c8d9f019d0a80",
       "version_major": 2,
       "version_minor": 0
      },
      "text/plain": [
       "Pandas Apply:   0%|          | 0/261 [00:00<?, ?it/s]"
      ]
     },
     "metadata": {},
     "output_type": "display_data"
    },
    {
     "data": {
      "application/vnd.jupyter.widget-view+json": {
       "model_id": "360ff72e2e714c6ab8fdaf00ddf5a9d6",
       "version_major": 2,
       "version_minor": 0
      },
      "text/plain": [
       "Pandas Apply:   0%|          | 0/261 [00:00<?, ?it/s]"
      ]
     },
     "metadata": {},
     "output_type": "display_data"
    },
    {
     "data": {
      "application/vnd.jupyter.widget-view+json": {
       "model_id": "6f5a560caff04932ab6d3f1525ba77cf",
       "version_major": 2,
       "version_minor": 0
      },
      "text/plain": [
       "Pandas Apply:   0%|          | 0/261 [00:00<?, ?it/s]"
      ]
     },
     "metadata": {},
     "output_type": "display_data"
    },
    {
     "data": {
      "application/vnd.jupyter.widget-view+json": {
       "model_id": "da0e5c2d9be949779a748acbfbabcc15",
       "version_major": 2,
       "version_minor": 0
      },
      "text/plain": [
       "Pandas Apply:   0%|          | 0/261 [00:00<?, ?it/s]"
      ]
     },
     "metadata": {},
     "output_type": "display_data"
    },
    {
     "data": {
      "application/vnd.jupyter.widget-view+json": {
       "model_id": "15ae1628966a487da6f73bc811e74ee7",
       "version_major": 2,
       "version_minor": 0
      },
      "text/plain": [
       "Pandas Apply:   0%|          | 0/261 [00:00<?, ?it/s]"
      ]
     },
     "metadata": {},
     "output_type": "display_data"
    },
    {
     "data": {
      "application/vnd.jupyter.widget-view+json": {
       "model_id": "2078b4dcbfc442999a86d3571185e429",
       "version_major": 2,
       "version_minor": 0
      },
      "text/plain": [
       "Pandas Apply:   0%|          | 0/261 [00:00<?, ?it/s]"
      ]
     },
     "metadata": {},
     "output_type": "display_data"
    },
    {
     "data": {
      "application/vnd.jupyter.widget-view+json": {
       "model_id": "672d7b5cf25348b49a3514c000b718fe",
       "version_major": 2,
       "version_minor": 0
      },
      "text/plain": [
       "Pandas Apply:   0%|          | 0/261 [00:00<?, ?it/s]"
      ]
     },
     "metadata": {},
     "output_type": "display_data"
    },
    {
     "data": {
      "application/vnd.jupyter.widget-view+json": {
       "model_id": "4a003b8093a34c208b0f8848989afcf7",
       "version_major": 2,
       "version_minor": 0
      },
      "text/plain": [
       "Pandas Apply:   0%|          | 0/261 [00:00<?, ?it/s]"
      ]
     },
     "metadata": {},
     "output_type": "display_data"
    }
   ],
   "source": [
    "for allowed_symbols, set_name in [\n",
    "    [[\"N\"], \"nitrides\"],\n",
    "    [[\"O\"], \"oxides\"],\n",
    "    [[\"S\"], \"sulfides\"],\n",
    "    [[\"C\"], \"carbides\"],\n",
    "    [[\"F\", \"Cl\", \"Br\", \"Cl\"], \"halides\"],\n",
    "    [[\"O\", \"S\", \"Se\", \"Te\"], \"chalcogens\"],\n",
    "    [[\"N\", \"O\", \"As\", \"Sb\"], \"pnictogens\"],\n",
    "    [[\"Al\", \"Ga\", \"Ge\", \"In\", \"Sn\", \"Sb\", \"Tl\", \"Pb\", \"Bi\", \"Po\"], \"pBlockMetals\"]\n",
    "]:\n",
    "    fun = lambda atoms: any(symbol in allowed_symbols for symbol in atoms.get_chemical_symbols())\n",
    "    filtered = df[df[\"atoms_object (unitless)\"].swifter.apply(fun)]\n",
    "    filtered.drop(columns=object_cols).to_csv(f\"both_{set_name}Only.csv\")"
   ]
  },
  {
   "cell_type": "code",
   "execution_count": 15,
   "id": "dea736c5-b2ea-43a8-ba19-c4f113c61f74",
   "metadata": {},
   "outputs": [
    {
     "data": {
      "application/vnd.jupyter.widget-view+json": {
       "model_id": "289561cc20c94e04a4a07dde339ee84a",
       "version_major": 2,
       "version_minor": 0
      },
      "text/plain": [
       "Pandas Apply:   0%|          | 0/261 [00:00<?, ?it/s]"
      ]
     },
     "metadata": {},
     "output_type": "display_data"
    },
    {
     "data": {
      "application/vnd.jupyter.widget-view+json": {
       "model_id": "85e1759c35594a8dbea00d4db95317a7",
       "version_major": 2,
       "version_minor": 0
      },
      "text/plain": [
       "Pandas Apply:   0%|          | 0/261 [00:00<?, ?it/s]"
      ]
     },
     "metadata": {},
     "output_type": "display_data"
    },
    {
     "data": {
      "application/vnd.jupyter.widget-view+json": {
       "model_id": "ef419405870d4ab4b3efb991528b098d",
       "version_major": 2,
       "version_minor": 0
      },
      "text/plain": [
       "Pandas Apply:   0%|          | 0/261 [00:00<?, ?it/s]"
      ]
     },
     "metadata": {},
     "output_type": "display_data"
    }
   ],
   "source": [
    "# Based on https://en.wikipedia.org/wiki/Wide-bandgap_semiconductor and https://www.kymatech.com/about/faqs/429-what-is-an-ultra-wide-bandgap-semiconductor-material\n",
    "df[df[\"bandgap (eV)\"].swifter.apply(lambda bg: 0 < bg < 2)].drop(columns=object_cols).to_csv(\"both_conventionalSemiconductorsOnly.csv\")\n",
    "df[df[\"bandgap (eV)\"].swifter.apply(lambda bg: 2 <= bg <= 3.4)].drop(columns=object_cols).to_csv(\"both_WBGOnly.csv\")\n",
    "df[df[\"bandgap (eV)\"].swifter.apply(lambda bg: 3.4 < bg < 10)].drop(columns=object_cols).to_csv(\"both_UWBGOnly.csv\")"
   ]
  },
  {
   "cell_type": "code",
   "execution_count": 16,
   "id": "2509244b-529b-4b23-a6b3-5a46809477fe",
   "metadata": {},
   "outputs": [],
   "source": [
    "import sklearn.model_selection\n",
    "\n",
    "data_train, data_test = sklearn.model_selection.train_test_split(df.drop(columns=regression_irrelevant + ['formula', '2dm_id (unitless)', 'exfoliation_energy_per_atom (eV/atom)']), test_size=0.1, random_state=RANDOM_SEED)\n",
    "\n",
    "train_x = data_train.drop(columns=\"bandgap (eV)\").to_numpy().astype(np.float64)\n",
    "train_y = data_train[\"bandgap (eV)\"].to_numpy()\n",
    "\n",
    "test_x = data_test.drop(columns=\"bandgap (eV)\").to_numpy().astype(np.float64)\n",
    "test_y = data_test[\"bandgap (eV)\"].to_numpy()"
   ]
  },
  {
   "cell_type": "markdown",
   "id": "cdbd4e33-b2db-4343-a3ad-e06904fa7a20",
   "metadata": {},
   "source": [
    "# Stacked Ensemble\n",
    "Tried out a stacked ensemble approach below, got decent results compared to TPOT.\n",
    "Imputation -> Standardization -> PCA -> Ensemble\n",
    "\n",
    "Ensemble contains LASSO, Ridge, Support Vector Regression, Gradient-Boosted Trees, and a basic Neural Network. The ensemble's generalizer is a kernel ridge regressor."
   ]
  },
  {
   "cell_type": "code",
   "execution_count": 17,
   "id": "af2e579e-71cc-4bb3-a5da-225d65460066",
   "metadata": {},
   "outputs": [
    {
     "name": "stderr",
     "output_type": "stream",
     "text": [
      "\u001b[32m[I 2021-07-20 17:21:42,829]\u001b[0m A new study created in memory with name: no-name-3cbd478c-9e9a-4e96-92ca-31c04e6c5ef8\u001b[0m\n",
      "\u001b[32m[I 2021-07-20 17:21:51,404]\u001b[0m Trial 0 finished with value: -1.0380843777537638 and parameters: {'KNN_imputation_n_neighbors': 3, 'pca_n_dimensions': 21, 'SVR_Kernel': 'poly', 'SVR_C': 7.9011773514084025, 'SVR_epsilon': 0.07345284900123933, 'GB_n_estimators': 496, 'NN_Hidden1_Dims': 27, 'NN_Hidden2_Dims': 128}. Best is trial 0 with value: -1.0380843777537638.\u001b[0m\n",
      "\u001b[32m[I 2021-07-20 17:21:51,927]\u001b[0m Trial 1 finished with value: -0.9285726344805425 and parameters: {'KNN_imputation_n_neighbors': 8, 'pca_n_dimensions': 11, 'SVR_Kernel': 'rbf', 'SVR_C': 9.928101129771393, 'SVR_epsilon': 0.1569100994385063, 'GB_n_estimators': 377, 'NN_Hidden1_Dims': 165, 'NN_Hidden2_Dims': 159}. Best is trial 1 with value: -0.9285726344805425.\u001b[0m\n",
      "\u001b[32m[I 2021-07-20 17:22:01,831]\u001b[0m Trial 2 finished with value: -1.3578589599481283 and parameters: {'KNN_imputation_n_neighbors': 6, 'pca_n_dimensions': 2, 'SVR_Kernel': 'rbf', 'SVR_C': 5.44518023836974, 'SVR_epsilon': 0.5110290167499169, 'GB_n_estimators': 746, 'NN_Hidden1_Dims': 56, 'NN_Hidden2_Dims': 46}. Best is trial 1 with value: -0.9285726344805425.\u001b[0m\n",
      "\u001b[32m[I 2021-07-20 17:22:11,031]\u001b[0m Trial 4 finished with value: -0.8810244498134479 and parameters: {'KNN_imputation_n_neighbors': 8, 'pca_n_dimensions': 100, 'SVR_Kernel': 'linear', 'SVR_C': 1.2488091464114843, 'SVR_epsilon': 0.7540044109874127, 'GB_n_estimators': 255, 'NN_Hidden1_Dims': 101, 'NN_Hidden2_Dims': 167}. Best is trial 4 with value: -0.8810244498134479.\u001b[0m\n",
      "\u001b[32m[I 2021-07-20 17:22:18,508]\u001b[0m Trial 5 finished with value: -0.8707222716573031 and parameters: {'KNN_imputation_n_neighbors': 10, 'pca_n_dimensions': 77, 'SVR_Kernel': 'linear', 'SVR_C': 2.195265725011456, 'SVR_epsilon': 0.19455749674753442, 'GB_n_estimators': 19, 'NN_Hidden1_Dims': 60, 'NN_Hidden2_Dims': 130}. Best is trial 5 with value: -0.8707222716573031.\u001b[0m\n",
      "\u001b[32m[I 2021-07-20 17:22:30,839]\u001b[0m Trial 6 finished with value: -0.8557985368696026 and parameters: {'KNN_imputation_n_neighbors': 2, 'pca_n_dimensions': 85, 'SVR_Kernel': 'rbf', 'SVR_C': 4.226558740107587, 'SVR_epsilon': 0.06340712020501521, 'GB_n_estimators': 485, 'NN_Hidden1_Dims': 65, 'NN_Hidden2_Dims': 153}. Best is trial 6 with value: -0.8557985368696026.\u001b[0m\n",
      "\u001b[32m[I 2021-07-20 17:22:35,845]\u001b[0m Trial 7 finished with value: -0.9645431347161041 and parameters: {'KNN_imputation_n_neighbors': 8, 'pca_n_dimensions': 28, 'SVR_Kernel': 'rbf', 'SVR_C': 1.9648296113968307, 'SVR_epsilon': 0.8199594381092319, 'GB_n_estimators': 97, 'NN_Hidden1_Dims': 28, 'NN_Hidden2_Dims': 111}. Best is trial 6 with value: -0.8557985368696026.\u001b[0m\n",
      "\u001b[32m[I 2021-07-20 17:22:53,410]\u001b[0m Trial 8 finished with value: -0.9046091857719235 and parameters: {'KNN_imputation_n_neighbors': 7, 'pca_n_dimensions': 108, 'SVR_Kernel': 'poly', 'SVR_C': 4.977330917738791, 'SVR_epsilon': 0.9037549346102166, 'GB_n_estimators': 607, 'NN_Hidden1_Dims': 148, 'NN_Hidden2_Dims': 55}. Best is trial 6 with value: -0.8557985368696026.\u001b[0m\n",
      "\u001b[32m[I 2021-07-20 17:23:06,287]\u001b[0m Trial 9 finished with value: -0.9110420074985554 and parameters: {'KNN_imputation_n_neighbors': 2, 'pca_n_dimensions': 38, 'SVR_Kernel': 'poly', 'SVR_C': 1.7022663563732572, 'SVR_epsilon': 0.09858606224933518, 'GB_n_estimators': 804, 'NN_Hidden1_Dims': 193, 'NN_Hidden2_Dims': 15}. Best is trial 6 with value: -0.8557985368696026.\u001b[0m\n",
      "\u001b[32m[I 2021-07-20 17:23:10,648]\u001b[0m Trial 10 finished with value: -0.902961124885253 and parameters: {'KNN_imputation_n_neighbors': 4, 'pca_n_dimensions': 29, 'SVR_Kernel': 'poly', 'SVR_C': 5.0098585961485265, 'SVR_epsilon': 0.8675142216396244, 'GB_n_estimators': 24, 'NN_Hidden1_Dims': 193, 'NN_Hidden2_Dims': 194}. Best is trial 6 with value: -0.8557985368696026.\u001b[0m\n",
      "\u001b[32m[I 2021-07-20 17:23:25,809]\u001b[0m Trial 11 finished with value: -0.8298158463562398 and parameters: {'KNN_imputation_n_neighbors': 4, 'pca_n_dimensions': 144, 'SVR_Kernel': 'rbf', 'SVR_C': 7.0401184690234455, 'SVR_epsilon': 0.37374194236125724, 'GB_n_estimators': 290, 'NN_Hidden1_Dims': 107, 'NN_Hidden2_Dims': 194}. Best is trial 11 with value: -0.8298158463562398.\u001b[0m\n",
      "\u001b[32m[I 2021-07-20 17:23:39,867]\u001b[0m Trial 12 finished with value: -0.8201947479113504 and parameters: {'KNN_imputation_n_neighbors': 4, 'pca_n_dimensions': 145, 'SVR_Kernel': 'rbf', 'SVR_C': 7.388243675559397, 'SVR_epsilon': 0.3979007080153536, 'GB_n_estimators': 290, 'NN_Hidden1_Dims': 106, 'NN_Hidden2_Dims': 197}. Best is trial 12 with value: -0.8201947479113504.\u001b[0m\n",
      "\u001b[32m[I 2021-07-20 17:23:52,041]\u001b[0m Trial 13 finished with value: -0.8321616078442793 and parameters: {'KNN_imputation_n_neighbors': 4, 'pca_n_dimensions': 147, 'SVR_Kernel': 'rbf', 'SVR_C': 7.924109554095569, 'SVR_epsilon': 0.38692116248065866, 'GB_n_estimators': 236, 'NN_Hidden1_Dims': 115, 'NN_Hidden2_Dims': 194}. Best is trial 12 with value: -0.8201947479113504.\u001b[0m\n",
      "\u001b[32m[I 2021-07-20 17:24:03,620]\u001b[0m Trial 14 finished with value: -0.8067385282421408 and parameters: {'KNN_imputation_n_neighbors': 5, 'pca_n_dimensions': 134, 'SVR_Kernel': 'rbf', 'SVR_C': 7.26323034165624, 'SVR_epsilon': 0.3788230782004159, 'GB_n_estimators': 238, 'NN_Hidden1_Dims': 131, 'NN_Hidden2_Dims': 200}. Best is trial 14 with value: -0.8067385282421408.\u001b[0m\n",
      "\u001b[32m[I 2021-07-20 17:24:11,466]\u001b[0m Trial 15 finished with value: -0.8228610863591013 and parameters: {'KNN_imputation_n_neighbors': 5, 'pca_n_dimensions': 133, 'SVR_Kernel': 'rbf', 'SVR_C': 9.918396965002506, 'SVR_epsilon': 0.5972088013482999, 'GB_n_estimators': 132, 'NN_Hidden1_Dims': 142, 'NN_Hidden2_Dims': 76}. Best is trial 14 with value: -0.8067385282421408.\u001b[0m\n",
      "\u001b[32m[I 2021-07-20 17:24:26,006]\u001b[0m Trial 16 finished with value: -0.8739057659372989 and parameters: {'KNN_imputation_n_neighbors': 6, 'pca_n_dimensions': 125, 'SVR_Kernel': 'rbf', 'SVR_C': 6.596754538284886, 'SVR_epsilon': 0.3072799783801975, 'GB_n_estimators': 369, 'NN_Hidden1_Dims': 128, 'NN_Hidden2_Dims': 200}. Best is trial 14 with value: -0.8067385282421408.\u001b[0m\n",
      "\u001b[32m[I 2021-07-20 17:24:34,805]\u001b[0m Trial 17 finished with value: -0.8500490533714578 and parameters: {'KNN_imputation_n_neighbors': 5, 'pca_n_dimensions': 118, 'SVR_Kernel': 'linear', 'SVR_C': 8.808789817386153, 'SVR_epsilon': 0.6187999061008111, 'GB_n_estimators': 160, 'NN_Hidden1_Dims': 82, 'NN_Hidden2_Dims': 173}. Best is trial 14 with value: -0.8067385282421408.\u001b[0m\n",
      "\u001b[32m[I 2021-07-20 17:25:09,899]\u001b[0m Trial 18 finished with value: -0.8346208248247851 and parameters: {'KNN_imputation_n_neighbors': 3, 'pca_n_dimensions': 150, 'SVR_Kernel': 'rbf', 'SVR_C': 6.5361179081515495, 'SVR_epsilon': 0.3031299321504791, 'GB_n_estimators': 974, 'NN_Hidden1_Dims': 167, 'NN_Hidden2_Dims': 140}. Best is trial 14 with value: -0.8067385282421408.\u001b[0m\n",
      "\u001b[32m[I 2021-07-20 17:25:17,935]\u001b[0m Trial 19 finished with value: -0.8317107759267837 and parameters: {'KNN_imputation_n_neighbors': 5, 'pca_n_dimensions': 57, 'SVR_Kernel': 'rbf', 'SVR_C': 8.867119586767636, 'SVR_epsilon': 0.49424253447297306, 'GB_n_estimators': 357, 'NN_Hidden1_Dims': 82, 'NN_Hidden2_Dims': 174}. Best is trial 14 with value: -0.8067385282421408.\u001b[0m\n",
      "\u001b[32m[I 2021-07-20 17:25:35,720]\u001b[0m Trial 20 finished with value: -0.819831608597913 and parameters: {'KNN_imputation_n_neighbors': 3, 'pca_n_dimensions': 99, 'SVR_Kernel': 'rbf', 'SVR_C': 3.4643897512862107, 'SVR_epsilon': 0.2513310439055903, 'GB_n_estimators': 625, 'NN_Hidden1_Dims': 130, 'NN_Hidden2_Dims': 101}. Best is trial 14 with value: -0.8067385282421408.\u001b[0m\n",
      "\u001b[32m[I 2021-07-20 17:25:58,752]\u001b[0m Trial 21 finished with value: -0.8839842635695788 and parameters: {'KNN_imputation_n_neighbors': 3, 'pca_n_dimensions': 94, 'SVR_Kernel': 'linear', 'SVR_C': 3.868841947170608, 'SVR_epsilon': 0.23581181466733142, 'GB_n_estimators': 651, 'NN_Hidden1_Dims': 169, 'NN_Hidden2_Dims': 4}. Best is trial 14 with value: -0.8067385282421408.\u001b[0m\n",
      "\u001b[32m[I 2021-07-20 17:26:18,320]\u001b[0m Trial 22 finished with value: -0.8545856237746465 and parameters: {'KNN_imputation_n_neighbors': 4, 'pca_n_dimensions': 132, 'SVR_Kernel': 'rbf', 'SVR_C': 3.3329184432525247, 'SVR_epsilon': 0.4415931036329244, 'GB_n_estimators': 584, 'NN_Hidden1_Dims': 129, 'NN_Hidden2_Dims': 85}. Best is trial 14 with value: -0.8067385282421408.\u001b[0m\n",
      "\u001b[32m[I 2021-07-20 17:26:31,853]\u001b[0m Trial 23 finished with value: -0.8429779808008888 and parameters: {'KNN_imputation_n_neighbors': 2, 'pca_n_dimensions': 113, 'SVR_Kernel': 'rbf', 'SVR_C': 7.368038974610129, 'SVR_epsilon': 0.2808298610262426, 'GB_n_estimators': 446, 'NN_Hidden1_Dims': 131, 'NN_Hidden2_Dims': 104}. Best is trial 14 with value: -0.8067385282421408.\u001b[0m\n",
      "\u001b[32m[I 2021-07-20 17:26:46,309]\u001b[0m Trial 24 finished with value: -0.8684098508050804 and parameters: {'KNN_imputation_n_neighbors': 3, 'pca_n_dimensions': 64, 'SVR_Kernel': 'rbf', 'SVR_C': 5.876472356683701, 'SVR_epsilon': 0.5921142081649231, 'GB_n_estimators': 749, 'NN_Hidden1_Dims': 85, 'NN_Hidden2_Dims': 47}. Best is trial 14 with value: -0.8067385282421408.\u001b[0m\n",
      "\u001b[32m[I 2021-07-20 17:27:17,000]\u001b[0m Trial 25 finished with value: -0.7874979384756625 and parameters: {'KNN_imputation_n_neighbors': 5, 'pca_n_dimensions': 133, 'SVR_Kernel': 'rbf', 'SVR_C': 2.9699084269466116, 'SVR_epsilon': 0.3932912932344715, 'GB_n_estimators': 903, 'NN_Hidden1_Dims': 152, 'NN_Hidden2_Dims': 182}. Best is trial 25 with value: -0.7874979384756625.\u001b[0m\n",
      "\u001b[32m[I 2021-07-20 17:27:48,697]\u001b[0m Trial 26 finished with value: -0.8305650256818922 and parameters: {'KNN_imputation_n_neighbors': 7, 'pca_n_dimensions': 131, 'SVR_Kernel': 'rbf', 'SVR_C': 0.3943733292994005, 'SVR_epsilon': 0.50879376746783, 'GB_n_estimators': 980, 'NN_Hidden1_Dims': 155, 'NN_Hidden2_Dims': 180}. Best is trial 25 with value: -0.7874979384756625.\u001b[0m\n",
      "\u001b[32m[I 2021-07-20 17:28:12,491]\u001b[0m Trial 27 finished with value: -0.8523513610376192 and parameters: {'KNN_imputation_n_neighbors': 5, 'pca_n_dimensions': 103, 'SVR_Kernel': 'rbf', 'SVR_C': 3.4569507368188956, 'SVR_epsilon': 0.34747060494328397, 'GB_n_estimators': 862, 'NN_Hidden1_Dims': 123, 'NN_Hidden2_Dims': 26}. Best is trial 25 with value: -0.7874979384756625.\u001b[0m\n",
      "\u001b[32m[I 2021-07-20 17:28:36,859]\u001b[0m Trial 28 finished with value: -0.8606056919802509 and parameters: {'KNN_imputation_n_neighbors': 6, 'pca_n_dimensions': 90, 'SVR_Kernel': 'rbf', 'SVR_C': 2.936284690808235, 'SVR_epsilon': 0.9988146074122204, 'GB_n_estimators': 889, 'NN_Hidden1_Dims': 183, 'NN_Hidden2_Dims': 142}. Best is trial 25 with value: -0.7874979384756625.\u001b[0m\n",
      "\u001b[32m[I 2021-07-20 17:28:58,594]\u001b[0m Trial 29 finished with value: -0.8422724787411309 and parameters: {'KNN_imputation_n_neighbors': 7, 'pca_n_dimensions': 124, 'SVR_Kernel': 'rbf', 'SVR_C': 4.490224270063685, 'SVR_epsilon': 0.18953995501252804, 'GB_n_estimators': 680, 'NN_Hidden1_Dims': 145, 'NN_Hidden2_Dims': 119}. Best is trial 25 with value: -0.7874979384756625.\u001b[0m\n",
      "\u001b[32m[I 2021-07-20 17:29:14,791]\u001b[0m Trial 30 finished with value: -0.8968253081444866 and parameters: {'KNN_imputation_n_neighbors': 5, 'pca_n_dimensions': 115, 'SVR_Kernel': 'poly', 'SVR_C': 0.3334006406192991, 'SVR_epsilon': 0.45748789207712137, 'GB_n_estimators': 538, 'NN_Hidden1_Dims': 182, 'NN_Hidden2_Dims': 73}. Best is trial 25 with value: -0.7874979384756625.\u001b[0m\n",
      "\u001b[32m[I 2021-07-20 17:29:45,777]\u001b[0m Trial 31 finished with value: -0.8047864742520566 and parameters: {'KNN_imputation_n_neighbors': 3, 'pca_n_dimensions': 139, 'SVR_Kernel': 'rbf', 'SVR_C': 2.6539204524249036, 'SVR_epsilon': 0.6776397281235127, 'GB_n_estimators': 924, 'NN_Hidden1_Dims': 138, 'NN_Hidden2_Dims': 181}. Best is trial 25 with value: -0.7874979384756625.\u001b[0m\n",
      "\u001b[32m[I 2021-07-20 17:41:18,232]\u001b[0m Trial 3 finished with value: -1.034138669580539 and parameters: {'KNN_imputation_n_neighbors': 9, 'pca_n_dimensions': 6, 'SVR_Kernel': 'poly', 'SVR_C': 5.861891131698267, 'SVR_epsilon': 0.8057780168144236, 'GB_n_estimators': 752, 'NN_Hidden1_Dims': 149, 'NN_Hidden2_Dims': 6}. Best is trial 25 with value: -0.7874979384756625.\u001b[0m\n"
     ]
    }
   ],
   "source": [
    "import sklearn.ensemble\n",
    "import sklearn.impute\n",
    "import sklearn.pipeline\n",
    "import sklearn.linear_model\n",
    "import sklearn.kernel_ridge\n",
    "import sklearn.gaussian_process\n",
    "import sklearn.decomposition\n",
    "import sklearn.svm\n",
    "import sklearn.neural_network\n",
    "\n",
    "import optuna\n",
    "\n",
    "from sklearn.experimental import enable_hist_gradient_boosting\n",
    "\n",
    "import optuna\n",
    "\n",
    "best_model = None\n",
    "model = None\n",
    "\n",
    "def model_callback(study, trial):\n",
    "    global best_model\n",
    "    if study.best_trial == trial:\n",
    "        best_model = model\n",
    "\n",
    "def objective(trial: optuna.Trial):\n",
    "    global model\n",
    "    \n",
    "    model = sklearn.pipeline.Pipeline(\n",
    "        [(\"Imputation\", sklearn.impute.KNNImputer(n_neighbors=trial.suggest_int('KNN_imputation_n_neighbors', 2, 10))),\n",
    "         (\"Scaler\", sklearn.preprocessing.StandardScaler()),\n",
    "         (\"PCA\", sklearn.decomposition.PCA(n_components=trial.suggest_int(\"pca_n_dimensions\", 2, 150))),\n",
    "         (\"StackedEnsemble\", sklearn.ensemble.StackingRegressor(\n",
    "             estimators = [\n",
    "                 ('Lasso', sklearn.linear_model.LassoCV(tol=0.001)),\n",
    "                 ('Ridge', sklearn.linear_model.RidgeCV()),\n",
    "                 ('SVR', sklearn.svm.SVR(kernel=trial.suggest_categorical('SVR_Kernel', ['linear', 'poly', 'rbf']),\n",
    "                                         gamma='auto',\n",
    "                                         C=trial.suggest_uniform('SVR_C', 0.1, 10),\n",
    "                                         epsilon=trial.suggest_uniform('SVR_epsilon', 0.01, 1))),\n",
    "                 ('GB', sklearn.ensemble.GradientBoostingRegressor(n_estimators=trial.suggest_int('GB_n_estimators', 10,1000))),\n",
    "                 ('NN', sklearn.neural_network.MLPRegressor([trial.suggest_int('NN_Hidden1_Dims', 2, 200),\n",
    "                                                             trial.suggest_int('NN_Hidden2_Dims', 2, 200)],\n",
    "                                                             max_iter=1000)),\n",
    "             ],\n",
    "             final_estimator=sklearn.kernel_ridge.KernelRidge(),\n",
    "             cv=2,\n",
    "             n_jobs=2)),\n",
    "         ]\n",
    "    )\n",
    "    score = sklearn.model_selection.cross_val_score(model, train_x, train_y, scoring='neg_mean_squared_error', cv=4).mean()\n",
    "    return score\n",
    "    \n",
    "study = optuna.create_study(direction='maximize')\n",
    "study.optimize(objective, n_trials=32, n_jobs=2, callbacks=[model_callback])"
   ]
  },
  {
   "cell_type": "code",
   "execution_count": 22,
   "id": "41aa27c0-0912-48a0-b101-ed799cebd697",
   "metadata": {},
   "outputs": [
    {
     "data": {
      "text/plain": [
       "<matplotlib.legend.Legend at 0x1439764f0>"
      ]
     },
     "execution_count": 22,
     "metadata": {},
     "output_type": "execute_result"
    },
    {
     "data": {
      "image/png": "[encoded data removed]",
      "text/plain": [
       "<Figure size 720x720 with 1 Axes>"
      ]
     },
     "metadata": {
      "needs_background": "light"
     },
     "output_type": "display_data"
    }
   ],
   "source": [
    "model = best_model\n",
    "model.fit(X=train_x, y=train_y)\n",
    "train_y_pred = model.predict(train_x)\n",
    "test_y_pred = model.predict(test_x)\n",
    "\n",
    "plt.rcParams['figure.figsize'] = [10,10]\n",
    "\n",
    "plt.scatter(x=train_y_pred, y=train_y, label=\"Train Set\")\n",
    "plt.scatter(x=test_y_pred, y=test_y, label=\"Test Set\")\n",
    "plt.plot([0,8], [0,8], label=\"Parity\")\n",
    "plt.ylabel(\"Bandgap (Actual)\")\n",
    "plt.xlabel(\"Bandgap (Predicted)\")\n",
    "plt.legend()"
   ]
  },
  {
   "cell_type": "code",
   "execution_count": 23,
   "id": "7876dc74-c8c7-46e5-bdeb-171c9384ffe0",
   "metadata": {},
   "outputs": [
    {
     "name": "stdout",
     "output_type": "stream",
     "text": [
      "Test-Set Error Metrics:\n",
      "MAE: 0.6505\n",
      "MAPE: 0.5939\n",
      "MSE: 0.631\n",
      "R2: 0.7316\n",
      "Max Error: 1.8543\n"
     ]
    }
   ],
   "source": [
    "import sklearn.metrics  \n",
    "print(\"Test-Set Error Metrics:\")\n",
    "for name, metric in [\n",
    "    [\"MAE\", sklearn.metrics.mean_absolute_error],\n",
    "    [\"MAPE\", sklearn.metrics.mean_absolute_percentage_error],\n",
    "    [\"MSE\", sklearn.metrics.mean_squared_error],\n",
    "    [\"R2\", sklearn.metrics.r2_score],\n",
    "    [\"Max Error\", sklearn.metrics.max_error]\n",
    "]:\n",
    "    print(f\"{name}: {np.round(metric(y_true=test_y, y_pred=test_y_pred), 4)}\")\n"
   ]
  },
  {
   "cell_type": "code",
   "execution_count": 24,
   "id": "f9f8196f-ec83-472e-b384-dd447a0a2b6c",
   "metadata": {},
   "outputs": [
    {
     "name": "stderr",
     "output_type": "stream",
     "text": [
      "[Parallel(n_jobs=4)]: Using backend LokyBackend with 4 concurrent workers.\n"
     ]
    },
    {
     "name": "stdout",
     "output_type": "stream",
     "text": [
      "5-fold Error Metrics:\n",
      "MAE: 0.7148\n",
      "MAPE: 0.6391\n",
      "MSE: 1.0435\n",
      "R2: 0.4374\n",
      "Max Error: 3.2015\n"
     ]
    },
    {
     "name": "stderr",
     "output_type": "stream",
     "text": [
      "[Parallel(n_jobs=4)]: Done   5 out of   5 | elapsed:   18.0s finished\n"
     ]
    }
   ],
   "source": [
    "import sklearn.metrics  \n",
    "\n",
    "all_data = df.drop(columns=regression_irrelevant + ['formula', '2dm_id (unitless)', 'exfoliation_energy_per_atom (eV/atom)'])\n",
    "\n",
    "all_x = all_data.drop(columns=\"bandgap (eV)\").to_numpy().astype(np.float64)\n",
    "all_y = all_data[\"bandgap (eV)\"].to_numpy()\n",
    "\n",
    "n_samples = len(all_data)\n",
    "\n",
    "metrics = {\"MAE\": sklearn.metrics.mean_absolute_error,\n",
    "           \"MAPE\": sklearn.metrics.mean_absolute_percentage_error,\n",
    "           \"MSE\": sklearn.metrics.mean_squared_error,\n",
    "           \"R2\": sklearn.metrics.r2_score,\n",
    "           \"Max Error\": sklearn.metrics.max_error}\n",
    "metrics = dict((key, sklearn.metrics.make_scorer(value)) for key, value in metrics.items())\n",
    " \n",
    "cv=5\n",
    "scores = sklearn.model_selection.cross_validate(model, X=all_x, y=all_y, cv=cv, scoring=metrics, verbose=2, n_jobs=4)\n",
    "print(f\"{cv}-fold Error Metrics:\")\n",
    "for name, score in scores.items():\n",
    "    if name in ['fit_time', 'score_time']:\n",
    "        continue\n",
    "    print(f\"{name[5:]}: {np.round(np.mean(score), 4)}\")"
   ]
  },
  {
   "cell_type": "markdown",
   "id": "cd242e21-786d-460a-94df-8fd094b943de",
   "metadata": {},
   "source": [
    "# TPOT\n",
    "Tested TPOT below"
   ]
  },
  {
   "cell_type": "code",
   "execution_count": 31,
   "id": "71762f67-4e4e-47df-9914-406d67d9e928",
   "metadata": {},
   "outputs": [
    {
     "name": "stdout",
     "output_type": "stream",
     "text": [
      "Imputing missing values in feature set\n"
     ]
    },
    {
     "data": {
      "application/vnd.jupyter.widget-view+json": {
       "model_id": "ce932968b06243d4ab853f6b6d7a4ddb",
       "version_major": 2,
       "version_minor": 0
      },
      "text/plain": [
       "Optimization Progress:   0%|          | 0/100 [00:00<?, ?pipeline/s]"
      ]
     },
     "metadata": {},
     "output_type": "display_data"
    },
    {
     "name": "stderr",
     "output_type": "stream",
     "text": [
      "WARNING:stopit:Code block execution exceeded 10 seconds timeout\n",
      "Traceback (most recent call last):\n",
      "  File \"/Users/mat3ra/sisso_collab/.env/lib/python3.9/site-packages/stopit/utils.py\", line 145, in wrapper\n",
      "    result = func(*args, **kwargs)\n",
      "  File \"/Users/mat3ra/sisso_collab/.env/lib/python3.9/site-packages/tpot/decorators.py\", line 57, in time_limited_call\n",
      "    func(*args)\n",
      "  File \"/Users/mat3ra/sisso_collab/.env/lib/python3.9/site-packages/sklearn/pipeline.py\", line 346, in fit\n",
      "    self._final_estimator.fit(Xt, y, **fit_params_last_step)\n",
      "  File \"/Users/mat3ra/sisso_collab/.env/lib/python3.9/site-packages/sklearn/ensemble/_weight_boosting.py\", line 1008, in fit\n",
      "    return super().fit(X, y, sample_weight)\n",
      "  File \"/Users/mat3ra/sisso_collab/.env/lib/python3.9/site-packages/sklearn/ensemble/_weight_boosting.py\", line 130, in fit\n",
      "    sample_weight, estimator_weight, estimator_error = self._boost(\n",
      "  File \"/Users/mat3ra/sisso_collab/.env/lib/python3.9/site-packages/sklearn/ensemble/_weight_boosting.py\", line 1069, in _boost\n",
      "    estimator.fit(X_, y_)\n",
      "  File \"/Users/mat3ra/sisso_collab/.env/lib/python3.9/site-packages/sklearn/tree/_classes.py\", line 1252, in fit\n",
      "    super().fit(\n",
      "  File \"/Users/mat3ra/sisso_collab/.env/lib/python3.9/site-packages/sklearn/tree/_classes.py\", line 394, in fit\n",
      "    builder.build(self.tree_, X, y, sample_weight)\n",
      "stopit.utils.TimeoutException\n"
     ]
    },
    {
     "name": "stdout",
     "output_type": "stream",
     "text": [
      "\n",
      "Generation 1 - Current best internal CV score: -0.8462024103089665\n",
      "\n",
      "Generation 2 - Current best internal CV score: -0.8462024103089665\n",
      "\n",
      "Generation 3 - Current best internal CV score: -0.8462024103089665\n"
     ]
    },
    {
     "name": "stderr",
     "output_type": "stream",
     "text": [
      "WARNING:stopit:Code block execution exceeded 10 seconds timeout\n",
      "Traceback (most recent call last):\n",
      "  File \"/Users/mat3ra/sisso_collab/.env/lib/python3.9/site-packages/stopit/utils.py\", line 145, in wrapper\n",
      "    result = func(*args, **kwargs)\n",
      "  File \"/Users/mat3ra/sisso_collab/.env/lib/python3.9/site-packages/tpot/decorators.py\", line 57, in time_limited_call\n",
      "    func(*args)\n",
      "  File \"/Users/mat3ra/sisso_collab/.env/lib/python3.9/site-packages/sklearn/pipeline.py\", line 346, in fit\n",
      "    self._final_estimator.fit(Xt, y, **fit_params_last_step)\n",
      "  File \"/Users/mat3ra/sisso_collab/.env/lib/python3.9/site-packages/sklearn/ensemble/_weight_boosting.py\", line 1008, in fit\n",
      "    return super().fit(X, y, sample_weight)\n",
      "  File \"/Users/mat3ra/sisso_collab/.env/lib/python3.9/site-packages/sklearn/ensemble/_weight_boosting.py\", line 130, in fit\n",
      "    sample_weight, estimator_weight, estimator_error = self._boost(\n",
      "  File \"/Users/mat3ra/sisso_collab/.env/lib/python3.9/site-packages/sklearn/ensemble/_weight_boosting.py\", line 1070, in _boost\n",
      "    y_predict = estimator.predict(X)\n",
      "  File \"/Users/mat3ra/sisso_collab/.env/lib/python3.9/site-packages/sklearn/tree/_classes.py\", line 442, in predict\n",
      "    X = self._validate_X_predict(X, check_input)\n",
      "  File \"/Users/mat3ra/sisso_collab/.env/lib/python3.9/site-packages/sklearn/tree/_classes.py\", line 407, in _validate_X_predict\n",
      "    X = self._validate_data(X, dtype=DTYPE, accept_sparse=\"csr\",\n",
      "  File \"/Users/mat3ra/sisso_collab/.env/lib/python3.9/site-packages/sklearn/base.py\", line 421, in _validate_data\n",
      "    X = check_array(X, **check_params)\n",
      "  File \"/Users/mat3ra/sisso_collab/.env/lib/python3.9/site-packages/sklearn/utils/validation.py\", line 63, in inner_f\n",
      "    return f(*args, **kwargs)\n",
      "  File \"/Users/mat3ra/sisso_collab/.env/lib/python3.9/site-packages/sklearn/utils/validation.py\", line 720, in check_array\n",
      "    _assert_all_finite(array,\n",
      "  File \"/Users/mat3ra/sisso_collab/.env/lib/python3.9/site-packages/sklearn/utils/validation.py\", line 96, in _assert_all_finite\n",
      "    if is_float and (np.isfinite(_safe_accumulator_op(np.sum, X))):\n",
      "  File \"/Users/mat3ra/sisso_collab/.env/lib/python3.9/site-packages/sklearn/utils/extmath.py\", line 687, in _safe_accumulator_op\n",
      "    result = op(x, *args, **kwargs, dtype=np.float64)\n",
      "  File \"<__array_function__ internals>\", line 5, in sum\n",
      "  File \"/Users/mat3ra/sisso_collab/.env/lib/python3.9/site-packages/numpy/core/fromnumeric.py\", line 2259, in sum\n",
      "    return _wrapreduction(a, np.add, 'sum', axis, dtype, out, keepdims=keepdims,\n",
      "  File \"/Users/mat3ra/sisso_collab/.env/lib/python3.9/site-packages/numpy/core/fromnumeric.py\", line 86, in _wrapreduction\n",
      "    return ufunc.reduce(obj, axis, dtype, out, **passkwargs)\n",
      "stopit.utils.TimeoutException\n",
      "WARNING:stopit:Code block execution exceeded 10 seconds timeout\n",
      "Traceback (most recent call last):\n",
      "  File \"/Users/mat3ra/sisso_collab/.env/lib/python3.9/site-packages/stopit/utils.py\", line 145, in wrapper\n",
      "    result = func(*args, **kwargs)\n",
      "  File \"/Users/mat3ra/sisso_collab/.env/lib/python3.9/site-packages/tpot/decorators.py\", line 57, in time_limited_call\n",
      "    func(*args)\n",
      "  File \"/Users/mat3ra/sisso_collab/.env/lib/python3.9/site-packages/sklearn/pipeline.py\", line 346, in fit\n",
      "    self._final_estimator.fit(Xt, y, **fit_params_last_step)\n",
      "  File \"/Users/mat3ra/sisso_collab/.env/lib/python3.9/site-packages/sklearn/ensemble/_weight_boosting.py\", line 1008, in fit\n",
      "    return super().fit(X, y, sample_weight)\n",
      "  File \"/Users/mat3ra/sisso_collab/.env/lib/python3.9/site-packages/sklearn/ensemble/_weight_boosting.py\", line 130, in fit\n",
      "    sample_weight, estimator_weight, estimator_error = self._boost(\n",
      "  File \"/Users/mat3ra/sisso_collab/.env/lib/python3.9/site-packages/sklearn/ensemble/_weight_boosting.py\", line 1069, in _boost\n",
      "    estimator.fit(X_, y_)\n",
      "  File \"/Users/mat3ra/sisso_collab/.env/lib/python3.9/site-packages/sklearn/tree/_classes.py\", line 1252, in fit\n",
      "    super().fit(\n",
      "  File \"/Users/mat3ra/sisso_collab/.env/lib/python3.9/site-packages/sklearn/tree/_classes.py\", line 394, in fit\n",
      "    builder.build(self.tree_, X, y, sample_weight)\n",
      "stopit.utils.TimeoutException\n"
     ]
    },
    {
     "name": "stdout",
     "output_type": "stream",
     "text": [
      "\n",
      "Generation 4 - Current best internal CV score: -0.8462024103089665\n",
      "\n",
      "5.70 minutes have elapsed. TPOT will close down.\n",
      "TPOT closed during evaluation in one generation.\n",
      "WARNING: TPOT may not provide a good pipeline if TPOT is stopped/interrupted in a early generation.\n",
      "\n",
      "\n",
      "TPOT closed prematurely. Will use the current best pipeline.\n",
      "\n",
      "Best pipeline: ExtraTreesRegressor(input_matrix, bootstrap=False, max_features=0.3, min_samples_leaf=2, min_samples_split=11, n_estimators=100)\n"
     ]
    },
    {
     "data": {
      "text/plain": [
       "TPOTRegressor(config_dict={'sklearn.cluster.FeatureAgglomeration': {'affinity': ['euclidean',\n",
       "                                                                                 'l1',\n",
       "                                                                                 'l2',\n",
       "                                                                                 'manhattan',\n",
       "                                                                                 'cosine'],\n",
       "                                                                    'linkage': ['ward',\n",
       "                                                                                'complete',\n",
       "                                                                                'average']},\n",
       "                           'sklearn.decomposition.FastICA': {'tol': array([0.  , 0.05, 0.1 , 0.15, 0.2 , 0.25, 0.3 , 0.35, 0.4 , 0.45, 0.5 ,\n",
       "       0.55, 0.6 , 0.65, 0.7 , 0.75, 0.8 , 0.85, 0.9 , 0.95, 1.  ])},\n",
       "                           'sklearn.decomposition.PCA': {'iterated_power'...\n",
       "                                                    'min_child_weight': range(1, 21),\n",
       "                                                    'n_estimators': [100],\n",
       "                                                    'n_jobs': [1],\n",
       "                                                    'objective': ['reg:squarederror'],\n",
       "                                                    'subsample': array([0.05, 0.1 , 0.15, 0.2 , 0.25, 0.3 , 0.35, 0.4 , 0.45, 0.5 , 0.55,\n",
       "       0.6 , 0.65, 0.7 , 0.75, 0.8 , 0.85, 0.9 , 0.95, 1.  ]),\n",
       "                                                    'verbosity': [0]}},\n",
       "              cv=2, generations=1000000, max_eval_time_mins=0.16666666666666666,\n",
       "              max_time_mins=5, n_jobs=4, random_state=1234,\n",
       "              scoring='neg_mean_squared_error', verbosity=2)"
      ]
     },
     "execution_count": 31,
     "metadata": {},
     "output_type": "execute_result"
    }
   ],
   "source": [
    "import tpot\n",
    "model = tpot.TPOTRegressor(\n",
    "    generations=None,\n",
    "    population_size=100,\n",
    "    max_eval_time_mins=10/60,\n",
    "    max_time_mins=5,\n",
    "    cv=2,\n",
    "    verbosity=2,\n",
    "    scoring=\"neg_mean_squared_error\",\n",
    "    config_dict=tpot.config.regressor_config_dict,\n",
    "    n_jobs=4,\n",
    "    random_state=RANDOM_SEED\n",
    ")\n",
    "model.fit(features=train_x, target=train_y)"
   ]
  },
  {
   "cell_type": "code",
   "execution_count": 32,
   "id": "409bbf3c-bbcb-4599-a8c8-a6e4dbc5bf42",
   "metadata": {},
   "outputs": [
    {
     "name": "stdout",
     "output_type": "stream",
     "text": [
      "Imputing missing values in feature set\n",
      "Imputing missing values in feature set\n"
     ]
    },
    {
     "data": {
      "text/plain": [
       "<matplotlib.legend.Legend at 0x1437babe0>"
      ]
     },
     "execution_count": 32,
     "metadata": {},
     "output_type": "execute_result"
    },
    {
     "data": {
      "image/png": "[encoded data removed]",
      "text/plain": [
       "<Figure size 720x720 with 1 Axes>"
      ]
     },
     "metadata": {
      "needs_background": "light"
     },
     "output_type": "display_data"
    }
   ],
   "source": [
    "train_y_pred = model.predict(train_x)\n",
    "test_y_pred = model.predict(test_x)\n",
    "\n",
    "plt.rcParams['figure.figsize'] = [10,10]\n",
    "\n",
    "plt.scatter(x=train_y_pred, y=train_y, label=\"Train Set\")\n",
    "plt.scatter(x=test_y_pred, y=test_y, label=\"Test Set\")\n",
    "plt.plot([0,8], [0,8], label=\"Parity\")\n",
    "plt.ylabel(\"Bandgap (Actual)\")\n",
    "plt.xlabel(\"Bandgap (Predicted)\")\n",
    "plt.legend()"
   ]
  },
  {
   "cell_type": "code",
   "execution_count": 33,
   "id": "3e9faeb1-297d-4052-bc7a-87f47a2b27cc",
   "metadata": {},
   "outputs": [
    {
     "name": "stdout",
     "output_type": "stream",
     "text": [
      "Test-Set Error Metrics:\n",
      "MAE: 0.6278\n",
      "MAPE: 0.6786\n",
      "MSE: 0.5992\n",
      "R2: 0.7451\n",
      "Max Error: 1.8111\n"
     ]
    }
   ],
   "source": [
    "import sklearn.metrics  \n",
    "print(\"Test-Set Error Metrics:\")\n",
    "for name, metric in [\n",
    "    [\"MAE\", sklearn.metrics.mean_absolute_error],\n",
    "    [\"MAPE\", sklearn.metrics.mean_absolute_percentage_error],\n",
    "    [\"MSE\", sklearn.metrics.mean_squared_error],\n",
    "    [\"R2\", sklearn.metrics.r2_score],\n",
    "    [\"Max Error\", sklearn.metrics.max_error]\n",
    "]:\n",
    "    print(f\"{name}: {np.round(metric(y_true=test_y, y_pred=test_y_pred), 4)}\")\n"
   ]
  },
  {
   "cell_type": "markdown",
   "id": "0f4862f5-b489-4cf0-8ef0-df30af3875bb",
   "metadata": {},
   "source": [
    "**Important Note:** In the first iteration of this notebook, we incorrectly named the coulomb eigenspectrum the \"SOAP Eigenspectrum.\" If we re-run the notebook, should fix that. The point of the below variable importances is that the model chosen by TPOT generally does not select the Coulomb Matrix Eigenspectrum."
   ]
  },
  {
   "cell_type": "code",
   "execution_count": 50,
   "id": "982a0164-761e-4d30-b146-19ddac5dd3a0",
   "metadata": {},
   "outputs": [
    {
     "data": {
      "text/plain": [
       "[('soap_eigenspectrum_0', 0.0012682728287910809),\n",
       " ('soap_eigenspectrum_1', 0.0010859603399182725),\n",
       " ('soap_eigenspectrum_2', 0.0006445210863782394),\n",
       " ('soap_eigenspectrum_4', 0.0006262616144143134),\n",
       " ('soap_eigenspectrum_35', 0.0005797345246574924),\n",
       " ('soap_eigenspectrum_8', 0.0005076739088171631),\n",
       " ('soap_eigenspectrum_34', 0.0004736166342690544),\n",
       " ('soap_eigenspectrum_9', 0.00040206362508192137),\n",
       " ('soap_eigenspectrum_11', 0.000359654329890164),\n",
       " ('soap_eigenspectrum_5', 0.0002747666354408463),\n",
       " ('soap_eigenspectrum_3', 0.0002685782494326702),\n",
       " ('soap_eigenspectrum_10', 0.0002392692536962885),\n",
       " ('soap_eigenspectrum_7', 0.0002195973953006403),\n",
       " ('soap_eigenspectrum_32', 0.00020026417689176265),\n",
       " ('soap_eigenspectrum_33', 0.00016070547206602416),\n",
       " ('soap_eigenspectrum_24', 0.00014825643681490948),\n",
       " ('soap_eigenspectrum_26', 0.00011110171723152402),\n",
       " ('soap_eigenspectrum_27', 0.00010977143440579484),\n",
       " ('soap_eigenspectrum_15', 0.00010274782734979073),\n",
       " ('soap_eigenspectrum_17', 0.000101017498477177),\n",
       " ('soap_eigenspectrum_29', 8.567356756924455e-05),\n",
       " ('soap_eigenspectrum_25', 7.034122382842817e-05),\n",
       " ('soap_eigenspectrum_28', 5.709476164473363e-05),\n",
       " ('soap_eigenspectrum_30', 5.17229514459997e-05),\n",
       " ('soap_eigenspectrum_12', 2.5020970244863772e-05),\n",
       " ('soap_eigenspectrum_13', 1.1117831555643127e-05),\n",
       " ('soap_eigenspectrum_37', 0.0),\n",
       " ('soap_eigenspectrum_36', 0.0),\n",
       " ('soap_eigenspectrum_31', 0.0),\n",
       " ('soap_eigenspectrum_23', 0.0),\n",
       " ('soap_eigenspectrum_22', 0.0),\n",
       " ('soap_eigenspectrum_21', 0.0),\n",
       " ('soap_eigenspectrum_20', 0.0),\n",
       " ('soap_eigenspectrum_19', 0.0),\n",
       " ('soap_eigenspectrum_18', 0.0),\n",
       " ('soap_eigenspectrum_16', 0.0),\n",
       " ('soap_eigenspectrum_14', 0.0),\n",
       " ('soap_eigenspectrum_6', 0.0)]"
      ]
     },
     "execution_count": 50,
     "metadata": {},
     "output_type": "execute_result"
    }
   ],
   "source": [
    "importances = list(zip(data_train.drop(columns='bandgap (eV)').columns, model.fitted_pipeline_[0].feature_importances_))\n",
    "[i for i in list(reversed(sorted(importances, key=lambda i: i[1]))) if i[0].startswith(\"coulomb\")]"
   ]
  },
  {
   "cell_type": "markdown",
   "id": "44ce8c79-17f8-4bd3-9cb6-2fe5c1968f5c",
   "metadata": {},
   "source": [
    "# TPOT Without XenonPy\n",
    "Re-ran TPOT for a few minutes, without any XenonPy descriptors (those containing a colon in the name).\n",
    "Not enough information when we remove these columns. Does not generalize well."
   ]
  },
  {
   "cell_type": "code",
   "execution_count": 57,
   "id": "47de66c0-8fef-4ee4-8b49-7b5fe84c76fd",
   "metadata": {},
   "outputs": [],
   "source": [
    "to_drop = [col for col in data_train.columns if \":\" in col]\n",
    "\n",
    "n_data_train, n_data_test = sklearn.model_selection.train_test_split(df.drop(columns=regression_irrelevant + to_drop + ['formula', '2dm_id (unitless)', 'exfoliation_energy_per_atom (eV/atom)']), test_size=0.1, random_state=RANDOM_SEED)\n",
    "\n",
    "n_train_x = n_data_train.drop(columns=\"bandgap (eV)\").to_numpy().astype(np.float64)\n",
    "n_train_y = n_data_train[\"bandgap (eV)\"].to_numpy()\n",
    "\n",
    "n_test_x = n_data_test.drop(columns=\"bandgap (eV)\").to_numpy().astype(np.float64)\n",
    "n_test_y = n_data_test[\"bandgap (eV)\"].to_numpy()"
   ]
  },
  {
   "cell_type": "code",
   "execution_count": 58,
   "id": "6fa8a5a7-f357-41cd-b500-9860f7225f57",
   "metadata": {},
   "outputs": [
    {
     "name": "stdout",
     "output_type": "stream",
     "text": [
      "Imputing missing values in feature set\n"
     ]
    },
    {
     "data": {
      "application/vnd.jupyter.widget-view+json": {
       "model_id": "ffa2b32b5b1349ada1b3e0889aeb48da",
       "version_major": 2,
       "version_minor": 0
      },
      "text/plain": [
       "Optimization Progress:   0%|          | 0/100 [00:00<?, ?pipeline/s]"
      ]
     },
     "metadata": {},
     "output_type": "display_data"
    },
    {
     "name": "stdout",
     "output_type": "stream",
     "text": [
      "\n",
      "Generation 1 - Current best internal CV score: -1.1237930862653016\n",
      "\n",
      "Generation 2 - Current best internal CV score: -1.1231950059160558\n",
      "\n",
      "Generation 3 - Current best internal CV score: -1.0807338603593737\n",
      "\n",
      "Generation 4 - Current best internal CV score: -1.0805096386554882\n",
      "\n",
      "Generation 5 - Current best internal CV score: -1.0805096386554882\n",
      "\n",
      "Generation 6 - Current best internal CV score: -1.0415556363488772\n",
      "\n",
      "Generation 7 - Current best internal CV score: -1.0415556363488772\n",
      "\n",
      "\n",
      "TPOT closed during evaluation in one generation.\n",
      "WARNING: TPOT may not provide a good pipeline if TPOT is stopped/interrupted in a early generation.\n",
      "\n",
      "\n",
      "TPOT closed prematurely. Will use the current best pipeline.\n",
      "\n",
      "Best pipeline: XGBRegressor(LinearSVR(input_matrix, C=15.0, dual=False, epsilon=1.0, loss=squared_epsilon_insensitive, tol=0.0001), learning_rate=0.1, max_depth=6, min_child_weight=1, n_estimators=100, n_jobs=1, objective=reg:squarederror, subsample=0.8, verbosity=0)\n"
     ]
    },
    {
     "data": {
      "text/plain": [
       "TPOTRegressor(config_dict={'sklearn.cluster.FeatureAgglomeration': {'affinity': ['euclidean',\n",
       "                                                                                 'l1',\n",
       "                                                                                 'l2',\n",
       "                                                                                 'manhattan',\n",
       "                                                                                 'cosine'],\n",
       "                                                                    'linkage': ['ward',\n",
       "                                                                                'complete',\n",
       "                                                                                'average']},\n",
       "                           'sklearn.decomposition.FastICA': {'tol': array([0.  , 0.05, 0.1 , 0.15, 0.2 , 0.25, 0.3 , 0.35, 0.4 , 0.45, 0.5 ,\n",
       "       0.55, 0.6 , 0.65, 0.7 , 0.75, 0.8 , 0.85, 0.9 , 0.95, 1.  ])},\n",
       "                           'sklearn.decomposition.PCA': {'iterated_power'...\n",
       "                                                    'min_child_weight': range(1, 21),\n",
       "                                                    'n_estimators': [100],\n",
       "                                                    'n_jobs': [1],\n",
       "                                                    'objective': ['reg:squarederror'],\n",
       "                                                    'subsample': array([0.05, 0.1 , 0.15, 0.2 , 0.25, 0.3 , 0.35, 0.4 , 0.45, 0.5 , 0.55,\n",
       "       0.6 , 0.65, 0.7 , 0.75, 0.8 , 0.85, 0.9 , 0.95, 1.  ]),\n",
       "                                                    'verbosity': [0]}},\n",
       "              cv=2, generations=1000000, max_eval_time_mins=0.16666666666666666,\n",
       "              max_time_mins=5, n_jobs=4, random_state=1234,\n",
       "              scoring='neg_mean_squared_error', verbosity=2)"
      ]
     },
     "execution_count": 58,
     "metadata": {},
     "output_type": "execute_result"
    }
   ],
   "source": [
    "import tpot\n",
    "n_model = tpot.TPOTRegressor(\n",
    "    generations=None,\n",
    "    population_size=100,\n",
    "    max_eval_time_mins=10/60,\n",
    "    max_time_mins=5,\n",
    "    cv=2,\n",
    "    verbosity=2,\n",
    "    scoring=\"neg_mean_squared_error\",\n",
    "    config_dict=tpot.config.regressor_config_dict,\n",
    "    n_jobs=4,\n",
    "    random_state=RANDOM_SEED\n",
    ")\n",
    "n_model.fit(features=n_train_x, target=n_train_y)"
   ]
  },
  {
   "cell_type": "code",
   "execution_count": 60,
   "id": "b3044ff3-17ec-4d1d-98a5-d1add301558e",
   "metadata": {},
   "outputs": [
    {
     "name": "stdout",
     "output_type": "stream",
     "text": [
      "Imputing missing values in feature set\n",
      "Imputing missing values in feature set\n"
     ]
    },
    {
     "data": {
      "text/plain": [
       "<matplotlib.legend.Legend at 0x15b020ac0>"
      ]
     },
     "execution_count": 60,
     "metadata": {},
     "output_type": "execute_result"
    },
    {
     "data": {
      "image/png": "[encoded data removed]",
      "text/plain": [
       "<Figure size 720x720 with 1 Axes>"
      ]
     },
     "metadata": {
      "needs_background": "light"
     },
     "output_type": "display_data"
    }
   ],
   "source": [
    "n_train_y_pred = n_model.predict(n_train_x)\n",
    "n_test_y_pred = n_model.predict(n_test_x)\n",
    "\n",
    "plt.rcParams['figure.figsize'] = [10,10]\n",
    "\n",
    "plt.scatter(x=n_train_y_pred, y=n_train_y, label=\"Train Set\")\n",
    "plt.scatter(x=n_test_y_pred, y=n_test_y, label=\"Test Set\")\n",
    "plt.plot([0,8], [0,8], label=\"Parity\")\n",
    "plt.ylabel(\"Bandgap (Actual)\")\n",
    "plt.xlabel(\"Bandgap (Predicted)\")\n",
    "plt.legend()"
   ]
  },
  {
   "cell_type": "code",
   "execution_count": null,
   "id": "de2e173a-a150-4dde-9fda-980e0a21d7bf",
   "metadata": {},
   "outputs": [],
   "source": []
  }
 ],
 "metadata": {
  "kernelspec": {
   "display_name": "Python 3 (ipykernel)",
   "language": "python",
   "name": "python3"
  },
  "language_info": {
   "codemirror_mode": {
    "name": "ipython",
    "version": 3
   },
   "file_extension": ".py",
   "mimetype": "text/x-python",
   "name": "python",
   "nbconvert_exporter": "python",
   "pygments_lexer": "ipython3",
   "version": "3.8.6"
  }
 },
 "nbformat": 4,
 "nbformat_minor": 5
}
