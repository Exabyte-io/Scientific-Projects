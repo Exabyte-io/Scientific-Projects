{
 "cells": [
  {
   "cell_type": "code",
   "execution_count": 1,
   "id": "a540a1cc-ee6f-4fd7-b4d2-146eba9b0404",
   "metadata": {},
   "outputs": [],
   "source": [
    "import collections\n",
    "import random\n",
    "\n",
    "import numpy as np\n",
    "import pandas as pd\n",
    "\n",
    "import sklearn.model_selection\n",
    "from xenonpy.descriptor import Compositions"
   ]
  },
  {
   "cell_type": "code",
   "execution_count": 2,
   "id": "dab0f017-6afc-4e96-8713-4660e4fcbc4e",
   "metadata": {},
   "outputs": [
    {
     "data": {
      "text/html": [
       "<div>\n",
       "<style scoped>\n",
       "    .dataframe tbody tr th:only-of-type {\n",
       "        vertical-align: middle;\n",
       "    }\n",
       "\n",
       "    .dataframe tbody tr th {\n",
       "        vertical-align: top;\n",
       "    }\n",
       "\n",
       "    .dataframe thead th {\n",
       "        text-align: right;\n",
       "    }\n",
       "</style>\n",
       "<table border=\"1\" class=\"dataframe\">\n",
       "  <thead>\n",
       "    <tr style=\"text-align: right;\">\n",
       "      <th></th>\n",
       "      <th>Formula</th>\n",
       "      <th>Atoms_Object</th>\n",
       "      <th>Volume</th>\n",
       "    </tr>\n",
       "  </thead>\n",
       "  <tbody>\n",
       "    <tr>\n",
       "      <th>0</th>\n",
       "      <td>AgCl3K</td>\n",
       "      <td>(Atom('K', [2.546784180928994, 2.5467841809289...</td>\n",
       "      <td>132.452162</td>\n",
       "    </tr>\n",
       "    <tr>\n",
       "      <th>1</th>\n",
       "      <td>La2N6W2</td>\n",
       "      <td>(Atom('La', [2.665318694121161, 2.857224133724...</td>\n",
       "      <td>131.788590</td>\n",
       "    </tr>\n",
       "    <tr>\n",
       "      <th>2</th>\n",
       "      <td>O3SrV</td>\n",
       "      <td>(Atom('Sr', [1.9322684339857643, 1.93226843398...</td>\n",
       "      <td>57.715487</td>\n",
       "    </tr>\n",
       "    <tr>\n",
       "      <th>3</th>\n",
       "      <td>Cl6Cs2Tl2</td>\n",
       "      <td>(Atom('Cs', [7.926562986915786, 0.0, 0.0289390...</td>\n",
       "      <td>353.251510</td>\n",
       "    </tr>\n",
       "    <tr>\n",
       "      <th>4</th>\n",
       "      <td>F3MnRb</td>\n",
       "      <td>(Atom('Rb', [2.1409860345006186, 2.14098603450...</td>\n",
       "      <td>78.511177</td>\n",
       "    </tr>\n",
       "  </tbody>\n",
       "</table>\n",
       "</div>"
      ],
      "text/plain": [
       "     Formula                                       Atoms_Object      Volume\n",
       "0     AgCl3K  (Atom('K', [2.546784180928994, 2.5467841809289...  132.452162\n",
       "1    La2N6W2  (Atom('La', [2.665318694121161, 2.857224133724...  131.788590\n",
       "2      O3SrV  (Atom('Sr', [1.9322684339857643, 1.93226843398...   57.715487\n",
       "3  Cl6Cs2Tl2  (Atom('Cs', [7.926562986915786, 0.0, 0.0289390...  353.251510\n",
       "4     F3MnRb  (Atom('Rb', [2.1409860345006186, 2.14098603450...   78.511177"
      ]
     },
     "execution_count": 2,
     "metadata": {},
     "output_type": "execute_result"
    }
   ],
   "source": [
    "# Read data\n",
    "data_path = \"raw_data/perovskites.pkl\"\n",
    "data = pd.read_pickle(data_path)\n",
    "data.head()"
   ]
  },
  {
   "cell_type": "code",
   "execution_count": 3,
   "id": "1ddfe733-4bef-49d8-9790-5ff968af0eb0",
   "metadata": {},
   "outputs": [],
   "source": [
    "data[\"Volume\"] /= data[\"Atoms_Object\"].apply(lambda atoms: len(atoms)//5)\n",
    "\n",
    "# Featurize with XenonPy\n",
    "cal = Compositions(featurizers=[\"WeightedAverage\"])\n",
    "data[\"Symbols\"] = data.Atoms_Object.apply(lambda atoms: collections.Counter(atoms.get_chemical_symbols()))\n",
    "featurized_data = pd.concat([data, cal.transform(data.Symbols)], axis=1)"
   ]
  },
  {
   "cell_type": "code",
   "execution_count": 4,
   "id": "63e33bba-a9fc-4be3-82e0-04ceea518036",
   "metadata": {},
   "outputs": [],
   "source": [
    "data = featurized_data.drop(columns=[\"Formula\", \"Atoms_Object\", \"Symbols\"])\n",
    "\n",
    "# Train/Test Split\n",
    "np.random.seed(1234)\n",
    "random.seed(1234)\n",
    "\n",
    "train, test = sklearn.model_selection.train_test_split(data, test_size=0.2)\n",
    "mean = train.mean()\n",
    "std = train.std()"
   ]
  },
  {
   "cell_type": "code",
   "execution_count": 5,
   "id": "6394655a-91f0-4da9-828f-0c9f8f89e677",
   "metadata": {},
   "outputs": [],
   "source": [
    "train_scaled = ((train - mean) / std).dropna(axis=1)\n",
    "test_scaled = ((test - mean) / std).dropna(axis=1)"
   ]
  },
  {
   "cell_type": "code",
   "execution_count": 6,
   "id": "1593233e-54c0-4bd2-b862-2f42b28a83dd",
   "metadata": {},
   "outputs": [],
   "source": [
    "mean.to_pickle(\"dataset_means_stds/perov_mean.pkl\")\n",
    "std.to_pickle(\"dataset_means_stds/perov_std.pkl\")\n",
    "\n",
    "train_scaled.to_csv(\"scaled_featurized_train/scaled_perovskite_train.csv\")\n",
    "test_scaled.to_csv(\"scaled_featurized_test/scaled_perovskite_test.csv\")"
   ]
  },
  {
   "cell_type": "code",
   "execution_count": null,
   "id": "b557a6b6-6100-4e36-a764-74aee1f847d9",
   "metadata": {},
   "outputs": [],
   "source": []
  }
 ],
 "metadata": {
  "kernelspec": {
   "display_name": "Python 3",
   "language": "python",
   "name": "python3"
  },
  "language_info": {
   "codemirror_mode": {
    "name": "ipython",
    "version": 3
   },
   "file_extension": ".py",
   "mimetype": "text/x-python",
   "name": "python",
   "nbconvert_exporter": "python",
   "pygments_lexer": "ipython3",
   "version": "3.9.5"
  }
 },
 "nbformat": 4,
 "nbformat_minor": 5
}
