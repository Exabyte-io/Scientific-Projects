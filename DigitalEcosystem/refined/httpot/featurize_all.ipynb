{
 "cells": [
  {
   "cell_type": "markdown",
   "metadata": {
    "jupyter": {
     "outputs_hidden": false
    },
    "pycharm": {
     "name": "#%% md\n"
    }
   },
   "source": [
    "# Featurization\n",
    "\n",
    "In this notebook, we apply some structural descriptors to our dataset, such as the number of `halide`-`transitoin metal`-`halide` bonds in the system. These are a bit expensive to calculate, and end up taking an hour or two. For this reason, we pickle them here."
   ]
  },
  {
   "cell_type": "code",
   "execution_count": 2,
   "metadata": {
    "collapsed": false,
    "jupyter": {
     "outputs_hidden": false
    },
    "pycharm": {
     "name": "#%%\n"
    }
   },
   "outputs": [],
   "source": [
    "import itertools\n",
    "import warnings\n",
    "import collections\n",
    "\n",
    "import pandas as pd\n",
    "import random\n",
    "import numpy as np\n",
    "import swifter\n",
    "\n",
    "import tqdm\n",
    "\n",
    "import pymatgen.io\n",
    "\n",
    "from DigitalEcosystem.utils.fingerprints import maybe_global_instability, average_bond_length, \\\n",
    "                                                average_bond_angle, average_cn, ab_perimeter_area_ratio, \\\n",
    "                                                neighbor_finder\n",
    "\n",
    "from matminer.featurizers.base import MultipleFeaturizer\n",
    "from matminer.featurizers.structure.misc import EwaldEnergy\n",
    "from matminer.featurizers.structure.order import StructuralComplexity\n",
    "from matminer.featurizers.structure.symmetry import GlobalSymmetryFeatures"
   ]
  },
  {
   "cell_type": "code",
   "execution_count": 3,
   "metadata": {
    "collapsed": false,
    "jupyter": {
     "outputs_hidden": false
    },
    "pycharm": {
     "name": "#%%\n"
    }
   },
   "outputs": [],
   "source": [
    "RANDOM_SEED = 1234\n",
    "np.random.seed(RANDOM_SEED)\n",
    "random.seed(RANDOM_SEED)\n",
    "pd.options.mode.chained_assignment = None\n",
    "tqdm.tqdm.pandas()"
   ]
  },
  {
   "cell_type": "markdown",
   "metadata": {
    "jupyter": {
     "outputs_hidden": false
    },
    "pycharm": {
     "name": "#%% md\n"
    }
   },
   "source": [
    "# Read the Datset\n",
    "\n",
    "We'll start by loading up the entire dataset."
   ]
  },
  {
   "cell_type": "code",
   "execution_count": 4,
   "metadata": {
    "collapsed": false,
    "jupyter": {
     "outputs_hidden": false
    },
    "pycharm": {
     "name": "#%%\n"
    }
   },
   "outputs": [],
   "source": [
    "dataset_path = \"../../raw_data/2d_mat_dataset_raw.pkl\"\n",
    "df = pd.read_pickle(dataset_path)"
   ]
  },
  {
   "cell_type": "markdown",
   "metadata": {
    "jupyter": {
     "outputs_hidden": false
    },
    "pycharm": {
     "name": "#%% md\n"
    }
   },
   "source": [
    "# Featurize the Dataset\n",
    "\n",
    "Now, we're going to add features to our dataset. We already have several compositional features calculated using\n",
    "XenonPy, and we may get some better performance out of our models if we also incorporate structural descriptors.\n",
    "\n",
    "We'll start by leveraging PyMatGen to estimate the oxidation state of our 2D materials. This will be useful for the\n",
    "calculation of some of our features down the road, which require information about the oxidation state."
   ]
  },
  {
   "cell_type": "code",
   "execution_count": 5,
   "metadata": {
    "collapsed": false,
    "jupyter": {
     "outputs_hidden": false
    },
    "pycharm": {
     "name": "#%%\n"
    }
   },
   "outputs": [
    {
     "data": {
      "application/vnd.jupyter.widget-view+json": {
       "model_id": "983533c7d3b24a54aaed76748f8e5566",
       "version_major": 2,
       "version_minor": 0
      },
      "text/plain": [
       "Pandas Apply:   0%|          | 0/6351 [00:00<?, ?it/s]"
      ]
     },
     "metadata": {},
     "output_type": "display_data"
    },
    {
     "data": {
      "text/plain": [
       "0       None\n",
       "1       None\n",
       "2       None\n",
       "3       None\n",
       "4       None\n",
       "        ... \n",
       "6346    None\n",
       "6347    None\n",
       "6348    None\n",
       "6349    None\n",
       "6350    None\n",
       "Name: ox_struct, Length: 6351, dtype: object"
      ]
     },
     "execution_count": 5,
     "metadata": {},
     "output_type": "execute_result"
    }
   ],
   "source": [
    "# Pymatgen oxidation structure guess (needed for later)\n",
    "\n",
    "structures = df['atoms_object (unitless)'].apply(pymatgen.io.ase.AseAtomsAdaptor.get_structure)\n",
    "df['ox_struct'] = structures.apply(lambda i: i.copy())\n",
    "\n",
    "# struct.add_oxidation_state_by_guess() modifies the structure in-place\n",
    "df.ox_struct.swifter.apply(lambda struct: struct.add_oxidation_state_by_guess())"
   ]
  },
  {
   "cell_type": "markdown",
   "metadata": {
    "jupyter": {
     "outputs_hidden": false
    },
    "pycharm": {
     "name": "#%% md\n"
    }
   },
   "source": [
    "## Ewald Energy\n",
    "[Documentation Link](https://hackingmaterials.lbl.gov/matminer/matminer.featurizers.structure.html#matminer.featurizers.structure.misc.EwaldEnergy)\n",
    "\n",
    "Using the partial charges we estimated earlier, this will approximate the long-range interactions between ions in our\n",
    "2D systems.\n",
    "\n",
    "## Structural Complexity\n",
    "[Documentation Link](https://hackingmaterials.lbl.gov/matminer/matminer.featurizers.structure.html#matminer.featurizers.structure.order.StructuralComplexity)\n",
    "\n",
    "This is a variation on the Shannon entropy that accounts for the symmetry of the unit cell. This helps assess how\n",
    "organized / disorganized our system is, providing some estimation of its entropy.\n",
    "\n",
    "## N Symmetry Ops\n",
    "[Documentation Link](https://hackingmaterials.lbl.gov/matminer/matminer.featurizers.structure.html#matminer.featurizers.structure.order.StructuralComplexity)\n",
    "\n",
    "Number of symmetry operations allowed by the point group in our unit cell."
   ]
  },
  {
   "cell_type": "code",
   "execution_count": 6,
   "metadata": {
    "collapsed": false,
    "jupyter": {
     "outputs_hidden": false
    },
    "pycharm": {
     "name": "#%%\n"
    }
   },
   "outputs": [
    {
     "data": {
      "application/vnd.jupyter.widget-view+json": {
       "model_id": "c2ba6a86bf394dedaffc33373fa85fdb",
       "version_major": 2,
       "version_minor": 0
      },
      "text/plain": [
       "MultipleFeaturizer:   0%|          | 0/6351 [00:00<?, ?it/s]"
      ]
     },
     "metadata": {},
     "output_type": "display_data"
    },
    {
     "name": "stdout",
     "output_type": "stream",
     "text": [
      "['ewald_energy_per_atom', 'structural complexity per atom', 'structural complexity per cell', 'n_symmetry_ops']\n"
     ]
    }
   ],
   "source": [
    "# Ewald Energy, Structural Complexity, and Global Symmetry Indices\n",
    "\n",
    "struct_features = MultipleFeaturizer([\n",
    "    EwaldEnergy(),\n",
    "    StructuralComplexity(),\n",
    "    GlobalSymmetryFeatures('n_symmetry_ops'),\n",
    "])\n",
    "df[struct_features.feature_labels()] = struct_features.featurize_many(df.ox_struct).copy()\n",
    "print(struct_features.feature_labels())"
   ]
  },
  {
   "cell_type": "markdown",
   "metadata": {
    "jupyter": {
     "outputs_hidden": false
    },
    "pycharm": {
     "name": "#%% md\n"
    }
   },
   "source": [
    "## Global Instability Index\n",
    "[Documentation Link](https://hackingmaterials.lbl.gov/matminer/matminer.featurizers.structure.html#matminer.featurizers.structure.order.StructuralComplexity)\n",
    "\n",
    "The global instability index is based on the work of Salinas-Sanches, A. in the following publication: [Link](https://www.sciencedirect.com/science/article/abs/pii/002245969290094C?via%3Dihub).\n",
    "\n",
    "Essentially, it estimates, on average, how strained the bonds are in the system (e.g. are the over-or under-bonding).\n"
   ]
  },
  {
   "cell_type": "code",
   "execution_count": 7,
   "metadata": {
    "collapsed": false,
    "jupyter": {
     "outputs_hidden": false
    },
    "pycharm": {
     "name": "#%%\n"
    }
   },
   "outputs": [
    {
     "name": "stderr",
     "output_type": "stream",
     "text": [
      "/Users/mat3ra/.env/lib/python3.8/site-packages/pandas/io/parsers/readers.py:586: ParserWarning: Length of header or names does not match length of data. This leads to a loss of data with index_col=False.\n",
      "  return _read(filepath_or_buffer, kwds)\n"
     ]
    },
    {
     "data": {
      "application/vnd.jupyter.widget-view+json": {
       "model_id": "8e30ed420003434aa67219a269b63c4b",
       "version_major": 2,
       "version_minor": 0
      },
      "text/plain": [
       "Pandas Apply:   0%|          | 0/6351 [00:00<?, ?it/s]"
      ]
     },
     "metadata": {},
     "output_type": "display_data"
    }
   ],
   "source": [
    "with warnings.catch_warnings():\n",
    "    warnings.simplefilter('ignore')\n",
    "    df['global_instability'] = df.ox_struct.swifter.apply(maybe_global_instability).copy()"
   ]
  },
  {
   "cell_type": "markdown",
   "metadata": {
    "jupyter": {
     "outputs_hidden": false
    },
    "pycharm": {
     "name": "#%% md\n"
    }
   },
   "source": [
    "## Choosing a Neighbor Finder\n",
    "\n",
    "The next several descriptors will require us to define what exactly it means for two atoms to be \"neighbors.\" Many of\n",
    "the neighbor-finders in PyMatGen use a voronoi-based algorithm that has trouble with some slabs. As of August 2021,\n",
    "the issue is still open, as shown in this link: [Link](https://github.com/materialsproject/pymatgen/issues/801)\n",
    "\n",
    "Here, we'll take the neighbor-finding algorithm of JMol, as implemented in PyMatGen."
   ]
  },
  {
   "cell_type": "markdown",
   "metadata": {
    "jupyter": {
     "outputs_hidden": false
    },
    "pycharm": {
     "name": "#%% md\n"
    }
   },
   "source": [
    "## Average Bond Length\n",
    "[Documentation Link](https://hackingmaterials.lbl.gov/matminer/matminer.featurizers.site.html#matminer.featurizers.site.bonding.AverageBondLength)\n",
    "\n",
    "We will also calculate the average bond length in our system."
   ]
  },
  {
   "cell_type": "code",
   "execution_count": 8,
   "metadata": {
    "collapsed": false,
    "jupyter": {
     "outputs_hidden": false
    },
    "pycharm": {
     "name": "#%%\n"
    }
   },
   "outputs": [
    {
     "data": {
      "application/vnd.jupyter.widget-view+json": {
       "model_id": "69ad845c3a0a47fca6e1db8372dd7986",
       "version_major": 2,
       "version_minor": 0
      },
      "text/plain": [
       "Pandas Apply:   0%|          | 0/6351 [00:00<?, ?it/s]"
      ]
     },
     "metadata": {},
     "output_type": "display_data"
    }
   ],
   "source": [
    "df['bond_length_average'] = df.ox_struct.swifter.apply(average_bond_length).copy()"
   ]
  },
  {
   "cell_type": "markdown",
   "metadata": {
    "jupyter": {
     "outputs_hidden": false
    },
    "pycharm": {
     "name": "#%% md\n"
    }
   },
   "source": [
    "## Average Bond Angle\n",
    "[Documentation Link](https://hackingmaterials.lbl.gov/matminer/matminer.featurizers.site.html#matminer.featurizers.site.bonding.AverageBondAngle)\n",
    "\n",
    "We'll additionally determine the average bond angle between atoms in our system."
   ]
  },
  {
   "cell_type": "code",
   "execution_count": 9,
   "metadata": {
    "collapsed": false,
    "jupyter": {
     "outputs_hidden": false
    },
    "pycharm": {
     "name": "#%%\n"
    }
   },
   "outputs": [
    {
     "data": {
      "application/vnd.jupyter.widget-view+json": {
       "model_id": "8056080aad4a4a57b66abace83425f43",
       "version_major": 2,
       "version_minor": 0
      },
      "text/plain": [
       "Pandas Apply:   0%|          | 0/6351 [00:00<?, ?it/s]"
      ]
     },
     "metadata": {},
     "output_type": "display_data"
    },
    {
     "name": "stderr",
     "output_type": "stream",
     "text": [
      "/Users/mat3ra/.env/lib/python3.8/site-packages/matminer/featurizers/site/bonding.py:250: RuntimeWarning: All-NaN slice encountered\n",
      "  minimum_bond_angles = np.nanmin(bond_angles, axis=1)\n"
     ]
    }
   ],
   "source": [
    "df['bond_angle_average'] = df.ox_struct.swifter.apply(average_bond_angle).copy()"
   ]
  },
  {
   "cell_type": "markdown",
   "metadata": {
    "jupyter": {
     "outputs_hidden": false
    },
    "pycharm": {
     "name": "#%% md\n"
    }
   },
   "source": [
    "## Average Coordination Number\n",
    "\n",
    "We'll determine how coordinated, on average, the different atoms in our system are. This is accomplished by\n",
    "determining the number of nearest neighbors with the neighbor finder we defined earlier, and averaging over\n",
    "the atoms in the crystal cell."
   ]
  },
  {
   "cell_type": "code",
   "execution_count": 10,
   "metadata": {
    "collapsed": false,
    "jupyter": {
     "outputs_hidden": false
    },
    "pycharm": {
     "name": "#%%\n"
    }
   },
   "outputs": [
    {
     "data": {
      "application/vnd.jupyter.widget-view+json": {
       "model_id": "7af725263eeb44b89daaf56398f6d7d4",
       "version_major": 2,
       "version_minor": 0
      },
      "text/plain": [
       "Pandas Apply:   0%|          | 0/6351 [00:00<?, ?it/s]"
      ]
     },
     "metadata": {},
     "output_type": "display_data"
    }
   ],
   "source": [
    "df['average_cn'] = df.ox_struct.swifter.apply(average_cn).copy()"
   ]
  },
  {
   "cell_type": "markdown",
   "metadata": {
    "jupyter": {
     "outputs_hidden": false
    },
    "pycharm": {
     "name": "#%% md\n"
    }
   },
   "source": [
    "## AB Perimeter/Area Ratio\n",
    "\n",
    "Next, we'll try to assess how square our unit cell is in the two directions parallel to the surface. To do this, we'll\n",
    "take the ratio of the perimeter to the area of the cell."
   ]
  },
  {
   "cell_type": "code",
   "execution_count": 11,
   "metadata": {
    "collapsed": false,
    "jupyter": {
     "outputs_hidden": false
    },
    "pycharm": {
     "name": "#%%\n"
    }
   },
   "outputs": [
    {
     "data": {
      "application/vnd.jupyter.widget-view+json": {
       "model_id": "6057b265e1044f79b7a8da2460941370",
       "version_major": 2,
       "version_minor": 0
      },
      "text/plain": [
       "Pandas Apply:   0%|          | 0/6351 [00:00<?, ?it/s]"
      ]
     },
     "metadata": {},
     "output_type": "display_data"
    }
   ],
   "source": [
    "df['perimeter_area_ratio'] = df.ox_struct.swifter.apply(ab_perimeter_area_ratio).copy()"
   ]
  },
  {
   "cell_type": "markdown",
   "metadata": {
    "jupyter": {
     "outputs_hidden": false
    },
    "pycharm": {
     "name": "#%% md\n"
    }
   },
   "source": [
    "Next, we'll extract the formula from the system."
   ]
  },
  {
   "cell_type": "code",
   "execution_count": 12,
   "metadata": {
    "collapsed": false,
    "jupyter": {
     "outputs_hidden": false
    },
    "pycharm": {
     "name": "#%%\n"
    }
   },
   "outputs": [
    {
     "data": {
      "application/vnd.jupyter.widget-view+json": {
       "model_id": "8055d571e7c24ecf96195da8902f3ad9",
       "version_major": 2,
       "version_minor": 0
      },
      "text/plain": [
       "Pandas Apply:   0%|          | 0/6351 [00:00<?, ?it/s]"
      ]
     },
     "metadata": {},
     "output_type": "display_data"
    }
   ],
   "source": [
    "df[\"formula\"] = df[\"atoms_object (unitless)\"].swifter.apply(lambda atoms: atoms.get_chemical_formula(empirical=True))"
   ]
  },
  {
   "cell_type": "markdown",
   "metadata": {
    "jupyter": {
     "outputs_hidden": false
    },
    "pycharm": {
     "name": "#%% md\n"
    }
   },
   "source": [
    "## Structural Descriptors\n",
    "\n",
    "Next, we'll calculate some structural descriptors, similar to the ones that had been used by Bhowmik, R. et al in [DOI 10.1016/j.polymer.2021.123558](https://doi.org/10.1016/j.polymer.2021.123558).\n",
    "\n",
    "Because there are a wide variety of elements in our dataset, to try and keep this from generating too many columns, we'll bin each element into different sections of the periodic table:\n",
    "- Alkaline metals\n",
    "- Alkaline earth metals\n",
    "- Early transition metals (d5 metals and earlier)\n",
    "- Late transition metals (d6 metals and later)\n",
    "- Triels (group 13 / Boron group)\n",
    "- Tetrels (group 14 / Carbon group)\n",
    "- Pnictogens\n",
    "- Chalcogens\n",
    "- Halides\n",
    "- Noble Gases\n",
    "- F-block elements\n",
    "- Post-Uranium elements\n",
    "\n",
    "We'll be looking for the following counts:\n",
    "- Number of each group (e.g. number of alkaline, number of triel, etc)\n",
    "- Number of each group-group bond (e.g. number of alkaline-early_transition, number of chalcogen-chalcogen, etc)\n",
    "- Number of each grou-grou-group angle (e.g. number of halide-late_transition-halide, number of tetrel-tetrel-tetrel, etc)\n",
    "\n",
    "Adding dihedrals as well would have required a more complex graph traversal algorithm, so in the interest of time we forego this."
   ]
  },
  {
   "cell_type": "code",
   "execution_count": 13,
   "metadata": {
    "collapsed": false,
    "jupyter": {
     "outputs_hidden": false
    },
    "pycharm": {
     "name": "#%%\n"
    }
   },
   "outputs": [],
   "source": [
    "classes = {\n",
    "    'alkaline' : ['H', 'Li', 'Na', 'K', 'Rb', 'Cs', 'Fr'],\n",
    "    'alkaine_earth' : ['Be', 'Mg', 'Ca', 'Sr', 'Ba', 'Ra'],\n",
    "    'early_transition' : ['Sc', 'Ti', 'V', 'Cr', 'Mn',\n",
    "                          'Y',  'Zr', 'Nb', 'Mo', 'Tc',\n",
    "                                'Hf', 'Ta', 'W', 'Re',],\n",
    "    'late_transition' : ['Fe', 'Co', 'Ni', 'Cu', 'Zn',\n",
    "                         'Ru', 'Rh', 'Pd', 'Ag', 'Cd',\n",
    "                         'Os', 'Ir', 'Pt', 'Au', 'Hg'],\n",
    "    'triel' : ['B', 'Al', 'Ga', 'In', 'Tl'],\n",
    "    'tetrel' : ['C', 'Si', 'Ge', 'Sn', 'Pb'],\n",
    "    'pnictogen' : ['N', 'P', 'As', 'Sb', 'Bi'],\n",
    "    'chalcogen' : ['O', 'S', 'Se', 'Te', 'Po'],\n",
    "    'halide' : ['F', 'Cl', 'Br', 'I', 'At'],\n",
    "    'noble_gas' : ['He', 'Ne', 'Ar', 'Kr', 'Xe', 'Rn'],\n",
    "    'f_block' : ['La', 'Ce', 'Pr', 'Nd', 'Pm', 'Sm', 'Eu', 'Gd', 'Tb', 'Dy', 'Ho', 'Er', 'Tm', 'Yb', 'Lu',\n",
    "                 'Ac', 'Th', 'Pa', 'U'],\n",
    "    'post_uranium' : ['Np', 'Pu', 'Am', 'Cm', 'Bk', 'Cf', 'Es', 'Fm', 'Md', 'No', 'Lr',\n",
    "                      'Rf', 'Db', 'Sg', 'Bh', 'Hs', 'Mt', 'Ds', 'Rg', 'Cn', 'Nh', 'Fl', 'Mc', 'Lv', 'Ts', 'Og']\n",
    "}\n",
    "\n",
    "groups = {}\n",
    "for key, values in classes.items():\n",
    "    for val in values:\n",
    "        groups[val] = key"
   ]
  },
  {
   "cell_type": "markdown",
   "metadata": {
    "jupyter": {
     "outputs_hidden": false
    },
    "pycharm": {
     "name": "#%% md\n"
    }
   },
   "source": [
    "We then take a second pass over our system - this is probably rather inefficient. But this was faster to code."
   ]
  },
  {
   "cell_type": "code",
   "execution_count": 16,
   "metadata": {
    "collapsed": false,
    "jupyter": {
     "outputs_hidden": false
    },
    "pycharm": {
     "name": "#%%\n"
    }
   },
   "outputs": [
    {
     "name": "stderr",
     "output_type": "stream",
     "text": [
      "100%|██████████| 6351/6351 [53:54<00:00,  1.96it/s]  \n"
     ]
    },
    {
     "ename": "AttributeError",
     "evalue": "'DataFrame' object has no attribute 'to_picke'",
     "output_type": "error",
     "traceback": [
      "\u001B[0;31m---------------------------------------------------------------------------\u001B[0m",
      "\u001B[0;31mAttributeError\u001B[0m                            Traceback (most recent call last)",
      "\u001B[0;32m<ipython-input-16-8808eda1e1e1>\u001B[0m in \u001B[0;36m<module>\u001B[0;34m\u001B[0m\n\u001B[1;32m     24\u001B[0m         \u001B[0mpbar\u001B[0m\u001B[0;34m.\u001B[0m\u001B[0mupdate\u001B[0m\u001B[0;34m(\u001B[0m\u001B[0;36m1\u001B[0m\u001B[0;34m)\u001B[0m\u001B[0;34m\u001B[0m\u001B[0;34m\u001B[0m\u001B[0m\n\u001B[1;32m     25\u001B[0m \u001B[0;34m\u001B[0m\u001B[0m\n\u001B[0;32m---> 26\u001B[0;31m \u001B[0mdf\u001B[0m\u001B[0;34m.\u001B[0m\u001B[0mto_picke\u001B[0m\u001B[0;34m(\u001B[0m\u001B[0;34m'backup.pkl'\u001B[0m\u001B[0;34m)\u001B[0m\u001B[0;34m\u001B[0m\u001B[0;34m\u001B[0m\u001B[0m\n\u001B[0m",
      "\u001B[0;32m~/.env/lib/python3.8/site-packages/pandas/core/generic.py\u001B[0m in \u001B[0;36m__getattr__\u001B[0;34m(self, name)\u001B[0m\n\u001B[1;32m   5476\u001B[0m         ):\n\u001B[1;32m   5477\u001B[0m             \u001B[0;32mreturn\u001B[0m \u001B[0mself\u001B[0m\u001B[0;34m[\u001B[0m\u001B[0mname\u001B[0m\u001B[0;34m]\u001B[0m\u001B[0;34m\u001B[0m\u001B[0;34m\u001B[0m\u001B[0m\n\u001B[0;32m-> 5478\u001B[0;31m         \u001B[0;32mreturn\u001B[0m \u001B[0mobject\u001B[0m\u001B[0;34m.\u001B[0m\u001B[0m__getattribute__\u001B[0m\u001B[0;34m(\u001B[0m\u001B[0mself\u001B[0m\u001B[0;34m,\u001B[0m \u001B[0mname\u001B[0m\u001B[0;34m)\u001B[0m\u001B[0;34m\u001B[0m\u001B[0;34m\u001B[0m\u001B[0m\n\u001B[0m\u001B[1;32m   5479\u001B[0m \u001B[0;34m\u001B[0m\u001B[0m\n\u001B[1;32m   5480\u001B[0m     \u001B[0;32mdef\u001B[0m \u001B[0m__setattr__\u001B[0m\u001B[0;34m(\u001B[0m\u001B[0mself\u001B[0m\u001B[0;34m,\u001B[0m \u001B[0mname\u001B[0m\u001B[0;34m:\u001B[0m \u001B[0mstr\u001B[0m\u001B[0;34m,\u001B[0m \u001B[0mvalue\u001B[0m\u001B[0;34m)\u001B[0m \u001B[0;34m->\u001B[0m \u001B[0;32mNone\u001B[0m\u001B[0;34m:\u001B[0m\u001B[0;34m\u001B[0m\u001B[0;34m\u001B[0m\u001B[0m\n",
      "\u001B[0;31mAttributeError\u001B[0m: 'DataFrame' object has no attribute 'to_picke'"
     ]
    }
   ],
   "source": [
    "symbols_cols = collections.Counter()\n",
    "bond_cols = collections.Counter()\n",
    "angle_cols = collections.Counter()\n",
    "\n",
    "with tqdm.tqdm(total=len(df)) as pbar:\n",
    "    for struct in df[\"ox_struct\"]:\n",
    "        symbols_cols.update([groups[symbol] for symbol in struct.symbol_set])\n",
    "\n",
    "        for index, site in enumerate(struct.sites):\n",
    "            connected = [i['site'] for i in neighbor_finder.get_nn_shell_info(struct, index, 1)]\n",
    "\n",
    "            # Bond counts\n",
    "            for vertex in connected:\n",
    "                start, end = sorted([groups[str(site.specie.element)], groups[str(vertex.specie.element)]])\n",
    "                bond = f\"{start}-{end}\"\n",
    "                bond_cols[bond] += 0.5\n",
    "\n",
    "            # Angles\n",
    "            for angle_start, angle_end in map(sorted, itertools.combinations(connected,2)):\n",
    "                angle = f\"{groups[str(angle_start.specie.element)]}-{groups[str(site.specie.element)]}-{groups[str(angle_end.specie.element)]}\"\n",
    "                angle_cols[angle] += 1\n",
    "        pbar.update(1)"
   ]
  },
  {
   "cell_type": "markdown",
   "metadata": {
    "jupyter": {
     "outputs_hidden": false
    },
    "pycharm": {
     "name": "#%% md\n"
    }
   },
   "source": [
    "# Back These Up\n",
    "\n",
    "This takes long enough that, to save progress, we save it.\n",
    "\n",
    "We then store the above run as a pickle. In this notebook, we can see a typo was present in its first version (`df.to_picke` instead of `df.to_pickle` had been called). To fix this, we re-ran that line in the below cell. The above featurization takes a couple of hours to run, so we didn't re-run the entire cell just for that."
   ]
  },
  {
   "cell_type": "code",
   "execution_count": 21,
   "metadata": {
    "collapsed": false,
    "jupyter": {
     "outputs_hidden": false
    },
    "pycharm": {
     "name": "#%%\n"
    }
   },
   "outputs": [],
   "source": [
    "df.to_pickle('backup.pkl')"
   ]
  },
  {
   "cell_type": "markdown",
   "metadata": {
    "jupyter": {
     "outputs_hidden": false
    },
    "pycharm": {
     "name": "#%% md\n"
    }
   },
   "source": [
    "# Featurize the Data\n",
    "\n",
    "Next, we'll take the second pass at calculating these features (again, this is rather inefficient, and could probably be compressed into a single run if we wanted to do this again)."
   ]
  },
  {
   "cell_type": "code",
   "execution_count": 25,
   "metadata": {
    "collapsed": false,
    "jupyter": {
     "outputs_hidden": false
    },
    "pycharm": {
     "name": "#%%\n"
    }
   },
   "outputs": [
    {
     "data": {
      "application/vnd.jupyter.widget-view+json": {
       "model_id": "8e2e1f1003d541329fd266b30e65a55e",
       "version_major": 2,
       "version_minor": 0
      },
      "text/plain": [
       "Pandas Apply:   0%|          | 0/6351 [00:00<?, ?it/s]"
      ]
     },
     "metadata": {},
     "output_type": "display_data"
    },
    {
     "data": {
      "text/html": [
       "<div>\n",
       "<style scoped>\n",
       "    .dataframe tbody tr th:only-of-type {\n",
       "        vertical-align: middle;\n",
       "    }\n",
       "\n",
       "    .dataframe tbody tr th {\n",
       "        vertical-align: top;\n",
       "    }\n",
       "\n",
       "    .dataframe thead th {\n",
       "        text-align: right;\n",
       "    }\n",
       "</style>\n",
       "<table border=\"1\" class=\"dataframe\">\n",
       "  <thead>\n",
       "    <tr style=\"text-align: right;\">\n",
       "      <th></th>\n",
       "      <th>2dm_id (unitless)</th>\n",
       "      <th>Total Angles (angles)</th>\n",
       "      <th>Total Atoms (atoms)</th>\n",
       "      <th>Total Bonds (bonds)</th>\n",
       "      <th>alkaine_earth (atoms)</th>\n",
       "      <th>alkaine_earth-alkaine_earth (bonds)</th>\n",
       "      <th>alkaine_earth-alkaine_earth-alkaine_earth (angles)</th>\n",
       "      <th>alkaine_earth-chalcogen (bonds)</th>\n",
       "      <th>alkaine_earth-chalcogen-alkaine_earth (angles)</th>\n",
       "      <th>alkaine_earth-chalcogen-alkaline (angles)</th>\n",
       "      <th>...</th>\n",
       "      <th>var:num_unfilled</th>\n",
       "      <th>var:num_valance</th>\n",
       "      <th>var:period</th>\n",
       "      <th>var:sound_velocity</th>\n",
       "      <th>var:specific_heat</th>\n",
       "      <th>var:thermal_conductivity</th>\n",
       "      <th>var:vdw_radius</th>\n",
       "      <th>var:vdw_radius_alvarez</th>\n",
       "      <th>var:vdw_radius_mm3</th>\n",
       "      <th>var:vdw_radius_uff</th>\n",
       "    </tr>\n",
       "  </thead>\n",
       "  <tbody>\n",
       "    <tr>\n",
       "      <th>0</th>\n",
       "      <td>2dm-1</td>\n",
       "      <td>21</td>\n",
       "      <td>2</td>\n",
       "      <td>6.0</td>\n",
       "      <td>NaN</td>\n",
       "      <td>NaN</td>\n",
       "      <td>NaN</td>\n",
       "      <td>NaN</td>\n",
       "      <td>NaN</td>\n",
       "      <td>NaN</td>\n",
       "      <td>...</td>\n",
       "      <td>0.888889</td>\n",
       "      <td>56.888889</td>\n",
       "      <td>3.555556</td>\n",
       "      <td>8.871867e+05</td>\n",
       "      <td>0.274217</td>\n",
       "      <td>4998.153504</td>\n",
       "      <td>968.000000</td>\n",
       "      <td>2005.555556</td>\n",
       "      <td>938.888889</td>\n",
       "      <td>610.168889</td>\n",
       "    </tr>\n",
       "    <tr>\n",
       "      <th>1</th>\n",
       "      <td>2dm-2</td>\n",
       "      <td>0</td>\n",
       "      <td>2</td>\n",
       "      <td>0.0</td>\n",
       "      <td>1.0</td>\n",
       "      <td>NaN</td>\n",
       "      <td>NaN</td>\n",
       "      <td>NaN</td>\n",
       "      <td>NaN</td>\n",
       "      <td>NaN</td>\n",
       "      <td>...</td>\n",
       "      <td>2.000000</td>\n",
       "      <td>37.555556</td>\n",
       "      <td>0.222222</td>\n",
       "      <td>7.200000e+05</td>\n",
       "      <td>0.000038</td>\n",
       "      <td>8.000000</td>\n",
       "      <td>854.222222</td>\n",
       "      <td>696.888889</td>\n",
       "      <td>672.222222</td>\n",
       "      <td>1142.420000</td>\n",
       "    </tr>\n",
       "    <tr>\n",
       "      <th>2</th>\n",
       "      <td>2dm-3</td>\n",
       "      <td>54</td>\n",
       "      <td>2</td>\n",
       "      <td>21.0</td>\n",
       "      <td>NaN</td>\n",
       "      <td>NaN</td>\n",
       "      <td>NaN</td>\n",
       "      <td>NaN</td>\n",
       "      <td>NaN</td>\n",
       "      <td>NaN</td>\n",
       "      <td>...</td>\n",
       "      <td>2.250000</td>\n",
       "      <td>110.250000</td>\n",
       "      <td>2.250000</td>\n",
       "      <td>2.262728e+06</td>\n",
       "      <td>0.091204</td>\n",
       "      <td>524.295506</td>\n",
       "      <td>64.000000</td>\n",
       "      <td>841.000000</td>\n",
       "      <td>484.000000</td>\n",
       "      <td>243.360000</td>\n",
       "    </tr>\n",
       "    <tr>\n",
       "      <th>3</th>\n",
       "      <td>2dm-4</td>\n",
       "      <td>144</td>\n",
       "      <td>2</td>\n",
       "      <td>18.0</td>\n",
       "      <td>NaN</td>\n",
       "      <td>NaN</td>\n",
       "      <td>NaN</td>\n",
       "      <td>NaN</td>\n",
       "      <td>NaN</td>\n",
       "      <td>NaN</td>\n",
       "      <td>...</td>\n",
       "      <td>5.555556</td>\n",
       "      <td>0.222222</td>\n",
       "      <td>0.888889</td>\n",
       "      <td>7.957390e+06</td>\n",
       "      <td>0.053238</td>\n",
       "      <td>4293.005751</td>\n",
       "      <td>392.000000</td>\n",
       "      <td>882.000000</td>\n",
       "      <td>227.555556</td>\n",
       "      <td>1780.055556</td>\n",
       "    </tr>\n",
       "    <tr>\n",
       "      <th>4</th>\n",
       "      <td>2dm-6367</td>\n",
       "      <td>21</td>\n",
       "      <td>2</td>\n",
       "      <td>6.0</td>\n",
       "      <td>NaN</td>\n",
       "      <td>NaN</td>\n",
       "      <td>NaN</td>\n",
       "      <td>NaN</td>\n",
       "      <td>NaN</td>\n",
       "      <td>NaN</td>\n",
       "      <td>...</td>\n",
       "      <td>0.222222</td>\n",
       "      <td>64.222222</td>\n",
       "      <td>3.555556</td>\n",
       "      <td>4.515012e+06</td>\n",
       "      <td>0.198949</td>\n",
       "      <td>4998.228157</td>\n",
       "      <td>826.888889</td>\n",
       "      <td>1840.222222</td>\n",
       "      <td>648.000000</td>\n",
       "      <td>968.000000</td>\n",
       "    </tr>\n",
       "    <tr>\n",
       "      <th>...</th>\n",
       "      <td>...</td>\n",
       "      <td>...</td>\n",
       "      <td>...</td>\n",
       "      <td>...</td>\n",
       "      <td>...</td>\n",
       "      <td>...</td>\n",
       "      <td>...</td>\n",
       "      <td>...</td>\n",
       "      <td>...</td>\n",
       "      <td>...</td>\n",
       "      <td>...</td>\n",
       "      <td>...</td>\n",
       "      <td>...</td>\n",
       "      <td>...</td>\n",
       "      <td>...</td>\n",
       "      <td>...</td>\n",
       "      <td>...</td>\n",
       "      <td>...</td>\n",
       "      <td>...</td>\n",
       "      <td>...</td>\n",
       "      <td>...</td>\n",
       "    </tr>\n",
       "    <tr>\n",
       "      <th>6346</th>\n",
       "      <td>2dm-6366</td>\n",
       "      <td>16</td>\n",
       "      <td>2</td>\n",
       "      <td>10.0</td>\n",
       "      <td>NaN</td>\n",
       "      <td>NaN</td>\n",
       "      <td>NaN</td>\n",
       "      <td>NaN</td>\n",
       "      <td>NaN</td>\n",
       "      <td>NaN</td>\n",
       "      <td>...</td>\n",
       "      <td>0.250000</td>\n",
       "      <td>42.250000</td>\n",
       "      <td>0.250000</td>\n",
       "      <td>1.681000e+05</td>\n",
       "      <td>0.001482</td>\n",
       "      <td>6.250000</td>\n",
       "      <td>0.250000</td>\n",
       "      <td>756.250000</td>\n",
       "      <td>121.000000</td>\n",
       "      <td>25.000000</td>\n",
       "    </tr>\n",
       "    <tr>\n",
       "      <th>6347</th>\n",
       "      <td>2dm-84</td>\n",
       "      <td>36</td>\n",
       "      <td>2</td>\n",
       "      <td>9.0</td>\n",
       "      <td>NaN</td>\n",
       "      <td>NaN</td>\n",
       "      <td>NaN</td>\n",
       "      <td>NaN</td>\n",
       "      <td>NaN</td>\n",
       "      <td>NaN</td>\n",
       "      <td>...</td>\n",
       "      <td>0.000000</td>\n",
       "      <td>81.000000</td>\n",
       "      <td>2.250000</td>\n",
       "      <td>3.286004e+05</td>\n",
       "      <td>0.089700</td>\n",
       "      <td>1288.630506</td>\n",
       "      <td>272.250000</td>\n",
       "      <td>400.000000</td>\n",
       "      <td>144.000000</td>\n",
       "      <td>4102.402500</td>\n",
       "    </tr>\n",
       "    <tr>\n",
       "      <th>6348</th>\n",
       "      <td>2dm-152</td>\n",
       "      <td>54</td>\n",
       "      <td>2</td>\n",
       "      <td>11.0</td>\n",
       "      <td>NaN</td>\n",
       "      <td>NaN</td>\n",
       "      <td>NaN</td>\n",
       "      <td>NaN</td>\n",
       "      <td>NaN</td>\n",
       "      <td>NaN</td>\n",
       "      <td>...</td>\n",
       "      <td>0.000000</td>\n",
       "      <td>16.000000</td>\n",
       "      <td>1.000000</td>\n",
       "      <td>1.122250e+05</td>\n",
       "      <td>0.142211</td>\n",
       "      <td>1277.347600</td>\n",
       "      <td>132.250000</td>\n",
       "      <td>552.250000</td>\n",
       "      <td>25.000000</td>\n",
       "      <td>5263.502500</td>\n",
       "    </tr>\n",
       "    <tr>\n",
       "      <th>6349</th>\n",
       "      <td>2dm-6459</td>\n",
       "      <td>36</td>\n",
       "      <td>2</td>\n",
       "      <td>9.0</td>\n",
       "      <td>NaN</td>\n",
       "      <td>NaN</td>\n",
       "      <td>NaN</td>\n",
       "      <td>NaN</td>\n",
       "      <td>NaN</td>\n",
       "      <td>NaN</td>\n",
       "      <td>...</td>\n",
       "      <td>0.000000</td>\n",
       "      <td>81.000000</td>\n",
       "      <td>2.250000</td>\n",
       "      <td>3.286004e+05</td>\n",
       "      <td>0.089700</td>\n",
       "      <td>1288.630506</td>\n",
       "      <td>272.250000</td>\n",
       "      <td>400.000000</td>\n",
       "      <td>144.000000</td>\n",
       "      <td>4102.402500</td>\n",
       "    </tr>\n",
       "    <tr>\n",
       "      <th>6350</th>\n",
       "      <td>2dm-6460</td>\n",
       "      <td>36</td>\n",
       "      <td>2</td>\n",
       "      <td>9.0</td>\n",
       "      <td>NaN</td>\n",
       "      <td>NaN</td>\n",
       "      <td>NaN</td>\n",
       "      <td>NaN</td>\n",
       "      <td>NaN</td>\n",
       "      <td>NaN</td>\n",
       "      <td>...</td>\n",
       "      <td>0.000000</td>\n",
       "      <td>16.000000</td>\n",
       "      <td>1.000000</td>\n",
       "      <td>1.122250e+05</td>\n",
       "      <td>0.142211</td>\n",
       "      <td>1277.347600</td>\n",
       "      <td>132.250000</td>\n",
       "      <td>552.250000</td>\n",
       "      <td>25.000000</td>\n",
       "      <td>5263.502500</td>\n",
       "    </tr>\n",
       "  </tbody>\n",
       "</table>\n",
       "<p>6351 rows × 807 columns</p>\n",
       "</div>"
      ],
      "text/plain": [
       "     2dm_id (unitless)  Total Angles (angles)  Total Atoms (atoms)  \\\n",
       "0                2dm-1                     21                    2   \n",
       "1                2dm-2                      0                    2   \n",
       "2                2dm-3                     54                    2   \n",
       "3                2dm-4                    144                    2   \n",
       "4             2dm-6367                     21                    2   \n",
       "...                ...                    ...                  ...   \n",
       "6346          2dm-6366                     16                    2   \n",
       "6347            2dm-84                     36                    2   \n",
       "6348           2dm-152                     54                    2   \n",
       "6349          2dm-6459                     36                    2   \n",
       "6350          2dm-6460                     36                    2   \n",
       "\n",
       "      Total Bonds (bonds)  alkaine_earth (atoms)  \\\n",
       "0                     6.0                    NaN   \n",
       "1                     0.0                    1.0   \n",
       "2                    21.0                    NaN   \n",
       "3                    18.0                    NaN   \n",
       "4                     6.0                    NaN   \n",
       "...                   ...                    ...   \n",
       "6346                 10.0                    NaN   \n",
       "6347                  9.0                    NaN   \n",
       "6348                 11.0                    NaN   \n",
       "6349                  9.0                    NaN   \n",
       "6350                  9.0                    NaN   \n",
       "\n",
       "      alkaine_earth-alkaine_earth (bonds)  \\\n",
       "0                                     NaN   \n",
       "1                                     NaN   \n",
       "2                                     NaN   \n",
       "3                                     NaN   \n",
       "4                                     NaN   \n",
       "...                                   ...   \n",
       "6346                                  NaN   \n",
       "6347                                  NaN   \n",
       "6348                                  NaN   \n",
       "6349                                  NaN   \n",
       "6350                                  NaN   \n",
       "\n",
       "      alkaine_earth-alkaine_earth-alkaine_earth (angles)  \\\n",
       "0                                                   NaN    \n",
       "1                                                   NaN    \n",
       "2                                                   NaN    \n",
       "3                                                   NaN    \n",
       "4                                                   NaN    \n",
       "...                                                 ...    \n",
       "6346                                                NaN    \n",
       "6347                                                NaN    \n",
       "6348                                                NaN    \n",
       "6349                                                NaN    \n",
       "6350                                                NaN    \n",
       "\n",
       "      alkaine_earth-chalcogen (bonds)  \\\n",
       "0                                 NaN   \n",
       "1                                 NaN   \n",
       "2                                 NaN   \n",
       "3                                 NaN   \n",
       "4                                 NaN   \n",
       "...                               ...   \n",
       "6346                              NaN   \n",
       "6347                              NaN   \n",
       "6348                              NaN   \n",
       "6349                              NaN   \n",
       "6350                              NaN   \n",
       "\n",
       "      alkaine_earth-chalcogen-alkaine_earth (angles)  \\\n",
       "0                                                NaN   \n",
       "1                                                NaN   \n",
       "2                                                NaN   \n",
       "3                                                NaN   \n",
       "4                                                NaN   \n",
       "...                                              ...   \n",
       "6346                                             NaN   \n",
       "6347                                             NaN   \n",
       "6348                                             NaN   \n",
       "6349                                             NaN   \n",
       "6350                                             NaN   \n",
       "\n",
       "      alkaine_earth-chalcogen-alkaline (angles)  ...  var:num_unfilled  \\\n",
       "0                                           NaN  ...          0.888889   \n",
       "1                                           NaN  ...          2.000000   \n",
       "2                                           NaN  ...          2.250000   \n",
       "3                                           NaN  ...          5.555556   \n",
       "4                                           NaN  ...          0.222222   \n",
       "...                                         ...  ...               ...   \n",
       "6346                                        NaN  ...          0.250000   \n",
       "6347                                        NaN  ...          0.000000   \n",
       "6348                                        NaN  ...          0.000000   \n",
       "6349                                        NaN  ...          0.000000   \n",
       "6350                                        NaN  ...          0.000000   \n",
       "\n",
       "      var:num_valance  var:period  var:sound_velocity  var:specific_heat  \\\n",
       "0           56.888889    3.555556        8.871867e+05           0.274217   \n",
       "1           37.555556    0.222222        7.200000e+05           0.000038   \n",
       "2          110.250000    2.250000        2.262728e+06           0.091204   \n",
       "3            0.222222    0.888889        7.957390e+06           0.053238   \n",
       "4           64.222222    3.555556        4.515012e+06           0.198949   \n",
       "...               ...         ...                 ...                ...   \n",
       "6346        42.250000    0.250000        1.681000e+05           0.001482   \n",
       "6347        81.000000    2.250000        3.286004e+05           0.089700   \n",
       "6348        16.000000    1.000000        1.122250e+05           0.142211   \n",
       "6349        81.000000    2.250000        3.286004e+05           0.089700   \n",
       "6350        16.000000    1.000000        1.122250e+05           0.142211   \n",
       "\n",
       "      var:thermal_conductivity  var:vdw_radius  var:vdw_radius_alvarez  \\\n",
       "0                  4998.153504      968.000000             2005.555556   \n",
       "1                     8.000000      854.222222              696.888889   \n",
       "2                   524.295506       64.000000              841.000000   \n",
       "3                  4293.005751      392.000000              882.000000   \n",
       "4                  4998.228157      826.888889             1840.222222   \n",
       "...                        ...             ...                     ...   \n",
       "6346                  6.250000        0.250000              756.250000   \n",
       "6347               1288.630506      272.250000              400.000000   \n",
       "6348               1277.347600      132.250000              552.250000   \n",
       "6349               1288.630506      272.250000              400.000000   \n",
       "6350               1277.347600      132.250000              552.250000   \n",
       "\n",
       "      var:vdw_radius_mm3  var:vdw_radius_uff  \n",
       "0             938.888889          610.168889  \n",
       "1             672.222222         1142.420000  \n",
       "2             484.000000          243.360000  \n",
       "3             227.555556         1780.055556  \n",
       "4             648.000000          968.000000  \n",
       "...                  ...                 ...  \n",
       "6346          121.000000           25.000000  \n",
       "6347          144.000000         4102.402500  \n",
       "6348           25.000000         5263.502500  \n",
       "6349          144.000000         4102.402500  \n",
       "6350           25.000000         5263.502500  \n",
       "\n",
       "[6351 rows x 807 columns]"
      ]
     },
     "execution_count": 25,
     "metadata": {},
     "output_type": "execute_result"
    }
   ],
   "source": [
    "all_symbols = set(symbols_cols.keys())\n",
    "all_bonds = set(bond_cols.keys())\n",
    "all_angles = set(angle_cols.keys())\n",
    "\n",
    "def featurize(data):\n",
    "    symbol_units = \"atoms\"\n",
    "    bond_units = \"bonds\"\n",
    "    angle_units = \"angles\"\n",
    "    struct = data[\"ox_struct\"]\n",
    "\n",
    "    present_symbols = collections.Counter([groups[symbol] for symbol in struct.symbol_set])\n",
    "    present_bonds = collections.Counter()\n",
    "    present_angles = collections.Counter()\n",
    "\n",
    "    # Record and Count Symbols\n",
    "    for symbol, count in present_symbols.items():\n",
    "        data[f\"{symbol} ({symbol_units})\"] = count\n",
    "    data[f\"Total Atoms ({symbol_units})\"] = sum(present_symbols.values())\n",
    "\n",
    "    for index, site in enumerate(struct.sites):\n",
    "        connected = [i['site'] for i in neighbor_finder.get_nn_shell_info(struct, index, 1)]\n",
    "\n",
    "        # Count Bonds\n",
    "        for vertex in connected:\n",
    "            start, end = sorted([groups[str(site.specie.element)], groups[str(vertex.specie.element)]])\n",
    "            bond = f\"{start}-{end}\"\n",
    "            present_bonds[bond] += 0.5\n",
    "\n",
    "        # Count Angles\n",
    "        for angle_start, angle_end in map(sorted, itertools.combinations(connected, 2)):\n",
    "            angle = f\"{groups[str(angle_start.specie.element)]}-{groups[str(site.specie.element)]}-{groups[str(angle_end.specie.element)]}\"\n",
    "            present_angles[angle] += 1\n",
    "\n",
    "    # Record Bonds\n",
    "    for bond, count in present_bonds.items():\n",
    "        data[f\"{bond} ({bond_units})\"] = count\n",
    "    data[f\"Total Bonds ({bond_units})\"] = sum(present_bonds.values())\n",
    "\n",
    "    # Record Angles\n",
    "    for angle, count in present_angles.items():\n",
    "        data[f\"{angle} ({angle_units})\"] = count\n",
    "    data[f\"Total Angles ({angle_units})\"] = sum(present_angles.values())\n",
    "\n",
    "    return data\n",
    "\n",
    "all_data_features = df.progress_apply(featurize, axis=1)\n",
    "all_data_features"
   ]
  },
  {
   "cell_type": "markdown",
   "metadata": {
    "jupyter": {
     "outputs_hidden": false
    },
    "pycharm": {
     "name": "#%% md\n"
    }
   },
   "source": [
    "# Pickle the data\n",
    "\n",
    "Finally, pickle the data for use in the remainder of the HTTPOT work."
   ]
  },
  {
   "cell_type": "code",
   "execution_count": 26,
   "metadata": {
    "collapsed": false,
    "jupyter": {
     "outputs_hidden": false
    },
    "pycharm": {
     "name": "#%%\n"
    }
   },
   "outputs": [],
   "source": [
    "all_data_features.drop(columns='ox_struct').to_pickle('full_featurized_data.pkl')"
   ]
  }
 ],
 "metadata": {
  "kernelspec": {
   "display_name": "Python 3",
   "language": "python",
   "name": "python3"
  },
  "language_info": {
   "codemirror_mode": {
    "name": "ipython",
    "version": 3
   },
   "file_extension": ".py",
   "mimetype": "text/x-python",
   "name": "python",
   "nbconvert_exporter": "python",
   "pygments_lexer": "ipython3",
   "version": "3.9.5"
  }
 },
 "nbformat": 4,
 "nbformat_minor": 4
}