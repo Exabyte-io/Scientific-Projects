{
 "cells": [
  {
   "cell_type": "code",
   "execution_count": 21,
   "id": "afcc40fc-2407-4906-90fd-cd4188598368",
   "metadata": {},
   "outputs": [],
   "source": [
    "import itertools\n",
    "import collections\n",
    "import random\n",
    "import pickle\n",
    "\n",
    "import matplotlib.pyplot as plt\n",
    "import numpy as np\n",
    "import pandas as pd\n",
    "\n",
    "import tqdm\n",
    "import pymatgen.core\n",
    "import pymatgen.io.ase\n",
    "import pymatgen.analysis.dimensionality\n",
    "from pymatgen.analysis.local_env import JmolNN\n",
    "\n",
    "\n",
    "RANDOM_SEED = 1234\n",
    "\n",
    "pd.options.mode.chained_assignment = None\n",
    "tqdm.tqdm.pandas()\n",
    "random.seed(RANDOM_SEED)\n",
    "np.random.seed(RANDOM_SEED)"
   ]
  },
  {
   "cell_type": "code",
   "execution_count": 2,
   "id": "f476bee4-4003-4996-9572-bbd0879f707d",
   "metadata": {},
   "outputs": [],
   "source": [
    "raw_df = pd.read_pickle(\"../DigitalEcosystem/raw_data/2d_mat_dataset_raw.pkl\")\n",
    "cols_to_keep = [\"bandgap (eV)\", \"atoms_object (unitless)\"]\n",
    "df = raw_df[cols_to_keep]"
   ]
  },
  {
   "cell_type": "code",
   "execution_count": 3,
   "id": "08999236-9115-4b87-bf31-81d21a582f51",
   "metadata": {},
   "outputs": [],
   "source": [
    "df[\"pymatgen_structure (unitless)\"] = df[\"atoms_object (unitless)\"].apply(pymatgen.io.ase.AseAtomsAdaptor.get_structure)"
   ]
  },
  {
   "cell_type": "code",
   "execution_count": 20,
   "id": "8125e6e6-642a-45a2-a004-c691729013fd",
   "metadata": {},
   "outputs": [
    {
     "name": "stderr",
     "output_type": "stream",
     "text": [
      "100%|██████████| 6351/6351 [44:22<00:00,  2.39it/s]  \n"
     ]
    }
   ],
   "source": [
    "symbols_cols = collections.Counter()\n",
    "bond_cols = collections.Counter()\n",
    "angle_cols = collections.Counter()\n",
    "\n",
    "neighbor_finder = JmolNN()\n",
    "\n",
    "with tqdm.tqdm(total=len(df)) as pbar:\n",
    "    for struct in df[\"pymatgen_structure (unitless)\"]:\n",
    "        symbols_cols.update(struct.symbol_set)\n",
    "        \n",
    "        for index, site in enumerate(struct.sites):\n",
    "            connected = [i['site'] for i in neighbor_finder.get_nn_shell_info(struct, index, 1)]\n",
    "            \n",
    "            # Bond counts\n",
    "            for vertex in connected:\n",
    "                start, end = sorted([site.specie, vertex.specie])\n",
    "                bond = f\"{start}-{end}\"\n",
    "                bond_cols[bond] += 0.5\n",
    "                \n",
    "            # Angles\n",
    "            for angle_start, angle_end in itertools.combinations(connected,2):\n",
    "                angle = f\"{angle_start.specie}-{site.specie}-{angle_end.specie}\"\n",
    "                angle_cols[angle] += 1\n",
    "        pbar.update(1)"
   ]
  },
  {
   "cell_type": "code",
   "execution_count": 26,
   "id": "45d397b0-2635-425f-b398-f3c732fa349a",
   "metadata": {},
   "outputs": [],
   "source": [
    "for filename, obj in ((\"symbols.pkl\", symbols_cols),\n",
    "                      (\"bonds.pkl\", bond_cols),\n",
    "                      (\"angles.pkl\", angle_cols)):\n",
    "    with open(filename, \"wb\") as outp:\n",
    "        pickle.dump(obj, outp)"
   ]
  },
  {
   "cell_type": "code",
   "execution_count": 39,
   "id": "4c9033cb-8fd0-4b46-ae7b-d8a78317d021",
   "metadata": {},
   "outputs": [
    {
     "name": "stdout",
     "output_type": "stream",
     "text": [
      "8728\n"
     ]
    }
   ],
   "source": [
    "print(len(angle_cols))"
   ]
  },
  {
   "cell_type": "code",
   "execution_count": null,
   "id": "c8c0b853-a606-40fd-8682-97736ea42864",
   "metadata": {},
   "outputs": [],
   "source": []
  }
 ],
 "metadata": {
  "kernelspec": {
   "display_name": "Python 3",
   "language": "python",
   "name": "python3"
  },
  "language_info": {
   "codemirror_mode": {
    "name": "ipython",
    "version": 3
   },
   "file_extension": ".py",
   "mimetype": "text/x-python",
   "name": "python",
   "nbconvert_exporter": "python",
   "pygments_lexer": "ipython3",
   "version": "3.9.5"
  }
 },
 "nbformat": 4,
 "nbformat_minor": 5
}
