{
 "cells": [
  {
   "cell_type": "code",
   "execution_count": 6,
   "id": "12e13a80-3708-4643-ba8a-86c83e9e4b7c",
   "metadata": {},
   "outputs": [],
   "source": [
    "import pandas as pd\n",
    "import sklearn\n",
    "import tpot\n",
    "import matplotlib.pyplot as plt"
   ]
  },
  {
   "cell_type": "code",
   "execution_count": 2,
   "id": "e6ea3615-d55f-496b-bba1-9131326f1e7c",
   "metadata": {},
   "outputs": [],
   "source": [
    "tmp_150_A = pd.read_csv(\"raw_data/tmp/Table_150_A.ssv\", sep=\"\\s+\").set_index(\"Sr.No.\")\n",
    "tmp_150_B = pd.read_csv(\"raw_data/tmp/Table_150_B.ssv\", sep=\"\\s+\").set_index(\"Sr.No.\")\n",
    "tmp_170_A = pd.read_csv(\"raw_data/tmp/Table_170_A.ssv\", sep=\"\\s+\").set_index(\"Sr.No.\")\n",
    "tmp_170_B = pd.read_csv(\"raw_data/tmp/Table_170_B.ssv\", sep=\"\\s+\").set_index(\"Sr.No.\")\n",
    "\n",
    "A = pd.concat([tmp_150_A, tmp_170_A])\n",
    "B = pd.concat([tmp_150_B, tmp_170_B])\n",
    "\n"
   ]
  },
  {
   "cell_type": "code",
   "execution_count": 56,
   "id": "ffabc5b7-71a5-453d-b772-b76412c4625d",
   "metadata": {},
   "outputs": [],
   "source": [
    "df = A.join(B.drop(columns=\"MXene\")).drop(columns=\"BG_GW\")\n",
    "target=\"BG_PBE\"\n",
    "\n",
    "# Train / Test Split\n",
    "data_train, data_test = sklearn.model_selection.train_test_split(df.drop(columns=[\"MXene\"]), test_size=0.8, random_state=1234)\n",
    "train_x = data_train.drop(columns=target).to_numpy()\n",
    "train_y = data_train[target].to_numpy()\n",
    "\n",
    "test_x = data_test.drop(columns=target).to_numpy()\n",
    "test_y = data_test[target].to_numpy()\n",
    "\n",
    "# Train a model\n",
    "model = tpot.TPOTRegressor(\n",
    "    generations=2,\n",
    "    population_size=100,\n",
    "    max_eval_time_mins=5/60,\n",
    "    cv=3,\n",
    "    verbosity=2,\n",
    "    scoring=\"r2\",\n",
    "    config_dict=tpot.config.regressor_config_dict,\n",
    "    n_jobs=6,\n",
    "    random_state=1234\n",
    ")\n"
   ]
  },
  {
   "cell_type": "code",
   "execution_count": 57,
   "id": "f9abc7dc-0364-4e9a-9748-5fd4b56cce94",
   "metadata": {},
   "outputs": [
    {
     "data": {
      "application/vnd.jupyter.widget-view+json": {
       "model_id": "",
       "version_major": 2,
       "version_minor": 0
      },
      "text/plain": [
       "Optimization Progress:   0%|          | 0/300 [00:00<?, ?pipeline/s]"
      ]
     },
     "metadata": {},
     "output_type": "display_data"
    },
    {
     "name": "stdout",
     "output_type": "stream",
     "text": [
      "\n",
      "Generation 1 - Current best internal CV score: 0.5631339699019842\n",
      "\n",
      "Generation 2 - Current best internal CV score: 0.5631339699019842\n",
      "\n",
      "Best pipeline: LassoLarsCV(LassoLarsCV(input_matrix, normalize=False), normalize=True)\n"
     ]
    },
    {
     "data": {
      "text/plain": [
       "TPOTRegressor(config_dict={'sklearn.cluster.FeatureAgglomeration': {'affinity': ['euclidean',\n",
       "                                                                                 'l1',\n",
       "                                                                                 'l2',\n",
       "                                                                                 'manhattan',\n",
       "                                                                                 'cosine'],\n",
       "                                                                    'linkage': ['ward',\n",
       "                                                                                'complete',\n",
       "                                                                                'average']},\n",
       "                           'sklearn.decomposition.FastICA': {'tol': array([0.  , 0.05, 0.1 , 0.15, 0.2 , 0.25, 0.3 , 0.35, 0.4 , 0.45, 0.5 ,\n",
       "       0.55, 0.6 , 0.65, 0.7 , 0.75, 0.8 , 0.85, 0.9 , 0.95, 1.  ])},\n",
       "                           'sklearn.decomposition.PCA': {'iterated_power'...\n",
       "                                                    'max_depth': range(1, 11),\n",
       "                                                    'min_child_weight': range(1, 21),\n",
       "                                                    'n_estimators': [100],\n",
       "                                                    'n_jobs': [1],\n",
       "                                                    'objective': ['reg:squarederror'],\n",
       "                                                    'subsample': array([0.05, 0.1 , 0.15, 0.2 , 0.25, 0.3 , 0.35, 0.4 , 0.45, 0.5 , 0.55,\n",
       "       0.6 , 0.65, 0.7 , 0.75, 0.8 , 0.85, 0.9 , 0.95, 1.  ]),\n",
       "                                                    'verbosity': [0]}},\n",
       "              cv=3, generations=2, max_eval_time_mins=0.08333333333333333,\n",
       "              n_jobs=6, random_state=1234, scoring='r2', verbosity=2)"
      ]
     },
     "execution_count": 57,
     "metadata": {},
     "output_type": "execute_result"
    }
   ],
   "source": [
    "model.fit(train_x, train_y)"
   ]
  },
  {
   "cell_type": "code",
   "execution_count": 59,
   "id": "f78ec5c5-a3ca-4f76-820d-8a34799af68c",
   "metadata": {},
   "outputs": [
    {
     "data": {
      "text/plain": [
       "<matplotlib.legend.Legend at 0x150e6aa60>"
      ]
     },
     "execution_count": 59,
     "metadata": {},
     "output_type": "execute_result"
    },
    {
     "data": {
      "image/png": "[encoded data removed]",
      "text/plain": [
       "<Figure size 720x720 with 1 Axes>"
      ]
     },
     "metadata": {
      "needs_background": "light"
     },
     "output_type": "display_data"
    }
   ],
   "source": [
    "plt.rcParams[\"figure.figsize\"]=[10,10]\n",
    "train_y_pred = model.predict(train_x)\n",
    "test_y_pred = model.predict(test_x)\n",
    "\n",
    "plt.scatter(x=train_y_pred, y=train_y, label=\"Train Set\")\n",
    "plt.scatter(x=test_y_pred, y=test_y, label=\"Test Set\")\n",
    "min_val = min(map(min, train_y, test_y))\n",
    "max_val = max(map(max, train_y, test_y))\n",
    "plt.plot([min_val,max_val], [min_val,max_val], label=\"Parity\")\n",
    "plt.ylabel(\"Bandgap (Actual)\")\n",
    "plt.xlabel(\"Bandgap (Predicted)\")\n",
    "plt.legend()"
   ]
  },
  {
   "cell_type": "code",
   "execution_count": 49,
   "id": "5ccad2f7-f80b-412d-b90a-757fadd59bb2",
   "metadata": {},
   "outputs": [
    {
     "ename": "AttributeError",
     "evalue": "'StackingEstimator' object has no attribute 'get_support'",
     "output_type": "error",
     "traceback": [
      "\u001b[0;31m---------------------------------------------------------------------------\u001b[0m",
      "\u001b[0;31mAttributeError\u001b[0m                            Traceback (most recent call last)",
      "\u001b[0;32m<ipython-input-49-132085872d27>\u001b[0m in \u001b[0;36m<module>\u001b[0;34m\u001b[0m\n\u001b[0;32m----> 1\u001b[0;31m \u001b[0mdata_train\u001b[0m\u001b[0;34m.\u001b[0m\u001b[0mcolumns\u001b[0m\u001b[0;34m.\u001b[0m\u001b[0mdrop\u001b[0m\u001b[0;34m(\u001b[0m\u001b[0;34m'BG_PBE'\u001b[0m\u001b[0;34m)\u001b[0m\u001b[0;34m[\u001b[0m\u001b[0mmodel\u001b[0m\u001b[0;34m.\u001b[0m\u001b[0mfitted_pipeline_\u001b[0m\u001b[0;34m[\u001b[0m\u001b[0;36m0\u001b[0m\u001b[0;34m]\u001b[0m\u001b[0;34m.\u001b[0m\u001b[0mget_support\u001b[0m\u001b[0;34m(\u001b[0m\u001b[0;34m)\u001b[0m\u001b[0;34m]\u001b[0m\u001b[0;34m\u001b[0m\u001b[0;34m\u001b[0m\u001b[0m\n\u001b[0m",
      "\u001b[0;31mAttributeError\u001b[0m: 'StackingEstimator' object has no attribute 'get_support'"
     ]
    }
   ],
   "source": [
    "data_train.columns.drop('BG_PBE')[model.fitted_pipeline_[0].get_support()]"
   ]
  },
  {
   "cell_type": "code",
   "execution_count": 61,
   "id": "950c0846-9fb9-439b-8751-069c2f0caec4",
   "metadata": {},
   "outputs": [
    {
     "data": {
      "text/plain": [
       "Pipeline(steps=[('stackingestimator',\n",
       "                 StackingEstimator(estimator=LassoLarsCV(normalize=False))),\n",
       "                ('lassolarscv', LassoLarsCV())])"
      ]
     },
     "execution_count": 61,
     "metadata": {},
     "output_type": "execute_result"
    }
   ],
   "source": [
    "model.fitted_pipeline_"
   ]
  },
  {
   "cell_type": "code",
   "execution_count": null,
   "id": "1be21f6b-3fb2-465e-8cb1-c0b781890b3d",
   "metadata": {},
   "outputs": [],
   "source": []
  }
 ],
 "metadata": {
  "kernelspec": {
   "display_name": "Python 3",
   "language": "python",
   "name": "python3"
  },
  "language_info": {
   "codemirror_mode": {
    "name": "ipython",
    "version": 3
   },
   "file_extension": ".py",
   "mimetype": "text/x-python",
   "name": "python",
   "nbconvert_exporter": "python",
   "pygments_lexer": "ipython3",
   "version": "3.9.5"
  }
 },
 "nbformat": 4,
 "nbformat_minor": 5
}
