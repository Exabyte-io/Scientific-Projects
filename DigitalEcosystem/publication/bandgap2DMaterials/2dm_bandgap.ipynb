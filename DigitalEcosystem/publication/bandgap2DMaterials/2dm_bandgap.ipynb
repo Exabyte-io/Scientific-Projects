{
 "cells": [
  {
   "cell_type": "markdown",
   "id": "d81eea25",
   "metadata": {},
   "source": [
    "# 2D Material Bandgaps\n",
    "\n",
    "In this notebook, we provide code to reproduce the results shown in our manuscript on the problem of predicting the badgap of 2D Materials using compositional and structural features."
   ]
  },
  {
   "cell_type": "code",
   "execution_count": 1,
   "id": "4139c34d",
   "metadata": {},
   "outputs": [],
   "source": [
    "import functools\n",
    "import pickle\n",
    "import collections\n",
    "import numpy as np\n",
    "import pandas as pd\n",
    "import matplotlib.pyplot as plt\n",
    "import tpot\n",
    "import sklearn\n",
    "import optuna\n",
    "import xgboost\n",
    "import pymatgen\n",
    "import xenonpy.descriptor\n",
    "from tqdm.notebook import tqdm \n",
    "import sys, os\n",
    "\n",
    "sys.path.append(\"../../../\")\n",
    "import DigitalEcosystem.utils.figures\n",
    "from DigitalEcosystem.utils.functional import except_with_default_value\n",
    "from DigitalEcosystem.utils.misc import matminer_descriptors\n",
    "from DigitalEcosystem.utils.misc import root_mean_squared_error\n",
    "from DigitalEcosystem.utils.element_symbols import noble_gases, f_block_elements, synthetic_elements_in_d_block\n",
    "\n",
    "from IPython.display import Latex\n",
    "\n",
    "pd.options.mode.chained_assignment = None \n",
    "tqdm.pandas()"
   ]
  },
  {
   "cell_type": "code",
   "execution_count": 2,
   "id": "4295e59b",
   "metadata": {},
   "outputs": [],
   "source": [
    "# Random seeds for reproducibility\n",
    "RANDOM_SEED = 42\n",
    "import random\n",
    "random.seed(RANDOM_SEED)\n",
    "np.random.seed(RANDOM_SEED)"
   ]
  },
  {
   "cell_type": "code",
   "execution_count": 3,
   "id": "f1455495",
   "metadata": {},
   "outputs": [],
   "source": [
    "# Plot Configuration\n",
    "plt.rcParams[\"figure.figsize\"] = (15, 15)\n",
    "plt.rcParams[\"font.size\"] = 32"
   ]
  },
  {
   "cell_type": "markdown",
   "id": "dd19336c",
   "metadata": {},
   "source": [
    "# Read in the Data\n",
    "\n",
    "To start, we'll read in the data. Then, we'll filter out the dataset with the following rules:\n",
    "\n",
    "1. No elements from the f-block, anything larger than U, or noble gases\n",
    "2. Decomposition energies must be below 0.5 eV\n",
    "3. Exfoliation energies must be strictly positive\n",
    "\n",
    "Also, because we utilize the Materials Project bandgap as a descriptor for the XGBoost and TPOT models, we necessarily must remove the bottom-up materials from the dataset. This is because only the top-down materials have corresponding entries on the Materials Project."
   ]
  },
  {
   "cell_type": "code",
   "execution_count": 4,
   "id": "bc3d62c2",
   "metadata": {},
   "outputs": [],
   "source": [
    "data = pd.read_pickle('../feature_engineering/full_featurized_data.pkl')\n",
    "\n",
    "\n",
    "# Drop any missing entries\n",
    "target_column = [\"bandgap (eV)\"]\n",
    "data = data[data[target_column[0]].notna()]\n",
    "\n",
    "# # Drop anything in the f-block, larger than U, and noble gases\n",
    "bad_elements = noble_gases + f_block_elements + synthetic_elements_in_d_block\n",
    "element_mask = data['atoms_object (unitless)'].apply(lambda atoms: all([forbidden not in atoms.get_chemical_symbols() for forbidden in bad_elements]))\n",
    "\n",
    "# Drop anything that decomposes\n",
    "decomposition_mask = data['decomposition_energy (eV/atom)'] < 0.5\n",
    "\n",
    "# Drop things with non-strictly-positive exfoliation energies\n",
    "exfol_mask = data['exfoliation_energy_per_atom (eV/atom)'] > 0\n",
    "\n",
    "data = data[element_mask & decomposition_mask & exfol_mask]\n",
    "\n",
    "# A parent Materials Project structure is not defined for the bottom-up materials. We waste our bandwith looking these up, so let's remove them.\n",
    "data = data[data['discovery_process (unitless)'] != 'bottom-up']"
   ]
  },
  {
   "cell_type": "markdown",
   "id": "da52d907",
   "metadata": {},
   "source": [
    "Next up we'll query the Materials Project through PyMatGen for the bandgap of each material"
   ]
  },
  {
   "cell_type": "code",
   "execution_count": null,
   "id": "ffc22677",
   "metadata": {},
   "outputs": [],
   "source": [
    "rester = pymatgen.ext.matproj.MPRester(api_key=\"4HnKZpQ4ekwrO54lpvkM\")\n",
    "\n",
    "\n",
    "@except_with_default_value(default_return=None)\n",
    "def get_mp_bandgap(structure):\n",
    "    mp_id = DigitalEcosystem.utils.misc.get_parent_structure_id(structure)\n",
    "    \n",
    "    result = rester.get_data(mp_id, prop='band_gap')[0]['band_gap']\n",
    "    return result\n",
    "    \n",
    "data['mp_bandgap'] = data['2dm_id (unitless)'].progress_apply(get_mp_bandgap)"
   ]
  },
  {
   "cell_type": "markdown",
   "id": "96a255c9",
   "metadata": {},
   "source": [
    "\n",
    "The above featurization takes a while, so let's just save it to disk. That way if we ever want to re-run this notebook, we don't have to re-do all those queries (and we save Materials Project some bandwidth)"
   ]
  },
  {
   "cell_type": "code",
   "execution_count": 5,
   "id": "775ed5f0",
   "metadata": {},
   "outputs": [],
   "source": [
    "#data.to_pickle('filtered_data_with_bandgap.pkl')\n",
    "data = pd.read_pickle('filtered_data_with_bandgap.pkl')"
   ]
  },
  {
   "cell_type": "markdown",
   "id": "02d2a9c9",
   "metadata": {},
   "source": [
    "Any entries from Materials Project that were missing a bandgap can get thrown away"
   ]
  },
  {
   "cell_type": "code",
   "execution_count": 6,
   "id": "5295b3c8",
   "metadata": {},
   "outputs": [],
   "source": [
    "# Finally, we'll filter the data with missing values for bandgap\n",
    "data = data[data['mp_bandgap'].notna()]"
   ]
  },
  {
   "cell_type": "code",
   "execution_count": 7,
   "id": "c9e877f6",
   "metadata": {},
   "outputs": [],
   "source": [
    "xenonpy_descriptors = [col for col in data.columns if \":\" in col]\n",
    "\n",
    "descriptors = xenonpy_descriptors + matminer_descriptors + [\"mp_bandgap\"]"
   ]
  },
  {
   "cell_type": "markdown",
   "id": "be57f0b2",
   "metadata": {},
   "source": [
    "Finally, we'll show the dataframe, to get an idea of how much data we've filtered out."
   ]
  },
  {
   "cell_type": "code",
   "execution_count": 8,
   "id": "6984a88f",
   "metadata": {},
   "outputs": [
    {
     "data": {
      "text/html": [
       "<div>\n",
       "<style scoped>\n",
       "    .dataframe tbody tr th:only-of-type {\n",
       "        vertical-align: middle;\n",
       "    }\n",
       "\n",
       "    .dataframe tbody tr th {\n",
       "        vertical-align: top;\n",
       "    }\n",
       "\n",
       "    .dataframe thead th {\n",
       "        text-align: right;\n",
       "    }\n",
       "</style>\n",
       "<table border=\"1\" class=\"dataframe\">\n",
       "  <thead>\n",
       "    <tr style=\"text-align: right;\">\n",
       "      <th></th>\n",
       "      <th>2dm_id (unitless)</th>\n",
       "      <th>bandgap (eV)</th>\n",
       "      <th>ave:Polarizability</th>\n",
       "      <th>ave:atomic_number</th>\n",
       "      <th>ave:atomic_radius</th>\n",
       "      <th>ave:atomic_radius_rahm</th>\n",
       "      <th>ave:atomic_volume</th>\n",
       "      <th>ave:atomic_weight</th>\n",
       "      <th>ave:boiling_point</th>\n",
       "      <th>ave:bulk_modulus</th>\n",
       "      <th>...</th>\n",
       "      <th>bond_length_average</th>\n",
       "      <th>bond_angle_average</th>\n",
       "      <th>average_cn</th>\n",
       "      <th>global_instability</th>\n",
       "      <th>perimeter_area_ratio</th>\n",
       "      <th>ewald_energy_per_atom</th>\n",
       "      <th>structural complexity per atom</th>\n",
       "      <th>structural complexity per cell</th>\n",
       "      <th>n_symmetry_ops</th>\n",
       "      <th>mp_bandgap</th>\n",
       "    </tr>\n",
       "  </thead>\n",
       "  <tbody>\n",
       "    <tr>\n",
       "      <th>2981</th>\n",
       "      <td>2dm-2992</td>\n",
       "      <td>2.1592</td>\n",
       "      <td>4.610000</td>\n",
       "      <td>19.000000</td>\n",
       "      <td>116.500000</td>\n",
       "      <td>206.000000</td>\n",
       "      <td>14.550000</td>\n",
       "      <td>41.865000</td>\n",
       "      <td>1376.700000</td>\n",
       "      <td>69.891020</td>\n",
       "      <td>...</td>\n",
       "      <td>1.854082</td>\n",
       "      <td>2.094256</td>\n",
       "      <td>3.000000</td>\n",
       "      <td>0.092784</td>\n",
       "      <td>1.438254</td>\n",
       "      <td>-53.898998</td>\n",
       "      <td>1.000000</td>\n",
       "      <td>2.000000</td>\n",
       "      <td>12.0</td>\n",
       "      <td>1.3711</td>\n",
       "    </tr>\n",
       "    <tr>\n",
       "      <th>2987</th>\n",
       "      <td>2dm-2998</td>\n",
       "      <td>0.0000</td>\n",
       "      <td>17.465000</td>\n",
       "      <td>7.500000</td>\n",
       "      <td>157.500000</td>\n",
       "      <td>230.000000</td>\n",
       "      <td>13.550000</td>\n",
       "      <td>15.622500</td>\n",
       "      <td>1240.575000</td>\n",
       "      <td>28.000000</td>\n",
       "      <td>...</td>\n",
       "      <td>NaN</td>\n",
       "      <td>NaN</td>\n",
       "      <td>0.000000</td>\n",
       "      <td>0.000000</td>\n",
       "      <td>1.451240</td>\n",
       "      <td>0.000000</td>\n",
       "      <td>1.000000</td>\n",
       "      <td>4.000000</td>\n",
       "      <td>12.0</td>\n",
       "      <td>0.0000</td>\n",
       "    </tr>\n",
       "    <tr>\n",
       "      <th>2988</th>\n",
       "      <td>2dm-2999</td>\n",
       "      <td>1.0572</td>\n",
       "      <td>4.400000</td>\n",
       "      <td>18.444444</td>\n",
       "      <td>133.000000</td>\n",
       "      <td>221.333333</td>\n",
       "      <td>12.877778</td>\n",
       "      <td>38.335897</td>\n",
       "      <td>1269.902222</td>\n",
       "      <td>36.722222</td>\n",
       "      <td>...</td>\n",
       "      <td>2.411893</td>\n",
       "      <td>1.722309</td>\n",
       "      <td>4.444444</td>\n",
       "      <td>0.226327</td>\n",
       "      <td>1.259362</td>\n",
       "      <td>-24.454789</td>\n",
       "      <td>2.281036</td>\n",
       "      <td>20.529325</td>\n",
       "      <td>12.0</td>\n",
       "      <td>0.9903</td>\n",
       "    </tr>\n",
       "    <tr>\n",
       "      <th>2989</th>\n",
       "      <td>2dm-3000</td>\n",
       "      <td>0.0000</td>\n",
       "      <td>7.800000</td>\n",
       "      <td>42.333333</td>\n",
       "      <td>151.333333</td>\n",
       "      <td>245.333333</td>\n",
       "      <td>16.450000</td>\n",
       "      <td>102.047167</td>\n",
       "      <td>2058.666667</td>\n",
       "      <td>96.666667</td>\n",
       "      <td>...</td>\n",
       "      <td>2.716969</td>\n",
       "      <td>1.475477</td>\n",
       "      <td>4.000000</td>\n",
       "      <td>0.023436</td>\n",
       "      <td>1.263086</td>\n",
       "      <td>-28.791123</td>\n",
       "      <td>0.918296</td>\n",
       "      <td>2.754888</td>\n",
       "      <td>12.0</td>\n",
       "      <td>0.0000</td>\n",
       "    </tr>\n",
       "    <tr>\n",
       "      <th>2990</th>\n",
       "      <td>2dm-3001</td>\n",
       "      <td>0.0000</td>\n",
       "      <td>3.275095</td>\n",
       "      <td>19.250000</td>\n",
       "      <td>94.500000</td>\n",
       "      <td>178.750000</td>\n",
       "      <td>12.957500</td>\n",
       "      <td>46.716000</td>\n",
       "      <td>1497.710000</td>\n",
       "      <td>120.099730</td>\n",
       "      <td>...</td>\n",
       "      <td>2.034599</td>\n",
       "      <td>1.528108</td>\n",
       "      <td>5.500000</td>\n",
       "      <td>NaN</td>\n",
       "      <td>1.301013</td>\n",
       "      <td>-5.868260</td>\n",
       "      <td>2.000000</td>\n",
       "      <td>16.000000</td>\n",
       "      <td>4.0</td>\n",
       "      <td>0.0000</td>\n",
       "    </tr>\n",
       "    <tr>\n",
       "      <th>...</th>\n",
       "      <td>...</td>\n",
       "      <td>...</td>\n",
       "      <td>...</td>\n",
       "      <td>...</td>\n",
       "      <td>...</td>\n",
       "      <td>...</td>\n",
       "      <td>...</td>\n",
       "      <td>...</td>\n",
       "      <td>...</td>\n",
       "      <td>...</td>\n",
       "      <td>...</td>\n",
       "      <td>...</td>\n",
       "      <td>...</td>\n",
       "      <td>...</td>\n",
       "      <td>...</td>\n",
       "      <td>...</td>\n",
       "      <td>...</td>\n",
       "      <td>...</td>\n",
       "      <td>...</td>\n",
       "      <td>...</td>\n",
       "      <td>...</td>\n",
       "    </tr>\n",
       "    <tr>\n",
       "      <th>5907</th>\n",
       "      <td>2dm-5918</td>\n",
       "      <td>0.7605</td>\n",
       "      <td>3.815429</td>\n",
       "      <td>23.428571</td>\n",
       "      <td>140.257954</td>\n",
       "      <td>195.857143</td>\n",
       "      <td>11.390000</td>\n",
       "      <td>53.561143</td>\n",
       "      <td>1710.108571</td>\n",
       "      <td>127.774880</td>\n",
       "      <td>...</td>\n",
       "      <td>2.129581</td>\n",
       "      <td>1.436120</td>\n",
       "      <td>4.571429</td>\n",
       "      <td>0.380834</td>\n",
       "      <td>0.519384</td>\n",
       "      <td>-40.435971</td>\n",
       "      <td>3.807355</td>\n",
       "      <td>106.605938</td>\n",
       "      <td>2.0</td>\n",
       "      <td>0.7136</td>\n",
       "    </tr>\n",
       "    <tr>\n",
       "      <th>5909</th>\n",
       "      <td>2dm-5920</td>\n",
       "      <td>1.7064</td>\n",
       "      <td>5.465455</td>\n",
       "      <td>48.545455</td>\n",
       "      <td>152.676141</td>\n",
       "      <td>239.454545</td>\n",
       "      <td>21.354545</td>\n",
       "      <td>115.302438</td>\n",
       "      <td>1239.529455</td>\n",
       "      <td>25.990909</td>\n",
       "      <td>...</td>\n",
       "      <td>3.112633</td>\n",
       "      <td>1.531910</td>\n",
       "      <td>3.636364</td>\n",
       "      <td>0.201037</td>\n",
       "      <td>0.526755</td>\n",
       "      <td>-8.469700</td>\n",
       "      <td>3.459432</td>\n",
       "      <td>76.107496</td>\n",
       "      <td>4.0</td>\n",
       "      <td>1.3399</td>\n",
       "    </tr>\n",
       "    <tr>\n",
       "      <th>5911</th>\n",
       "      <td>2dm-5922</td>\n",
       "      <td>1.0021</td>\n",
       "      <td>3.285000</td>\n",
       "      <td>33.000000</td>\n",
       "      <td>150.015363</td>\n",
       "      <td>214.000000</td>\n",
       "      <td>17.962500</td>\n",
       "      <td>77.330871</td>\n",
       "      <td>799.325000</td>\n",
       "      <td>32.200000</td>\n",
       "      <td>...</td>\n",
       "      <td>2.517111</td>\n",
       "      <td>NaN</td>\n",
       "      <td>2.250000</td>\n",
       "      <td>0.161920</td>\n",
       "      <td>0.359104</td>\n",
       "      <td>-11.448966</td>\n",
       "      <td>4.062500</td>\n",
       "      <td>130.000000</td>\n",
       "      <td>2.0</td>\n",
       "      <td>1.6253</td>\n",
       "    </tr>\n",
       "    <tr>\n",
       "      <th>5916</th>\n",
       "      <td>2dm-5927</td>\n",
       "      <td>0.9018</td>\n",
       "      <td>3.815429</td>\n",
       "      <td>23.428571</td>\n",
       "      <td>140.257954</td>\n",
       "      <td>195.857143</td>\n",
       "      <td>11.390000</td>\n",
       "      <td>53.561143</td>\n",
       "      <td>1710.108571</td>\n",
       "      <td>127.774880</td>\n",
       "      <td>...</td>\n",
       "      <td>2.141151</td>\n",
       "      <td>1.408620</td>\n",
       "      <td>4.642857</td>\n",
       "      <td>0.348107</td>\n",
       "      <td>0.530037</td>\n",
       "      <td>-40.618438</td>\n",
       "      <td>3.807355</td>\n",
       "      <td>106.605938</td>\n",
       "      <td>2.0</td>\n",
       "      <td>0.9614</td>\n",
       "    </tr>\n",
       "    <tr>\n",
       "      <th>5918</th>\n",
       "      <td>2dm-5929</td>\n",
       "      <td>0.0000</td>\n",
       "      <td>2.465222</td>\n",
       "      <td>15.555556</td>\n",
       "      <td>133.368832</td>\n",
       "      <td>181.888889</td>\n",
       "      <td>13.422222</td>\n",
       "      <td>33.514335</td>\n",
       "      <td>1003.915556</td>\n",
       "      <td>81.122304</td>\n",
       "      <td>...</td>\n",
       "      <td>2.115742</td>\n",
       "      <td>NaN</td>\n",
       "      <td>5.000000</td>\n",
       "      <td>NaN</td>\n",
       "      <td>0.755073</td>\n",
       "      <td>-15.310469</td>\n",
       "      <td>3.281036</td>\n",
       "      <td>59.058650</td>\n",
       "      <td>2.0</td>\n",
       "      <td>0.0000</td>\n",
       "    </tr>\n",
       "  </tbody>\n",
       "</table>\n",
       "<p>1412 rows × 302 columns</p>\n",
       "</div>"
      ],
      "text/plain": [
       "     2dm_id (unitless)  bandgap (eV)  ave:Polarizability  ave:atomic_number  \\\n",
       "2981          2dm-2992        2.1592            4.610000          19.000000   \n",
       "2987          2dm-2998        0.0000           17.465000           7.500000   \n",
       "2988          2dm-2999        1.0572            4.400000          18.444444   \n",
       "2989          2dm-3000        0.0000            7.800000          42.333333   \n",
       "2990          2dm-3001        0.0000            3.275095          19.250000   \n",
       "...                ...           ...                 ...                ...   \n",
       "5907          2dm-5918        0.7605            3.815429          23.428571   \n",
       "5909          2dm-5920        1.7064            5.465455          48.545455   \n",
       "5911          2dm-5922        1.0021            3.285000          33.000000   \n",
       "5916          2dm-5927        0.9018            3.815429          23.428571   \n",
       "5918          2dm-5929        0.0000            2.465222          15.555556   \n",
       "\n",
       "      ave:atomic_radius  ave:atomic_radius_rahm  ave:atomic_volume  \\\n",
       "2981         116.500000              206.000000          14.550000   \n",
       "2987         157.500000              230.000000          13.550000   \n",
       "2988         133.000000              221.333333          12.877778   \n",
       "2989         151.333333              245.333333          16.450000   \n",
       "2990          94.500000              178.750000          12.957500   \n",
       "...                 ...                     ...                ...   \n",
       "5907         140.257954              195.857143          11.390000   \n",
       "5909         152.676141              239.454545          21.354545   \n",
       "5911         150.015363              214.000000          17.962500   \n",
       "5916         140.257954              195.857143          11.390000   \n",
       "5918         133.368832              181.888889          13.422222   \n",
       "\n",
       "      ave:atomic_weight  ave:boiling_point  ave:bulk_modulus  ...  \\\n",
       "2981          41.865000        1376.700000         69.891020  ...   \n",
       "2987          15.622500        1240.575000         28.000000  ...   \n",
       "2988          38.335897        1269.902222         36.722222  ...   \n",
       "2989         102.047167        2058.666667         96.666667  ...   \n",
       "2990          46.716000        1497.710000        120.099730  ...   \n",
       "...                 ...                ...               ...  ...   \n",
       "5907          53.561143        1710.108571        127.774880  ...   \n",
       "5909         115.302438        1239.529455         25.990909  ...   \n",
       "5911          77.330871         799.325000         32.200000  ...   \n",
       "5916          53.561143        1710.108571        127.774880  ...   \n",
       "5918          33.514335        1003.915556         81.122304  ...   \n",
       "\n",
       "      bond_length_average  bond_angle_average  average_cn  global_instability  \\\n",
       "2981             1.854082            2.094256    3.000000            0.092784   \n",
       "2987                  NaN                 NaN    0.000000            0.000000   \n",
       "2988             2.411893            1.722309    4.444444            0.226327   \n",
       "2989             2.716969            1.475477    4.000000            0.023436   \n",
       "2990             2.034599            1.528108    5.500000                 NaN   \n",
       "...                   ...                 ...         ...                 ...   \n",
       "5907             2.129581            1.436120    4.571429            0.380834   \n",
       "5909             3.112633            1.531910    3.636364            0.201037   \n",
       "5911             2.517111                 NaN    2.250000            0.161920   \n",
       "5916             2.141151            1.408620    4.642857            0.348107   \n",
       "5918             2.115742                 NaN    5.000000                 NaN   \n",
       "\n",
       "      perimeter_area_ratio  ewald_energy_per_atom  \\\n",
       "2981              1.438254             -53.898998   \n",
       "2987              1.451240               0.000000   \n",
       "2988              1.259362             -24.454789   \n",
       "2989              1.263086             -28.791123   \n",
       "2990              1.301013              -5.868260   \n",
       "...                    ...                    ...   \n",
       "5907              0.519384             -40.435971   \n",
       "5909              0.526755              -8.469700   \n",
       "5911              0.359104             -11.448966   \n",
       "5916              0.530037             -40.618438   \n",
       "5918              0.755073             -15.310469   \n",
       "\n",
       "      structural complexity per atom  structural complexity per cell  \\\n",
       "2981                        1.000000                        2.000000   \n",
       "2987                        1.000000                        4.000000   \n",
       "2988                        2.281036                       20.529325   \n",
       "2989                        0.918296                        2.754888   \n",
       "2990                        2.000000                       16.000000   \n",
       "...                              ...                             ...   \n",
       "5907                        3.807355                      106.605938   \n",
       "5909                        3.459432                       76.107496   \n",
       "5911                        4.062500                      130.000000   \n",
       "5916                        3.807355                      106.605938   \n",
       "5918                        3.281036                       59.058650   \n",
       "\n",
       "      n_symmetry_ops  mp_bandgap  \n",
       "2981            12.0      1.3711  \n",
       "2987            12.0      0.0000  \n",
       "2988            12.0      0.9903  \n",
       "2989            12.0      0.0000  \n",
       "2990             4.0      0.0000  \n",
       "...              ...         ...  \n",
       "5907             2.0      0.7136  \n",
       "5909             4.0      1.3399  \n",
       "5911             2.0      1.6253  \n",
       "5916             2.0      0.9614  \n",
       "5918             2.0      0.0000  \n",
       "\n",
       "[1412 rows x 302 columns]"
      ]
     },
     "execution_count": 8,
     "metadata": {},
     "output_type": "execute_result"
    }
   ],
   "source": [
    "data[['2dm_id (unitless)'] + target_column + descriptors]"
   ]
  },
  {
   "cell_type": "markdown",
   "id": "ddd56492",
   "metadata": {},
   "source": [
    "# Prepare Data"
   ]
  },
  {
   "cell_type": "markdown",
   "id": "4c6f43ed",
   "metadata": {},
   "source": [
    "Next up, we'll perform a train/test split, holding out 10% of the data as a test set."
   ]
  },
  {
   "cell_type": "code",
   "execution_count": 9,
   "id": "1989567b",
   "metadata": {},
   "outputs": [],
   "source": [
    "train, test = sklearn.model_selection.train_test_split(data, test_size=0.1, random_state=RANDOM_SEED)\n",
    "\n",
    "train_x = np.nan_to_num(train[descriptors].to_numpy())\n",
    "train_y = np.nan_to_num(train[target_column].to_numpy())\n",
    "\n",
    "test_x = np.nan_to_num(test[descriptors].to_numpy())\n",
    "test_y = np.nan_to_num(test[target_column].to_numpy())"
   ]
  },
  {
   "cell_type": "code",
   "execution_count": 10,
   "id": "dd116c39",
   "metadata": {
    "scrolled": false
   },
   "outputs": [],
   "source": [
    "metrics = {\n",
    "    'MaxError': sklearn.metrics.max_error,\n",
    "    'MAE': sklearn.metrics.mean_absolute_error,\n",
    "    'MSE': sklearn.metrics.mean_squared_error,\n",
    "    'RMSE': root_mean_squared_error,\n",
    "    'MAPE': sklearn.metrics.mean_absolute_percentage_error,\n",
    "    'R2': sklearn.metrics.r2_score\n",
    "}"
   ]
  },
  {
   "cell_type": "markdown",
   "id": "8a5208f1",
   "metadata": {},
   "source": [
    "# XGBoost\n",
    "\n",
    "XGBoost is a gradient boosting algorithm that uses an ensemble of decision trees. It's a very flexible model that comes with a lot of hyperparameters to tune. To tune them, we'll use Optuna, a Bayesian optimization framework. We'll also use Optuna to choose whether we use Z-score normalization or min/max scaling on the data.\n",
    "\n",
    "We'll hold out 20% of the data as a validation set, for early-stopping and pruning purposes. We'll train the model to minimize its RMSE on the training set."
   ]
  },
  {
   "cell_type": "code",
   "execution_count": null,
   "id": "7092b161",
   "metadata": {},
   "outputs": [],
   "source": [
    "current_reg = None\n",
    "best_reg = None\n",
    "def keep_best_reg(study, trial):\n",
    "    global best_reg\n",
    "    if study.best_trial == trial:\n",
    "        best_reg = current_reg\n",
    "\n",
    "objective_train_x_reg, objective_validation_x_reg, objective_train_y_reg, objective_validation_y_reg = sklearn.model_selection.train_test_split(\n",
    "    np.nan_to_num(train_x), train_y, test_size=0.2, random_state=RANDOM_SEED)\n",
    "\n",
    "def objective(trial: optuna.Trial):\n",
    "    global current_reg\n",
    "\n",
    "\n",
    "    params = {\n",
    "        'learning_rate': trial.suggest_float('learning_rate', 0, 2),\n",
    "        'min_split_loss': trial.suggest_float('min_split_loss', 0, 2),\n",
    "        'max_depth': trial.suggest_int('max_depth', 1, 256),\n",
    "        'min_child_weight': trial.suggest_float('min_child_weight', 0, 10),\n",
    "        'reg_lambda': trial.suggest_float('reg_lambda', 0, 2),\n",
    "        'reg_alpha': trial.suggest_float('reg_alpha', 0, 2)\n",
    "    }\n",
    "    \n",
    "    scalers = {\n",
    "        \"StandardScaler\": sklearn.preprocessing.StandardScaler(),\n",
    "        \"MinMaxScaler\": sklearn.preprocessing.MinMaxScaler()\n",
    "    }\n",
    "\n",
    "    scaler = trial.suggest_categorical('scaler', scalers.keys())\n",
    "\n",
    "    current_reg = sklearn.pipeline.Pipeline([\n",
    "        (scaler, scalers[scaler]),\n",
    "        (\"XGB_Regressor\", xgboost.sklearn.XGBRegressor(**params,\n",
    "                                               n_estimators=256,\n",
    "                                               n_jobs=1,\n",
    "                                               objective='reg:squarederror',\n",
    "                                               random_state=RANDOM_SEED),)\n",
    "    ])\n",
    "\n",
    "    pruning_callback = optuna.integration.XGBoostPruningCallback(trial, f'validation_0-rmse')\n",
    "    current_reg.fit(X=objective_train_x_reg, y=objective_train_y_reg,\n",
    "                         **{\n",
    "                            'XGB_Regressor__eval_set': [[objective_validation_x_reg, objective_validation_y_reg]],\n",
    "                            'XGB_Regressor__eval_metric': 'rmse',\n",
    "                            'XGB_Regressor__early_stopping_rounds': 50,\n",
    "                            'XGB_Regressor__callbacks': [pruning_callback],\n",
    "                            'XGB_Regressor__verbose': False\n",
    "                         })\n",
    "\n",
    "    mse = sklearn.metrics.mean_squared_error(\n",
    "        y_true=objective_validation_y_reg,\n",
    "        y_pred=current_reg.predict(objective_validation_x_reg),\n",
    "    )\n",
    "    rmse = np.sqrt(mse)\n",
    "\n",
    "    return rmse\n",
    "\n",
    "reg_study = optuna.create_study(\n",
    "    sampler = optuna.samplers.TPESampler(\n",
    "        seed = RANDOM_SEED,\n",
    "        warn_independent_sampling = True,\n",
    "        consider_endpoints = True\n",
    "    ),\n",
    "    pruner = optuna.pruners.HyperbandPruner(\n",
    "        min_resource=1,\n",
    "        max_resource=256),\n",
    "    direction='minimize')\n",
    "\n",
    "reg_study.optimize(func=objective, n_trials=1000, callbacks=[keep_best_reg])"
   ]
  },
  {
   "cell_type": "code",
   "execution_count": null,
   "id": "858b5eb6",
   "metadata": {},
   "outputs": [],
   "source": [
    "DigitalEcosystem.utils.figures.save_parity_plot_publication_quality(train_y_true = train_y,\n",
    "                                                                    train_y_pred = best_reg.predict(train_x),\n",
    "                                                                    test_y_true = test_y,\n",
    "                                                                    test_y_pred = best_reg.predict(test_x),\n",
    "                                                                    axis_label = \"Bandgap (eV)\",\n",
    "                                                                    filename = \"xgboost_2dm_bandgap_parity.jpeg\")"
   ]
  },
  {
   "cell_type": "code",
   "execution_count": null,
   "id": "ee3753ab",
   "metadata": {},
   "outputs": [],
   "source": [
    "print(\"Test Set Error Metrics\")\n",
    "for key, fun in metrics.items():\n",
    "    value = fun(y_true=test_y, y_pred=best_reg.predict(test_x))\n",
    "    print(key,np.round(value,4))\n",
    "    \n",
    "print(\"\\nTraining Set Error Metrics\")\n",
    "for key, fun in metrics.items():\n",
    "    value = fun(y_true=train_y, y_pred=best_reg.predict(train_x))\n",
    "    print(key,np.round(value,4))"
   ]
  },
  {
   "cell_type": "code",
   "execution_count": null,
   "id": "7608abf3",
   "metadata": {},
   "outputs": [],
   "source": [
    "n_importances = 10\n",
    "importances = list(zip(best_reg[1].feature_importances_, xenonpy_descriptors))\n",
    "\n",
    "sorted_importances = list(sorted(importances, key=lambda i: -i[0]))\n",
    "\n",
    "old_figsize = plt.rcParams[\"figure.figsize\"]\n",
    "plt.rcParams[\"figure.figsize\"] = (2*old_figsize[0], old_figsize[1])\n",
    "\n",
    "plt.barh(range(n_importances), [imp[0] for imp in sorted_importances[:n_importances]])\n",
    "plt.yticks(range(n_importances), [imp[1] for imp in sorted_importances[:n_importances]])\n",
    "plt.ylabel(\"Feature\")\n",
    "plt.xlabel(\"Importance Score\")\n",
    "plt.tight_layout()\n",
    "plt.savefig(\"xgboost_2dm_bandgap_importances.jpeg\")\n",
    "plt.rcParams[\"figure.figsize\"] = old_figsize"
   ]
  },
  {
   "cell_type": "markdown",
   "id": "05358811",
   "metadata": {},
   "source": [
    "Finally, for some book-keeping purposes, we'll go ahead and save the predictions from the XGBoost model, along with the importance scores from the above plot. Also, we'll go ahead and pickle the XGBoost pipeline."
   ]
  },
  {
   "cell_type": "code",
   "execution_count": null,
   "id": "61a2f4fd",
   "metadata": {},
   "outputs": [],
   "source": [
    "train_preds = train[target_column]\n",
    "train_preds['TrainTest Status'] = ['Training Set'] * len(train_preds)\n",
    "train_preds['Prediction'] = best_reg.predict(train_x)\n",
    "\n",
    "test_preds = test[target_column]\n",
    "test_preds['TrainTest Status'] = ['Test Set'] * len(test_preds)\n",
    "test_preds['Prediction'] = best_reg.predict(test_x)\n",
    "\n",
    "xgb_predictions = train_preds.append(test_preds)\n",
    "xgb_predictions.to_csv(\"xgboost_2dm_bandgap_predictions.csv\")"
   ]
  },
  {
   "cell_type": "code",
   "execution_count": null,
   "id": "ed4dc802",
   "metadata": {},
   "outputs": [],
   "source": [
    "with open(\"xgboost_2dm_bandgap_importances.csv\", \"w\") as outp:\n",
    "    outp.write(\"Descriptor,XGB_Importance\\n\")\n",
    "    for importance, descriptor in sorted_importances:\n",
    "        outp.write(f\"{descriptor},{importance}\\n\")"
   ]
  },
  {
   "cell_type": "code",
   "execution_count": null,
   "id": "4e8d7f37",
   "metadata": {},
   "outputs": [],
   "source": [
    "with open(\"xgboost_pipeline.pkl\", \"wb\") as outp:\n",
    "    pickle.dump(best_reg, outp)"
   ]
  },
  {
   "cell_type": "markdown",
   "id": "127f8c84",
   "metadata": {},
   "source": [
    "# TPOT\n",
    "\n",
    "TPOT is an AutoML solution that uses a genetic algorithm to create an ML pipeline to address a given problem. Here, we'll run a population of 100 models over 10 generations, taking the 10-fold cross-validated RMSE as the fitness metric.\n",
    "\n",
    "We'll also go ahead and save a parity plot of the TPOT model."
   ]
  },
  {
   "cell_type": "code",
   "execution_count": 11,
   "id": "2d61e40e",
   "metadata": {},
   "outputs": [
    {
     "data": {
      "application/vnd.jupyter.widget-view+json": {
       "model_id": "67fd2d865f594c3da29d77de3769c579",
       "version_major": 2,
       "version_minor": 0
      },
      "text/plain": [
       "Optimization Progress:   0%|          | 0/10100 [00:00<?, ?pipeline/s]"
      ]
     },
     "metadata": {},
     "output_type": "display_data"
    },
    {
     "name": "stdout",
     "output_type": "stream",
     "text": [
      "\n",
      "Generation 1 - Current best internal CV score: -0.91918931106907\n",
      "\n",
      "Generation 2 - Current best internal CV score: -0.91918931106907\n",
      "\n",
      "\n",
      "TPOT closed during evaluation in one generation.\n",
      "WARNING: TPOT may not provide a good pipeline if TPOT is stopped/interrupted in a early generation.\n",
      "\n",
      "\n",
      "TPOT closed prematurely. Will use the current best pipeline.\n",
      "\n",
      "Best pipeline: ExtraTreesRegressor(input_matrix, bootstrap=False, max_features=0.2, min_samples_leaf=9, min_samples_split=15, n_estimators=100)\n"
     ]
    },
    {
     "data": {
      "text/plain": [
       "TPOTRegressor(config_dict={'sklearn.cluster.FeatureAgglomeration': {'affinity': ['euclidean',\n",
       "                                                                                 'l1',\n",
       "                                                                                 'l2',\n",
       "                                                                                 'manhattan',\n",
       "                                                                                 'cosine'],\n",
       "                                                                    'linkage': ['ward',\n",
       "                                                                                'complete',\n",
       "                                                                                'average']},\n",
       "                           'sklearn.decomposition.FastICA': {'tol': array([0.  , 0.05, 0.1 , 0.15, 0.2 , 0.25, 0.3 , 0.35, 0.4 , 0.45, 0.5 ,\n",
       "       0.55, 0.6 , 0.65, 0.7 , 0.75, 0.8 , 0.85, 0.9 , 0.95, 1.  ])},\n",
       "                           'sklearn.decomposition.PCA': {'iterated_power'...\n",
       "                                                    'max_depth': range(1, 11),\n",
       "                                                    'min_child_weight': range(1, 21),\n",
       "                                                    'n_estimators': [100],\n",
       "                                                    'n_jobs': [1],\n",
       "                                                    'objective': ['reg:squarederror'],\n",
       "                                                    'subsample': array([0.05, 0.1 , 0.15, 0.2 , 0.25, 0.3 , 0.35, 0.4 , 0.45, 0.5 , 0.55,\n",
       "       0.6 , 0.65, 0.7 , 0.75, 0.8 , 0.85, 0.9 , 0.95, 1.  ]),\n",
       "                                                    'verbosity': [0]}},\n",
       "              cv=10, max_eval_time_mins=0.16666666666666666, n_jobs=-1,\n",
       "              random_state=1234, scoring='neg_root_mean_squared_error',\n",
       "              verbosity=2)"
      ]
     },
     "execution_count": 11,
     "metadata": {},
     "output_type": "execute_result"
    }
   ],
   "source": [
    "# tpot_model = tpot.TPOTRegressor(\n",
    "#     generations=100,\n",
    "#     population_size=100,\n",
    "#     max_eval_time_mins=10 / 60,\n",
    "#     cv=10,\n",
    "#     verbosity=2,\n",
    "#     scoring=\"neg_root_mean_squared_error\",\n",
    "#     config_dict=tpot.config.regressor_config_dict,\n",
    "#     n_jobs=-1,\n",
    "#     random_state=1234\n",
    "# )\n",
    "\n",
    "# tpot_model.fit(train_x, train_y.ravel())"
   ]
  },
  {
   "cell_type": "code",
   "execution_count": null,
   "id": "ac3e2f43",
   "metadata": {},
   "outputs": [],
   "source": [
    "tpot_rr_coefs = zip(tpot_model.fitted_pipeline_[1].coef_, descriptors)\n",
    "sorted_tpot_rr_coefs = list(sorted(tpot_rr_coefs, key=lambda i: -abs(i[0])))\n",
    "\n",
    "old_figsize = plt.rcParams[\"figure.figsize\"]\n",
    "plt.rcParams[\"figure.figsize\"] = (2*old_figsize[0], old_figsize[1])\n",
    "print(sorted_tpot_rr_coefs)\n",
    "\n",
    "plt.barh(range(n_importances), [imp[0] for imp in sorted_tpot_rr_coefs[:n_importances]])\n",
    "plt.yticks(range(n_importances), [imp[1] for imp in sorted_tpot_rr_coefs[:n_importances]])\n",
    "plt.ylabel(\"Feature\")\n",
    "plt.xlabel(\"Elastic Net Feature Coefficient\")\n",
    "plt.tight_layout()\n",
    "plt.savefig(\"tpot_2dm_elasticnet_coefficients.jpeg\")\n",
    "plt.show()\n",
    "plt.close()\n",
    "\n",
    "plt.rcParams['figure.figsize'] = old_figsize"
   ]
  },
  {
   "cell_type": "code",
   "execution_count": null,
   "id": "dd8b5dda",
   "metadata": {},
   "outputs": [],
   "source": [
    "DigitalEcosystem.utils.figures.save_parity_plot_publication_quality(train_y_true = train_y,\n",
    "                                                                    train_y_pred = tpot_model.predict(train_x),\n",
    "                                                                    test_y_true = test_y,\n",
    "                                                                    test_y_pred = tpot_model.predict(test_x),\n",
    "                                                                    axis_label = \"Bandgap (eV))\",\n",
    "                                                                    filename = \"tpot_2dm_bandgap_parity.jpeg\")"
   ]
  },
  {
   "cell_type": "code",
   "execution_count": null,
   "id": "8b0e1664",
   "metadata": {},
   "outputs": [],
   "source": [
    "print(\"Test Set Error Metrics\")\n",
    "for key, fun in metrics.items():\n",
    "    value = fun(y_true=test_y, y_pred=tpot_model.predict(test_x))\n",
    "    print(key,np.round(value,4))\n",
    "    \n",
    "print(\"\\nTraining Set Error Metrics\")\n",
    "for key, fun in metrics.items():\n",
    "    value = fun(y_true=train_y, y_pred=tpot_model.predict(train_x))\n",
    "    print(key,np.round(value,4))"
   ]
  },
  {
   "cell_type": "markdown",
   "id": "2959dd11",
   "metadata": {},
   "source": [
    "Finally, we'll go ahead and back up those predictions to the disk (this way, we don't need to re-run this again just to get those), and we'll pickle the TPOT model. We'll also have TPOT auto-generate some Python code to re-train itself."
   ]
  },
  {
   "cell_type": "code",
   "execution_count": null,
   "id": "18ee903a",
   "metadata": {},
   "outputs": [],
   "source": [
    "train_preds = train[target_column]\n",
    "train_preds['TrainTest Status'] = ['Training Set'] * len(train_preds)\n",
    "train_preds['Prediction'] = tpot_model.predict(train_x)\n",
    "\n",
    "test_preds = test[target_column]\n",
    "test_preds['TrainTest Status'] = ['Test Set'] * len(test_preds)\n",
    "test_preds['Prediction'] = tpot_model.predict(test_x)\n",
    "\n",
    "tpot_predictions = train_preds.append(test_preds)\n",
    "tpot_predictions.to_csv(\"tpot_2dm_bandgap_predictions.csv\")"
   ]
  },
  {
   "cell_type": "markdown",
   "id": "7281f672",
   "metadata": {},
   "source": [
    "At this point, a SISSO model was run. The models are stored below.\n",
    "\n",
    "The model forms are from the SISSO logfiles. Coefficients have been copied directly from the SISSO outputs here."
   ]
  },
  {
   "cell_type": "code",
   "execution_count": null,
   "id": "263a4225",
   "metadata": {},
   "outputs": [],
   "source": [
    "tpot_model.export('tpot_autogenerated_pipeline.py')\n",
    "with open(\"tpot_pipeline.pkl\", \"wb\") as outp:\n",
    "    pickle.dump(tpot_model.fitted_pipeline_, outp)"
   ]
  },
  {
   "cell_type": "code",
   "execution_count": 13,
   "id": "4be87485",
   "metadata": {},
   "outputs": [],
   "source": [
    "import numpy as np\n",
    "\n",
    "generations = np.loadtxt(\"tpot/generations.dat\")"
   ]
  },
  {
   "cell_type": "code",
   "execution_count": 15,
   "id": "f2c0d1a6",
   "metadata": {},
   "outputs": [
    {
     "data": {
      "image/png": "[encoded data removed]",
      "text/plain": [
       "<Figure size 216x216 with 1 Axes>"
      ]
     },
     "metadata": {
      "needs_background": "light"
     },
     "output_type": "display_data"
    }
   ],
   "source": [
    "from matplotlib import pyplot as plt\n",
    "\n",
    "plt.rcParams[\"figure.figsize\"] = plt.rcParamsDefault[\"figure.figsize\"]\n",
    "plt.rcParams[\"figure.figsize\"] = (3, 3)\n",
    "plt.rcParams[\"font.size\"] = 10\n",
    "\n",
    "plt.plot(generations[:, 0], generations[:, 1], 'k-', lw=1.50)\n",
    "\n",
    "plt.xlabel(f\"Generation\")\n",
    "plt.ylabel(f\"CV RMSE\")\n",
    "plt.savefig(\"bandgap_convergence.pdf\")\n",
    "plt.show()\n",
    "plt.close()"
   ]
  },
  {
   "cell_type": "markdown",
   "id": "aa00ee4f",
   "metadata": {},
   "source": [
    "# Roost\n",
    "\n",
    "[Roost](https://github.com/CompRhys/roost) is a neural network approach to predicting material properties as a function of their composition. Although we only have 144 data-points here, we can at least try for a good model.\n",
    "\n",
    "Since the model only requires material IDs, the composition, and the property of interest, we'll save a CSV containing those properties."
   ]
  },
  {
   "cell_type": "code",
   "execution_count": null,
   "id": "968e6ab1",
   "metadata": {},
   "outputs": [],
   "source": [
    "roost_dir = \"./roost\"\n",
    "os.makedirs(roost_dir, exist_ok=True)\n",
    "roost_data_train = train[['formula'] + target_column]\n",
    "roost_data_test = test[['formula'] + target_column]\n",
    "\n",
    "roost_data_train.to_csv(os.path.join(roost_dir, 'roost_train.csv'), index_label='material_id')\n",
    "roost_data_test.to_csv(os.path.join(roost_dir, 'roost_test.csv'), index_label='material_id')"
   ]
  },
  {
   "cell_type": "markdown",
   "id": "9d451491",
   "metadata": {},
   "source": [
    "At this point, Roost models were run. Logs can be found in the Roost directory, along with the resultant predictions."
   ]
  },
  {
   "cell_type": "code",
   "execution_count": null,
   "id": "7055a2c7",
   "metadata": {},
   "outputs": [],
   "source": [
    "roost_train_results = pd.read_csv(\"roost/roost_train_predictions.csv\", index_col=\"material_id\")\n",
    "roost_test_results  = pd.read_csv(\"roost/roost_test_predictions.csv\", index_col=\"material_id\")"
   ]
  },
  {
   "cell_type": "code",
   "execution_count": null,
   "id": "05660a45",
   "metadata": {},
   "outputs": [],
   "source": [
    "DigitalEcosystem.utils.figures.save_parity_plot_publication_quality(train_y_true = roost_train_results['bandgap_target'],\n",
    "                                                                    train_y_pred =  roost_train_results['bandgap_pred_n0'],\n",
    "                                                                    test_y_true = roost_test_results['bandgap_target'],\n",
    "                                                                    test_y_pred = roost_test_results['bandgap_pred_n0'],\n",
    "                                                                    axis_label = \"Bandgap (eV)\",\n",
    "                                                                    filename = \"roost_2dm_bandgap_parity.jpeg\")"
   ]
  },
  {
   "cell_type": "code",
   "execution_count": null,
   "id": "50e24504",
   "metadata": {},
   "outputs": [],
   "source": [
    "print(\"Test Set Error Metrics\")\n",
    "for key, fun in metrics.items():\n",
    "    value = fun(y_true=roost_test_results['bandgap_target'], y_pred=roost_test_results['bandgap_pred_n0'])\n",
    "    print(key,np.round(value,4))\n",
    "    \n",
    "print(\"\\nTraining Set Error Metrics\")\n",
    "for key, fun in metrics.items():\n",
    "    value = fun(y_true=roost_train_results['bandgap_target'], y_pred=roost_train_results['bandgap_pred_n0'])\n",
    "    print(key,np.round(value,4))"
   ]
  },
  {
   "cell_type": "markdown",
   "id": "009456f8",
   "metadata": {},
   "source": [
    "# SISSO\n",
    "\n",
    "SISSO is a symbolic regression technique focused on creating interpretable machine learning models. \n",
    "\n",
    "Due to the exponential computational cost of running a SISSO model as the number of features and rungs increases, we need to restrict the feature space. To do that, we'll use LASSO-based feature selection (essentially we can look at how quickly LASSO extinguishes a variable to get an idea of its importance). "
   ]
  },
  {
   "cell_type": "markdown",
   "id": "c9070301",
   "metadata": {},
   "source": [
    "# SISSO++ ALL"
   ]
  },
  {
   "cell_type": "code",
   "execution_count": 11,
   "id": "c2d88a12",
   "metadata": {},
   "outputs": [],
   "source": [
    "from sissopp.py_interface import read_csv\n",
    "from sissopp import FeatureSpace, SISSORegressor\n",
    "\n",
    "from sissopp.postprocess.feature_space_analysis import get_prevelance_of_primary_features\n",
    "from sissopp.postprocess.load_models import create_model_csv, load_model\n",
    "\n",
    "from time import time\n",
    "from pathlib import Path\n",
    "import os"
   ]
  },
  {
   "cell_type": "code",
   "execution_count": 12,
   "id": "3cf87fd1",
   "metadata": {},
   "outputs": [],
   "source": [
    "cwd = Path.cwd()"
   ]
  },
  {
   "cell_type": "code",
   "execution_count": 13,
   "id": "8effdb95",
   "metadata": {},
   "outputs": [],
   "source": [
    "# Rename columns to include units\n",
    "new_col_names = [\"2dm_id (unitless)\",\"Total Angles (n_angles)\",\"Total Atoms (n_atoms)\",\"Total Bonds (n_bonds)\",\"alkaine_earth (n_atoms)\",\"alkaine_earth-alkaine_earth (n_bonds)\",\"alkaine_earth-alkaine_earth-alkaine_earth (n_angles)\",\"alkaine_earth-chalcogen (n_bonds)\",\"alkaine_earth-chalcogen-alkaine_earth (n_angles)\",\"alkaine_earth-chalcogen-alkaline (n_angles)\",\"alkaine_earth-chalcogen-chalcogen (n_angles)\",\"alkaine_earth-chalcogen-early_transition (n_angles)\",\"alkaine_earth-chalcogen-halide (n_angles)\",\"alkaine_earth-chalcogen-late_transition (n_angles)\",\"alkaine_earth-chalcogen-pnictogen (n_angles)\",\"alkaine_earth-chalcogen-tetrel (n_angles)\",\"alkaine_earth-chalcogen-triel (n_angles)\",\"alkaine_earth-early_transition (n_bonds)\",\"alkaine_earth-early_transition-alkaine_earth (n_angles)\",\"alkaine_earth-early_transition-chalcogen (n_angles)\",\"alkaine_earth-early_transition-early_transition (n_angles)\",\"alkaine_earth-early_transition-tetrel (n_angles)\",\"alkaine_earth-f_block (n_bonds)\",\"alkaine_earth-f_block-alkaine_earth (n_angles)\",\"alkaine_earth-f_block-f_block (n_angles)\",\"alkaine_earth-halide (n_bonds)\",\"alkaine_earth-halide-alkaine_earth (n_angles)\",\"alkaine_earth-halide-early_transition (n_angles)\",\"alkaine_earth-halide-tetrel (n_angles)\",\"alkaine_earth-late_transition (n_bonds)\",\"alkaine_earth-late_transition-alkaine_earth (n_angles)\",\"alkaine_earth-late_transition-chalcogen (n_angles)\",\"alkaine_earth-late_transition-late_transition (n_angles)\",\"alkaine_earth-late_transition-tetrel (n_angles)\",\"alkaine_earth-pnictogen (n_bonds)\",\"alkaine_earth-pnictogen-alkaine_earth (n_angles)\",\"alkaine_earth-pnictogen-chalcogen (n_angles)\",\"alkaine_earth-pnictogen-pnictogen (n_angles)\",\"alkaine_earth-pnictogen-tetrel (n_angles)\",\"alkaine_earth-tetrel (n_bonds)\",\"alkaine_earth-tetrel-alkaine_earth (n_angles)\",\"alkaine_earth-tetrel-chalcogen (n_angles)\",\"alkaine_earth-tetrel-tetrel (n_angles)\",\"alkaline (n_atoms)\",\"alkaline-alkaline (n_bonds)\",\"alkaline-alkaline-alkaline (n_angles)\",\"alkaline-alkaline-chalcogen (n_angles)\",\"alkaline-chalcogen (n_bonds)\",\"alkaline-chalcogen-alkaine_earth (n_angles)\",\"alkaline-chalcogen-alkaline (n_angles)\",\"alkaline-chalcogen-chalcogen (n_angles)\",\"alkaline-chalcogen-early_transition (n_angles)\",\"alkaline-chalcogen-f_block (n_angles)\",\"alkaline-chalcogen-halide (n_angles)\",\"alkaline-chalcogen-late_transition (n_angles)\",\"alkaline-chalcogen-pnictogen (n_angles)\",\"alkaline-chalcogen-tetrel (n_angles)\",\"alkaline-early_transition (n_bonds)\",\"alkaline-early_transition-alkaline (n_angles)\",\"alkaline-early_transition-chalcogen (n_angles)\",\"alkaline-early_transition-early_transition (n_angles)\",\"alkaline-early_transition-halide (n_angles)\",\"alkaline-f_block (n_bonds)\",\"alkaline-f_block-alkaline (n_angles)\",\"alkaline-f_block-halide (n_angles)\",\"alkaline-halide (n_bonds)\",\"alkaline-halide-early_transition (n_angles)\",\"alkaline-halide-late_transition (n_angles)\",\"alkaline-late_transition (n_bonds)\",\"alkaline-late_transition-alkaline (n_angles)\",\"alkaline-late_transition-chalcogen (n_angles)\",\"alkaline-late_transition-halide (n_angles)\",\"alkaline-late_transition-late_transition (n_angles)\",\"alkaline-late_transition-pnictogen (n_angles)\",\"alkaline-pnictogen (n_bonds)\",\"alkaline-pnictogen-alkaine_earth (n_angles)\",\"alkaline-pnictogen-alkaline (n_angles)\",\"alkaline-pnictogen-chalcogen (n_angles)\",\"alkaline-pnictogen-tetrel (n_angles)\",\"alkaline-tetrel (n_bonds)\",\"alkaline-tetrel-alkaline (n_angles)\",\"alkaline-tetrel-chalcogen (n_angles)\",\"alkaline-tetrel-tetrel (n_angles)\",\"alkaline-triel (n_bonds)\",\"alkaline-triel-alkaline (n_angles)\",\"alkaline-triel-triel (n_angles)\",\"atoms_object (unitless)\",\"ave:Polarizability (AA_polar)\",\"ave:atomic_number\",\"ave:atomic_radius (pm)\",\"ave:atomic_radius_rahm (pm)\",\"ave:atomic_volume (cm^3 / mol)\",\"ave:atomic_weight (Da)\",\"ave:boiling_point (K)\",\"ave:bulk_modulus (GPa)\",\"ave:c6_gb (Eh / a0^6)\",\"ave:covalent_radius_cordero (pm)\",\"ave:covalent_radius_pyykko (pm)\",\"ave:covalent_radius_pyykko_double (pm)\",\"ave:covalent_radius_pyykko_triple (pm)\",\"ave:covalent_radius_slater (pm)\",\"ave:density (g / cm^3)\",\"ave:dipole_polarizability (AA_polar^3)\",\"ave:electron_affinity (eV)\",\"ave:electron_negativity (Pauling)\",\"ave:en_allen (eV)\",\"ave:en_ghosh (ghosh)\",\"ave:en_pauling (Pauling)\",\"ave:evaporation_heat (KJ / mol)\",\"ave:first_ion_en (eV)\",\"ave:fusion_enthalpy (KJ / mol)\",\"ave:gs_bandgap (eV)\",\"ave:gs_energy (eV)\",\"ave:gs_est_bcc_latcnt (AA)\",\"ave:gs_est_fcc_latcnt (AA)\",\"ave:gs_mag_moment (mu_B)\",\"ave:gs_volume_per (cm^3 / mol)\",\"ave:heat_capacity_mass (J / g / K)\",\"ave:heat_capacity_molar (J / mol / K)\",\"ave:heat_of_formation (KJ / mol)\",\"ave:hhi_p\",\"ave:hhi_r\",\"ave:icsd_volume (cm^3 / mol)\",\"ave:lattice_constant (AA)\",\"ave:melting_point (K)\",\"ave:mendeleev_number\",\"ave:molar_volume (cm^3)\",\"ave:num_d_unfilled\",\"ave:num_d_valence\",\"ave:num_f_unfilled\",\"ave:num_f_valence\",\"ave:num_p_unfilled\",\"ave:num_p_valence\",\"ave:num_s_unfilled\",\"ave:num_s_valence\",\"ave:num_unfilled\",\"ave:num_valance\",\"ave:period\",\"ave:sound_velocity (m / s)\",\"ave:specific_heat (J / g / K)\",\"ave:thermal_conductivity (W / m / K)\",\"ave:vdw_radius (pm)\",\"ave:vdw_radius_alvarez (pm)\",\"ave:vdw_radius_mm3 (pm)\",\"ave:vdw_radius_uff (pm)\",\"average_cn\",\"bandgap (eV)\",\"bond_angle_average (rad)\",\"bond_length_average (AA)\",\"chalcogen (n_atoms)\",\"chalcogen-alkaine_earth-chalcogen (n_angles)\",\"chalcogen-alkaline-chalcogen (n_angles)\",\"chalcogen-chalcogen (n_bonds)\",\"chalcogen-chalcogen-alkaline (n_angles)\",\"chalcogen-chalcogen-chalcogen (n_angles)\",\"chalcogen-chalcogen-early_transition (n_angles)\",\"chalcogen-chalcogen-halide (n_angles)\",\"chalcogen-chalcogen-late_transition (n_angles)\",\"chalcogen-chalcogen-pnictogen (n_angles)\",\"chalcogen-chalcogen-tetrel (n_angles)\",\"chalcogen-early_transition (n_bonds)\",\"chalcogen-early_transition-chalcogen (n_angles)\",\"chalcogen-early_transition-early_transition (n_angles)\",\"chalcogen-early_transition-halide (n_angles)\",\"chalcogen-early_transition-late_transition (n_angles)\",\"chalcogen-early_transition-pnictogen (n_angles)\",\"chalcogen-f_block (n_bonds)\",\"chalcogen-f_block-chalcogen (n_angles)\",\"chalcogen-f_block-halide (n_angles)\",\"chalcogen-f_block-pnictogen (n_angles)\",\"chalcogen-halide (n_bonds)\",\"chalcogen-halide-chalcogen (n_angles)\",\"chalcogen-halide-early_transition (n_angles)\",\"chalcogen-halide-halide (n_angles)\",\"chalcogen-late_transition (n_bonds)\",\"chalcogen-late_transition-chalcogen (n_angles)\",\"chalcogen-late_transition-early_transition (n_angles)\",\"chalcogen-late_transition-halide (n_angles)\",\"chalcogen-late_transition-late_transition (n_angles)\",\"chalcogen-late_transition-pnictogen (n_angles)\",\"chalcogen-late_transition-tetrel (n_angles)\",\"chalcogen-noble_gas (n_bonds)\",\"chalcogen-noble_gas-chalcogen (n_angles)\",\"chalcogen-noble_gas-halide (n_angles)\",\"chalcogen-pnictogen (n_bonds)\",\"chalcogen-pnictogen-chalcogen (n_angles)\",\"chalcogen-pnictogen-halide (n_angles)\",\"chalcogen-pnictogen-pnictogen (n_angles)\",\"chalcogen-post_uranium (n_bonds)\",\"chalcogen-post_uranium-chalcogen (n_angles)\",\"chalcogen-post_uranium-halide (n_angles)\",\"chalcogen-tetrel (n_bonds)\",\"chalcogen-tetrel-chalcogen (n_angles)\",\"chalcogen-tetrel-halide (n_angles)\",\"chalcogen-tetrel-pnictogen (n_angles)\",\"chalcogen-triel (n_bonds)\",\"chalcogen-triel-chalcogen (n_angles)\",\"chalcogen-triel-halide (n_angles)\",\"decomposition_energy (eV/atom)\",\"discovery_process (Unitless)\",\"early_transition (n_atoms)\",\"early_transition-alkaine_earth-chalcogen (n_angles)\",\"early_transition-alkaine_earth-early_transition (n_angles)\",\"early_transition-alkaline-chalcogen (n_angles)\",\"early_transition-alkaline-early_transition (n_angles)\",\"early_transition-chalcogen-alkaine_earth (n_angles)\",\"early_transition-chalcogen-alkaline (n_angles)\",\"early_transition-chalcogen-chalcogen (n_angles)\",\"early_transition-chalcogen-early_transition (n_angles)\",\"early_transition-chalcogen-halide (n_angles)\",\"early_transition-chalcogen-late_transition (n_angles)\",\"early_transition-chalcogen-pnictogen (n_angles)\",\"early_transition-chalcogen-tetrel (n_angles)\",\"early_transition-chalcogen-triel (n_angles)\",\"early_transition-early_transition (n_bonds)\",\"early_transition-early_transition-alkaine_earth (n_angles)\",\"early_transition-early_transition-alkaline (n_angles)\",\"early_transition-early_transition-chalcogen (n_angles)\",\"early_transition-early_transition-early_transition (n_angles)\",\"early_transition-early_transition-halide (n_angles)\",\"early_transition-early_transition-late_transition (n_angles)\",\"early_transition-early_transition-pnictogen (n_angles)\",\"early_transition-early_transition-tetrel (n_angles)\",\"early_transition-early_transition-triel (n_angles)\",\"early_transition-f_block (n_bonds)\",\"early_transition-f_block-chalcogen (n_angles)\",\"early_transition-f_block-early_transition (n_angles)\",\"early_transition-f_block-pnictogen (n_angles)\",\"early_transition-halide (n_bonds)\",\"early_transition-halide-chalcogen (n_angles)\",\"early_transition-halide-early_transition (n_angles)\",\"early_transition-halide-halide (n_angles)\",\"early_transition-halide-late_transition (n_angles)\",\"early_transition-halide-pnictogen (n_angles)\",\"early_transition-halide-tetrel (n_angles)\",\"early_transition-late_transition (n_bonds)\",\"early_transition-late_transition-chalcogen (n_angles)\",\"early_transition-late_transition-early_transition (n_angles)\",\"early_transition-late_transition-halide (n_angles)\",\"early_transition-late_transition-late_transition (n_angles)\",\"early_transition-late_transition-pnictogen (n_angles)\",\"early_transition-late_transition-tetrel (n_angles)\",\"early_transition-late_transition-triel (n_angles)\",\"early_transition-pnictogen (n_bonds)\",\"early_transition-pnictogen-alkaline (n_angles)\",\"early_transition-pnictogen-chalcogen (n_angles)\",\"early_transition-pnictogen-early_transition (n_angles)\",\"early_transition-pnictogen-halide (n_angles)\",\"early_transition-pnictogen-pnictogen (n_angles)\",\"early_transition-tetrel (n_bonds)\",\"early_transition-tetrel-chalcogen (n_angles)\",\"early_transition-tetrel-early_transition (n_angles)\",\"early_transition-tetrel-late_transition (n_angles)\",\"early_transition-tetrel-tetrel (n_angles)\",\"early_transition-tetrel-triel (n_angles)\",\"early_transition-triel (n_bonds)\",\"early_transition-triel-chalcogen (n_angles)\",\"early_transition-triel-early_transition (n_angles)\",\"early_transition-triel-late_transition (n_angles)\",\"early_transition-triel-tetrel (n_angles)\",\"early_transition-triel-triel (n_angles)\",\"energy_per_atom (eV)\",\"energy_vdw_per_atom (eV/atom)\",\"ewald_energy_per_atom (eV / atom)\",\"exfoliation_energy_per_atom (eV/atom)\",\"f_block (n_atoms)\",\"f_block-alkaine_earth-f_block (n_angles)\",\"f_block-alkaline-f_block (n_angles)\",\"f_block-chalcogen-alkaline (n_angles)\",\"f_block-chalcogen-chalcogen (n_angles)\",\"f_block-chalcogen-early_transition (n_angles)\",\"f_block-chalcogen-f_block (n_angles)\",\"f_block-chalcogen-halide (n_angles)\",\"f_block-chalcogen-late_transition (n_angles)\",\"f_block-chalcogen-pnictogen (n_angles)\",\"f_block-chalcogen-tetrel (n_angles)\",\"f_block-chalcogen-triel (n_angles)\",\"f_block-early_transition-chalcogen (n_angles)\",\"f_block-early_transition-early_transition (n_angles)\",\"f_block-early_transition-f_block (n_angles)\",\"f_block-early_transition-pnictogen (n_angles)\",\"f_block-f_block (n_bonds)\",\"f_block-f_block-alkaine_earth (n_angles)\",\"f_block-f_block-alkaline (n_angles)\",\"f_block-f_block-chalcogen (n_angles)\",\"f_block-f_block-early_transition (n_angles)\",\"f_block-f_block-f_block (n_angles)\",\"f_block-f_block-halide (n_angles)\",\"f_block-f_block-late_transition (n_angles)\",\"f_block-f_block-pnictogen (n_angles)\",\"f_block-f_block-tetrel (n_angles)\",\"f_block-f_block-triel (n_angles)\",\"f_block-halide (n_bonds)\",\"f_block-halide-alkaine_earth (n_angles)\",\"f_block-halide-chalcogen (n_angles)\",\"f_block-halide-f_block (n_angles)\",\"f_block-halide-halide (n_angles)\",\"f_block-halide-tetrel (n_angles)\",\"f_block-halide-triel (n_angles)\",\"f_block-late_transition (n_bonds)\",\"f_block-late_transition-alkaine_earth (n_angles)\",\"f_block-late_transition-chalcogen (n_angles)\",\"f_block-late_transition-f_block (n_angles)\",\"f_block-late_transition-late_transition (n_angles)\",\"f_block-late_transition-pnictogen (n_angles)\",\"f_block-late_transition-tetrel (n_angles)\",\"f_block-late_transition-triel (n_angles)\",\"f_block-pnictogen (n_bonds)\",\"f_block-pnictogen-chalcogen (n_angles)\",\"f_block-pnictogen-early_transition (n_angles)\",\"f_block-pnictogen-f_block (n_angles)\",\"f_block-pnictogen-late_transition (n_angles)\",\"f_block-pnictogen-pnictogen (n_angles)\",\"f_block-tetrel (n_bonds)\",\"f_block-tetrel-chalcogen (n_angles)\",\"f_block-tetrel-f_block (n_angles)\",\"f_block-tetrel-late_transition (n_angles)\",\"f_block-tetrel-tetrel (n_angles)\",\"f_block-tetrel-triel (n_angles)\",\"f_block-triel (n_bonds)\",\"f_block-triel-f_block (n_angles)\",\"f_block-triel-late_transition (n_angles)\",\"f_block-triel-tetrel (n_angles)\",\"f_block-triel-triel (n_angles)\",\"formula\",\"global_instability (instable)\",\"halide (n_atoms)\",\"halide-alkaine_earth-chalcogen (n_angles)\",\"halide-alkaine_earth-halide (n_angles)\",\"halide-alkaline-halide (n_angles)\",\"halide-chalcogen-chalcogen (n_angles)\",\"halide-chalcogen-halide (n_angles)\",\"halide-early_transition-chalcogen (n_angles)\",\"halide-early_transition-halide (n_angles)\",\"halide-early_transition-pnictogen (n_angles)\",\"halide-f_block-chalcogen (n_angles)\",\"halide-f_block-halide (n_angles)\",\"halide-f_block-pnictogen (n_angles)\",\"halide-halide (n_bonds)\",\"halide-halide-chalcogen (n_angles)\",\"halide-halide-halide (n_angles)\",\"halide-halide-pnictogen (n_angles)\",\"halide-late_transition (n_bonds)\",\"halide-late_transition-chalcogen (n_angles)\",\"halide-late_transition-halide (n_angles)\",\"halide-late_transition-pnictogen (n_angles)\",\"halide-noble_gas (n_bonds)\",\"halide-noble_gas-halide (n_angles)\",\"halide-pnictogen (n_bonds)\",\"halide-pnictogen-chalcogen (n_angles)\",\"halide-pnictogen-halide (n_angles)\",\"halide-post_uranium (n_bonds)\",\"halide-post_uranium-chalcogen (n_angles)\",\"halide-post_uranium-halide (n_angles)\",\"halide-tetrel (n_bonds)\",\"halide-tetrel-chalcogen (n_angles)\",\"halide-tetrel-halide (n_angles)\",\"halide-triel (n_bonds)\",\"halide-triel-chalcogen (n_angles)\",\"halide-triel-halide (n_angles)\",\"is_bandgap_direct (unitless)\",\"is_hubbard (unitless)\",\"is_metal (unitless)\",\"late_transition (n_atoms)\",\"late_transition-alkaine_earth-chalcogen (n_angles)\",\"late_transition-alkaine_earth-late_transition (n_angles)\",\"late_transition-alkaline-chalcogen (n_angles)\",\"late_transition-alkaline-halide (n_angles)\",\"late_transition-alkaline-late_transition (n_angles)\",\"late_transition-alkaline-triel (n_angles)\",\"late_transition-chalcogen-alkaline (n_angles)\",\"late_transition-chalcogen-chalcogen (n_angles)\",\"late_transition-chalcogen-early_transition (n_angles)\",\"late_transition-chalcogen-halide (n_angles)\",\"late_transition-chalcogen-late_transition (n_angles)\",\"late_transition-chalcogen-pnictogen (n_angles)\",\"late_transition-chalcogen-tetrel (n_angles)\",\"late_transition-chalcogen-triel (n_angles)\",\"late_transition-early_transition-chalcogen (n_angles)\",\"late_transition-early_transition-early_transition (n_angles)\",\"late_transition-early_transition-halide (n_angles)\",\"late_transition-early_transition-late_transition (n_angles)\",\"late_transition-early_transition-pnictogen (n_angles)\",\"late_transition-early_transition-tetrel (n_angles)\",\"late_transition-f_block-chalcogen (n_angles)\",\"late_transition-f_block-late_transition (n_angles)\",\"late_transition-f_block-pnictogen (n_angles)\",\"late_transition-f_block-tetrel (n_angles)\",\"late_transition-halide-chalcogen (n_angles)\",\"late_transition-halide-early_transition (n_angles)\",\"late_transition-halide-late_transition (n_angles)\",\"late_transition-halide-noble_gas (n_angles)\",\"late_transition-halide-pnictogen (n_angles)\",\"late_transition-late_transition (n_bonds)\",\"late_transition-late_transition-alkaline (n_angles)\",\"late_transition-late_transition-chalcogen (n_angles)\",\"late_transition-late_transition-early_transition (n_angles)\",\"late_transition-late_transition-halide (n_angles)\",\"late_transition-late_transition-late_transition (n_angles)\",\"late_transition-late_transition-pnictogen (n_angles)\",\"late_transition-late_transition-tetrel (n_angles)\",\"late_transition-late_transition-triel (n_angles)\",\"late_transition-pnictogen (n_bonds)\",\"late_transition-pnictogen-alkaline (n_angles)\",\"late_transition-pnictogen-chalcogen (n_angles)\",\"late_transition-pnictogen-early_transition (n_angles)\",\"late_transition-pnictogen-halide (n_angles)\",\"late_transition-pnictogen-late_transition (n_angles)\",\"late_transition-pnictogen-pnictogen (n_angles)\",\"late_transition-pnictogen-tetrel (n_angles)\",\"late_transition-pnictogen-triel (n_angles)\",\"late_transition-tetrel (n_bonds)\",\"late_transition-tetrel-chalcogen (n_angles)\",\"late_transition-tetrel-late_transition (n_angles)\",\"late_transition-tetrel-pnictogen (n_angles)\",\"late_transition-tetrel-tetrel (n_angles)\",\"late_transition-triel (n_bonds)\",\"late_transition-triel-alkaline (n_angles)\",\"late_transition-triel-chalcogen (n_angles)\",\"late_transition-triel-halide (n_angles)\",\"late_transition-triel-late_transition (n_angles)\",\"late_transition-triel-pnictogen (n_angles)\",\"late_transition-triel-triel (n_angles)\",\"max:Polarizability (AA_polar)\",\"max:atomic_number\",\"max:atomic_radius (pm)\",\"max:atomic_radius_rahm (pm)\",\"max:atomic_volume (cm^3 / mol)\",\"max:atomic_weight (Da)\",\"max:boiling_point (K)\",\"max:bulk_modulus (GPa)\",\"max:c6_gb (Eh / a0^6)\",\"max:covalent_radius_cordero (pm)\",\"max:covalent_radius_pyykko (pm)\",\"max:covalent_radius_pyykko_double (pm)\",\"max:covalent_radius_pyykko_triple (pm)\",\"max:covalent_radius_slater (pm)\",\"max:density (g / cm^3)\",\"max:dipole_polarizability (AA_polar^3)\",\"max:electron_affinity (eV)\",\"max:electron_negativity (Pauling)\",\"max:en_allen (eV)\",\"max:en_ghosh (ghosh)\",\"max:en_pauling (Pauling)\",\"max:evaporation_heat (KJ / mol)\",\"max:first_ion_en (eV)\",\"max:fusion_enthalpy (KJ / mol)\",\"max:gs_bandgap (eV)\",\"max:gs_energy (eV)\",\"max:gs_est_bcc_latcnt (AA)\",\"max:gs_est_fcc_latcnt (AA)\",\"max:gs_mag_moment (mu_B)\",\"max:gs_volume_per (cm^3 / mol)\",\"max:heat_capacity_mass (J / g / K)\",\"max:heat_capacity_molar (J / mol / K)\",\"max:heat_of_formation (KJ / mol)\",\"max:hhi_p\",\"max:hhi_r\",\"max:icsd_volume (cm^3 / mol)\",\"max:lattice_constant (AA)\",\"max:melting_point (K)\",\"max:mendeleev_number\",\"max:molar_volume (cm^3)\",\"max:num_d_unfilled\",\"max:num_d_valence\",\"max:num_f_unfilled\",\"max:num_f_valence\",\"max:num_p_unfilled\",\"max:num_p_valence\",\"max:num_s_unfilled\",\"max:num_s_valence\",\"max:num_unfilled\",\"max:num_valance\",\"max:period\",\"max:sound_velocity (m / s)\",\"max:specific_heat (J / g / K)\",\"max:thermal_conductivity (W / m / K)\",\"max:vdw_radius (pm)\",\"max:vdw_radius_alvarez (pm)\",\"max:vdw_radius_mm3 (pm)\",\"max:vdw_radius_uff (pm)\",\"min:Polarizability (AA_polar)\",\"min:atomic_number\",\"min:atomic_radius (pm)\",\"min:atomic_radius_rahm (pm)\",\"min:atomic_volume (cm^3 / mol)\",\"min:atomic_weight (Da)\",\"min:boiling_point (K)\",\"min:bulk_modulus (GPa)\",\"min:c6_gb (Eh / a0^6)\",\"min:covalent_radius_cordero (pm)\",\"min:covalent_radius_pyykko (pm)\",\"min:covalent_radius_pyykko_double (pm)\",\"min:covalent_radius_pyykko_triple (pm)\",\"min:covalent_radius_slater (pm)\",\"min:density (g / cm^3)\",\"min:dipole_polarizability (AA_polar^3)\",\"min:electron_affinity (eV)\",\"min:electron_negativity (Pauling)\",\"min:en_allen (eV)\",\"min:en_ghosh (ghosh)\",\"min:en_pauling (Pauling)\",\"min:evaporation_heat (KJ / mol)\",\"min:first_ion_en (eV)\",\"min:fusion_enthalpy (KJ / mol)\",\"min:gs_bandgap (eV)\",\"min:gs_energy (eV)\",\"min:gs_est_bcc_latcnt (AA)\",\"min:gs_est_fcc_latcnt (AA)\",\"min:gs_mag_moment (mu_B)\",\"min:gs_volume_per (cm^3 / mol)\",\"min:heat_capacity_mass (J / g / K)\",\"min:heat_capacity_molar (J / mol / K)\",\"min:heat_of_formation (KJ / mol)\",\"min:hhi_p\",\"min:hhi_r\",\"min:icsd_volume (cm^3 / mol)\",\"min:lattice_constant (AA)\",\"min:melting_point (K)\",\"min:mendeleev_number\",\"min:molar_volume (cm^3)\",\"min:num_d_unfilled\",\"min:num_d_valence\",\"min:num_f_unfilled\",\"min:num_f_valence\",\"min:num_p_unfilled\",\"min:num_p_valence\",\"min:num_s_unfilled\",\"min:num_s_valence\",\"min:num_unfilled\",\"min:num_valance\",\"min:period\",\"min:sound_velocity (m / s)\",\"min:specific_heat (J / g / K)\",\"min:thermal_conductivity (W / m / K)\",\"min:vdw_radius (pm)\",\"min:vdw_radius_alvarez (pm)\",\"min:vdw_radius_mm3 (pm)\",\"min:vdw_radius_uff (pm)\",\"n_symmetry_ops\",\"noble_gas (n_atoms)\",\"noble_gas-chalcogen-noble_gas (n_angles)\",\"perimeter_area_ratio (AA^-1)\",\"pnictogen (n_atoms)\",\"pnictogen-alkaine_earth-chalcogen (n_angles)\",\"pnictogen-alkaine_earth-pnictogen (n_angles)\",\"pnictogen-alkaline-pnictogen (n_angles)\",\"pnictogen-chalcogen-alkaline (n_angles)\",\"pnictogen-chalcogen-chalcogen (n_angles)\",\"pnictogen-chalcogen-early_transition (n_angles)\",\"pnictogen-chalcogen-late_transition (n_angles)\",\"pnictogen-chalcogen-pnictogen (n_angles)\",\"pnictogen-chalcogen-tetrel (n_angles)\",\"pnictogen-chalcogen-triel (n_angles)\",\"pnictogen-early_transition-chalcogen (n_angles)\",\"pnictogen-early_transition-early_transition (n_angles)\",\"pnictogen-early_transition-halide (n_angles)\",\"pnictogen-early_transition-pnictogen (n_angles)\",\"pnictogen-f_block-chalcogen (n_angles)\",\"pnictogen-f_block-halide (n_angles)\",\"pnictogen-f_block-pnictogen (n_angles)\",\"pnictogen-halide-halide (n_angles)\",\"pnictogen-halide-late_transition (n_angles)\",\"pnictogen-halide-pnictogen (n_angles)\",\"pnictogen-late_transition-chalcogen (n_angles)\",\"pnictogen-late_transition-halide (n_angles)\",\"pnictogen-late_transition-late_transition (n_angles)\",\"pnictogen-late_transition-pnictogen (n_angles)\",\"pnictogen-pnictogen (n_bonds)\",\"pnictogen-pnictogen-chalcogen (n_angles)\",\"pnictogen-pnictogen-early_transition (n_angles)\",\"pnictogen-pnictogen-halide (n_angles)\",\"pnictogen-pnictogen-late_transition (n_angles)\",\"pnictogen-pnictogen-pnictogen (n_angles)\",\"pnictogen-pnictogen-tetrel (n_angles)\",\"pnictogen-pnictogen-triel (n_angles)\",\"pnictogen-tetrel (n_bonds)\",\"pnictogen-tetrel-chalcogen (n_angles)\",\"pnictogen-tetrel-pnictogen (n_angles)\",\"pnictogen-tetrel-tetrel (n_angles)\",\"pnictogen-triel (n_bonds)\",\"pnictogen-triel-chalcogen (n_angles)\",\"pnictogen-triel-halide (n_angles)\",\"pnictogen-triel-pnictogen (n_angles)\",\"pnictogen-triel-triel (n_angles)\",\"post_uranium (n_atoms)\",\"post_uranium-chalcogen-chalcogen (n_angles)\",\"post_uranium-chalcogen-post_uranium (n_angles)\",\"post_uranium-halide-post_uranium (n_angles)\",\"post_uranium-post_uranium (n_bonds)\",\"post_uranium-post_uranium-chalcogen (n_angles)\",\"post_uranium-post_uranium-post_uranium (n_angles)\",\"potcars (unitless)\",\"structural complexity per atom (comp / atom)\",\"structural complexity per cell (comp / cell)\",\"sum:Polarizability (AA_polar)\",\"sum:atomic_number\",\"sum:atomic_radius (pm)\",\"sum:atomic_radius_rahm (pm)\",\"sum:atomic_volume (cm^3 / mol)\",\"sum:atomic_weight (Da)\",\"sum:boiling_point (K)\",\"sum:bulk_modulus (GPa)\",\"sum:c6_gb (Eh / a0^6)\",\"sum:covalent_radius_cordero (pm)\",\"sum:covalent_radius_pyykko (pm)\",\"sum:covalent_radius_pyykko_double (pm)\",\"sum:covalent_radius_pyykko_triple (pm)\",\"sum:covalent_radius_slater (pm)\",\"sum:density (g / cm^3)\",\"sum:dipole_polarizability (AA_polar^3)\",\"sum:electron_affinity (eV)\",\"sum:electron_negativity (Pauling)\",\"sum:en_allen (eV)\",\"sum:en_ghosh (ghosh)\",\"sum:en_pauling (Pauling)\",\"sum:evaporation_heat (KJ / mol)\",\"sum:first_ion_en (eV)\",\"sum:fusion_enthalpy (KJ / mol)\",\"sum:gs_bandgap (eV)\",\"sum:gs_energy (eV)\",\"sum:gs_est_bcc_latcnt (AA)\",\"sum:gs_est_fcc_latcnt (AA)\",\"sum:gs_mag_moment (mu_B)\",\"sum:gs_volume_per (cm^3 / mol)\",\"sum:heat_capacity_mass (J / g / K)\",\"sum:heat_capacity_molar (J / mol / K)\",\"sum:heat_of_formation (KJ / mol)\",\"sum:hhi_p\",\"sum:hhi_r\",\"sum:icsd_volume (cm^3 / mol)\",\"sum:lattice_constant (AA)\",\"sum:melting_point (K)\",\"sum:mendeleev_number\",\"sum:molar_volume (cm^3)\",\"sum:num_d_unfilled\",\"sum:num_d_valence\",\"sum:num_f_unfilled\",\"sum:num_f_valence\",\"sum:num_p_unfilled\",\"sum:num_p_valence\",\"sum:num_s_unfilled\",\"sum:num_s_valence\",\"sum:num_unfilled\",\"sum:num_valance\",\"sum:period\",\"sum:sound_velocity (m / s)\",\"sum:specific_heat (J / g / K)\",\"sum:thermal_conductivity (W / m / K)\",\"sum:vdw_radius (pm)\",\"sum:vdw_radius_alvarez (pm)\",\"sum:vdw_radius_mm3 (pm)\",\"sum:vdw_radius_uff (pm)\",\"tetrel (n_atoms)\",\"tetrel-alkaine_earth-chalcogen (n_angles)\",\"tetrel-alkaine_earth-tetrel (n_angles)\",\"tetrel-chalcogen-alkaline (n_angles)\",\"tetrel-chalcogen-chalcogen (n_angles)\",\"tetrel-chalcogen-early_transition (n_angles)\",\"tetrel-chalcogen-halide (n_angles)\",\"tetrel-chalcogen-late_transition (n_angles)\",\"tetrel-chalcogen-pnictogen (n_angles)\",\"tetrel-chalcogen-tetrel (n_angles)\",\"tetrel-early_transition-chalcogen (n_angles)\",\"tetrel-early_transition-halide (n_angles)\",\"tetrel-early_transition-late_transition (n_angles)\",\"tetrel-early_transition-tetrel (n_angles)\",\"tetrel-f_block-chalcogen (n_angles)\",\"tetrel-f_block-halide (n_angles)\",\"tetrel-f_block-late_transition (n_angles)\",\"tetrel-f_block-tetrel (n_angles)\",\"tetrel-halide-halide (n_angles)\",\"tetrel-halide-tetrel (n_angles)\",\"tetrel-late_transition-chalcogen (n_angles)\",\"tetrel-late_transition-halide (n_angles)\",\"tetrel-late_transition-late_transition (n_angles)\",\"tetrel-late_transition-pnictogen (n_angles)\",\"tetrel-late_transition-tetrel (n_angles)\",\"tetrel-pnictogen-alkaline (n_angles)\",\"tetrel-pnictogen-chalcogen (n_angles)\",\"tetrel-pnictogen-late_transition (n_angles)\",\"tetrel-pnictogen-pnictogen (n_angles)\",\"tetrel-pnictogen-tetrel (n_angles)\",\"tetrel-pnictogen-triel (n_angles)\",\"tetrel-tetrel (n_bonds)\",\"tetrel-tetrel-alkaline (n_angles)\",\"tetrel-tetrel-chalcogen (n_angles)\",\"tetrel-tetrel-early_transition (n_angles)\",\"tetrel-tetrel-halide (n_angles)\",\"tetrel-tetrel-late_transition (n_angles)\",\"tetrel-tetrel-pnictogen (n_angles)\",\"tetrel-tetrel-tetrel (n_angles)\",\"tetrel-tetrel-triel (n_angles)\",\"tetrel-triel (n_bonds)\",\"tetrel-triel-chalcogen (n_angles)\",\"tetrel-triel-pnictogen (n_angles)\",\"tetrel-triel-tetrel (n_angles)\",\"total_magnetization (muB)\",\"triel (n_atoms)\",\"triel-chalcogen-alkaline (n_angles)\",\"triel-chalcogen-chalcogen (n_angles)\",\"triel-chalcogen-early_transition (n_angles)\",\"triel-chalcogen-halide (n_angles)\",\"triel-chalcogen-late_transition (n_angles)\",\"triel-chalcogen-pnictogen (n_angles)\",\"triel-chalcogen-tetrel (n_angles)\",\"triel-chalcogen-triel (n_angles)\",\"triel-early_transition-chalcogen (n_angles)\",\"triel-early_transition-early_transition (n_angles)\",\"triel-early_transition-halide (n_angles)\",\"triel-early_transition-late_transition (n_angles)\",\"triel-early_transition-tetrel (n_angles)\",\"triel-early_transition-triel (n_angles)\",\"triel-f_block-halide (n_angles)\",\"triel-f_block-late_transition (n_angles)\",\"triel-f_block-tetrel (n_angles)\",\"triel-f_block-triel (n_angles)\",\"triel-halide-chalcogen (n_angles)\",\"triel-halide-early_transition (n_angles)\",\"triel-halide-halide (n_angles)\",\"triel-halide-late_transition (n_angles)\",\"triel-halide-pnictogen (n_angles)\",\"triel-halide-tetrel (n_angles)\",\"triel-halide-triel (n_angles)\",\"triel-late_transition-alkaline (n_angles)\",\"triel-late_transition-chalcogen (n_angles)\",\"triel-late_transition-halide (n_angles)\",\"triel-late_transition-late_transition (n_angles)\",\"triel-late_transition-pnictogen (n_angles)\",\"triel-late_transition-tetrel (n_angles)\",\"triel-late_transition-triel (n_angles)\",\"triel-pnictogen-alkaline (n_angles)\",\"triel-pnictogen-chalcogen (n_angles)\",\"triel-pnictogen-pnictogen (n_angles)\",\"triel-pnictogen-tetrel (n_angles)\",\"triel-pnictogen-triel (n_angles)\",\"triel-tetrel-chalcogen (n_angles)\",\"triel-tetrel-pnictogen (n_angles)\",\"triel-tetrel-tetrel (n_angles)\",\"triel-tetrel-triel (n_angles)\",\"triel-triel (n_bonds)\",\"triel-triel-chalcogen (n_angles)\",\"triel-triel-early_transition (n_angles)\",\"triel-triel-halide (n_angles)\",\"triel-triel-late_transition (n_angles)\",\"triel-triel-pnictogen (n_angles)\",\"triel-triel-tetrel (n_angles)\",\"triel-triel-triel (n_angles)\",\"var:Polarizability (AA_polar)\",\"var:atomic_number\",\"var:atomic_radius (pm)\",\"var:atomic_radius_rahm (pm)\",\"var:atomic_volume (cm^3 / mol)\",\"var:atomic_weight (Da)\",\"var:boiling_point (K)\",\"var:bulk_modulus (GPa)\",\"var:c6_gb (Eh / a0^6)\",\"var:covalent_radius_cordero (pm)\",\"var:covalent_radius_pyykko (pm)\",\"var:covalent_radius_pyykko_double (pm)\",\"var:covalent_radius_pyykko_triple (pm)\",\"var:covalent_radius_slater (pm)\",\"var:density (g / cm^3)\",\"var:dipole_polarizability (AA_polar^3)\",\"var:electron_affinity (eV)\",\"var:electron_negativity (Pauling)\",\"var:en_allen (eV)\",\"var:en_ghosh (ghosh)\",\"var:en_pauling (Pauling)\",\"var:evaporation_heat (KJ / mol)\",\"var:first_ion_en (eV)\",\"var:fusion_enthalpy (KJ / mol)\",\"var:gs_bandgap (eV)\",\"var:gs_energy (eV)\",\"var:gs_est_bcc_latcnt (AA)\",\"var:gs_est_fcc_latcnt (AA)\",\"var:gs_mag_moment (mu_B)\",\"var:gs_volume_per (cm^3 / mol)\",\"var:heat_capacity_mass (J / g / K)\",\"var:heat_capacity_molar (J / mol / K)\",\"var:heat_of_formation (KJ / mol)\",\"var:hhi_p\",\"var:hhi_r\",\"var:icsd_volume (cm^3 / mol)\",\"var:lattice_constant (AA)\",\"var:melting_point (K)\",\"var:mendeleev_number\",\"var:molar_volume (cm^3)\",\"var:num_d_unfilled\",\"var:num_d_valence\",\"var:num_f_unfilled\",\"var:num_f_valence\",\"var:num_p_unfilled\",\"var:num_p_valence\",\"var:num_s_unfilled\",\"var:num_s_valence\",\"var:num_unfilled\",\"var:num_valance\",\"var:period\",\"var:sound_velocity (m / s)\",\"var:specific_heat (J / g / K)\",\"var:thermal_conductivity (W / m / K)\",\"var:vdw_radius (pm)\",\"var:vdw_radius_alvarez (pm)\",\"var:vdw_radius_mm3 (pm)\",\"var:vdw_radius_uff (pm)\",\"mp_bandgap (eV)\",]\n",
    "col_remap = {}\n",
    "for col, new_col in zip(train.columns, new_col_names):\n",
    "    col_remap[col] = new_col\n",
    "\n",
    "train_sisso = train.rename(columns=col_remap)\n",
    "test_sisso = test.rename(columns=col_remap)\n",
    "\n",
    "train_sisso.drop([\"formula\", \"atoms_object (unitless)\", \"2dm_id (unitless)\"], axis=1, inplace=True)\n",
    "test_sisso.drop([\"formula\", \"atoms_object (unitless)\", \"2dm_id (unitless)\"], axis=1, inplace=True)\n",
    "\n",
    "not_number = np.where((train_sisso.dtypes != np.int64) & (train_sisso.dtypes != np.float64))[0]\n",
    "train_sisso.drop(train_sisso.columns[not_number], inplace=True, axis=1)\n",
    "test_sisso.drop(test_sisso.columns[not_number], inplace=True, axis=1)\n",
    "\n",
    "for col in train_sisso.columns:\n",
    "    if(np.any(np.isnan(train_sisso[col])) or np.any(np.isnan(test_sisso[col]))):\n",
    "        train_sisso.drop(col, inplace=True, axis=1)\n",
    "        test_sisso.drop(col, inplace=True, axis=1)\n",
    "    else:\n",
    "        train_sisso[col] = train_sisso[col].astype(float)\n",
    "        test_sisso[col] = test_sisso[col].astype(float)"
   ]
  },
  {
   "cell_type": "code",
   "execution_count": 14,
   "id": "bf7b2a0b",
   "metadata": {},
   "outputs": [],
   "source": [
    "def gen_fs_sr(max_rung=2, n_sis=1000, leave_out_inds=[], n_dim=1, n_res=10, cols=\"all\"):\n",
    "    inputs = read_csv(train_sisso, \"bandgap\", leave_out_inds=list(leave_out_inds), max_rung=max_rung, cols=cols)\n",
    "    inputs.n_sis_select = n_sis\n",
    "    inputs.allowed_ops = [\n",
    "        \"add\",\n",
    "        \"sub\",\n",
    "        \"mult\",\n",
    "        \"div\",\n",
    "        \"abs_diff\",\n",
    "        \"inv\",\n",
    "        \"abs\",\n",
    "        \"cos\",\n",
    "        \"sin\",\n",
    "        \"exp\",\n",
    "        \"neg_exp\",\n",
    "        \"log\",\n",
    "        \"sq\",\n",
    "        \"sqrt\",\n",
    "        \"cb\",\n",
    "        \"cbrt\",\n",
    "        \"six_pow\",\n",
    "    ]\n",
    "    inputs.n_dim = n_dim\n",
    "    inputs.n_residual = n_res\n",
    "    fs = FeatureSpace(inputs)\n",
    "    sr = SISSORegressor(inputs, fs)\n",
    "    return fs, sr"
   ]
  },
  {
   "cell_type": "code",
   "execution_count": 15,
   "id": "4f466421",
   "metadata": {},
   "outputs": [
    {
     "name": "stdout",
     "output_type": "stream",
     "text": [
      "Time to generate feat space: 1.50426 s\n",
      "Projection time: 0.135211 s\n",
      "Time to get best features on rank : 0.102635 s\n",
      "Complete final combination/selection from all ranks: 0.109538 s\n",
      "['mp_bandgap (eV)', 'min:covalent_radius_slater (pm)', 'min:boiling_point (K)', 'min:c6_gb (Eh / a0^6)', 'min:covalent_radius_cordero (pm)', 'min:melting_point (K)', 'min:dipole_polarizability (AA_polar^3)', 'min:Polarizability (AA_polar)', 'min:covalent_radius_pyykko (pm)', 'ave:boiling_point (K)', 'ave:density (g / cm^3)', 'min:period', 'ave:covalent_radius_cordero (pm)', 'ave:covalent_radius_slater (pm)', 'ave:melting_point (K)', 'ave:period', 'max:en_allen (eV)', 'min:vdw_radius_alvarez (pm)', 'ave:covalent_radius_pyykko (pm)', 'sum:first_ion_en (eV)', 'min:vdw_radius (pm)', 'sum:specific_heat (J / g / K)', 'max:mendeleev_number', 'min:covalent_radius_pyykko_triple (pm)', 'max:first_ion_en (eV)', 'min:covalent_radius_pyykko_double (pm)', 'min:atomic_radius_rahm (pm)', 'ave:first_ion_en (eV)', 'ave:vdw_radius_alvarez (pm)', 'min:vdw_radius_mm3 (pm)']\n"
     ]
    },
    {
     "name": "stderr",
     "output_type": "stream",
     "text": [
      "WARNING: Primary Feature var:num_f_unfilled is constant. Removing it from the feature space\n",
      "WARNING: Primary Feature sum:num_f_unfilled is constant. Removing it from the feature space\n",
      "WARNING: Primary Feature min:num_s_unfilled is constant. Removing it from the feature space\n",
      "WARNING: Primary Feature min:num_f_unfilled is constant. Removing it from the feature space\n",
      "WARNING: Primary Feature min:num_d_unfilled is constant. Removing it from the feature space\n",
      "WARNING: Primary Feature min:gs_mag_moment is constant. Removing it from the feature space\n",
      "WARNING: Primary Feature max:num_s_valence is constant. Removing it from the feature space\n",
      "WARNING: Primary Feature max:num_f_unfilled is constant. Removing it from the feature space\n",
      "WARNING: Primary Feature ave:num_f_unfilled is constant. Removing it from the feature space\n"
     ]
    }
   ],
   "source": [
    "r1_path = Path(\"sisso_update_mp/rung_1_prev_check/\")\n",
    "r1_path.mkdir(parents=True, exist_ok=True)\n",
    "os.chdir(r1_path)\n",
    "\n",
    "fs_init, sr_init = gen_fs_sr(max_rung=1, n_sis=10000)\n",
    "fs_init.sis(sr_init.prop_train)\n",
    "phi_0_in_phi_sel = get_prevelance_of_primary_features(fs_init.phi_selected, fs_init.phi0)\n",
    "prevelance = sorted([(key, val) for key, val in phi_0_in_phi_sel.items()], key=lambda prev: prev[1] * -1)\n",
    "cols = [col_remap[prev[0]] for prev in prevelance[:30]]\n",
    "\n",
    "os.chdir(cwd)\n",
    "print(cols)"
   ]
  },
  {
   "cell_type": "code",
   "execution_count": 16,
   "id": "a5ba6ff4",
   "metadata": {
    "scrolled": true
   },
   "outputs": [],
   "source": [
    "import json\n",
    "cols = [col_remap[prev[0]] for prev in prevelance[:30]]\n",
    "model_lists_1 = []\n",
    "model_lists_2 = []\n",
    "inds = np.arange(len(train_sisso.index))\n",
    "np.random.shuffle(inds)\n",
    "inds = [int(ind) for ind in inds]\n",
    "k = 5\n",
    "for ii in range(k):\n",
    "    path_r1 = Path(f\"sisso_update_mp/rung_1/cv_{ii}\")\n",
    "    path_r1.mkdir(exist_ok=True, parents=True)\n",
    "    if (path_r1 / \"models/\").exists():\n",
    "        train_files = [[f\"{path_r1}/models/train_dim_{dd}_model_{ii}.dat\" for ii in range(1)] for dd in range(1, 4)]\n",
    "        test_files = [[f\"{path_r1}/models/test_dim_{dd}_model_{ii}.dat\" for ii in range(1)] for dd in range(1, 4)]\n",
    "        model_lists_1.append(\n",
    "            [\n",
    "                [load_model(tr_f, ts_f) for tr_f, ts_f in zip(train, test)] \n",
    "                for train, test in zip(train_files, test_files)\n",
    "            ]\n",
    "        )\n",
    "    else:\n",
    "        os.chdir(path_r1)\n",
    "        t0 = time()\n",
    "        fs_1, sr_1 = gen_fs_sr(max_rung=1, n_sis=500, cols=cols, n_dim=3, leave_out_inds=inds[ii::k])\n",
    "        sr_1.fit()\n",
    "        model_lists_1.append(sr_1.models)\n",
    "        os.chdir(cwd)\n",
    "    \n",
    "    path_r2 = Path(f\"sisso_update_mp/rung_2/cv_{ii}\")\n",
    "    path_r2.mkdir(exist_ok=True, parents=True)\n",
    "    if (path_r2 / \"models/\").exists():\n",
    "        train_files = [[f\"{path_r2}/models/train_dim_{dd}_model_{ii}.dat\" for ii in range(1)] for dd in range(1, 4)]\n",
    "        test_files = [[f\"{path_r2}/models/test_dim_{dd}_model_{ii}.dat\" for ii in range(1)] for dd in range(1, 4)]\n",
    "        model_lists_2.append(\n",
    "            [\n",
    "                [load_model(tr_f, ts_f) for tr_f, ts_f in zip(train, test)] \n",
    "                for train, test in zip(train_files, test_files)\n",
    "            ]\n",
    "        )\n",
    "    else:\n",
    "        os.chdir(path_r2)\n",
    "        t0 = time()\n",
    "        fs_2, sr_2 = gen_fs_sr(max_rung=2, n_sis=500, cols=cols, n_dim=3, leave_out_inds=inds[ii::k])\n",
    "        sr_2.fit()\n",
    "        model_lists_2.append(sr_2.models)\n",
    "        os.chdir(cwd)"
   ]
  },
  {
   "cell_type": "code",
   "execution_count": 17,
   "id": "73364acb",
   "metadata": {},
   "outputs": [
    {
     "name": "stdout",
     "output_type": "stream",
     "text": [
      "mp_bandgap (eV)\n",
      "min:covalent_radius_slater (pm)\n",
      "min:boiling_point (K)\n",
      "min:c6_gb (Eh / a0^6)\n",
      "min:covalent_radius_cordero (pm)\n",
      "min:melting_point (K)\n",
      "min:dipole_polarizability (AA_polar^3)\n",
      "min:Polarizability (AA_polar)\n",
      "min:covalent_radius_pyykko (pm)\n",
      "ave:boiling_point (K)\n",
      "ave:density (g / cm^3)\n",
      "min:period\n",
      "ave:covalent_radius_cordero (pm)\n",
      "ave:covalent_radius_slater (pm)\n",
      "ave:melting_point (K)\n",
      "ave:period\n",
      "max:en_allen (eV)\n",
      "min:vdw_radius_alvarez (pm)\n",
      "ave:covalent_radius_pyykko (pm)\n",
      "sum:first_ion_en (eV)\n",
      "min:vdw_radius (pm)\n",
      "sum:specific_heat (J / g / K)\n",
      "max:mendeleev_number\n",
      "min:covalent_radius_pyykko_triple (pm)\n",
      "max:first_ion_en (eV)\n",
      "min:covalent_radius_pyykko_double (pm)\n",
      "min:atomic_radius_rahm (pm)\n",
      "ave:first_ion_en (eV)\n",
      "ave:vdw_radius_alvarez (pm)\n",
      "min:vdw_radius_mm3 (pm)\n"
     ]
    }
   ],
   "source": [
    "for col in cols:\n",
    "    print(col)"
   ]
  },
  {
   "cell_type": "code",
   "execution_count": 18,
   "id": "f872acda",
   "metadata": {
    "scrolled": true
   },
   "outputs": [
    {
     "name": "stdout",
     "output_type": "stream",
     "text": [
      "[0.46739873 0.46189593 0.45493395]\n",
      "[0.01807285 0.02096525 0.02286873]\n",
      "[0.4590172  0.45397229 0.45945253]\n",
      "[0.02264191 0.02074362 0.02350047]\n"
     ]
    }
   ],
   "source": [
    "test_rmse = np.array([[models[dim][0].test_rmse for dim in range(3)] for models in model_lists_1])\n",
    "print(test_rmse.mean(axis=0))\n",
    "print(test_rmse.std(axis=0))\n",
    "\n",
    "test_rmse = np.array([[models[dim][0].test_rmse for dim in range(3)] for models in model_lists_2])\n",
    "print(test_rmse.mean(axis=0))\n",
    "print(test_rmse.std(axis=0))"
   ]
  },
  {
   "cell_type": "code",
   "execution_count": 19,
   "id": "8ea43a67",
   "metadata": {},
   "outputs": [],
   "source": [
    "path_train = Path(\"sisso_update_mp/train_final/\")\n",
    "path_train.mkdir(exist_ok=True, parents=True)\n",
    "min_cv = test_rmse.mean(axis=0).argmin()\n",
    "if (path_train / \"models\").exists():\n",
    "    model = load_model(str(path_train / f\"models/train_dim_{min_cv}_model_0.dat\"))\n",
    "else:\n",
    "    os.chdir(path_train)\n",
    "    fs_fin, sr_fin = gen_fs_sr(max_rung=2, n_sis=500, cols=cols, n_dim=2)\n",
    "    sr_fin.fit()\n",
    "    os.chdir(cwd)\n",
    "    model = sr_fin.models[test_rmse.mean(axis=0).argmin()][0]\n",
    "    \n",
    "model_df = create_model_csv(test_sisso, model)"
   ]
  },
  {
   "cell_type": "code",
   "execution_count": 20,
   "id": "0ad65bbe",
   "metadata": {},
   "outputs": [],
   "source": [
    "data_dct = {}\n",
    "for col in model_df.columns:\n",
    "    data_dct[col] = model_df[col]\n",
    "\n",
    "p_est = model.eval_many(data_dct)"
   ]
  },
  {
   "cell_type": "code",
   "execution_count": 21,
   "id": "3ac757be",
   "metadata": {},
   "outputs": [
    {
     "name": "stdout",
     "output_type": "stream",
     "text": [
      "c0 + a0 * ((min:vdw_radius * mp_bandgap) / cbrt(min:period))\n",
      "[[0.008077228420240973, 0.1313684601760539]]\n",
      "\n",
      "Training Set Error Metrics\n",
      "MaxError 4.3485\n",
      "MAE 0.2824\n",
      "MSE 0.2096\n",
      "RMSE 0.4578\n",
      "MAPE 239225562696384.16\n",
      "R2 0.9115\n",
      "\n",
      "Test Set Error Metrics\n",
      "MaxError 3.4111\n",
      "MAE 0.3078\n",
      "MSE 0.2772\n",
      "RMSE 0.5265\n",
      "MAPE 273726867611440.5\n",
      "R2 0.8796\n"
     ]
    }
   ],
   "source": [
    "print(model)\n",
    "print(model.coefs)\n",
    "print(\"\\nTraining Set Error Metrics\")\n",
    "for key, fun in metrics.items():\n",
    "    value = fun(y_true=model.prop_train, y_pred=model.fit)\n",
    "    print(key,np.round(value,4))\n",
    "    \n",
    "    \n",
    "print(\"\\nTest Set Error Metrics\")\n",
    "for key, fun in metrics.items():\n",
    "    value = fun(y_true=test_sisso[\"bandgap (eV)\"], y_pred=p_est)\n",
    "    print(key,np.round(value,4))"
   ]
  },
  {
   "cell_type": "code",
   "execution_count": 22,
   "id": "633a5fbc",
   "metadata": {},
   "outputs": [
    {
     "data": {
      "image/png": "[encoded data removed]",
      "text/plain": [
       "<Figure size 432x288 with 1 Axes>"
      ]
     },
     "metadata": {
      "needs_background": "light"
     },
     "output_type": "display_data"
    }
   ],
   "source": [
    "DigitalEcosystem.utils.figures.save_parity_plot_publication_quality(\n",
    "                                    train_y_true = model.prop_train,\n",
    "                                    train_y_pred =  model.fit,\n",
    "                                    test_y_true = test_sisso['bandgap (eV)'],\n",
    "                                    test_y_pred = p_est,\n",
    "                                    axis_label = \"Bandgap (eV)\",\n",
    "                                    axis_limits=[-0.5, 8.1],\n",
    "                                    filename = \"sisso_2dm_bandgap_parity_updated.png\")"
   ]
  },
  {
   "cell_type": "code",
   "execution_count": 23,
   "id": "7c4dbe08",
   "metadata": {},
   "outputs": [],
   "source": [
    "train_preds = train[target_column]\n",
    "train_preds['TrainTest Status'] = ['Training Set'] * len(train_preds)\n",
    "train_preds['Prediction'] = model.fit\n",
    "\n",
    "test_preds = test[target_column]\n",
    "test_preds['TrainTest Status'] = ['Test Set'] * len(test_preds)\n",
    "test_preds['Prediction'] = p_est\n",
    "\n",
    "sisso_predictions = train_preds.append(test_preds)\n",
    "sisso_predictions.to_csv(\"sisso_update_mp/sisso_2dm_bandgap_predictions.csv\")"
   ]
  },
  {
   "cell_type": "markdown",
   "id": "24f64173",
   "metadata": {},
   "source": [
    "# Original SISSO LASO Selection Results"
   ]
  },
  {
   "cell_type": "code",
   "execution_count": null,
   "id": "25ac3b63",
   "metadata": {},
   "outputs": [],
   "source": [
    "sisso_feature_selector = sklearn.feature_selection.SelectFromModel(sklearn.linear_model.LassoCV(random_state=RANDOM_SEED),\n",
    "                                                                   threshold=-np.inf,\n",
    "                                                                   max_features=16,\n",
    "                                                                   prefit=False)\n",
    "sisso_feature_selector.fit(train_x, train_y.ravel())\n",
    "\n",
    "sisso_features = [col for (col, is_selected) in zip(train[descriptors].columns, sisso_feature_selector.get_support()) if is_selected]\n",
    "print(\"\\n\".join(sisso_features))"
   ]
  },
  {
   "cell_type": "code",
   "execution_count": null,
   "id": "2c6af90d",
   "metadata": {},
   "outputs": [],
   "source": [
    "sisso_dir = \"./sisso\"\n",
    "os.makedirs(sisso_dir, exist_ok=True)\n",
    "\n",
    "sisso_data_train = train[target_column + sisso_features]\n",
    "sisso_data_test = test[target_column + sisso_features]\n",
    "\n",
    "sisso_data_train.to_csv(os.path.join(sisso_dir, 'sisso_train.csv'), index_label='2dm_id (unitless)')\n",
    "sisso_data_test.to_csv(os.path.join(sisso_dir, 'sisso_test.csv'), index_label='2dm_id (unitless)')"
   ]
  },
  {
   "cell_type": "markdown",
   "id": "69cc8194",
   "metadata": {},
   "source": [
    "At this point, a SISSO model was run. The models are stored below.\n",
    "\n",
    "The model forms are from the SISSO logfiles. For example, the \"r1_1term\" model corresponds with the 1-term model from rung 1.\n",
    "\n",
    "The coefficients are extracted from the generated model `.dat` files, found in the `sisso/models` directory. "
   ]
  },
  {
   "cell_type": "code",
   "execution_count": null,
   "id": "7eab05ee",
   "metadata": {},
   "outputs": [],
   "source": [
    "sisso_models = {\n",
    "    'r1_1term': lambda df: 5.865590038114292e+00 + \\\n",
    "                           -4.133268583136611e-01 * (np.cbrt(df['ave:boiling_point'])),\n",
    "    \n",
    "    'r1_2term': lambda df: 5.456824304436886e+00 + \\\n",
    "                           5.806272825102222e-05 * (df['var:sound_velocity'] / df['ave:boiling_point']) + \\\n",
    "                           -3.928478305199087e-01 * (np.cbrt(df['ave:boiling_point'])),\n",
    "    \n",
    "    'r1_3term': lambda df: 5.829318713354136e+00 + \\\n",
    "                           -2.895404136895635e-02 * (df['var:thermal_conductivity'] / df['ave:boiling_point']) + \\\n",
    "                           5.661787713744031e-05 * (df['var:sound_velocity'] / df['ave:boiling_point']) + \\\n",
    "                           -4.133601815903408e-01 * (np.cbrt(df['ave:boiling_point'])),\n",
    "    \n",
    "    'r1_4term': lambda df: 4.239649765792811e+00 + \\\n",
    "                           3.209844715367811e-04 * (df['sum:hhi_p'] / df['ave:atomic_weight']) + \\\n",
    "                           -2.931356075881642e-02 * (df['var:thermal_conductivity'] / df['ave:boiling_point']) + \\\n",
    "                           5.565612620549401e-06 * (df['var:sound_velocity'] / df['ave:atomic_radius_rahm']) + \\\n",
    "                           -8.322616418822797e-02 * (np.sqrt(df['ave:boiling_point'])),\n",
    "    \n",
    "    'r2_1term': lambda df: -6.848927418726274e-01 + \\\n",
    "                           1.020330482802878e+00 * ((abs(df['ave:atomic_volume'] - df['ave:Polarizability'])) / (np.sqrt(df['ave:atomic_number']))),\n",
    "    \n",
    "    'r2_2term': lambda df: -7.037029355457204e-01 + \\\n",
    "                           -1.319062598081636e-03 * ((df['var:thermal_conductivity'] * df['ave:bulk_modulus']) / (df['ave:boiling_point'] * df['ave:Polarizability'])) + \\\n",
    "                           1.084886105825630e+00 * ((abs(df['ave:atomic_volume'] - df['ave:Polarizability'])) / (np.sqrt(df['ave:atomic_number']))),\n",
    "    \n",
    "    'r2_3term': lambda df: 1.288364460133121e+00 + \\\n",
    "                           -4.685654009911847e-02 * ((df['ave:atomic_number'] / df['ave:atomic_weight']) * (df['ave:atomic_radius_rahm'] - df['ave:atomic_radius'])) + \\\n",
    "                           -3.019449625791471e-05 * ((df['var:thermal_conductivity'] * df['var:boiling_point']) / (df['ave:boiling_point']**2)) + \\\n",
    "                           1.284011701624066e+00 * ((abs(df['ave:atomic_volume'] - df['ave:Polarizability'])) / (np.sqrt(df['ave:atomic_weight']))),\n",
    "    \n",
    "    'r2_4term': lambda df: 1.264193645822197e+00 + \\\n",
    "                           1.670730994972521e+01 * ((np.cbrt(df['var:thermal_conductivity'])) / (df['ave:bulk_modulus'] * df['ave:atomic_volume'])) + \\\n",
    "                           -5.358316290237519e-02 * ((df['ave:atomic_number'] / df['ave:atomic_weight']) * (df['ave:atomic_radius_rahm'] - df['ave:atomic_radius'])) + \\\n",
    "                           -3.794450825704627e-05 * ((df['var:thermal_conductivity'] * df['var:boiling_point']) / (df['ave:boiling_point']**2)) + \\\n",
    "                           1.281828774755674e+00 * ((abs(df['ave:atomic_volume'] - df['ave:Polarizability'])) / (np.sqrt(df['ave:atomic_weight'])))\n",
    "}\n",
    "\n",
    "for key, fun in sisso_models.items():\n",
    "    print(f\"==========\\nSISSO Model {key}\")\n",
    "    sisso_train_predictions = fun(sisso_data_train)\n",
    "    sisso_test_predictions = fun(sisso_data_test)\n",
    "    sisso_data_train[key] = sisso_train_predictions\n",
    "    sisso_data_test[key] = sisso_test_predictions\n",
    "    \n",
    "    print(\"\\nTest Set Error Metrics\")\n",
    "    for metric, fun in metrics.items():\n",
    "        value = fun(y_true=sisso_data_test['bandgap (eV)'], y_pred=sisso_test_predictions)\n",
    "        print(metric,np.round(value,4))\n",
    "\n",
    "    print(\"\\nTraining Set Error Metrics\")\n",
    "    for metric, fun in metrics.items():\n",
    "        value = fun(y_true=sisso_data_train['bandgap (eV)'], y_pred=sisso_train_predictions)\n",
    "        print(metric,np.round(value,4))\n",
    "    \n",
    "    \n"
   ]
  },
  {
   "cell_type": "markdown",
   "id": "05954c38",
   "metadata": {},
   "source": [
    "Finally, we'll go ahead and save the predictions of the SISSO model on the training and test set."
   ]
  },
  {
   "cell_type": "code",
   "execution_count": null,
   "id": "1791718e",
   "metadata": {},
   "outputs": [],
   "source": [
    "sisso_data_train.to_csv(os.path.join(sisso_dir, 'sisso_results_train.csv'))\n",
    "sisso_data_test.to_csv(os.path.join(sisso_dir, 'sisso_results_test.csv'))"
   ]
  },
  {
   "cell_type": "code",
   "execution_count": null,
   "id": "1b7674c0",
   "metadata": {},
   "outputs": [],
   "source": [
    "model_to_plot = 'r2_4term'\n",
    "DigitalEcosystem.utils.figures.save_parity_plot_publication_quality(train_y_true = sisso_data_train['bandgap (eV)'],\n",
    "                                                                    train_y_pred = sisso_data_train[model_to_plot],\n",
    "                                                                    test_y_true = sisso_data_test['bandgap (eV)'],\n",
    "                                                                    test_y_pred = sisso_data_test[model_to_plot],\n",
    "                                                                    axis_label = \"Bandgap (eV)\",\n",
    "                                                                    filename = \"sisso_2dm_bandgap_parity.jpeg\")"
   ]
  },
  {
   "cell_type": "markdown",
   "id": "a6b96988",
   "metadata": {},
   "source": [
    "Finally, just so we have them, let's print out the rest of the SISSO models"
   ]
  },
  {
   "cell_type": "code",
   "execution_count": null,
   "id": "67f8c4ae",
   "metadata": {},
   "outputs": [],
   "source": [
    "for model_to_plot in sisso_models.keys():\n",
    "    DigitalEcosystem.utils.figures.save_parity_plot_publication_quality(train_y_true = sisso_data_train['bandgap (eV)'],\n",
    "                                                                        train_y_pred = sisso_data_train[model_to_plot],\n",
    "                                                                        test_y_true = sisso_data_test['bandgap (eV)'],\n",
    "                                                                        test_y_pred = sisso_data_test[model_to_plot],\n",
    "                                                                        axis_label = \"Bandgap (eV)\",\n",
    "                                                                        title=f'SISSO Rung-{model_to_plot[1]}, {model_to_plot[3]}-term Model')"
   ]
  },
  {
   "cell_type": "code",
   "execution_count": null,
   "id": "9c046fc4",
   "metadata": {},
   "outputs": [],
   "source": [
    "import scipy\n",
    "\n",
    "for i in [imp[1] for imp in sorted_importances[:5]]:\n",
    "    print(i)\n",
    "    print(scipy.stats.pearsonr(x=np.nan_to_num(data[i].to_numpy()), y=data['bandgap (eV)']))\n",
    "    print(scipy.stats.spearmanr(a=np.nan_to_num(data[i].to_numpy()), b=data['bandgap (eV)']))\n",
    "    print('========')"
   ]
  },
  {
   "cell_type": "markdown",
   "id": "670e0785",
   "metadata": {},
   "source": [
    "# Plotting parity plots"
   ]
  },
  {
   "cell_type": "code",
   "execution_count": 24,
   "id": "c1f735a4",
   "metadata": {},
   "outputs": [],
   "source": [
    "# Plot Configuration\n",
    "plt.rcParams[\"figure.figsize\"] = (6, 6)\n",
    "plt.rcParams[\"font.size\"] = 10\n",
    "\n",
    "xgboost_pred = pd.read_csv(\"xgboost/xgboost_2dm_bandgap_predictions.csv\", index_col=0)\n",
    "tpot_pred = pd.read_csv(\"tpot/tpot_2dm_bandgap_predictions.csv\", index_col=0)\n",
    "\n",
    "roost_train_results = pd.read_csv(\"roost/roost_train_predictions.csv\", index_col=\"material_id\")\n",
    "roost_test_results  = pd.read_csv(\"roost/roost_test_predictions.csv\", index_col=\"material_id\")"
   ]
  },
  {
   "cell_type": "code",
   "execution_count": 25,
   "id": "e18f9816",
   "metadata": {},
   "outputs": [
    {
     "data": {
      "image/png": "[encoded data removed]",
      "text/plain": [
       "<Figure size 432x432 with 4 Axes>"
      ]
     },
     "metadata": {
      "needs_background": "light"
     },
     "output_type": "display_data"
    }
   ],
   "source": [
    "fig, [[ax1, ax2], [ax3, ax4]] = plt.subplots(\n",
    "    nrows=2,\n",
    "    ncols=2,\n",
    "    sharex=True,\n",
    "    sharey=True,\n",
    ")\n",
    "\n",
    "fig.subplots_adjust(\n",
    "    top=0.95, bottom=0.10, left=0.12, right=0.97, wspace=0.05,  hspace=0.05\n",
    ")"
   ]
  },
  {
   "cell_type": "code",
   "execution_count": 28,
   "id": "563c741e",
   "metadata": {},
   "outputs": [],
   "source": [
    "def plot_parity_plot_publication_quality(\n",
    "    train_y_true,\n",
    "    train_y_pred,\n",
    "    test_y_true,\n",
    "    test_y_pred,\n",
    "    axis_label,\n",
    "    ax,\n",
    "    filename=None,\n",
    "    axis_limits=None,\n",
    "    title=None,\n",
    "):\n",
    "    ax.clear()\n",
    "    n_series = 2\n",
    "    cmap = iter(plt.cm.cividis(np.linspace(0, 1, n_series)))\n",
    "\n",
    "    train_r2 = np.round(\n",
    "        sklearn.metrics.r2_score(y_true=train_y_true, y_pred=train_y_pred), 3\n",
    "    )\n",
    "    test_r2 = np.round(\n",
    "        sklearn.metrics.r2_score(y_true=test_y_true, y_pred=test_y_pred), 3\n",
    "    )\n",
    "\n",
    "    ax.scatter(\n",
    "        x=train_y_true,\n",
    "        y=train_y_pred,\n",
    "        label=\"Train R2=%.3f\" % train_r2,\n",
    "        color=next(cmap),\n",
    "        s=15,\n",
    "        marker=\"o\",\n",
    "        lw=1,\n",
    "        edgecolor=\"black\",\n",
    "    )\n",
    "    ax.scatter(\n",
    "        x=test_y_true,\n",
    "        y=test_y_pred,\n",
    "        label=\"Test R2=%.3f\" % test_r2,\n",
    "        color=next(cmap),\n",
    "        s=15,\n",
    "        marker=\"s\",\n",
    "        lw=1,\n",
    "        edgecolor=\"black\",\n",
    "    )\n",
    "\n",
    "    if title:\n",
    "        ax.title(title)\n",
    "    ax.legend(frameon=False, loc=\"upper left\", handlelength=1)\n"
   ]
  },
  {
   "cell_type": "code",
   "execution_count": 29,
   "id": "5751a754",
   "metadata": {},
   "outputs": [],
   "source": [
    "plot_parity_plot_publication_quality(\n",
    "    train_y_true = model.prop_train,\n",
    "    train_y_pred =  model.fit,\n",
    "    test_y_true = test_sisso['bandgap (eV)'],\n",
    "    test_y_pred = p_est,\n",
    "    ax = ax4,\n",
    "    axis_label = \"Bandgap (eV)\",\n",
    ")"
   ]
  },
  {
   "cell_type": "code",
   "execution_count": 30,
   "id": "f0740cea",
   "metadata": {},
   "outputs": [],
   "source": [
    "plot_parity_plot_publication_quality(\n",
    "    train_y_true = roost_train_results['bandgap_target'],\n",
    "    train_y_pred =  roost_train_results['bandgap_pred_n0'],\n",
    "    test_y_true = roost_test_results['bandgap_target'],\n",
    "    test_y_pred = roost_test_results['bandgap_pred_n0'],\n",
    "    ax=ax3,\n",
    "    axis_label = \"Bandgap (eV)\",\n",
    ")"
   ]
  },
  {
   "cell_type": "code",
   "execution_count": 31,
   "id": "5e1677a1",
   "metadata": {},
   "outputs": [],
   "source": [
    "topt_train_results = tpot_pred.loc[tpot_pred[\"TrainTest Status\"] == \"Training Set\", [\"bandgap (eV)\", \"Prediction\"]]\n",
    "topt_test_results = tpot_pred.loc[tpot_pred[\"TrainTest Status\"] == \"Test Set\", [\"bandgap (eV)\", \"Prediction\"]]\n",
    "\n",
    "plot_parity_plot_publication_quality(\n",
    "    train_y_true = topt_train_results[\"bandgap (eV)\"],\n",
    "    train_y_pred =  topt_train_results[\"Prediction\"],\n",
    "    test_y_true = topt_test_results[\"bandgap (eV)\"],\n",
    "    test_y_pred = topt_test_results[\"Prediction\"],\n",
    "    ax=ax2,\n",
    "    axis_label = \"Bandgap (eV)\",\n",
    ")"
   ]
  },
  {
   "cell_type": "code",
   "execution_count": 32,
   "id": "c01da2e9",
   "metadata": {},
   "outputs": [],
   "source": [
    "xgboost_train_results = xgboost_pred.loc[xgboost_pred[\"TrainTest Status\"] == \"Training Set\", [\"bandgap (eV)\", \"Prediction\"]]\n",
    "xgboost_test_results = xgboost_pred.loc[xgboost_pred[\"TrainTest Status\"] == \"Test Set\", [\"bandgap (eV)\", \"Prediction\"]]\n",
    "\n",
    "plot_parity_plot_publication_quality(\n",
    "    train_y_true = xgboost_train_results[\"bandgap (eV)\"],\n",
    "    train_y_pred = xgboost_train_results[\"Prediction\"],\n",
    "    test_y_true = xgboost_test_results[\"bandgap (eV)\"],\n",
    "    test_y_pred = xgboost_test_results[\"Prediction\"],\n",
    "    ax=ax1,\n",
    "    axis_label = \"Bandgap (eV)\",\n",
    ")"
   ]
  },
  {
   "cell_type": "code",
   "execution_count": 33,
   "id": "40955678",
   "metadata": {},
   "outputs": [
    {
     "data": {
      "image/png": "[encoded data removed]",
      "text/plain": [
       "<Figure size 432x432 with 4 Axes>"
      ]
     },
     "execution_count": 33,
     "metadata": {},
     "output_type": "execute_result"
    }
   ],
   "source": [
    "lims = [-0.5, 8.5]\n",
    "ticks = range(0, 9, 1)\n",
    "mticks = np.arange(-0.5, 8.51, 0.25)\n",
    "\n",
    "labels = [\"XGBoost\", \"TPOT\", \"Roost\", \"SISSO\"]\n",
    "for aa, ax in enumerate([ax1, ax2, ax3, ax4]):\n",
    "    ax.tick_params(direction=\"in\", which=\"both\", right=True, top=True)\n",
    "    ax.plot(lims, lims, zorder=-1)\n",
    "    ax.text(6, 0.0, labels[aa])\n",
    "\n",
    "ax1.set_xlim(lims)\n",
    "ax1.set_ylim(lims)\n",
    "\n",
    "ax1.set_xticks(ticks)\n",
    "ax1.set_yticks(ticks)\n",
    "\n",
    "ax1.set_xticks(mticks, minor=True)\n",
    "ax1.set_yticks(mticks, minor=True)\n",
    "\n",
    "fig.supxlabel('Bandgap (eV)')\n",
    "fig.supylabel('Bandgap (eV) (Prediction)')\n",
    "fig.savefig(\"2dm_bandgap_parity.pdf\")\n",
    "fig"
   ]
  },
  {
   "cell_type": "code",
   "execution_count": null,
   "id": "c72759ba",
   "metadata": {},
   "outputs": [],
   "source": []
  },
  {
   "cell_type": "code",
   "execution_count": null,
   "id": "178bc8af",
   "metadata": {},
   "outputs": [],
   "source": []
  }
 ],
 "metadata": {
  "kernelspec": {
   "display_name": "Python 3",
   "language": "python",
   "name": "python3"
  },
  "language_info": {
   "codemirror_mode": {
    "name": "ipython",
    "version": 3
   },
   "file_extension": ".py",
   "mimetype": "text/x-python",
   "name": "python",
   "nbconvert_exporter": "python",
   "pygments_lexer": "ipython3",
   "version": "3.8.12"
  }
 },
 "nbformat": 4,
 "nbformat_minor": 5
}
