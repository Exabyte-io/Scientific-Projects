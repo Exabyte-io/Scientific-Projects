{
 "cells": [
  {
   "cell_type": "code",
   "execution_count": 2,
   "outputs": [],
   "source": [
    "import itertools\n",
    "import warnings\n",
    "import collections\n",
    "\n",
    "import pandas as pd\n",
    "import random\n",
    "import numpy as np\n",
    "import swifter\n",
    "\n",
    "import tqdm\n",
    "\n",
    "import pymatgen.io\n",
    "from pymatgen.analysis.local_env import JmolNN\n",
    "\n",
    "from matminer.featurizers.base import MultipleFeaturizer\n",
    "from matminer.featurizers.structure.misc import EwaldEnergy\n",
    "from matminer.featurizers.structure.order import StructuralComplexity\n",
    "from matminer.featurizers.structure.symmetry import GlobalSymmetryFeatures\n",
    "from matminer.featurizers.structure.bonding import GlobalInstabilityIndex\n",
    "from matminer.featurizers.site.bonding import AverageBondLength"
   ],
   "metadata": {
    "collapsed": false,
    "pycharm": {
     "name": "#%%\n"
    }
   }
  },
  {
   "cell_type": "code",
   "execution_count": 3,
   "outputs": [],
   "source": [
    "RANDOM_SEED = 1234\n",
    "np.random.seed(RANDOM_SEED)\n",
    "random.seed(RANDOM_SEED)\n",
    "pd.options.mode.chained_assignment = None\n",
    "tqdm.tqdm.pandas()"
   ],
   "metadata": {
    "collapsed": false,
    "pycharm": {
     "name": "#%%\n"
    }
   }
  },
  {
   "cell_type": "code",
   "execution_count": 4,
   "outputs": [],
   "source": [
    "dataset_path = \"../raw_data/2d_mat_dataset_raw.pkl\"\n",
    "df = pd.read_pickle(dataset_path)"
   ],
   "metadata": {
    "collapsed": false,
    "pycharm": {
     "name": "#%%\n"
    }
   }
  },
  {
   "cell_type": "code",
   "execution_count": 5,
   "outputs": [
    {
     "data": {
      "text/plain": "Pandas Apply:   0%|          | 0/6351 [00:00<?, ?it/s]",
      "application/vnd.jupyter.widget-view+json": {
       "version_major": 2,
       "version_minor": 0,
       "model_id": "983533c7d3b24a54aaed76748f8e5566"
      }
     },
     "metadata": {},
     "output_type": "display_data"
    },
    {
     "data": {
      "text/plain": "0       None\n1       None\n2       None\n3       None\n4       None\n        ... \n6346    None\n6347    None\n6348    None\n6349    None\n6350    None\nName: ox_struct, Length: 6351, dtype: object"
     },
     "execution_count": 5,
     "metadata": {},
     "output_type": "execute_result"
    }
   ],
   "source": [
    "# Pymatgen oxidation structure guess (needed for later)\n",
    "\n",
    "structures = df['atoms_object (unitless)'].apply(pymatgen.io.ase.AseAtomsAdaptor.get_structure)\n",
    "df['ox_struct'] = structures.apply(lambda i: i.copy())\n",
    "\n",
    "# struct.add_oxidation_state_by_guess() modifies the structure in-place\n",
    "df.ox_struct.swifter.apply(lambda struct: struct.add_oxidation_state_by_guess())"
   ],
   "metadata": {
    "collapsed": false,
    "pycharm": {
     "name": "#%%\n"
    }
   }
  },
  {
   "cell_type": "code",
   "execution_count": 6,
   "outputs": [
    {
     "data": {
      "text/plain": "MultipleFeaturizer:   0%|          | 0/6351 [00:00<?, ?it/s]",
      "application/vnd.jupyter.widget-view+json": {
       "version_major": 2,
       "version_minor": 0,
       "model_id": "c2ba6a86bf394dedaffc33373fa85fdb"
      }
     },
     "metadata": {},
     "output_type": "display_data"
    },
    {
     "name": "stdout",
     "output_type": "stream",
     "text": [
      "['ewald_energy_per_atom', 'structural complexity per atom', 'structural complexity per cell', 'n_symmetry_ops']\n"
     ]
    }
   ],
   "source": [
    "# Ewald Energy, Structural Complexity, and Global Symmetry Indices\n",
    "\n",
    "struct_features = MultipleFeaturizer([\n",
    "    EwaldEnergy(),\n",
    "    StructuralComplexity(),\n",
    "    GlobalSymmetryFeatures('n_symmetry_ops'),\n",
    "])\n",
    "df[struct_features.feature_labels()] = struct_features.featurize_many(df.ox_struct).copy()\n",
    "print(struct_features.feature_labels())"
   ],
   "metadata": {
    "collapsed": false,
    "pycharm": {
     "name": "#%%\n"
    }
   }
  },
  {
   "cell_type": "code",
   "execution_count": 7,
   "outputs": [
    {
     "name": "stderr",
     "output_type": "stream",
     "text": [
      "/Users/mat3ra/.env/lib/python3.8/site-packages/pandas/io/parsers/readers.py:586: ParserWarning: Length of header or names does not match length of data. This leads to a loss of data with index_col=False.\n",
      "  return _read(filepath_or_buffer, kwds)\n"
     ]
    },
    {
     "data": {
      "text/plain": "Pandas Apply:   0%|          | 0/6351 [00:00<?, ?it/s]",
      "application/vnd.jupyter.widget-view+json": {
       "version_major": 2,
       "version_minor": 0,
       "model_id": "8e30ed420003434aa67219a269b63c4b"
      }
     },
     "metadata": {},
     "output_type": "display_data"
    }
   ],
   "source": [
    "desc = GlobalInstabilityIndex()\n",
    "\n",
    "def maybe_global_instability(struct):\n",
    "    try:\n",
    "        return desc.featurize(struct)[0]\n",
    "    except:\n",
    "        return None\n",
    "\n",
    "with warnings.catch_warnings():\n",
    "    warnings.simplefilter('ignore')\n",
    "    df['global_instability'] = df.ox_struct.swifter.apply(maybe_global_instability).copy()"
   ],
   "metadata": {
    "collapsed": false,
    "pycharm": {
     "name": "#%%\n"
    }
   }
  },
  {
   "cell_type": "code",
   "execution_count": 8,
   "outputs": [
    {
     "data": {
      "text/plain": "Pandas Apply:   0%|          | 0/6351 [00:00<?, ?it/s]",
      "application/vnd.jupyter.widget-view+json": {
       "version_major": 2,
       "version_minor": 0,
       "model_id": "69ad845c3a0a47fca6e1db8372dd7986"
      }
     },
     "metadata": {},
     "output_type": "display_data"
    }
   ],
   "source": [
    "neighbor_finder = JmolNN()\n",
    "\n",
    "def average_bond_length(structure, featurizer = AverageBondLength(neighbor_finder)):\n",
    "    n_atoms = len(structure)\n",
    "    try:\n",
    "        lengths = map(lambda i: featurizer.featurize(structure, i)[0], range(n_atoms))\n",
    "        return sum(lengths) / n_atoms\n",
    "    except IndexError:\n",
    "        return None\n",
    "\n",
    "df['bond_length_average'] = df.ox_struct.swifter.apply(average_bond_length).copy()"
   ],
   "metadata": {
    "collapsed": false,
    "pycharm": {
     "name": "#%%\n"
    }
   }
  },
  {
   "cell_type": "code",
   "execution_count": 9,
   "outputs": [
    {
     "data": {
      "text/plain": "Pandas Apply:   0%|          | 0/6351 [00:00<?, ?it/s]",
      "application/vnd.jupyter.widget-view+json": {
       "version_major": 2,
       "version_minor": 0,
       "model_id": "8056080aad4a4a57b66abace83425f43"
      }
     },
     "metadata": {},
     "output_type": "display_data"
    },
    {
     "name": "stderr",
     "output_type": "stream",
     "text": [
      "/Users/mat3ra/.env/lib/python3.8/site-packages/matminer/featurizers/site/bonding.py:250: RuntimeWarning: All-NaN slice encountered\n",
      "  minimum_bond_angles = np.nanmin(bond_angles, axis=1)\n"
     ]
    }
   ],
   "source": [
    "from matminer.featurizers.site.bonding import AverageBondAngle\n",
    "\n",
    "def average_bond_angle(structure, featurizer = AverageBondAngle(neighbor_finder)):\n",
    "    n_atoms = len(structure)\n",
    "    try:\n",
    "        angles = map(lambda i: featurizer.featurize(structure, i)[0], range(n_atoms))\n",
    "        return sum(angles) / n_atoms\n",
    "    except IndexError:\n",
    "        return None\n",
    "df['bond_angle_average'] = df.ox_struct.swifter.apply(average_bond_angle).copy()"
   ],
   "metadata": {
    "collapsed": false,
    "pycharm": {
     "name": "#%%\n"
    }
   }
  },
  {
   "cell_type": "code",
   "execution_count": 10,
   "outputs": [
    {
     "data": {
      "text/plain": "Pandas Apply:   0%|          | 0/6351 [00:00<?, ?it/s]",
      "application/vnd.jupyter.widget-view+json": {
       "version_major": 2,
       "version_minor": 0,
       "model_id": "7af725263eeb44b89daaf56398f6d7d4"
      }
     },
     "metadata": {},
     "output_type": "display_data"
    }
   ],
   "source": [
    "def average_cn(structure, neighbor_finder = neighbor_finder):\n",
    "    n_atoms = len(structure)\n",
    "    cns = map(lambda i: neighbor_finder.get_cn(structure, i), range(n_atoms))\n",
    "    return sum(cns) / n_atoms\n",
    "df['average_cn'] = df.ox_struct.swifter.apply(average_cn).copy()"
   ],
   "metadata": {
    "collapsed": false,
    "pycharm": {
     "name": "#%%\n"
    }
   }
  },
  {
   "cell_type": "code",
   "execution_count": 11,
   "outputs": [
    {
     "data": {
      "text/plain": "Pandas Apply:   0%|          | 0/6351 [00:00<?, ?it/s]",
      "application/vnd.jupyter.widget-view+json": {
       "version_major": 2,
       "version_minor": 0,
       "model_id": "6057b265e1044f79b7a8da2460941370"
      }
     },
     "metadata": {},
     "output_type": "display_data"
    }
   ],
   "source": [
    "def ab_perimeter_area_ratio(structure):\n",
    "    a, b, c = structure.lattice.matrix\n",
    "    perimeter = 2*np.linalg.norm(a) + 2*np.linalg.norm(b)\n",
    "    area = np.linalg.norm(np.cross(a,b))\n",
    "    return perimeter / area\n",
    "df['perimeter_area_ratio'] = df.ox_struct.swifter.apply(ab_perimeter_area_ratio).copy()"
   ],
   "metadata": {
    "collapsed": false,
    "pycharm": {
     "name": "#%%\n"
    }
   }
  },
  {
   "cell_type": "code",
   "execution_count": 12,
   "outputs": [
    {
     "data": {
      "text/plain": "Pandas Apply:   0%|          | 0/6351 [00:00<?, ?it/s]",
      "application/vnd.jupyter.widget-view+json": {
       "version_major": 2,
       "version_minor": 0,
       "model_id": "8055d571e7c24ecf96195da8902f3ad9"
      }
     },
     "metadata": {},
     "output_type": "display_data"
    }
   ],
   "source": [
    "df[\"formula\"] = df[\"atoms_object (unitless)\"].swifter.apply(lambda atoms: atoms.get_chemical_formula(empirical=True))"
   ],
   "metadata": {
    "collapsed": false,
    "pycharm": {
     "name": "#%%\n"
    }
   }
  },
  {
   "cell_type": "code",
   "execution_count": 13,
   "outputs": [],
   "source": [
    "classes = {\n",
    "    'alkaline' : ['H', 'Li', 'Na', 'K', 'Rb', 'Cs', 'Fr'],\n",
    "    'alkaine_earth' : ['Be', 'Mg', 'Ca', 'Sr', 'Ba', 'Ra'],\n",
    "    'early_transition' : ['Sc', 'Ti', 'V', 'Cr', 'Mn',\n",
    "                          'Y',  'Zr', 'Nb', 'Mo', 'Tc',\n",
    "                                'Hf', 'Ta', 'W', 'Re',],\n",
    "    'late_transition' : ['Fe', 'Co', 'Ni', 'Cu', 'Zn',\n",
    "                         'Ru', 'Rh', 'Pd', 'Ag', 'Cd',\n",
    "                         'Os', 'Ir', 'Pt', 'Au', 'Hg'],\n",
    "    'triel' : ['B', 'Al', 'Ga', 'In', 'Tl'],\n",
    "    'tetrel' : ['C', 'Si', 'Ge', 'Sn', 'Pb'],\n",
    "    'pnictogen' : ['N', 'P', 'As', 'Sb', 'Bi'],\n",
    "    'chalcogen' : ['O', 'S', 'Se', 'Te', 'Po'],\n",
    "    'halide' : ['F', 'Cl', 'Br', 'I', 'At'],\n",
    "    'noble_gas' : ['He', 'Ne', 'Ar', 'Kr', 'Xe', 'Rn'],\n",
    "    'f_block' : ['La', 'Ce', 'Pr', 'Nd', 'Pm', 'Sm', 'Eu', 'Gd', 'Tb', 'Dy', 'Ho', 'Er', 'Tm', 'Yb', 'Lu',\n",
    "                 'Ac', 'Th', 'Pa', 'U'],\n",
    "    'post_uranium' : ['Np', 'Pu', 'Am', 'Cm', 'Bk', 'Cf', 'Es', 'Fm', 'Md', 'No', 'Lr',\n",
    "                      'Rf', 'Db', 'Sg', 'Bh', 'Hs', 'Mt', 'Ds', 'Rg', 'Cn', 'Nh', 'Fl', 'Mc', 'Lv', 'Ts', 'Og']\n",
    "}\n",
    "\n",
    "groups = {}\n",
    "for key, values in classes.items():\n",
    "    for val in values:\n",
    "        groups[val] = key"
   ],
   "metadata": {
    "collapsed": false,
    "pycharm": {
     "name": "#%%\n"
    }
   }
  },
  {
   "cell_type": "code",
   "execution_count": 16,
   "outputs": [
    {
     "name": "stderr",
     "output_type": "stream",
     "text": [
      "100%|██████████| 6351/6351 [53:54<00:00,  1.96it/s]  \n"
     ]
    },
    {
     "ename": "AttributeError",
     "evalue": "'DataFrame' object has no attribute 'to_picke'",
     "output_type": "error",
     "traceback": [
      "\u001B[0;31m---------------------------------------------------------------------------\u001B[0m",
      "\u001B[0;31mAttributeError\u001B[0m                            Traceback (most recent call last)",
      "\u001B[0;32m<ipython-input-16-8808eda1e1e1>\u001B[0m in \u001B[0;36m<module>\u001B[0;34m\u001B[0m\n\u001B[1;32m     24\u001B[0m         \u001B[0mpbar\u001B[0m\u001B[0;34m.\u001B[0m\u001B[0mupdate\u001B[0m\u001B[0;34m(\u001B[0m\u001B[0;36m1\u001B[0m\u001B[0;34m)\u001B[0m\u001B[0;34m\u001B[0m\u001B[0;34m\u001B[0m\u001B[0m\n\u001B[1;32m     25\u001B[0m \u001B[0;34m\u001B[0m\u001B[0m\n\u001B[0;32m---> 26\u001B[0;31m \u001B[0mdf\u001B[0m\u001B[0;34m.\u001B[0m\u001B[0mto_picke\u001B[0m\u001B[0;34m(\u001B[0m\u001B[0;34m'backup.pkl'\u001B[0m\u001B[0;34m)\u001B[0m\u001B[0;34m\u001B[0m\u001B[0;34m\u001B[0m\u001B[0m\n\u001B[0m",
      "\u001B[0;32m~/.env/lib/python3.8/site-packages/pandas/core/generic.py\u001B[0m in \u001B[0;36m__getattr__\u001B[0;34m(self, name)\u001B[0m\n\u001B[1;32m   5476\u001B[0m         ):\n\u001B[1;32m   5477\u001B[0m             \u001B[0;32mreturn\u001B[0m \u001B[0mself\u001B[0m\u001B[0;34m[\u001B[0m\u001B[0mname\u001B[0m\u001B[0;34m]\u001B[0m\u001B[0;34m\u001B[0m\u001B[0;34m\u001B[0m\u001B[0m\n\u001B[0;32m-> 5478\u001B[0;31m         \u001B[0;32mreturn\u001B[0m \u001B[0mobject\u001B[0m\u001B[0;34m.\u001B[0m\u001B[0m__getattribute__\u001B[0m\u001B[0;34m(\u001B[0m\u001B[0mself\u001B[0m\u001B[0;34m,\u001B[0m \u001B[0mname\u001B[0m\u001B[0;34m)\u001B[0m\u001B[0;34m\u001B[0m\u001B[0;34m\u001B[0m\u001B[0m\n\u001B[0m\u001B[1;32m   5479\u001B[0m \u001B[0;34m\u001B[0m\u001B[0m\n\u001B[1;32m   5480\u001B[0m     \u001B[0;32mdef\u001B[0m \u001B[0m__setattr__\u001B[0m\u001B[0;34m(\u001B[0m\u001B[0mself\u001B[0m\u001B[0;34m,\u001B[0m \u001B[0mname\u001B[0m\u001B[0;34m:\u001B[0m \u001B[0mstr\u001B[0m\u001B[0;34m,\u001B[0m \u001B[0mvalue\u001B[0m\u001B[0;34m)\u001B[0m \u001B[0;34m->\u001B[0m \u001B[0;32mNone\u001B[0m\u001B[0;34m:\u001B[0m\u001B[0;34m\u001B[0m\u001B[0;34m\u001B[0m\u001B[0m\n",
      "\u001B[0;31mAttributeError\u001B[0m: 'DataFrame' object has no attribute 'to_picke'"
     ]
    }
   ],
   "source": [
    "symbols_cols = collections.Counter()\n",
    "bond_cols = collections.Counter()\n",
    "angle_cols = collections.Counter()\n",
    "\n",
    "neighbor_finder = JmolNN()\n",
    "\n",
    "with tqdm.tqdm(total=len(df)) as pbar:\n",
    "    for struct in df[\"ox_struct\"]:\n",
    "        symbols_cols.update([groups[symbol] for symbol in struct.symbol_set])\n",
    "\n",
    "        for index, site in enumerate(struct.sites):\n",
    "            connected = [i['site'] for i in neighbor_finder.get_nn_shell_info(struct, index, 1)]\n",
    "\n",
    "            # Bond counts\n",
    "            for vertex in connected:\n",
    "                start, end = sorted([groups[str(site.specie.element)], groups[str(vertex.specie.element)]])\n",
    "                bond = f\"{start}-{end}\"\n",
    "                bond_cols[bond] += 0.5\n",
    "\n",
    "            # Angles\n",
    "            for angle_start, angle_end in map(sorted, itertools.combinations(connected,2)):\n",
    "                angle = f\"{groups[str(angle_start.specie.element)]}-{groups[str(site.specie.element)]}-{groups[str(angle_end.specie.element)]}\"\n",
    "                angle_cols[angle] += 1\n",
    "        pbar.update(1)"
   ],
   "metadata": {
    "collapsed": false,
    "pycharm": {
     "name": "#%%\n"
    }
   }
  },
  {
   "cell_type": "code",
   "execution_count": 21,
   "outputs": [],
   "source": [
    "df.to_pickle('backup.pkl')"
   ],
   "metadata": {
    "collapsed": false,
    "pycharm": {
     "name": "#%%\n"
    }
   }
  },
  {
   "cell_type": "code",
   "execution_count": 25,
   "outputs": [
    {
     "data": {
      "text/plain": "Pandas Apply:   0%|          | 0/6351 [00:00<?, ?it/s]",
      "application/vnd.jupyter.widget-view+json": {
       "version_major": 2,
       "version_minor": 0,
       "model_id": "8e2e1f1003d541329fd266b30e65a55e"
      }
     },
     "metadata": {},
     "output_type": "display_data"
    },
    {
     "data": {
      "text/plain": "     2dm_id (unitless)  Total Angles (angles)  Total Atoms (atoms)  \\\n0                2dm-1                     21                    2   \n1                2dm-2                      0                    2   \n2                2dm-3                     54                    2   \n3                2dm-4                    144                    2   \n4             2dm-6367                     21                    2   \n...                ...                    ...                  ...   \n6346          2dm-6366                     16                    2   \n6347            2dm-84                     36                    2   \n6348           2dm-152                     54                    2   \n6349          2dm-6459                     36                    2   \n6350          2dm-6460                     36                    2   \n\n      Total Bonds (bonds)  alkaine_earth (atoms)  \\\n0                     6.0                    NaN   \n1                     0.0                    1.0   \n2                    21.0                    NaN   \n3                    18.0                    NaN   \n4                     6.0                    NaN   \n...                   ...                    ...   \n6346                 10.0                    NaN   \n6347                  9.0                    NaN   \n6348                 11.0                    NaN   \n6349                  9.0                    NaN   \n6350                  9.0                    NaN   \n\n      alkaine_earth-alkaine_earth (bonds)  \\\n0                                     NaN   \n1                                     NaN   \n2                                     NaN   \n3                                     NaN   \n4                                     NaN   \n...                                   ...   \n6346                                  NaN   \n6347                                  NaN   \n6348                                  NaN   \n6349                                  NaN   \n6350                                  NaN   \n\n      alkaine_earth-alkaine_earth-alkaine_earth (angles)  \\\n0                                                   NaN    \n1                                                   NaN    \n2                                                   NaN    \n3                                                   NaN    \n4                                                   NaN    \n...                                                 ...    \n6346                                                NaN    \n6347                                                NaN    \n6348                                                NaN    \n6349                                                NaN    \n6350                                                NaN    \n\n      alkaine_earth-chalcogen (bonds)  \\\n0                                 NaN   \n1                                 NaN   \n2                                 NaN   \n3                                 NaN   \n4                                 NaN   \n...                               ...   \n6346                              NaN   \n6347                              NaN   \n6348                              NaN   \n6349                              NaN   \n6350                              NaN   \n\n      alkaine_earth-chalcogen-alkaine_earth (angles)  \\\n0                                                NaN   \n1                                                NaN   \n2                                                NaN   \n3                                                NaN   \n4                                                NaN   \n...                                              ...   \n6346                                             NaN   \n6347                                             NaN   \n6348                                             NaN   \n6349                                             NaN   \n6350                                             NaN   \n\n      alkaine_earth-chalcogen-alkaline (angles)  ...  var:num_unfilled  \\\n0                                           NaN  ...          0.888889   \n1                                           NaN  ...          2.000000   \n2                                           NaN  ...          2.250000   \n3                                           NaN  ...          5.555556   \n4                                           NaN  ...          0.222222   \n...                                         ...  ...               ...   \n6346                                        NaN  ...          0.250000   \n6347                                        NaN  ...          0.000000   \n6348                                        NaN  ...          0.000000   \n6349                                        NaN  ...          0.000000   \n6350                                        NaN  ...          0.000000   \n\n      var:num_valance  var:period  var:sound_velocity  var:specific_heat  \\\n0           56.888889    3.555556        8.871867e+05           0.274217   \n1           37.555556    0.222222        7.200000e+05           0.000038   \n2          110.250000    2.250000        2.262728e+06           0.091204   \n3            0.222222    0.888889        7.957390e+06           0.053238   \n4           64.222222    3.555556        4.515012e+06           0.198949   \n...               ...         ...                 ...                ...   \n6346        42.250000    0.250000        1.681000e+05           0.001482   \n6347        81.000000    2.250000        3.286004e+05           0.089700   \n6348        16.000000    1.000000        1.122250e+05           0.142211   \n6349        81.000000    2.250000        3.286004e+05           0.089700   \n6350        16.000000    1.000000        1.122250e+05           0.142211   \n\n      var:thermal_conductivity  var:vdw_radius  var:vdw_radius_alvarez  \\\n0                  4998.153504      968.000000             2005.555556   \n1                     8.000000      854.222222              696.888889   \n2                   524.295506       64.000000              841.000000   \n3                  4293.005751      392.000000              882.000000   \n4                  4998.228157      826.888889             1840.222222   \n...                        ...             ...                     ...   \n6346                  6.250000        0.250000              756.250000   \n6347               1288.630506      272.250000              400.000000   \n6348               1277.347600      132.250000              552.250000   \n6349               1288.630506      272.250000              400.000000   \n6350               1277.347600      132.250000              552.250000   \n\n      var:vdw_radius_mm3  var:vdw_radius_uff  \n0             938.888889          610.168889  \n1             672.222222         1142.420000  \n2             484.000000          243.360000  \n3             227.555556         1780.055556  \n4             648.000000          968.000000  \n...                  ...                 ...  \n6346          121.000000           25.000000  \n6347          144.000000         4102.402500  \n6348           25.000000         5263.502500  \n6349          144.000000         4102.402500  \n6350           25.000000         5263.502500  \n\n[6351 rows x 807 columns]",
      "text/html": "<div>\n<style scoped>\n    .dataframe tbody tr th:only-of-type {\n        vertical-align: middle;\n    }\n\n    .dataframe tbody tr th {\n        vertical-align: top;\n    }\n\n    .dataframe thead th {\n        text-align: right;\n    }\n</style>\n<table border=\"1\" class=\"dataframe\">\n  <thead>\n    <tr style=\"text-align: right;\">\n      <th></th>\n      <th>2dm_id (unitless)</th>\n      <th>Total Angles (angles)</th>\n      <th>Total Atoms (atoms)</th>\n      <th>Total Bonds (bonds)</th>\n      <th>alkaine_earth (atoms)</th>\n      <th>alkaine_earth-alkaine_earth (bonds)</th>\n      <th>alkaine_earth-alkaine_earth-alkaine_earth (angles)</th>\n      <th>alkaine_earth-chalcogen (bonds)</th>\n      <th>alkaine_earth-chalcogen-alkaine_earth (angles)</th>\n      <th>alkaine_earth-chalcogen-alkaline (angles)</th>\n      <th>...</th>\n      <th>var:num_unfilled</th>\n      <th>var:num_valance</th>\n      <th>var:period</th>\n      <th>var:sound_velocity</th>\n      <th>var:specific_heat</th>\n      <th>var:thermal_conductivity</th>\n      <th>var:vdw_radius</th>\n      <th>var:vdw_radius_alvarez</th>\n      <th>var:vdw_radius_mm3</th>\n      <th>var:vdw_radius_uff</th>\n    </tr>\n  </thead>\n  <tbody>\n    <tr>\n      <th>0</th>\n      <td>2dm-1</td>\n      <td>21</td>\n      <td>2</td>\n      <td>6.0</td>\n      <td>NaN</td>\n      <td>NaN</td>\n      <td>NaN</td>\n      <td>NaN</td>\n      <td>NaN</td>\n      <td>NaN</td>\n      <td>...</td>\n      <td>0.888889</td>\n      <td>56.888889</td>\n      <td>3.555556</td>\n      <td>8.871867e+05</td>\n      <td>0.274217</td>\n      <td>4998.153504</td>\n      <td>968.000000</td>\n      <td>2005.555556</td>\n      <td>938.888889</td>\n      <td>610.168889</td>\n    </tr>\n    <tr>\n      <th>1</th>\n      <td>2dm-2</td>\n      <td>0</td>\n      <td>2</td>\n      <td>0.0</td>\n      <td>1.0</td>\n      <td>NaN</td>\n      <td>NaN</td>\n      <td>NaN</td>\n      <td>NaN</td>\n      <td>NaN</td>\n      <td>...</td>\n      <td>2.000000</td>\n      <td>37.555556</td>\n      <td>0.222222</td>\n      <td>7.200000e+05</td>\n      <td>0.000038</td>\n      <td>8.000000</td>\n      <td>854.222222</td>\n      <td>696.888889</td>\n      <td>672.222222</td>\n      <td>1142.420000</td>\n    </tr>\n    <tr>\n      <th>2</th>\n      <td>2dm-3</td>\n      <td>54</td>\n      <td>2</td>\n      <td>21.0</td>\n      <td>NaN</td>\n      <td>NaN</td>\n      <td>NaN</td>\n      <td>NaN</td>\n      <td>NaN</td>\n      <td>NaN</td>\n      <td>...</td>\n      <td>2.250000</td>\n      <td>110.250000</td>\n      <td>2.250000</td>\n      <td>2.262728e+06</td>\n      <td>0.091204</td>\n      <td>524.295506</td>\n      <td>64.000000</td>\n      <td>841.000000</td>\n      <td>484.000000</td>\n      <td>243.360000</td>\n    </tr>\n    <tr>\n      <th>3</th>\n      <td>2dm-4</td>\n      <td>144</td>\n      <td>2</td>\n      <td>18.0</td>\n      <td>NaN</td>\n      <td>NaN</td>\n      <td>NaN</td>\n      <td>NaN</td>\n      <td>NaN</td>\n      <td>NaN</td>\n      <td>...</td>\n      <td>5.555556</td>\n      <td>0.222222</td>\n      <td>0.888889</td>\n      <td>7.957390e+06</td>\n      <td>0.053238</td>\n      <td>4293.005751</td>\n      <td>392.000000</td>\n      <td>882.000000</td>\n      <td>227.555556</td>\n      <td>1780.055556</td>\n    </tr>\n    <tr>\n      <th>4</th>\n      <td>2dm-6367</td>\n      <td>21</td>\n      <td>2</td>\n      <td>6.0</td>\n      <td>NaN</td>\n      <td>NaN</td>\n      <td>NaN</td>\n      <td>NaN</td>\n      <td>NaN</td>\n      <td>NaN</td>\n      <td>...</td>\n      <td>0.222222</td>\n      <td>64.222222</td>\n      <td>3.555556</td>\n      <td>4.515012e+06</td>\n      <td>0.198949</td>\n      <td>4998.228157</td>\n      <td>826.888889</td>\n      <td>1840.222222</td>\n      <td>648.000000</td>\n      <td>968.000000</td>\n    </tr>\n    <tr>\n      <th>...</th>\n      <td>...</td>\n      <td>...</td>\n      <td>...</td>\n      <td>...</td>\n      <td>...</td>\n      <td>...</td>\n      <td>...</td>\n      <td>...</td>\n      <td>...</td>\n      <td>...</td>\n      <td>...</td>\n      <td>...</td>\n      <td>...</td>\n      <td>...</td>\n      <td>...</td>\n      <td>...</td>\n      <td>...</td>\n      <td>...</td>\n      <td>...</td>\n      <td>...</td>\n      <td>...</td>\n    </tr>\n    <tr>\n      <th>6346</th>\n      <td>2dm-6366</td>\n      <td>16</td>\n      <td>2</td>\n      <td>10.0</td>\n      <td>NaN</td>\n      <td>NaN</td>\n      <td>NaN</td>\n      <td>NaN</td>\n      <td>NaN</td>\n      <td>NaN</td>\n      <td>...</td>\n      <td>0.250000</td>\n      <td>42.250000</td>\n      <td>0.250000</td>\n      <td>1.681000e+05</td>\n      <td>0.001482</td>\n      <td>6.250000</td>\n      <td>0.250000</td>\n      <td>756.250000</td>\n      <td>121.000000</td>\n      <td>25.000000</td>\n    </tr>\n    <tr>\n      <th>6347</th>\n      <td>2dm-84</td>\n      <td>36</td>\n      <td>2</td>\n      <td>9.0</td>\n      <td>NaN</td>\n      <td>NaN</td>\n      <td>NaN</td>\n      <td>NaN</td>\n      <td>NaN</td>\n      <td>NaN</td>\n      <td>...</td>\n      <td>0.000000</td>\n      <td>81.000000</td>\n      <td>2.250000</td>\n      <td>3.286004e+05</td>\n      <td>0.089700</td>\n      <td>1288.630506</td>\n      <td>272.250000</td>\n      <td>400.000000</td>\n      <td>144.000000</td>\n      <td>4102.402500</td>\n    </tr>\n    <tr>\n      <th>6348</th>\n      <td>2dm-152</td>\n      <td>54</td>\n      <td>2</td>\n      <td>11.0</td>\n      <td>NaN</td>\n      <td>NaN</td>\n      <td>NaN</td>\n      <td>NaN</td>\n      <td>NaN</td>\n      <td>NaN</td>\n      <td>...</td>\n      <td>0.000000</td>\n      <td>16.000000</td>\n      <td>1.000000</td>\n      <td>1.122250e+05</td>\n      <td>0.142211</td>\n      <td>1277.347600</td>\n      <td>132.250000</td>\n      <td>552.250000</td>\n      <td>25.000000</td>\n      <td>5263.502500</td>\n    </tr>\n    <tr>\n      <th>6349</th>\n      <td>2dm-6459</td>\n      <td>36</td>\n      <td>2</td>\n      <td>9.0</td>\n      <td>NaN</td>\n      <td>NaN</td>\n      <td>NaN</td>\n      <td>NaN</td>\n      <td>NaN</td>\n      <td>NaN</td>\n      <td>...</td>\n      <td>0.000000</td>\n      <td>81.000000</td>\n      <td>2.250000</td>\n      <td>3.286004e+05</td>\n      <td>0.089700</td>\n      <td>1288.630506</td>\n      <td>272.250000</td>\n      <td>400.000000</td>\n      <td>144.000000</td>\n      <td>4102.402500</td>\n    </tr>\n    <tr>\n      <th>6350</th>\n      <td>2dm-6460</td>\n      <td>36</td>\n      <td>2</td>\n      <td>9.0</td>\n      <td>NaN</td>\n      <td>NaN</td>\n      <td>NaN</td>\n      <td>NaN</td>\n      <td>NaN</td>\n      <td>NaN</td>\n      <td>...</td>\n      <td>0.000000</td>\n      <td>16.000000</td>\n      <td>1.000000</td>\n      <td>1.122250e+05</td>\n      <td>0.142211</td>\n      <td>1277.347600</td>\n      <td>132.250000</td>\n      <td>552.250000</td>\n      <td>25.000000</td>\n      <td>5263.502500</td>\n    </tr>\n  </tbody>\n</table>\n<p>6351 rows × 807 columns</p>\n</div>"
     },
     "execution_count": 25,
     "metadata": {},
     "output_type": "execute_result"
    }
   ],
   "source": [
    "all_symbols = set(symbols_cols.keys())\n",
    "all_bonds = set(bond_cols.keys())\n",
    "all_angles = set(angle_cols.keys())\n",
    "\n",
    "def featurize(data):\n",
    "    symbol_units = \"atoms\"\n",
    "    bond_units = \"bonds\"\n",
    "    angle_units = \"angles\"\n",
    "    struct = data[\"ox_struct\"]\n",
    "\n",
    "    present_symbols = collections.Counter([groups[symbol] for symbol in struct.symbol_set])\n",
    "    present_bonds = collections.Counter()\n",
    "    present_angles = collections.Counter()\n",
    "\n",
    "    # Record and Count Symbols\n",
    "    for symbol, count in present_symbols.items():\n",
    "        data[f\"{symbol} ({symbol_units})\"] = count\n",
    "    data[f\"Total Atoms ({symbol_units})\"] = sum(present_symbols.values())\n",
    "\n",
    "    for index, site in enumerate(struct.sites):\n",
    "        connected = [i['site'] for i in neighbor_finder.get_nn_shell_info(struct, index, 1)]\n",
    "\n",
    "        # Count Bonds\n",
    "        for vertex in connected:\n",
    "            start, end = sorted([groups[str(site.specie.element)], groups[str(vertex.specie.element)]])\n",
    "            bond = f\"{start}-{end}\"\n",
    "            present_bonds[bond] += 0.5\n",
    "\n",
    "        # Count Angles\n",
    "        for angle_start, angle_end in map(sorted, itertools.combinations(connected, 2)):\n",
    "            angle = f\"{groups[str(angle_start.specie.element)]}-{groups[str(site.specie.element)]}-{groups[str(angle_end.specie.element)]}\"\n",
    "            present_angles[angle] += 1\n",
    "\n",
    "    # Record Bonds\n",
    "    for bond, count in present_bonds.items():\n",
    "        data[f\"{bond} ({bond_units})\"] = count\n",
    "    data[f\"Total Bonds ({bond_units})\"] = sum(present_bonds.values())\n",
    "\n",
    "    # Record Angles\n",
    "    for angle, count in present_angles.items():\n",
    "        data[f\"{angle} ({angle_units})\"] = count\n",
    "    data[f\"Total Angles ({angle_units})\"] = sum(present_angles.values())\n",
    "\n",
    "    return data\n",
    "\n",
    "all_data_features = df.progress_apply(featurize, axis=1)\n",
    "all_data_features"
   ],
   "metadata": {
    "collapsed": false,
    "pycharm": {
     "name": "#%%\n"
    }
   }
  },
  {
   "cell_type": "code",
   "execution_count": 26,
   "outputs": [],
   "source": [
    "all_data_features.drop(columns='ox_struct').to_pickle('full_featurized_data.pkl')"
   ],
   "metadata": {
    "collapsed": false,
    "pycharm": {
     "name": "#%%\n"
    }
   }
  },
  {
   "cell_type": "code",
   "execution_count": null,
   "outputs": [],
   "source": [],
   "metadata": {
    "collapsed": false,
    "pycharm": {
     "name": "#%%\n"
    }
   }
  },
  {
   "cell_type": "code",
   "execution_count": null,
   "outputs": [],
   "source": [
    "8"
   ],
   "metadata": {
    "collapsed": false,
    "pycharm": {
     "name": "#%%\n"
    }
   }
  },
  {
   "cell_type": "code",
   "execution_count": null,
   "outputs": [],
   "source": [],
   "metadata": {
    "collapsed": false,
    "pycharm": {
     "name": "#%%\n"
    }
   }
  }
 ],
 "metadata": {
  "kernelspec": {
   "display_name": "Python 3",
   "language": "python",
   "name": "python3"
  },
  "language_info": {
   "codemirror_mode": {
    "name": "ipython",
    "version": 2
   },
   "file_extension": ".py",
   "mimetype": "text/x-python",
   "name": "python",
   "nbconvert_exporter": "python",
   "pygments_lexer": "ipython2",
   "version": "2.7.6"
  }
 },
 "nbformat": 4,
 "nbformat_minor": 0
}